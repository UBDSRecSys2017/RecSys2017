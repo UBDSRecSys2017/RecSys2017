{
 "cells": [
  {
   "cell_type": "markdown",
   "metadata": {
    "collapsed": true
   },
   "source": [
    "# GENERAL TOPIC ANALYSIS STUDY AND CBF RECOMENDER\n",
    "\n",
    "### V3 - June 26th\n",
    "\n",
    "This notebook analyze mainly keyword based fields (jobroles, titles and tags) and some facts related to items,user & interactions.\n",
    "Then It will try to approach a topic model for item similarity and/or CB recommedation for non-cold users.\n",
    "The final CB Recommendation part is in another notebook called \"Recys-Snippet-Helper-Target-Non-Cold-User-V3\"\n",
    "\n",
    "Quick links:\n",
    "\n",
    "- Go to <a href=\"#analysis_int\">Inits & datasets loading</a>\n",
    "- Go to <a href=\"#analysis_int\">Basic Interactions Analysis</a>\n",
    "- Go to <a href=\"#keywords\">Keyword based fields</a>\n",
    "- Go to <a href=\"#topics\">Topics modelling</a>\n"
   ]
  },
  {
   "cell_type": "markdown",
   "metadata": {},
   "source": [
    "### Load users, items & interactions"
   ]
  },
  {
   "cell_type": "code",
   "execution_count": 1,
   "metadata": {
    "collapsed": false
   },
   "outputs": [
    {
     "name": "stdout",
     "output_type": "stream",
     "text": [
      "Time invested 22.7300000191 s\n",
      "(1497020, 14)\n"
     ]
    }
   ],
   "source": [
    "import numpy as np\n",
    "import pandas as pd\n",
    "import time\n",
    "\n",
    "#start timer\n",
    "t_start = time.time()\n",
    "\n",
    "userData=pd.read_table('datasets/users.csv',header=0,dtype=object)\n",
    "userData.columns = ['id','jobroles','career_level','discipline_id','industry_id','country','region',\\\n",
    "                    'experience_n_entries_class','experience_years_experience','experience_years_in_current',\\\n",
    "                    'edu_degree','edu_fieldofstudies','wtcj','premium']\n",
    "\n",
    "userData['id']=userData['id'].astype(np.int32)\n",
    "userData['jobroles']=userData['jobroles'].apply(lambda x: [] if x=='0' else [np.int32(i) for i in x.split(',')])\n",
    "userData['career_level']=userData['career_level'].astype(np.int8)\n",
    "userData['discipline_id']=userData['discipline_id'].astype(np.int8)\n",
    "userData['industry_id']=userData['industry_id'].astype(np.int8)\n",
    "userData['region']=userData['region'].astype(np.int8)\n",
    "userData['experience_n_entries_class']=userData['experience_n_entries_class'].astype(np.int8)\n",
    "userData['experience_years_experience']=userData['experience_years_experience'].astype(np.int8)\n",
    "userData['experience_years_in_current']=userData['experience_years_in_current'].astype(np.int8)\n",
    "userData['edu_degree']=userData['edu_degree'].astype(np.int8)\n",
    "userData['edu_fieldofstudies']=userData['edu_fieldofstudies'].apply(lambda x: [] if pd.isnull(x) else [np.int32(i) for i in x.split(',')])\n",
    "userData['wtcj']=userData['wtcj'].astype(np.int8)\n",
    "userData['premium']=userData['premium'].astype(np.int8)\n",
    "\n",
    "#end timer\n",
    "t_end=time.time()\n",
    "print \"Time invested \"+str((t_end-t_start))+\" s\"\n",
    "\n",
    "# Show structure\n",
    "print userData.shape"
   ]
  },
  {
   "cell_type": "code",
   "execution_count": 2,
   "metadata": {
    "collapsed": false
   },
   "outputs": [
    {
     "name": "stdout",
     "output_type": "stream",
     "text": [
      "Time invested 35.8550000191 s\n",
      "(1306054, 13)\n"
     ]
    }
   ],
   "source": [
    "## Load items\n",
    "import numpy as np\n",
    "import pandas as pd\n",
    "import time\n",
    "\n",
    "#start timer\n",
    "t_start = time.time()\n",
    "\n",
    "itemData=pd.read_table('datasets/items.csv',header=0,dtype=object,nrows=10000000)\n",
    "itemData.columns = ['id','title','career_level','discipline_id','industry_id','country','is_payed','region',\\\n",
    "                    'latitude','longitude','employment','tags','created_at']\n",
    "\n",
    "itemData['id']=itemData['id'].astype(np.int32)\n",
    "itemData['title']=itemData['title'].apply(lambda x: [] if pd.isnull(x) else [np.int32(i) for i in x.split(',')])\n",
    "itemData['career_level']=itemData['career_level'].astype(np.int8)\n",
    "itemData['discipline_id']=itemData['discipline_id'].astype(np.int8)\n",
    "itemData['industry_id']=itemData['industry_id'].astype(np.int8)\n",
    "itemData['is_payed']=itemData['is_payed'].astype(np.int8)\n",
    "itemData['region']=itemData['region'].astype(np.int8)\n",
    "itemData['employment']=itemData['employment'].astype(np.int8)                             \n",
    "itemData['tags']=itemData['tags'].apply(lambda x: [] if pd.isnull(x) else [np.int32(i) for i in x.split(',')])\n",
    "\n",
    "#end timer\n",
    "t_end=time.time()\n",
    "print \"Time invested \"+str((t_end-t_start))+\" s\"\n",
    "\n",
    "# Show structure\n",
    "print itemData.shape"
   ]
  },
  {
   "cell_type": "markdown",
   "metadata": {},
   "source": [
    "### Let's go for interactions"
   ]
  },
  {
   "cell_type": "code",
   "execution_count": 3,
   "metadata": {
    "collapsed": false
   },
   "outputs": [
    {
     "name": "stdout",
     "output_type": "stream",
     "text": [
      "Time invested 4.89499998093 s\n",
      "(8274901, 5)\n",
      "User volume with interactions: 689144\n",
      "Item volume with interactions: 538683\n",
      "User volume with interactions: 46.0343883181 %\n",
      "Item volume with interactions: 41.2450786874 %\n"
     ]
    },
    {
     "data": {
      "text/html": [
       "<div>\n",
       "<style>\n",
       "    .dataframe thead tr:only-child th {\n",
       "        text-align: right;\n",
       "    }\n",
       "\n",
       "    .dataframe thead th {\n",
       "        text-align: left;\n",
       "    }\n",
       "\n",
       "    .dataframe tbody tr th {\n",
       "        vertical-align: top;\n",
       "    }\n",
       "</style>\n",
       "<table border=\"1\" class=\"dataframe\">\n",
       "  <thead>\n",
       "    <tr style=\"text-align: right;\">\n",
       "      <th></th>\n",
       "      <th>user_id</th>\n",
       "      <th>item_id</th>\n",
       "      <th>interaction_type</th>\n",
       "      <th>created_at</th>\n",
       "      <th>created_at_date</th>\n",
       "    </tr>\n",
       "  </thead>\n",
       "  <tbody>\n",
       "    <tr>\n",
       "      <th>0</th>\n",
       "      <td>2082156</td>\n",
       "      <td>80</td>\n",
       "      <td>1</td>\n",
       "      <td>1484299172</td>\n",
       "      <td>2017-01-13 09:19:32</td>\n",
       "    </tr>\n",
       "    <tr>\n",
       "      <th>1</th>\n",
       "      <td>1934123</td>\n",
       "      <td>140</td>\n",
       "      <td>1</td>\n",
       "      <td>1486388563</td>\n",
       "      <td>2017-02-06 13:42:43</td>\n",
       "    </tr>\n",
       "    <tr>\n",
       "      <th>2</th>\n",
       "      <td>1320213</td>\n",
       "      <td>240</td>\n",
       "      <td>1</td>\n",
       "      <td>1479409825</td>\n",
       "      <td>2016-11-17 19:10:25</td>\n",
       "    </tr>\n",
       "    <tr>\n",
       "      <th>3</th>\n",
       "      <td>297303</td>\n",
       "      <td>310</td>\n",
       "      <td>1</td>\n",
       "      <td>1484817366</td>\n",
       "      <td>2017-01-19 09:16:06</td>\n",
       "    </tr>\n",
       "    <tr>\n",
       "      <th>4</th>\n",
       "      <td>1635596</td>\n",
       "      <td>310</td>\n",
       "      <td>1</td>\n",
       "      <td>1486370081</td>\n",
       "      <td>2017-02-06 08:34:41</td>\n",
       "    </tr>\n",
       "  </tbody>\n",
       "</table>\n",
       "</div>"
      ],
      "text/plain": [
       "   user_id  item_id  interaction_type  created_at     created_at_date\n",
       "0  2082156       80                 1  1484299172 2017-01-13 09:19:32\n",
       "1  1934123      140                 1  1486388563 2017-02-06 13:42:43\n",
       "2  1320213      240                 1  1479409825 2016-11-17 19:10:25\n",
       "3   297303      310                 1  1484817366 2017-01-19 09:16:06\n",
       "4  1635596      310                 1  1486370081 2017-02-06 08:34:41"
      ]
     },
     "execution_count": 3,
     "metadata": {},
     "output_type": "execute_result"
    }
   ],
   "source": [
    "## Load interactions\n",
    "import numpy as np\n",
    "import pandas as pd\n",
    "import time\n",
    "\n",
    "### DRAFT VERSION --- We need to agree on source files\n",
    "def apiRecsysLoad12345Interactions():\n",
    "    interactionsData=pd.read_pickle('datasets/interactions123DataAll.pkl')\n",
    "    interactionsData=interactionsData.append(pd.read_pickle('datasets/interactions4Data.pkl'),ignore_index=False,verify_integrity=True)\n",
    "    interactionsData=interactionsData.append(pd.read_pickle('datasets/interactions5Data.pkl'),ignore_index=False,verify_integrity=True)\n",
    "    #interactionsData=interactionsData.append(pd.read_pickle('datasets/interactions0Data-lastweek.pkl'),ignore_index=False,verify_integrity=True)\n",
    "    return interactionsData\n",
    "\n",
    "#start timer\n",
    "t_start = time.time()\n",
    "\n",
    "interactionsData=apiRecsysLoad12345Interactions()\n",
    "\n",
    "#end timer\n",
    "t_end=time.time()\n",
    "print \"Time invested \"+str((t_end-t_start))+\" s\"\n",
    "\n",
    "# Show structure\n",
    "print interactionsData.shape\n",
    "\n",
    "n_users=len(set(userData['id'].unique()))\n",
    "n_items=len(set(itemData['id'].unique()))\n",
    "n_users_int=len(set(userData['id'].unique()).intersection(set(interactionsData['user_id'].unique())))\n",
    "n_items_int=len(set(itemData['id'].unique()).intersection(set(interactionsData['item_id'].unique())))\n",
    "\n",
    "print \"User volume with interactions:\",len(set(userData['id'].unique()).intersection(set(interactionsData['user_id'].unique())))\n",
    "print \"Item volume with interactions:\",len(set(itemData['id'].unique()).intersection(set(interactionsData['item_id'].unique())))\n",
    "\n",
    "print \"User volume with interactions:\",(n_users_int*100.0/n_users),\"%\"\n",
    "print \"Item volume with interactions:\",(n_items_int*100.0/n_items),\"%\"\n",
    "\n",
    "interactionsData.head(5)"
   ]
  },
  {
   "cell_type": "markdown",
   "metadata": {},
   "source": [
    "# BASIC ANALYSIS ON INTERACTIONS AND THEIR USERS\n",
    "\n",
    "Interactions are all transactions between a user and an item including recruiter interests as well as impressions. Fields:\n",
    "\n",
    "    user_id ID of the user who performed the interaction (points to users.id)\n",
    "    item_id ID of the item on which the interaction was performed (points to items.id)\n",
    "    created_at a unix time stamp timestamp representing the time when the interaction got created\n",
    "    interaction_type the type of interaction that was performed on the item:\n",
    "        0 = XING showed this item to a user (= impression)\n",
    "        1 = the user clicked on the item\n",
    "        2 = the user bookmarked the item on XING\n",
    "        3 = the user clicked on the reply button or application form button that is shown on some job postings\n",
    "        4 = the user deleted a recommendation from his/her list of recommendation (clicking on \"x\") which has the effect that the recommendation will no longer been shown to the user and that a new recommendation item will be loaded and displayed to the user\n",
    "        5 = a recruiter from the items company showed interest into the user. (e.g. clicked on the profile)"
   ]
  },
  {
   "cell_type": "markdown",
   "metadata": {},
   "source": [
    "### Show interactions type distribution"
   ]
  },
  {
   "cell_type": "code",
   "execution_count": 7,
   "metadata": {
    "collapsed": false
   },
   "outputs": [
    {
     "name": "stdout",
     "output_type": "stream",
     "text": [
      "Show distributions of type of interactions\n"
     ]
    },
    {
     "data": {
      "text/plain": [
       "<matplotlib.axes._subplots.AxesSubplot at 0x2d930be0>"
      ]
     },
     "execution_count": 7,
     "metadata": {},
     "output_type": "execute_result"
    },
    {
     "data": {
      "image/png": "[encoded data removed]",
      "text/plain": [
       "<matplotlib.figure.Figure at 0x2d930080>"
      ]
     },
     "metadata": {},
     "output_type": "display_data"
    }
   ],
   "source": [
    "%matplotlib inline\n",
    "\n",
    "print \"Show distributions of type of interactions\"\n",
    "interactionsData.groupby(['interaction_type'])['interaction_type'].size().plot(kind='bar')"
   ]
  },
  {
   "cell_type": "markdown",
   "metadata": {},
   "source": [
    "## Let's focus now on keyword based fields\n",
    "\n",
    "- job roles -- users\n",
    "- titles -- items\n",
    "- tags -- items\n"
   ]
  },
  {
   "cell_type": "markdown",
   "metadata": {},
   "source": [
    "## Some captures about jobs postings\n",
    "\n",
    "See a screenshot of recomendation newsfeed:\n",
    "<img src=\"recomendations.jpg\">\n",
    "\n",
    "Now, see examples of job postings:\n",
    "<img src=\"job1.jpg\">\n",
    "<img src=\"job2.jpg\">"
   ]
  },
  {
   "cell_type": "markdown",
   "metadata": {},
   "source": [
    "### Let's focus on studying uniques keywords and intersections"
   ]
  },
  {
   "cell_type": "code",
   "execution_count": 8,
   "metadata": {
    "collapsed": false
   },
   "outputs": [
    {
     "name": "stdout",
     "output_type": "stream",
     "text": [
      "There are 12676 different job roles keywords\n"
     ]
    },
    {
     "data": {
      "text/html": [
       "<div>\n",
       "<style>\n",
       "    .dataframe thead tr:only-child th {\n",
       "        text-align: right;\n",
       "    }\n",
       "\n",
       "    .dataframe thead th {\n",
       "        text-align: left;\n",
       "    }\n",
       "\n",
       "    .dataframe tbody tr th {\n",
       "        vertical-align: top;\n",
       "    }\n",
       "</style>\n",
       "<table border=\"1\" class=\"dataframe\">\n",
       "  <thead>\n",
       "    <tr style=\"text-align: right;\">\n",
       "      <th></th>\n",
       "      <th>count</th>\n",
       "    </tr>\n",
       "    <tr>\n",
       "      <th>jobrole</th>\n",
       "      <th></th>\n",
       "    </tr>\n",
       "  </thead>\n",
       "  <tbody>\n",
       "    <tr>\n",
       "      <th>1762890</th>\n",
       "      <td>114965</td>\n",
       "    </tr>\n",
       "    <tr>\n",
       "      <th>1467121</th>\n",
       "      <td>75560</td>\n",
       "    </tr>\n",
       "    <tr>\n",
       "      <th>1762618</th>\n",
       "      <td>71342</td>\n",
       "    </tr>\n",
       "    <tr>\n",
       "      <th>2891417</th>\n",
       "      <td>57766</td>\n",
       "    </tr>\n",
       "    <tr>\n",
       "      <th>3614810</th>\n",
       "      <td>55878</td>\n",
       "    </tr>\n",
       "  </tbody>\n",
       "</table>\n",
       "</div>"
      ],
      "text/plain": [
       "          count\n",
       "jobrole        \n",
       "1762890  114965\n",
       "1467121   75560\n",
       "1762618   71342\n",
       "2891417   57766\n",
       "3614810   55878"
      ]
     },
     "execution_count": 8,
     "metadata": {},
     "output_type": "execute_result"
    },
    {
     "data": {
      "image/png": "[encoded data removed]",
      "text/plain": [
       "<matplotlib.figure.Figure at 0x2d91e518>"
      ]
     },
     "metadata": {},
     "output_type": "display_data"
    }
   ],
   "source": [
    "## CALCULATE UNIQUE TAGS FOR JOB ROLES, TITLE and TAGS\n",
    "## and do counts, show populars and look for intersection\n",
    "import collections \n",
    "import matplotlib.pyplot as plt\n",
    "\n",
    "## JOB ROLES\n",
    "\n",
    "#start timer\n",
    "t_start = time.time()\n",
    "\n",
    "cnt=collections.Counter()\n",
    "for l in userData['jobroles']:\n",
    "    cnt.update(l)\n",
    "    \n",
    "bag_jobroles=set(cnt.keys())\n",
    "print \"There are\",len(bag_jobroles),\"different job roles keywords\"\n",
    "\n",
    "#end timer\n",
    "t_end=time.time()\n",
    "\n",
    "t=pd.DataFrame(cnt.most_common(25),columns=['jobrole','count']).set_index(['jobrole'])\n",
    "t.plot(kind='bar')\n",
    "t.head()"
   ]
  },
  {
   "cell_type": "code",
   "execution_count": 9,
   "metadata": {
    "collapsed": false
   },
   "outputs": [
    {
     "name": "stdout",
     "output_type": "stream",
     "text": [
      "There are 11329 different title keywords\n"
     ]
    },
    {
     "data": {
      "text/html": [
       "<div>\n",
       "<style>\n",
       "    .dataframe thead tr:only-child th {\n",
       "        text-align: right;\n",
       "    }\n",
       "\n",
       "    .dataframe thead th {\n",
       "        text-align: left;\n",
       "    }\n",
       "\n",
       "    .dataframe tbody tr th {\n",
       "        vertical-align: top;\n",
       "    }\n",
       "</style>\n",
       "<table border=\"1\" class=\"dataframe\">\n",
       "  <thead>\n",
       "    <tr style=\"text-align: right;\">\n",
       "      <th></th>\n",
       "      <th>count</th>\n",
       "    </tr>\n",
       "    <tr>\n",
       "      <th>title</th>\n",
       "      <th></th>\n",
       "    </tr>\n",
       "  </thead>\n",
       "  <tbody>\n",
       "    <tr>\n",
       "      <th>2103114</th>\n",
       "      <td>46688</td>\n",
       "    </tr>\n",
       "    <tr>\n",
       "      <th>3859656</th>\n",
       "      <td>44052</td>\n",
       "    </tr>\n",
       "    <tr>\n",
       "      <th>4347966</th>\n",
       "      <td>42018</td>\n",
       "    </tr>\n",
       "    <tr>\n",
       "      <th>1976591</th>\n",
       "      <td>41554</td>\n",
       "    </tr>\n",
       "    <tr>\n",
       "      <th>2945601</th>\n",
       "      <td>40303</td>\n",
       "    </tr>\n",
       "  </tbody>\n",
       "</table>\n",
       "</div>"
      ],
      "text/plain": [
       "         count\n",
       "title         \n",
       "2103114  46688\n",
       "3859656  44052\n",
       "4347966  42018\n",
       "1976591  41554\n",
       "2945601  40303"
      ]
     },
     "execution_count": 9,
     "metadata": {},
     "output_type": "execute_result"
    },
    {
     "data": {
      "image/png": "[encoded data removed]",
      "text/plain": [
       "<matplotlib.figure.Figure at 0x84072080>"
      ]
     },
     "metadata": {},
     "output_type": "display_data"
    }
   ],
   "source": [
    "## TITLE\n",
    "\n",
    "#start timer\n",
    "t_start = time.time()\n",
    "\n",
    "cnt=collections.Counter()\n",
    "for l in itemData['title']:\n",
    "    cnt.update(l)\n",
    "    \n",
    "bag_title=set(cnt.keys())\n",
    "print \"There are\",len(bag_title),\"different title keywords\"\n",
    "\n",
    "#end timer\n",
    "t_end=time.time()\n",
    "\n",
    "t=pd.DataFrame(cnt.most_common(25),columns=['title','count']).set_index(['title'])\n",
    "t.plot(kind='bar')\n",
    "t.head()"
   ]
  },
  {
   "cell_type": "code",
   "execution_count": 10,
   "metadata": {
    "collapsed": false
   },
   "outputs": [
    {
     "name": "stdout",
     "output_type": "stream",
     "text": [
      "There are 96458 different tags keywords\n"
     ]
    },
    {
     "data": {
      "text/html": [
       "<div>\n",
       "<style>\n",
       "    .dataframe thead tr:only-child th {\n",
       "        text-align: right;\n",
       "    }\n",
       "\n",
       "    .dataframe thead th {\n",
       "        text-align: left;\n",
       "    }\n",
       "\n",
       "    .dataframe tbody tr th {\n",
       "        vertical-align: top;\n",
       "    }\n",
       "</style>\n",
       "<table border=\"1\" class=\"dataframe\">\n",
       "  <thead>\n",
       "    <tr style=\"text-align: right;\">\n",
       "      <th></th>\n",
       "      <th>count</th>\n",
       "    </tr>\n",
       "    <tr>\n",
       "      <th>tags</th>\n",
       "      <th></th>\n",
       "    </tr>\n",
       "  </thead>\n",
       "  <tbody>\n",
       "    <tr>\n",
       "      <th>1786537</th>\n",
       "      <td>253957</td>\n",
       "    </tr>\n",
       "    <tr>\n",
       "      <th>3671787</th>\n",
       "      <td>209354</td>\n",
       "    </tr>\n",
       "    <tr>\n",
       "      <th>2815721</th>\n",
       "      <td>191506</td>\n",
       "    </tr>\n",
       "    <tr>\n",
       "      <th>665762</th>\n",
       "      <td>168632</td>\n",
       "    </tr>\n",
       "    <tr>\n",
       "      <th>427470</th>\n",
       "      <td>164369</td>\n",
       "    </tr>\n",
       "  </tbody>\n",
       "</table>\n",
       "</div>"
      ],
      "text/plain": [
       "          count\n",
       "tags           \n",
       "1786537  253957\n",
       "3671787  209354\n",
       "2815721  191506\n",
       "665762   168632\n",
       "427470   164369"
      ]
     },
     "execution_count": 10,
     "metadata": {},
     "output_type": "execute_result"
    },
    {
     "data": {
      "image/png": "[encoded data removed]",
      "text/plain": [
       "<matplotlib.figure.Figure at 0x375fa710>"
      ]
     },
     "metadata": {},
     "output_type": "display_data"
    }
   ],
   "source": [
    "## TAGS\n",
    "\n",
    "#start timer\n",
    "t_start = time.time()\n",
    "\n",
    "cnt=collections.Counter()\n",
    "for l in itemData['tags']:\n",
    "    cnt.update(l)\n",
    "    \n",
    "bag_tags=set(cnt.keys())\n",
    "print \"There are\",len(bag_tags),\"different tags keywords\"\n",
    "\n",
    "#end timer\n",
    "t_end=time.time()\n",
    "\n",
    "t=pd.DataFrame(cnt.most_common(25),columns=['tags','count']).set_index(['tags'])\n",
    "t.plot(kind='bar')\n",
    "t.head()"
   ]
  },
  {
   "cell_type": "code",
   "execution_count": 11,
   "metadata": {
    "collapsed": false
   },
   "outputs": [
    {
     "name": "stdout",
     "output_type": "stream",
     "text": [
      "Total of 10188 common keywords btw Job Roles and Title from a total of 13817 different keywords\n"
     ]
    },
    {
     "data": {
      "image/png": "[encoded data removed]",
      "text/plain": [
       "<matplotlib.figure.Figure at 0x43704c88>"
      ]
     },
     "metadata": {},
     "output_type": "display_data"
    }
   ],
   "source": [
    "## Now looks for intersections\n",
    "n_jobroles=len(bag_jobroles)\n",
    "n_titles=len(bag_title)\n",
    "n_tags=len(bag_tags)\n",
    "n_jobroles_titles=len(bag_jobroles.intersection(bag_title))\n",
    "n_jobroles_tags=len(bag_jobroles.intersection(bag_tags))\n",
    "n_titles_tags=len(bag_tags.intersection(bag_title))\n",
    "n_just_jobroles=len((bag_jobroles.difference(bag_title)).difference(bag_tags))\n",
    "n_just_titles=len((bag_title.difference(bag_jobroles)).difference(bag_tags))\n",
    "n_just_tags=len((bag_tags.difference(bag_title)).difference(bag_jobroles))\n",
    "n_just_jobroles_titles=len((bag_jobroles.intersection(bag_title)).difference(bag_tags))\n",
    "n_just_titles_tags=len((bag_title.intersection(bag_tags)).difference(bag_jobroles))\n",
    "n_just_jobroles_tags=len((bag_jobroles.intersection(bag_tags)).difference(bag_title))\n",
    "n_all=len(bag_jobroles.intersection(bag_title).intersection(bag_tags))\n",
    "\n",
    "from matplotlib_venn import venn2, venn2_circles\n",
    "venn2(subsets={'10': n_jobroles-n_jobroles_titles, '01': n_titles-n_jobroles_titles, '11': n_jobroles_titles}, set_labels = ('Job Roles', 'Titles'))\n",
    "    \n",
    "print \"Total of\",len(bag_jobroles.intersection(bag_title)),\"common keywords btw Job Roles and Title from a total of\",\\\n",
    "      len(bag_jobroles.union(bag_title)),\"different keywords\"\n",
    "\n"
   ]
  },
  {
   "cell_type": "code",
   "execution_count": 12,
   "metadata": {
    "collapsed": false
   },
   "outputs": [
    {
     "name": "stdout",
     "output_type": "stream",
     "text": [
      "Total of 9806 common keywords btw Job Roles and Tags from a total of 99328 different keywords\n"
     ]
    },
    {
     "data": {
      "image/png": "[encoded data removed]",
      "text/plain": [
       "<matplotlib.figure.Figure at 0x333b7080>"
      ]
     },
     "metadata": {},
     "output_type": "display_data"
    }
   ],
   "source": [
    "from matplotlib_venn import venn2, venn2_circles\n",
    "venn2(subsets={'10': n_jobroles-n_jobroles_tags, '01': n_tags-n_jobroles_tags, '11': n_jobroles_tags}, set_labels = ('Job Roles', 'Tags'))\n",
    "    \n",
    "print \"Total of\",len(bag_jobroles.intersection(bag_tags)),\"common keywords btw Job Roles and Tags from a total of\",\\\n",
    "      len(bag_jobroles.union(bag_tags)),\"different keywords\""
   ]
  },
  {
   "cell_type": "code",
   "execution_count": 13,
   "metadata": {
    "collapsed": false
   },
   "outputs": [
    {
     "name": "stdout",
     "output_type": "stream",
     "text": [
      "Total of 9388 common keywords btw Tags and Title from a total of 98399 different keywords\n"
     ]
    },
    {
     "data": {
      "image/png": "[encoded data removed]",
      "text/plain": [
       "<matplotlib.figure.Figure at 0x8ae4b1d0>"
      ]
     },
     "metadata": {},
     "output_type": "display_data"
    }
   ],
   "source": [
    "from matplotlib_venn import venn2\n",
    "venn2(subsets={'10': n_titles-n_titles_tags, '01': n_tags-n_titles_tags, '11': n_titles_tags}, set_labels = ('Titles', 'Tags'))\n",
    "    \n",
    "print \"Total of\",len(bag_tags.intersection(bag_title)),\"common keywords btw Tags and Title from a total of\",\\\n",
    "      len(bag_tags.union(bag_title)),\"different keywords\""
   ]
  },
  {
   "cell_type": "code",
   "execution_count": 15,
   "metadata": {
    "collapsed": false,
    "scrolled": true
   },
   "outputs": [
    {
     "data": {
      "text/plain": [
       "<matplotlib_venn._common.VennDiagram instance at 0x000000008DA2B5C8>"
      ]
     },
     "execution_count": 15,
     "metadata": {},
     "output_type": "execute_result"
    },
    {
     "data": {
      "image/png": "[encoded data removed]",
      "text/plain": [
       "<matplotlib.figure.Figure at 0x881786a0>"
      ]
     },
     "metadata": {},
     "output_type": "display_data"
    }
   ],
   "source": [
    "from matplotlib_venn import venn3\n",
    "plt.figure(figsize=(8,8))\n",
    "plt.rcParams.update({'font.size': 9})\n",
    "venn3(subsets={'100':n_just_jobroles,'010':n_just_titles,'001':n_just_tags,'110':n_just_jobroles_titles,'111':n_all,\\\n",
    "               '011':n_just_titles_tags,'101':n_just_jobroles_tags},set_labels=('Job Roles','Titles','Tags'))\n"
   ]
  },
  {
   "cell_type": "markdown",
   "metadata": {},
   "source": [
    "## Study how related are keyword coincidence (btw jobrols and titles/tags) in positive interactions\n"
   ]
  },
  {
   "cell_type": "code",
   "execution_count": 4,
   "metadata": {
    "collapsed": false
   },
   "outputs": [
    {
     "data": {
      "text/plain": [
       "interaction_type\n",
       "1    6867579\n",
       "2     281672\n",
       "3     117843\n",
       "4     906836\n",
       "5     100971\n",
       "dtype: int64"
      ]
     },
     "execution_count": 4,
     "metadata": {},
     "output_type": "execute_result"
    }
   ],
   "source": [
    "interactionsData.groupby(['interaction_type']).size()"
   ]
  },
  {
   "cell_type": "markdown",
   "metadata": {},
   "source": [
    "#### Create a positive interactions dataframe"
   ]
  },
  {
   "cell_type": "code",
   "execution_count": 39,
   "metadata": {
    "collapsed": false
   },
   "outputs": [
    {
     "name": "stdout",
     "output_type": "stream",
     "text": [
      "(7368065, 3)\n",
      "(7368065, 6)\n"
     ]
    },
    {
     "data": {
      "text/html": [
       "<div>\n",
       "<style>\n",
       "    .dataframe thead tr:only-child th {\n",
       "        text-align: right;\n",
       "    }\n",
       "\n",
       "    .dataframe thead th {\n",
       "        text-align: left;\n",
       "    }\n",
       "\n",
       "    .dataframe tbody tr th {\n",
       "        vertical-align: top;\n",
       "    }\n",
       "</style>\n",
       "<table border=\"1\" class=\"dataframe\">\n",
       "  <thead>\n",
       "    <tr style=\"text-align: right;\">\n",
       "      <th></th>\n",
       "      <th>item_id</th>\n",
       "      <th>user_id</th>\n",
       "      <th>interaction_type</th>\n",
       "      <th>jobroles</th>\n",
       "      <th>title</th>\n",
       "      <th>tags</th>\n",
       "    </tr>\n",
       "  </thead>\n",
       "  <tbody>\n",
       "    <tr>\n",
       "      <th>0</th>\n",
       "      <td>5</td>\n",
       "      <td>1142552</td>\n",
       "      <td>1</td>\n",
       "      <td>[1467657, 1987601, 1208382]</td>\n",
       "      <td>[3859656, 978712, 753522, 3003185, 3027529, 14...</td>\n",
       "      <td>[1412475, 520883, 2120727, 2180632, 792161, 19...</td>\n",
       "    </tr>\n",
       "    <tr>\n",
       "      <th>1</th>\n",
       "      <td>13</td>\n",
       "      <td>54187</td>\n",
       "      <td>1</td>\n",
       "      <td>[1575670, 2139882, 3113130, 198208, 3853510, 7...</td>\n",
       "      <td>[819772]</td>\n",
       "      <td>[595799, 270830, 3014020, 3105078, 1500199, 37...</td>\n",
       "    </tr>\n",
       "    <tr>\n",
       "      <th>2</th>\n",
       "      <td>13</td>\n",
       "      <td>304213</td>\n",
       "      <td>1</td>\n",
       "      <td>[3038339, 819772, 3893763]</td>\n",
       "      <td>[819772]</td>\n",
       "      <td>[595799, 270830, 3014020, 3105078, 1500199, 37...</td>\n",
       "    </tr>\n",
       "    <tr>\n",
       "      <th>3</th>\n",
       "      <td>13</td>\n",
       "      <td>304213</td>\n",
       "      <td>1</td>\n",
       "      <td>[3038339, 819772, 3893763]</td>\n",
       "      <td>[819772]</td>\n",
       "      <td>[595799, 270830, 3014020, 3105078, 1500199, 37...</td>\n",
       "    </tr>\n",
       "    <tr>\n",
       "      <th>4</th>\n",
       "      <td>13</td>\n",
       "      <td>328392</td>\n",
       "      <td>1</td>\n",
       "      <td>[478421]</td>\n",
       "      <td>[819772]</td>\n",
       "      <td>[595799, 270830, 3014020, 3105078, 1500199, 37...</td>\n",
       "    </tr>\n",
       "  </tbody>\n",
       "</table>\n",
       "</div>"
      ],
      "text/plain": [
       "   item_id  user_id  interaction_type  \\\n",
       "0        5  1142552                 1   \n",
       "1       13    54187                 1   \n",
       "2       13   304213                 1   \n",
       "3       13   304213                 1   \n",
       "4       13   328392                 1   \n",
       "\n",
       "                                            jobroles  \\\n",
       "0                        [1467657, 1987601, 1208382]   \n",
       "1  [1575670, 2139882, 3113130, 198208, 3853510, 7...   \n",
       "2                         [3038339, 819772, 3893763]   \n",
       "3                         [3038339, 819772, 3893763]   \n",
       "4                                           [478421]   \n",
       "\n",
       "                                               title  \\\n",
       "0  [3859656, 978712, 753522, 3003185, 3027529, 14...   \n",
       "1                                           [819772]   \n",
       "2                                           [819772]   \n",
       "3                                           [819772]   \n",
       "4                                           [819772]   \n",
       "\n",
       "                                                tags  \n",
       "0  [1412475, 520883, 2120727, 2180632, 792161, 19...  \n",
       "1  [595799, 270830, 3014020, 3105078, 1500199, 37...  \n",
       "2  [595799, 270830, 3014020, 3105078, 1500199, 37...  \n",
       "3  [595799, 270830, 3014020, 3105078, 1500199, 37...  \n",
       "4  [595799, 270830, 3014020, 3105078, 1500199, 37...  "
      ]
     },
     "execution_count": 39,
     "metadata": {},
     "output_type": "execute_result"
    }
   ],
   "source": [
    "positiveInt=interactionsData[(interactionsData['interaction_type']==1) | (interactionsData['interaction_type']==2) |\\\n",
    "                             (interactionsData['interaction_type']==3) | (interactionsData['interaction_type']==5)]\n",
    "positiveInt=positiveInt[['user_id','item_id','interaction_type']]\n",
    "print positiveInt.shape\n",
    "#Join with all users\n",
    "positiveInt=positiveInt.set_index('user_id').join(userData.set_index('id')['jobroles'])\n",
    "positiveInt=positiveInt.reset_index()\n",
    "positiveInt=positiveInt.set_index('item_id').join(itemData.set_index('id')[['title','tags']])\n",
    "positiveInt=positiveInt.reset_index()\n",
    "positiveInt.columns=['item_id','user_id','interaction_type','jobroles','title','tags']\n",
    "print positiveInt.shape\n",
    "positiveInt.head()"
   ]
  },
  {
   "cell_type": "markdown",
   "metadata": {},
   "source": [
    "#### Interactions 1 (clicks)"
   ]
  },
  {
   "cell_type": "code",
   "execution_count": 19,
   "metadata": {
    "collapsed": false
   },
   "outputs": [
    {
     "name": "stdout",
     "output_type": "stream",
     "text": [
      "For interactions type 1:\n",
      "6867579 1059553 1420891\n",
      "Jobroles-Title coincidence in positive interactions: 15.4283329844 %\n",
      "Jobroles-Tags coincidence in positive interactions: 20.6898391247 %\n"
     ]
    }
   ],
   "source": [
    "total=len(positiveInt[positiveInt['interaction_type']==1])\n",
    "total_jobroles_title=sum([(1 if (i==1 and len(set(j).intersection(set(k)))>0) else 0) for i,j,k in zip(positiveInt['interaction_type'],positiveInt['jobroles'],positiveInt['title'])])\n",
    "total_jobroles_tags=sum([(1 if (i==1 and len(set(j).intersection(set(k)))>0) else 0) for i,j,k in zip(positiveInt['interaction_type'],positiveInt['jobroles'],positiveInt['tags'])])\n",
    "\n",
    "print \"For interactions type 1:\"\n",
    "print total,total_jobroles_title,total_jobroles_tags\n",
    "print \"Jobroles-Title coincidence in positive interactions:\",(np.float32(total_jobroles_title)/np.float32(total))*100.0,\"%\" \n",
    "print \"Jobroles-Tags coincidence in positive interactions:\",(np.float32(total_jobroles_tags)/np.float32(total)) *100.0,\"%\""
   ]
  },
  {
   "cell_type": "markdown",
   "metadata": {},
   "source": [
    "#### Regarding interactions type 2 & 3"
   ]
  },
  {
   "cell_type": "code",
   "execution_count": 20,
   "metadata": {
    "collapsed": false
   },
   "outputs": [
    {
     "name": "stdout",
     "output_type": "stream",
     "text": [
      "For interactions type 2:\n",
      "281672 40952 57091\n",
      "Jobroles-Title coincidence in positive interactions: 14.5388960838 %\n",
      "Jobroles-Tags coincidence in positive interactions: 20.2686101198 %\n"
     ]
    }
   ],
   "source": [
    "total=len(positiveInt[positiveInt['interaction_type']==2])\n",
    "total_jobroles_title=sum([(1 if (i==2 and len(set(j).intersection(set(k)))>0) else 0) for i,j,k in zip(positiveInt['interaction_type'],positiveInt['jobroles'],positiveInt['title'])])\n",
    "total_jobroles_tags=sum([(1 if (i==2 and len(set(j).intersection(set(k)))>0) else 0) for i,j,k in zip(positiveInt['interaction_type'],positiveInt['jobroles'],positiveInt['tags'])])\n",
    "\n",
    "print \"For interactions type 2:\"\n",
    "print total,total_jobroles_title,total_jobroles_tags\n",
    "print \"Jobroles-Title coincidence in positive interactions:\",(np.float32(total_jobroles_title)/np.float32(total))*100.0,\"%\" \n",
    "print \"Jobroles-Tags coincidence in positive interactions:\",(np.float32(total_jobroles_tags)/np.float32(total)) *100.0,\"%\""
   ]
  },
  {
   "cell_type": "code",
   "execution_count": 21,
   "metadata": {
    "collapsed": false
   },
   "outputs": [
    {
     "name": "stdout",
     "output_type": "stream",
     "text": [
      "For interactions type 3:\n",
      "117843 24716 32110\n",
      "Jobroles-Title coincidence in positive interactions: 20.9736689925 %\n",
      "Jobroles-Tags coincidence in positive interactions: 27.2481173277 %\n"
     ]
    }
   ],
   "source": [
    "total=len(positiveInt[positiveInt['interaction_type']==3])\n",
    "total_jobroles_title=sum([(1 if (i==3 and len(set(j).intersection(set(k)))>0) else 0) for i,j,k in zip(positiveInt['interaction_type'],positiveInt['jobroles'],positiveInt['title'])])\n",
    "total_jobroles_tags=sum([(1 if (i==3 and len(set(j).intersection(set(k)))>0) else 0) for i,j,k in zip(positiveInt['interaction_type'],positiveInt['jobroles'],positiveInt['tags'])])\n",
    "\n",
    "print \"For interactions type 3:\"\n",
    "print total,total_jobroles_title,total_jobroles_tags\n",
    "print \"Jobroles-Title coincidence in positive interactions:\",(np.float32(total_jobroles_title)/np.float32(total))*100.0,\"%\" \n",
    "print \"Jobroles-Tags coincidence in positive interactions:\",(np.float32(total_jobroles_tags)/np.float32(total)) *100.0,\"%\""
   ]
  },
  {
   "cell_type": "markdown",
   "metadata": {},
   "source": [
    "#### Regardng interactions type 5"
   ]
  },
  {
   "cell_type": "code",
   "execution_count": 22,
   "metadata": {
    "collapsed": false
   },
   "outputs": [
    {
     "name": "stdout",
     "output_type": "stream",
     "text": [
      "For interactions type 5:\n",
      "100971 44042 54064\n",
      "Jobroles-Title coincidence in positive interactions: 43.6184644699 %\n",
      "Jobroles-Tags coincidence in positive interactions: 53.5440862179 %\n"
     ]
    }
   ],
   "source": [
    "total=len(positiveInt[positiveInt['interaction_type']==5])\n",
    "total_jobroles_title=sum([(1 if (i==5 and len(set(j).intersection(set(k)))>0) else 0) for i,j,k in zip(positiveInt['interaction_type'],positiveInt['jobroles'],positiveInt['title'])])\n",
    "total_jobroles_tags=sum([(1 if (i==5 and len(set(j).intersection(set(k)))>0) else 0) for i,j,k in zip(positiveInt['interaction_type'],positiveInt['jobroles'],positiveInt['tags'])])\n",
    "\n",
    "print \"For interactions type 5:\"\n",
    "print total,total_jobroles_title,total_jobroles_tags\n",
    "print \"Jobroles-Title coincidence in positive interactions:\",(np.float32(total_jobroles_title)/np.float32(total))*100.0,\"%\" \n",
    "print \"Jobroles-Tags coincidence in positive interactions:\",(np.float32(total_jobroles_tags)/np.float32(total)) *100.0,\"%\""
   ]
  },
  {
   "cell_type": "markdown",
   "metadata": {},
   "source": [
    "#### Regarding interactions 4 (for only-deleted)"
   ]
  },
  {
   "cell_type": "code",
   "execution_count": 25,
   "metadata": {
    "collapsed": false,
    "scrolled": true
   },
   "outputs": [
    {
     "name": "stdout",
     "output_type": "stream",
     "text": [
      "For interactions type 4:\n",
      "856849 209950 267730\n",
      "Jobroles-Title coincidence in delete only interactions: 24.5025664568 %\n",
      "Jobroles-Tags coincidence in delete only interactions: 31.2458783388 %\n"
     ]
    }
   ],
   "source": [
    "userItemInt=interactionsData.groupby(['user_id','item_id','interaction_type']).size().unstack(fill_value=0.0)\n",
    "userItemInt.columns=(['1','2','3','4','5'])\n",
    "userItemInt['1']=userItemInt['1'].astype(np.int16)\n",
    "userItemInt['2']=userItemInt['2'].astype(np.int16)\n",
    "userItemInt['3']=userItemInt['3'].astype(np.int16)\n",
    "userItemInt['4']=userItemInt['4'].astype(np.int16)\n",
    "userItemInt['5']=userItemInt['5'].astype(np.int16)\n",
    "userItemInt=userItemInt.reset_index()\n",
    "\n",
    "#Join with all users\n",
    "userItemInt=userItemInt.set_index('user_id').join(userData.set_index('id')['jobroles'])\n",
    "userItemInt=userItemInt.set_index('item_id').join(itemData.set_index('id')[['title','tags']])\n",
    "\n",
    "delOnlyInt=userItemInt[(userItemInt['4']>0) & (userItemInt['1']==0) & (userItemInt['2']==0) & \\\n",
    "                       (userItemInt['3']==0) & (userItemInt['5']==0)]\n",
    "total=len(delOnlyInt)\n",
    "total_jobroles_title=sum([(1 if len(set(i).intersection(set(j)))>0 else 0) for i,j in zip(delOnlyInt['jobroles'],delOnlyInt['title'])])\n",
    "total_jobroles_tags=sum([(1 if len(set(i).intersection(set(j)))>0 else 0) for i,j in zip(delOnlyInt['jobroles'],delOnlyInt['tags'])])\n",
    "\n",
    "print \"For interactions type 4:\"\n",
    "print total,total_jobroles_title,total_jobroles_tags\n",
    "print \"Jobroles-Title coincidence in delete only interactions:\",(np.float32(total_jobroles_title)/np.float32(total))*100.0,\"%\" \n",
    "print \"Jobroles-Tags coincidence in delete only interactions:\",(np.float32(total_jobroles_tags)/np.float32(total)) *100.0,\"%\""
   ]
  },
  {
   "cell_type": "markdown",
   "metadata": {},
   "source": [
    "## We can observe as insights:\n",
    "\n",
    " - Not so big matching btw jobreles/title/tags keywords for positive interactions (the commited the type of interactions the bigger)\n",
    "\n",
    "For types 1 & 2:\n",
    "    \n",
    " - Only 14/15% interactions positive are based on some macthing btw jobrols/title keywords\n",
    " - Only 20% interactions positive are based on some macthing btw jobrols/tags keywords   \n",
    "    \n",
    "For types 3 (that requires more commitment to the job):\n",
    "    \n",
    " - Only 21% interactions positive are based on some macthing btw jobrols/title keywords\n",
    " - Only 27% interactions positive are based on some macthing btw jobrols/tags keywords   \n",
    "   \n",
    "For types 5 (recruiters should risk less):\n",
    "    \n",
    " - Only 43,5% interactions positive are based on some macthing btw jobrols/title keywords\n",
    " - Only 53,5% interactions positive are based on some macthing btw jobrols/tags keywords   \n",
    "    \n",
    "For delete only interactions not big differences (confirms symetrical relation jobroles/titles/tags in pos/neg. interactions)\n",
    "\n",
    "Conclusions:\n",
    "    \n",
    " - We cannot based recommendation on jobroles/titles/tags, we need alternatives\n",
    " - For interactions type 5 we can rely more in jobroles/titles/tags\n",
    " - We dont know if this low relationship is only aspirational or jobroles/titles/tags is no enough to express richness\n",
    "    \n",
    "    "
   ]
  },
  {
   "cell_type": "markdown",
   "metadata": {
    "collapsed": true
   },
   "source": [
    "# Build a LDA model based for items\n",
    "\n",
    "<a name=\"topics\"></a>\n",
    "\n",
    "We will create a LDA model using items as docs, the keywords (titles, tags) as the words.\n",
    "We will add some other features as \"tags\" (keywords)\n",
    "\n",
    "Objective is threefold:\n",
    " - Have a extended representation of item as title/tags are not easily used and not option to expanad to 100000 column features vector\n",
    " - Use the LDA model to represent similarity btw items\n",
    " - Use users interactions (to derive used keywords) or just titles and other-used-as-keyword-features (cold users) to do similarity searches\n",
    "        "
   ]
  },
  {
   "cell_type": "code",
   "execution_count": 21,
   "metadata": {
    "collapsed": false
   },
   "outputs": [],
   "source": [
    "# http://miningthedetails.com/blog/python/lda/GensimLDA/"
   ]
  },
  {
   "cell_type": "code",
   "execution_count": 26,
   "metadata": {
    "collapsed": false
   },
   "outputs": [
    {
     "name": "stdout",
     "output_type": "stream",
     "text": [
      "Time invested (create dictionary)203.781000137 s\n",
      "(1306054L,)\n"
     ]
    },
    {
     "data": {
      "text/plain": [
       "0    [disc15, indus9, career3, de, reg7, 3323880, 4...\n",
       "1    [disc5, indus18, career3, de, reg1, 2994300, 6...\n",
       "2    [disc10, indus1, career1, de, reg1, 3275701, 1...\n",
       "3    [disc8, indus9, career3, de, reg3, 2343474, 24...\n",
       "4    [disc8, indus3, career4, at, 2003688, 2233488,...\n",
       "5    [disc5, indus16, career3, de, reg1, 2139882, 3...\n",
       "6    [disc18, indus2, career3, de, 1385885, 1196844...\n",
       "7    [disc22, indus17, career3, ch, 3739444, 294560...\n",
       "8    [disc15, indus9, career3, de, 732567, 2853244,...\n",
       "9    [disc15, indus1, career3, de, reg2, 37028, 492...\n",
       "dtype: object"
      ]
     },
     "execution_count": 26,
     "metadata": {},
     "output_type": "execute_result"
    }
   ],
   "source": [
    "def apyRecsysItemToBow(item):\n",
    "    extra=[]\n",
    "    if (item.discipline_id>0):\n",
    "        extra=extra+[\"disc\"+str(item.discipline_id)]\n",
    "    if (item.industry_id>0):\n",
    "        extra=extra+[\"indus\"+str(item.industry_id)]\n",
    "    if (item.career_level>0):\n",
    "        extra=extra+[\"career\"+str(item.career_level)]\n",
    "    extra=extra+[item.country]\n",
    "    if (item.region>0):\n",
    "        extra=extra+[\"reg\"+str(item.region)]\n",
    "    bow=\",\".join(map(str,extra+item['title']+item['tags']))\n",
    "    return bow\n",
    "\n",
    "#start timer\n",
    "t_start = time.time()                               \n",
    "\n",
    "#corpus=itemData[['title','tags']].apply(lambda row: [str(x) for x in row['title']]+[str(y) for y in row['tags']],axis=1) \n",
    "docs=itemData.apply(lambda row: apyRecsysItemToBow(row),axis=1).apply(lambda row: row.split(\",\"))\n",
    "#corpus=[map(str,x+y) for (x,y) in zip(itemData['title'],itemData['tags'])]\n",
    "#corpus=[map(str,x) for x in corpus]\n",
    "\n",
    "#end timer\n",
    "t_end=time.time()\n",
    "print \"Time invested (create docs corpus) \"+str((t_end-t_start))+\" s\"\n",
    "\n",
    "print docs.shape\n",
    "docs.head(10)"
   ]
  },
  {
   "cell_type": "markdown",
   "metadata": {},
   "source": [
    "### Build a LDA model of N topics (empirical choice within our computation limits)\n",
    "\n",
    "We observe improvement in higher number of topics (50, 100, 150, ...), but not time/resources to find best number of topics or to try much higher number of topics.\n",
    "\n",
    "For the number of passes we just tried as much as we can assuming our computation resources.\n",
    "\n",
    " - Incremental building and multicore\n",
    " - 10/20/30 passes to minimize randomness (limits on computation) --> Depen on numebr of topics\n"
   ]
  },
  {
   "cell_type": "code",
   "execution_count": 101,
   "metadata": {
    "collapsed": false,
    "scrolled": true
   },
   "outputs": [
    {
     "name": "stdout",
     "output_type": "stream",
     "text": [
      "Dictionary(98470 unique tokens: [u'1055485', u'2668995', u'2553225', u'2983263', u'839790']...)\n",
      "Time invested (create dictionary)74.1819999218 s\n",
      "generating from 0 to 49999\n",
      "Time invested (this step)1534.77999997 s\n",
      "generating from 50000 to 99999\n",
      "Time invested (this step)1122.99499989 s\n",
      "generating from 100000 to 149999\n",
      "Time invested (this step)1120.36600018 s\n",
      "generating from 150000 to 199999\n",
      "Time invested (this step)1166.71299982 s\n",
      "generating from 200000 to 249999\n",
      "Time invested (this step)1127.23900008 s\n",
      "generating from 250000 to 299999\n",
      "Time invested (this step)1122.31999993 s\n",
      "generating from 300000 to 349999\n",
      "Time invested (this step)1137.67799997 s\n",
      "generating from 350000 to 399999\n",
      "Time invested (this step)1312.26400018 s\n",
      "generating from 400000 to 449999\n",
      "Time invested (this step)1130.0769999 s\n",
      "generating from 450000 to 499999\n",
      "Time invested (this step)1129.60299993 s\n",
      "generating from 500000 to 549999\n",
      "Time invested (this step)1120.352 s\n",
      "generating from 550000 to 599999\n",
      "Time invested (this step)1131.48099995 s\n",
      "generating from 600000 to 649999\n",
      "Time invested (this step)1133.89199996 s\n",
      "generating from 650000 to 699999\n",
      "Time invested (this step)1123.52900004 s\n",
      "generating from 700000 to 749999\n",
      "Time invested (this step)1139.296 s\n",
      "generating from 750000 to 799999\n",
      "Time invested (this step)1297.92299986 s\n",
      "generating from 800000 to 849999\n",
      "Time invested (this step)1110.28800011 s\n",
      "generating from 850000 to 899999\n",
      "Time invested (this step)1115.70600009 s\n",
      "generating from 900000 to 949999\n",
      "Time invested (this step)1108.08899999 s\n",
      "generating from 950000 to 999999\n",
      "Time invested (this step)1125.45599985 s\n",
      "generating from 1000000 to 1049999\n",
      "Time invested (this step)1117.21099997 s\n",
      "generating from 1050000 to 1099999\n",
      "Time invested (this step)1123.94900012 s\n",
      "generating from 1100000 to 1149999\n",
      "Time invested (this step)1124.50099993 s\n",
      "generating from 1150000 to 1199999\n",
      "Time invested (this step)1297.98699999 s\n",
      "generating from 1200000 to 1249999\n",
      "Time invested (this step)1108.75800014 s\n",
      "generating from 1250000 to 1299999\n",
      "Time invested (this step)1135.32499981 s\n",
      "generating from 1300000 to 1349999\n",
      "Time invested (this step)210.642000198 s\n",
      "Time invested (whole lda training)30428.513 s\n"
     ]
    }
   ],
   "source": [
    "import gensim\n",
    "from gensim import corpora\n",
    "\n",
    "#start timer\n",
    "t_start = time.time()                               \n",
    "\n",
    "# Creating the term dictionary of our courpus, where every unique term is assigned an index. \n",
    "dictionary=corpora.Dictionary(docs)\n",
    "print(dictionary)\n",
    "dictionary.save(\"lda/recsys_dict_300topic.pkl\")\n",
    "\n",
    "#end timer\n",
    "t_end=time.time()\n",
    "print \"Time invested (create dictionary)\"+str((t_end-t_start))+\" s\"\n",
    "\n",
    "# Creating the object for LDA model using gensim library\n",
    "LdaMulticore = gensim.models.ldamulticore.LdaMulticore\n",
    "\n",
    "#start timer\n",
    "t_start = time.time()   \n",
    "\n",
    "# Do a loop for batch incremental size\n",
    "batch_size=50000\n",
    "i=0\n",
    "while i<len(docs):\n",
    "    j=i+batch_size\n",
    "    print \"generating from \"+str(i)+\" to \"+str(j-1)\n",
    "    #start timer\n",
    "    t_start_inner = time.time() \n",
    "    doc_term_matrix=[dictionary.doc2bow(doc) for doc in docs[i:j]]\n",
    "    if i==0:\n",
    "        lda_model=LdaMulticore(doc_term_matrix,num_topics=300,id2word=dictionary,workers=4,passes=8)\n",
    "    else:\n",
    "        lda_model.update(doc_term_matrix)\n",
    "    lda_model.save('lda/ldamodel_300topic.pkl')\n",
    "    i=j\n",
    "    #end timer\n",
    "    t_end=time.time()\n",
    "    print \"Time invested (this step)\"+str((t_end-t_start_inner))+\" s\"\n",
    "    \n",
    "#end timer\n",
    "t_end=time.time()\n",
    "print \"Time invested (whole lda training)\"+str((t_end-t_start))+\" s\"\n"
   ]
  },
  {
   "cell_type": "markdown",
   "metadata": {},
   "source": [
    "### CONCLUSION\n",
    "\n",
    " - We have analyzed terms-based fields and interactions\n",
    " - We have build a LDA model on items \n",
    " - Go to \"Recys-Snippet-Helper-Target-Non-Cold-User-V3\" notebook to use this model for CB recommendation\n",
    "    \n",
    " - Next sections are experiments on jobroles/title/tags correlations "
   ]
  },
  {
   "cell_type": "code",
   "execution_count": null,
   "metadata": {
    "collapsed": true
   },
   "outputs": [],
   "source": []
  },
  {
   "cell_type": "code",
   "execution_count": null,
   "metadata": {
    "collapsed": true
   },
   "outputs": [],
   "source": []
  },
  {
   "cell_type": "markdown",
   "metadata": {
    "collapsed": true
   },
   "source": [
    "### Let's re-analize jobroles/title/tags relatioship in terms of the LDA \n",
    "\n",
    "Note that it's true that now it's affected by introducing industry/disciplined/country/... keywords in te LDA but anyway it will test it.\n",
    "\n",
    "Let's measure for every pair of [item,user] interaction the % of relation ship based on: cosine distance (using gensim similarity matrix) btw the user as a \"doc\" and the item as a \"doc\".\n"
   ]
  },
  {
   "cell_type": "code",
   "execution_count": 28,
   "metadata": {
    "collapsed": false
   },
   "outputs": [
    {
     "name": "stdout",
     "output_type": "stream",
     "text": [
      "(8274901, 5)\n",
      "(1306054, 13)\n"
     ]
    }
   ],
   "source": [
    "print interactionsData.shape\n",
    "print itemData.shape\n",
    "itemDataWithIntListIDs=pd.DataFrame(sorted(interactionsData['item_id'].unique()),columns=['item_id']).set_index('item_id')"
   ]
  },
  {
   "cell_type": "markdown",
   "metadata": {},
   "source": [
    "#### let's work on items with interactions"
   ]
  },
  {
   "cell_type": "code",
   "execution_count": 29,
   "metadata": {
    "collapsed": false
   },
   "outputs": [
    {
     "name": "stdout",
     "output_type": "stream",
     "text": [
      "(538683, 13)\n"
     ]
    },
    {
     "data": {
      "text/html": [
       "<div>\n",
       "<style>\n",
       "    .dataframe thead tr:only-child th {\n",
       "        text-align: right;\n",
       "    }\n",
       "\n",
       "    .dataframe thead th {\n",
       "        text-align: left;\n",
       "    }\n",
       "\n",
       "    .dataframe tbody tr th {\n",
       "        vertical-align: top;\n",
       "    }\n",
       "</style>\n",
       "<table border=\"1\" class=\"dataframe\">\n",
       "  <thead>\n",
       "    <tr style=\"text-align: right;\">\n",
       "      <th></th>\n",
       "      <th>id</th>\n",
       "      <th>title</th>\n",
       "      <th>career_level</th>\n",
       "      <th>discipline_id</th>\n",
       "      <th>industry_id</th>\n",
       "      <th>country</th>\n",
       "      <th>is_payed</th>\n",
       "      <th>region</th>\n",
       "      <th>latitude</th>\n",
       "      <th>longitude</th>\n",
       "      <th>employment</th>\n",
       "      <th>tags</th>\n",
       "      <th>created_at</th>\n",
       "    </tr>\n",
       "  </thead>\n",
       "  <tbody>\n",
       "    <tr>\n",
       "      <th>2</th>\n",
       "      <td>80</td>\n",
       "      <td>[3275701, 157228, 4179835]</td>\n",
       "      <td>1</td>\n",
       "      <td>10</td>\n",
       "      <td>1</td>\n",
       "      <td>de</td>\n",
       "      <td>0</td>\n",
       "      <td>1</td>\n",
       "      <td>48.8</td>\n",
       "      <td>8.1</td>\n",
       "      <td>1</td>\n",
       "      <td>[3275701, 4179835, 910844, 4050466, 258464, 13...</td>\n",
       "      <td>1483570800</td>\n",
       "    </tr>\n",
       "    <tr>\n",
       "      <th>7</th>\n",
       "      <td>140</td>\n",
       "      <td>[3739444, 2945601, 3246051, 48128, 4098162, 38...</td>\n",
       "      <td>3</td>\n",
       "      <td>22</td>\n",
       "      <td>17</td>\n",
       "      <td>ch</td>\n",
       "      <td>0</td>\n",
       "      <td>0</td>\n",
       "      <td>46.9</td>\n",
       "      <td>7.4</td>\n",
       "      <td>1</td>\n",
       "      <td>[3418248, 540282, 1627300]</td>\n",
       "      <td>1479942000</td>\n",
       "    </tr>\n",
       "    <tr>\n",
       "      <th>14</th>\n",
       "      <td>240</td>\n",
       "      <td>[4313058, 864194, 3999650, 4368523, 3606563]</td>\n",
       "      <td>3</td>\n",
       "      <td>16</td>\n",
       "      <td>3</td>\n",
       "      <td>de</td>\n",
       "      <td>0</td>\n",
       "      <td>2</td>\n",
       "      <td>47.9</td>\n",
       "      <td>12.2</td>\n",
       "      <td>1</td>\n",
       "      <td>[3323880, 816249, 2512002, 903605, 2436509, 12...</td>\n",
       "      <td>1473372000</td>\n",
       "    </tr>\n",
       "    <tr>\n",
       "      <th>20</th>\n",
       "      <td>310</td>\n",
       "      <td>[3842576, 310589, 4099592, 2629116]</td>\n",
       "      <td>3</td>\n",
       "      <td>13</td>\n",
       "      <td>9</td>\n",
       "      <td>at</td>\n",
       "      <td>0</td>\n",
       "      <td>0</td>\n",
       "      <td>47.1</td>\n",
       "      <td>15.5</td>\n",
       "      <td>1</td>\n",
       "      <td>[3351095, 2845746, 3671787, 2379175, 3989138, ...</td>\n",
       "      <td>1483138800</td>\n",
       "    </tr>\n",
       "    <tr>\n",
       "      <th>23</th>\n",
       "      <td>340</td>\n",
       "      <td>[287796, 2280545]</td>\n",
       "      <td>3</td>\n",
       "      <td>13</td>\n",
       "      <td>23</td>\n",
       "      <td>at</td>\n",
       "      <td>0</td>\n",
       "      <td>0</td>\n",
       "      <td>48.0</td>\n",
       "      <td>13.1</td>\n",
       "      <td>1</td>\n",
       "      <td>[2139882, 3989138, 427470, 4496721, 2994300, 1...</td>\n",
       "      <td>1484607600</td>\n",
       "    </tr>\n",
       "  </tbody>\n",
       "</table>\n",
       "</div>"
      ],
      "text/plain": [
       "     id                                              title  career_level  \\\n",
       "2    80                         [3275701, 157228, 4179835]             1   \n",
       "7   140  [3739444, 2945601, 3246051, 48128, 4098162, 38...             3   \n",
       "14  240       [4313058, 864194, 3999650, 4368523, 3606563]             3   \n",
       "20  310                [3842576, 310589, 4099592, 2629116]             3   \n",
       "23  340                                  [287796, 2280545]             3   \n",
       "\n",
       "    discipline_id  industry_id country  is_payed  region latitude longitude  \\\n",
       "2              10            1      de         0       1     48.8       8.1   \n",
       "7              22           17      ch         0       0     46.9       7.4   \n",
       "14             16            3      de         0       2     47.9      12.2   \n",
       "20             13            9      at         0       0     47.1      15.5   \n",
       "23             13           23      at         0       0     48.0      13.1   \n",
       "\n",
       "    employment                                               tags  created_at  \n",
       "2            1  [3275701, 4179835, 910844, 4050466, 258464, 13...  1483570800  \n",
       "7            1                         [3418248, 540282, 1627300]  1479942000  \n",
       "14           1  [3323880, 816249, 2512002, 903605, 2436509, 12...  1473372000  \n",
       "20           1  [3351095, 2845746, 3671787, 2379175, 3989138, ...  1483138800  \n",
       "23           1  [2139882, 3989138, 427470, 4496721, 2994300, 1...  1484607600  "
      ]
     },
     "execution_count": 29,
     "metadata": {},
     "output_type": "execute_result"
    }
   ],
   "source": [
    "itemDataWithInt=itemData.join(itemDataWithIntListIDs,on='id',how='inner')\n",
    "print itemDataWithInt.shape\n",
    "itemDataWithInt.head()"
   ]
  },
  {
   "cell_type": "markdown",
   "metadata": {
    "collapsed": true
   },
   "source": [
    "#### We can now create the similarity matrix\n",
    "\n",
    "For this matrix we use the reduced corpus of items with interactions"
   ]
  },
  {
   "cell_type": "code",
   "execution_count": 30,
   "metadata": {
    "collapsed": false
   },
   "outputs": [
    {
     "name": "stdout",
     "output_type": "stream",
     "text": [
      "Time invested (create dictionary)89.986000061 s\n",
      "(538683L,)\n"
     ]
    },
    {
     "data": {
      "text/plain": [
       "2     [disc10, indus1, career1, de, reg1, 3275701, 1...\n",
       "7     [disc22, indus17, career3, ch, 3739444, 294560...\n",
       "14    [disc16, indus3, career3, de, reg2, 4313058, 8...\n",
       "20    [disc13, indus9, career3, at, 3842576, 310589,...\n",
       "23    [disc13, indus23, career3, at, 287796, 2280545...\n",
       "24    [disc4, indus16, career3, de, reg7, 2803519, 4...\n",
       "26    [disc15, indus7, career3, de, reg1, 1168089, 3...\n",
       "27    [disc11, indus18, career3, de, reg9, 2436485, ...\n",
       "29    [disc13, indus16, career3, de, reg1, 2343474, ...\n",
       "30    [disc8, indus16, career3, de, reg6, 2942918, 3...\n",
       "dtype: object"
      ]
     },
     "execution_count": 30,
     "metadata": {},
     "output_type": "execute_result"
    }
   ],
   "source": [
    "def apyRecsysItemToBow(item):\n",
    "    extra=[]\n",
    "    if (item.discipline_id>0):\n",
    "        extra=extra+[\"disc\"+str(item.discipline_id)]\n",
    "    if (item.industry_id>0):\n",
    "        extra=extra+[\"indus\"+str(item.industry_id)]\n",
    "    if (item.career_level>0):\n",
    "        extra=extra+[\"career\"+str(item.career_level)]\n",
    "    extra=extra+[item.country]\n",
    "    if (item.region>0):\n",
    "        extra=extra+[\"reg\"+str(item.region)]\n",
    "    bow=\",\".join(map(str,extra+item['title']+item['tags']))\n",
    "    return bow\n",
    "\n",
    "#start timer\n",
    "t_start = time.time()                               \n",
    "\n",
    "targetDocsItemWithInt=itemDataWithInt.apply(lambda row: apyRecsysItemToBow(row),axis=1).apply(lambda row: row.split(\",\"))\n",
    "\n",
    "#end timer\n",
    "t_end=time.time()\n",
    "print \"Time invested (create dictionary)\"+str((t_end-t_start))+\" s\"\n",
    "\n",
    "print targetDocsItemWithInt.shape\n",
    "targetDocsItemWithInt.head(10)"
   ]
  },
  {
   "cell_type": "markdown",
   "metadata": {},
   "source": [
    "#### Let's create a similarity matrix for items with interactions"
   ]
  },
  {
   "cell_type": "code",
   "execution_count": 100,
   "metadata": {
    "collapsed": false
   },
   "outputs": [
    {
     "ename": "IOError",
     "evalue": "[Errno 2] No such file or directory: 'lda/recsys_dict_300topic.pkl'",
     "output_type": "error",
     "traceback": [
      "\u001b[0;31m---------------------------------------------------------------------------\u001b[0m",
      "\u001b[0;31mIOError\u001b[0m                                   Traceback (most recent call last)",
      "\u001b[0;32m<ipython-input-100-f6e5ff247d25>\u001b[0m in \u001b[0;36m<module>\u001b[0;34m()\u001b[0m\n\u001b[1;32m      3\u001b[0m \u001b[1;33m\u001b[0m\u001b[0m\n\u001b[1;32m      4\u001b[0m \u001b[1;31m# Reload dictionary associate to our LDA -- Optional, just if we don't start from beginning\u001b[0m\u001b[1;33m\u001b[0m\u001b[1;33m\u001b[0m\u001b[0m\n\u001b[0;32m----> 5\u001b[0;31m \u001b[0mdictionary\u001b[0m \u001b[1;33m=\u001b[0m \u001b[0mcorpora\u001b[0m\u001b[1;33m.\u001b[0m\u001b[0mDictionary\u001b[0m\u001b[1;33m.\u001b[0m\u001b[0mload\u001b[0m\u001b[1;33m(\u001b[0m\u001b[1;34m'lda/recsys_dict_300topic.pkl'\u001b[0m\u001b[1;33m)\u001b[0m\u001b[1;33m\u001b[0m\u001b[0m\n\u001b[0m\u001b[1;32m      6\u001b[0m \u001b[1;32mprint\u001b[0m \u001b[0mdictionary\u001b[0m\u001b[1;33m\u001b[0m\u001b[0m\n\u001b[1;32m      7\u001b[0m \u001b[1;33m\u001b[0m\u001b[0m\n",
      "\u001b[0;32mC:\\ProgramData\\Anaconda2\\lib\\site-packages\\gensim\\utils.pyc\u001b[0m in \u001b[0;36mload\u001b[0;34m(cls, fname, mmap)\u001b[0m\n\u001b[1;32m    269\u001b[0m         \u001b[0mcompress\u001b[0m\u001b[1;33m,\u001b[0m \u001b[0msubname\u001b[0m \u001b[1;33m=\u001b[0m \u001b[0mSaveLoad\u001b[0m\u001b[1;33m.\u001b[0m\u001b[0m_adapt_by_suffix\u001b[0m\u001b[1;33m(\u001b[0m\u001b[0mfname\u001b[0m\u001b[1;33m)\u001b[0m\u001b[1;33m\u001b[0m\u001b[0m\n\u001b[1;32m    270\u001b[0m \u001b[1;33m\u001b[0m\u001b[0m\n\u001b[0;32m--> 271\u001b[0;31m         \u001b[0mobj\u001b[0m \u001b[1;33m=\u001b[0m \u001b[0munpickle\u001b[0m\u001b[1;33m(\u001b[0m\u001b[0mfname\u001b[0m\u001b[1;33m)\u001b[0m\u001b[1;33m\u001b[0m\u001b[0m\n\u001b[0m\u001b[1;32m    272\u001b[0m         \u001b[0mobj\u001b[0m\u001b[1;33m.\u001b[0m\u001b[0m_load_specials\u001b[0m\u001b[1;33m(\u001b[0m\u001b[0mfname\u001b[0m\u001b[1;33m,\u001b[0m \u001b[0mmmap\u001b[0m\u001b[1;33m,\u001b[0m \u001b[0mcompress\u001b[0m\u001b[1;33m,\u001b[0m \u001b[0msubname\u001b[0m\u001b[1;33m)\u001b[0m\u001b[1;33m\u001b[0m\u001b[0m\n\u001b[1;32m    273\u001b[0m         \u001b[0mlogger\u001b[0m\u001b[1;33m.\u001b[0m\u001b[0minfo\u001b[0m\u001b[1;33m(\u001b[0m\u001b[1;34m\"loaded %s\"\u001b[0m\u001b[1;33m,\u001b[0m \u001b[0mfname\u001b[0m\u001b[1;33m)\u001b[0m\u001b[1;33m\u001b[0m\u001b[0m\n",
      "\u001b[0;32mC:\\ProgramData\\Anaconda2\\lib\\site-packages\\gensim\\utils.pyc\u001b[0m in \u001b[0;36munpickle\u001b[0;34m(fname)\u001b[0m\n\u001b[1;32m    928\u001b[0m \u001b[1;32mdef\u001b[0m \u001b[0munpickle\u001b[0m\u001b[1;33m(\u001b[0m\u001b[0mfname\u001b[0m\u001b[1;33m)\u001b[0m\u001b[1;33m:\u001b[0m\u001b[1;33m\u001b[0m\u001b[0m\n\u001b[1;32m    929\u001b[0m     \u001b[1;34m\"\"\"Load pickled object from `fname`\"\"\"\u001b[0m\u001b[1;33m\u001b[0m\u001b[0m\n\u001b[0;32m--> 930\u001b[0;31m     \u001b[1;32mwith\u001b[0m \u001b[0msmart_open\u001b[0m\u001b[1;33m(\u001b[0m\u001b[0mfname\u001b[0m\u001b[1;33m,\u001b[0m \u001b[1;34m'rb'\u001b[0m\u001b[1;33m)\u001b[0m \u001b[1;32mas\u001b[0m \u001b[0mf\u001b[0m\u001b[1;33m:\u001b[0m\u001b[1;33m\u001b[0m\u001b[0m\n\u001b[0m\u001b[1;32m    931\u001b[0m         \u001b[1;31m# Because of loading from S3 load can't be used (missing readline in smart_open)\u001b[0m\u001b[1;33m\u001b[0m\u001b[1;33m\u001b[0m\u001b[0m\n\u001b[1;32m    932\u001b[0m         \u001b[1;32mif\u001b[0m \u001b[0msys\u001b[0m\u001b[1;33m.\u001b[0m\u001b[0mversion_info\u001b[0m \u001b[1;33m>\u001b[0m \u001b[1;33m(\u001b[0m\u001b[1;36m3\u001b[0m\u001b[1;33m,\u001b[0m \u001b[1;36m0\u001b[0m\u001b[1;33m)\u001b[0m\u001b[1;33m:\u001b[0m\u001b[1;33m\u001b[0m\u001b[0m\n",
      "\u001b[0;32mC:\\ProgramData\\Anaconda2\\lib\\site-packages\\smart_open\\smart_open_lib.pyc\u001b[0m in \u001b[0;36msmart_open\u001b[0;34m(uri, mode, **kw)\u001b[0m\n\u001b[1;32m    138\u001b[0m             \u001b[1;31m# local files -- both read & write supported\u001b[0m\u001b[1;33m\u001b[0m\u001b[1;33m\u001b[0m\u001b[0m\n\u001b[1;32m    139\u001b[0m             \u001b[1;31m# compression, if any, is determined by the filename extension (.gz, .bz2)\u001b[0m\u001b[1;33m\u001b[0m\u001b[1;33m\u001b[0m\u001b[0m\n\u001b[0;32m--> 140\u001b[0;31m             \u001b[1;32mreturn\u001b[0m \u001b[0mfile_smart_open\u001b[0m\u001b[1;33m(\u001b[0m\u001b[0mparsed_uri\u001b[0m\u001b[1;33m.\u001b[0m\u001b[0muri_path\u001b[0m\u001b[1;33m,\u001b[0m \u001b[0mmode\u001b[0m\u001b[1;33m)\u001b[0m\u001b[1;33m\u001b[0m\u001b[0m\n\u001b[0m\u001b[1;32m    141\u001b[0m         \u001b[1;32melif\u001b[0m \u001b[0mparsed_uri\u001b[0m\u001b[1;33m.\u001b[0m\u001b[0mscheme\u001b[0m \u001b[1;32min\u001b[0m \u001b[1;33m(\u001b[0m\u001b[1;34m\"s3\"\u001b[0m\u001b[1;33m,\u001b[0m \u001b[1;34m\"s3n\"\u001b[0m\u001b[1;33m,\u001b[0m \u001b[1;34m\"s3u\"\u001b[0m\u001b[1;33m)\u001b[0m\u001b[1;33m:\u001b[0m\u001b[1;33m\u001b[0m\u001b[0m\n\u001b[1;32m    142\u001b[0m             \u001b[0mkwargs\u001b[0m \u001b[1;33m=\u001b[0m \u001b[1;33m{\u001b[0m\u001b[1;33m}\u001b[0m\u001b[1;33m\u001b[0m\u001b[0m\n",
      "\u001b[0;32mC:\\ProgramData\\Anaconda2\\lib\\site-packages\\smart_open\\smart_open_lib.pyc\u001b[0m in \u001b[0;36mfile_smart_open\u001b[0;34m(fname, mode)\u001b[0m\n\u001b[1;32m    642\u001b[0m \u001b[1;33m\u001b[0m\u001b[0m\n\u001b[1;32m    643\u001b[0m     \"\"\"\n\u001b[0;32m--> 644\u001b[0;31m     \u001b[1;32mreturn\u001b[0m \u001b[0mcompression_wrapper\u001b[0m\u001b[1;33m(\u001b[0m\u001b[0mopen\u001b[0m\u001b[1;33m(\u001b[0m\u001b[0mfname\u001b[0m\u001b[1;33m,\u001b[0m \u001b[0mmode\u001b[0m\u001b[1;33m)\u001b[0m\u001b[1;33m,\u001b[0m \u001b[0mfname\u001b[0m\u001b[1;33m,\u001b[0m \u001b[0mmode\u001b[0m\u001b[1;33m)\u001b[0m\u001b[1;33m\u001b[0m\u001b[0m\n\u001b[0m\u001b[1;32m    645\u001b[0m \u001b[1;33m\u001b[0m\u001b[0m\n\u001b[1;32m    646\u001b[0m \u001b[1;33m\u001b[0m\u001b[0m\n",
      "\u001b[0;31mIOError\u001b[0m: [Errno 2] No such file or directory: 'lda/recsys_dict_300topic.pkl'"
     ]
    }
   ],
   "source": [
    "import gensim\n",
    "from gensim import corpora, models, similarities\n",
    "\n",
    "# Reload dictionary associate to our LDA -- Optional, just if we don't start from beginning\n",
    "dictionary = corpora.Dictionary.load('lda/recsys_dict_300topic.pkl')\n",
    "print dictionary\n",
    "\n",
    "#corpus here is ours \"docs\" list \n",
    "#lda_model is our latent space model\n",
    "# we can reload from disk if need be\n",
    "lda_model=gensim.models.ldamulticore.LdaMulticore.load(\"lda/ldamodel_300topic.pkl\")\n",
    "\n",
    "#start timer\n",
    "t_start=time.time()   \n",
    "\n",
    "# We need to rebuild doc_term_matrix == \"corpus\" --> for the documents we want to build the matrix\n",
    "doc_term_matrix=[dictionary.doc2bow(doc) for doc in targetDocsItemWithInt] \n",
    "\n",
    "# end timer\n",
    "t_end=time.time()\n",
    "print \"Time invested (term matrix) \"+str((t_end-t_start))+\" s\"\n",
    "\n",
    "# we can create a similarity matrix --> we can use our latent space directly or use it on other corpus\n",
    "##index=similarities.MatrixSimilarity(lsi[corpus]) # transform corpus to LSI space and index it\n",
    "\n",
    "# First we need to transform our \"corpus\" to our LDA space model\n",
    "#start timer\n",
    "t_start=time.time()                          \n",
    "\n",
    "lda_corpus=lda_model[doc_term_matrix]\n",
    "\n",
    "# end timer\n",
    "t_end=time.time()\n",
    "print \"Time invested (lda_corpus) \"+str((t_end-t_start))+\" s\"\n",
    "\n",
    "# check topics a N features\n",
    "n_features=len(lda_model.show_topics(-1))\n",
    "print n_features\n",
    "\n",
    "#start timer\n",
    "t_start=time.time()\n",
    "\n",
    "## If very big corpus let's go for disk matrix --> This is the case, memory LDA are for 1Gb meory or so\n",
    "index_disk=similarities.Similarity(output_prefix='lda/index/lda300index_itemWithInt',num_features=250,corpus=lda_corpus,num_best=None,chunksize=256,shardsize=32768)\n",
    "index_disk.save(\"lda/index/lda300index_itemWithInt.pkl\")\n",
    "\n",
    "# In memory (may not resist big numbers) --> We used in this case the disk option\n",
    "#index_mem=similarities.MatrixSimilarity(lda_corpus) # transform corpus to LDA space and index it\n",
    "\n",
    "#end timer\n",
    "t_end=time.time()\n",
    "print \"Time invested (index_disk)\"+str((t_end-t_start))+\" s\""
   ]
  },
  {
   "cell_type": "markdown",
   "metadata": {},
   "source": [
    "#### Let's test and reload the similarity matrix"
   ]
  },
  {
   "cell_type": "code",
   "execution_count": 33,
   "metadata": {
    "collapsed": false
   },
   "outputs": [
    {
     "name": "stdout",
     "output_type": "stream",
     "text": [
      "Time invested (reload index)0.0160000324249 s\n"
     ]
    }
   ],
   "source": [
    "import gensim\n",
    "from gensim import corpora, models, similarities\n",
    "\n",
    "#start timer\n",
    "t_start=time.time()\n",
    "\n",
    "index_disk=similarities.Similarity.load(\"lda/index/lda250index_itemWithInt.pkl\")\n",
    "\n",
    "#end timer\n",
    "t_end=time.time()\n",
    "print \"Time invested (reload index)\"+str((t_end-t_start))+\" s\""
   ]
  },
  {
   "cell_type": "markdown",
   "metadata": {},
   "source": [
    "#### Let's do a test query to validate the similarity matrix (use the first item)"
   ]
  },
  {
   "cell_type": "code",
   "execution_count": 34,
   "metadata": {
    "collapsed": false
   },
   "outputs": [
    {
     "data": {
      "text/plain": [
       "[['disc10',\n",
       "  'indus1',\n",
       "  'career1',\n",
       "  'de',\n",
       "  'reg1',\n",
       "  '3275701',\n",
       "  '157228',\n",
       "  '4179835',\n",
       "  '3275701',\n",
       "  '4179835',\n",
       "  '910844',\n",
       "  '4050466',\n",
       "  '258464',\n",
       "  '1339355']]"
      ]
     },
     "execution_count": 34,
     "metadata": {},
     "output_type": "execute_result"
    }
   ],
   "source": [
    "targetDocsItemWithInt[0:1].tolist()"
   ]
  },
  {
   "cell_type": "code",
   "execution_count": 35,
   "metadata": {
    "collapsed": false
   },
   "outputs": [
    {
     "name": "stdout",
     "output_type": "stream",
     "text": [
      "[(0, 0.92250329256057739), (526288, 0.8202131986618042), (97640, 0.81684195995330811), (211151, 0.81603223085403442), (500043, 0.80338573455810547), (233336, 0.79697012901306152), (313698, 0.78459846973419189), (7919, 0.78269529342651367), (425815, 0.77918243408203125), (125317, 0.7765573263168335)]\n"
     ]
    }
   ],
   "source": [
    "query=\"disc10 indus1 career1 de reg1 3275701 157228 4179835 3275701 4179835\"\n",
    "vec_bow=dictionary.doc2bow(query.split())\n",
    "vec_lda=lda_model[vec_bow] # convert the query to LDA space\n",
    "\n",
    "index_disk.num_best = 10\n",
    "## Get top 10 similar \"docs\" (items)\n",
    "sims=index_disk[vec_lda] # perform a similarity query against the corpus\n",
    "print sims\n",
    "\n",
    "#index_disk.num_best = None\n",
    "## Get top 10 similar \"docs\" (items)\n",
    "#sims=index_disk[vec_lda] # perform a similarity query against the corpus\n",
    "#sims=sorted(enumerate(sims),key=lambda item:-item[1])[0:10]\n",
    "#print(sims) # print sorted (document number, similarity score) 2-tuples"
   ]
  },
  {
   "cell_type": "markdown",
   "metadata": {},
   "source": [
    "#### Know we can measure again correlation btw interaction and \"intersection\" of jobroles/title/tags\n",
    "\n",
    "First we prepare the positive iterections dataframe with the corpus-index of values"
   ]
  },
  {
   "cell_type": "code",
   "execution_count": 40,
   "metadata": {
    "collapsed": false
   },
   "outputs": [
    {
     "name": "stdout",
     "output_type": "stream",
     "text": [
      "(7368065, 6)\n",
      "(7368065, 7)\n"
     ]
    },
    {
     "data": {
      "text/html": [
       "<div>\n",
       "<style>\n",
       "    .dataframe thead tr:only-child th {\n",
       "        text-align: right;\n",
       "    }\n",
       "\n",
       "    .dataframe thead th {\n",
       "        text-align: left;\n",
       "    }\n",
       "\n",
       "    .dataframe tbody tr th {\n",
       "        vertical-align: top;\n",
       "    }\n",
       "</style>\n",
       "<table border=\"1\" class=\"dataframe\">\n",
       "  <thead>\n",
       "    <tr style=\"text-align: right;\">\n",
       "      <th></th>\n",
       "      <th>item_id</th>\n",
       "      <th>user_id</th>\n",
       "      <th>interaction_type</th>\n",
       "      <th>jobroles</th>\n",
       "      <th>title</th>\n",
       "      <th>tags</th>\n",
       "      <th>index_corpus</th>\n",
       "    </tr>\n",
       "  </thead>\n",
       "  <tbody>\n",
       "    <tr>\n",
       "      <th>0</th>\n",
       "      <td>5</td>\n",
       "      <td>1142552</td>\n",
       "      <td>1</td>\n",
       "      <td>[1467657, 1987601, 1208382]</td>\n",
       "      <td>[3859656, 978712, 753522, 3003185, 3027529, 14...</td>\n",
       "      <td>[1412475, 520883, 2120727, 2180632, 792161, 19...</td>\n",
       "      <td>214839</td>\n",
       "    </tr>\n",
       "    <tr>\n",
       "      <th>1</th>\n",
       "      <td>13</td>\n",
       "      <td>54187</td>\n",
       "      <td>1</td>\n",
       "      <td>[1575670, 2139882, 3113130, 198208, 3853510, 7...</td>\n",
       "      <td>[819772]</td>\n",
       "      <td>[595799, 270830, 3014020, 3105078, 1500199, 37...</td>\n",
       "      <td>160607</td>\n",
       "    </tr>\n",
       "    <tr>\n",
       "      <th>2</th>\n",
       "      <td>13</td>\n",
       "      <td>304213</td>\n",
       "      <td>1</td>\n",
       "      <td>[3038339, 819772, 3893763]</td>\n",
       "      <td>[819772]</td>\n",
       "      <td>[595799, 270830, 3014020, 3105078, 1500199, 37...</td>\n",
       "      <td>160607</td>\n",
       "    </tr>\n",
       "    <tr>\n",
       "      <th>3</th>\n",
       "      <td>13</td>\n",
       "      <td>304213</td>\n",
       "      <td>1</td>\n",
       "      <td>[3038339, 819772, 3893763]</td>\n",
       "      <td>[819772]</td>\n",
       "      <td>[595799, 270830, 3014020, 3105078, 1500199, 37...</td>\n",
       "      <td>160607</td>\n",
       "    </tr>\n",
       "    <tr>\n",
       "      <th>4</th>\n",
       "      <td>13</td>\n",
       "      <td>328392</td>\n",
       "      <td>1</td>\n",
       "      <td>[478421]</td>\n",
       "      <td>[819772]</td>\n",
       "      <td>[595799, 270830, 3014020, 3105078, 1500199, 37...</td>\n",
       "      <td>160607</td>\n",
       "    </tr>\n",
       "  </tbody>\n",
       "</table>\n",
       "</div>"
      ],
      "text/plain": [
       "   item_id  user_id  interaction_type  \\\n",
       "0        5  1142552                 1   \n",
       "1       13    54187                 1   \n",
       "2       13   304213                 1   \n",
       "3       13   304213                 1   \n",
       "4       13   328392                 1   \n",
       "\n",
       "                                            jobroles  \\\n",
       "0                        [1467657, 1987601, 1208382]   \n",
       "1  [1575670, 2139882, 3113130, 198208, 3853510, 7...   \n",
       "2                         [3038339, 819772, 3893763]   \n",
       "3                         [3038339, 819772, 3893763]   \n",
       "4                                           [478421]   \n",
       "\n",
       "                                               title  \\\n",
       "0  [3859656, 978712, 753522, 3003185, 3027529, 14...   \n",
       "1                                           [819772]   \n",
       "2                                           [819772]   \n",
       "3                                           [819772]   \n",
       "4                                           [819772]   \n",
       "\n",
       "                                                tags  index_corpus  \n",
       "0  [1412475, 520883, 2120727, 2180632, 792161, 19...        214839  \n",
       "1  [595799, 270830, 3014020, 3105078, 1500199, 37...        160607  \n",
       "2  [595799, 270830, 3014020, 3105078, 1500199, 37...        160607  \n",
       "3  [595799, 270830, 3014020, 3105078, 1500199, 37...        160607  \n",
       "4  [595799, 270830, 3014020, 3105078, 1500199, 37...        160607  "
      ]
     },
     "execution_count": 40,
     "metadata": {},
     "output_type": "execute_result"
    }
   ],
   "source": [
    "print positiveInt.shape\n",
    "positiveIntMore=positiveInt.join(itemDataWithInt.reset_index(drop=True).reset_index().set_index('id')['index'],on='item_id')\n",
    "positiveIntMore.columns=['item_id','user_id','interaction_type','jobroles','title','tags','index_corpus']\n",
    "print positiveIntMore.shape\n",
    "positiveIntMore.head()"
   ]
  },
  {
   "cell_type": "markdown",
   "metadata": {},
   "source": [
    "#### Now, we need to add the original users info for featured-based-terms: discipline, industry, ...."
   ]
  },
  {
   "cell_type": "code",
   "execution_count": 41,
   "metadata": {
    "collapsed": false,
    "scrolled": true
   },
   "outputs": [
    {
     "name": "stdout",
     "output_type": "stream",
     "text": [
      "(7368065, 12)\n"
     ]
    },
    {
     "data": {
      "text/html": [
       "<div>\n",
       "<style>\n",
       "    .dataframe thead tr:only-child th {\n",
       "        text-align: right;\n",
       "    }\n",
       "\n",
       "    .dataframe thead th {\n",
       "        text-align: left;\n",
       "    }\n",
       "\n",
       "    .dataframe tbody tr th {\n",
       "        vertical-align: top;\n",
       "    }\n",
       "</style>\n",
       "<table border=\"1\" class=\"dataframe\">\n",
       "  <thead>\n",
       "    <tr style=\"text-align: right;\">\n",
       "      <th></th>\n",
       "      <th>item_id</th>\n",
       "      <th>user_id</th>\n",
       "      <th>interaction_type</th>\n",
       "      <th>jobroles</th>\n",
       "      <th>title</th>\n",
       "      <th>tags</th>\n",
       "      <th>index_corpus</th>\n",
       "      <th>discipline_id</th>\n",
       "      <th>industry_id</th>\n",
       "      <th>career_level</th>\n",
       "      <th>country</th>\n",
       "      <th>region</th>\n",
       "    </tr>\n",
       "  </thead>\n",
       "  <tbody>\n",
       "    <tr>\n",
       "      <th>0</th>\n",
       "      <td>5</td>\n",
       "      <td>1142552</td>\n",
       "      <td>1</td>\n",
       "      <td>[1467657, 1987601, 1208382]</td>\n",
       "      <td>[3859656, 978712, 753522, 3003185, 3027529, 14...</td>\n",
       "      <td>[1412475, 520883, 2120727, 2180632, 792161, 19...</td>\n",
       "      <td>214839</td>\n",
       "      <td>0</td>\n",
       "      <td>0</td>\n",
       "      <td>3</td>\n",
       "      <td>de</td>\n",
       "      <td>0</td>\n",
       "    </tr>\n",
       "    <tr>\n",
       "      <th>1</th>\n",
       "      <td>13</td>\n",
       "      <td>54187</td>\n",
       "      <td>1</td>\n",
       "      <td>[1575670, 2139882, 3113130, 198208, 3853510, 7...</td>\n",
       "      <td>[819772]</td>\n",
       "      <td>[595799, 270830, 3014020, 3105078, 1500199, 37...</td>\n",
       "      <td>160607</td>\n",
       "      <td>0</td>\n",
       "      <td>17</td>\n",
       "      <td>4</td>\n",
       "      <td>de</td>\n",
       "      <td>2</td>\n",
       "    </tr>\n",
       "    <tr>\n",
       "      <th>2</th>\n",
       "      <td>13</td>\n",
       "      <td>304213</td>\n",
       "      <td>1</td>\n",
       "      <td>[3038339, 819772, 3893763]</td>\n",
       "      <td>[819772]</td>\n",
       "      <td>[595799, 270830, 3014020, 3105078, 1500199, 37...</td>\n",
       "      <td>160607</td>\n",
       "      <td>0</td>\n",
       "      <td>6</td>\n",
       "      <td>3</td>\n",
       "      <td>de</td>\n",
       "      <td>2</td>\n",
       "    </tr>\n",
       "    <tr>\n",
       "      <th>3</th>\n",
       "      <td>13</td>\n",
       "      <td>304213</td>\n",
       "      <td>1</td>\n",
       "      <td>[3038339, 819772, 3893763]</td>\n",
       "      <td>[819772]</td>\n",
       "      <td>[595799, 270830, 3014020, 3105078, 1500199, 37...</td>\n",
       "      <td>160607</td>\n",
       "      <td>0</td>\n",
       "      <td>6</td>\n",
       "      <td>3</td>\n",
       "      <td>de</td>\n",
       "      <td>2</td>\n",
       "    </tr>\n",
       "    <tr>\n",
       "      <th>4</th>\n",
       "      <td>13</td>\n",
       "      <td>328392</td>\n",
       "      <td>1</td>\n",
       "      <td>[478421]</td>\n",
       "      <td>[819772]</td>\n",
       "      <td>[595799, 270830, 3014020, 3105078, 1500199, 37...</td>\n",
       "      <td>160607</td>\n",
       "      <td>0</td>\n",
       "      <td>0</td>\n",
       "      <td>3</td>\n",
       "      <td>de</td>\n",
       "      <td>0</td>\n",
       "    </tr>\n",
       "  </tbody>\n",
       "</table>\n",
       "</div>"
      ],
      "text/plain": [
       "   item_id  user_id  interaction_type  \\\n",
       "0        5  1142552                 1   \n",
       "1       13    54187                 1   \n",
       "2       13   304213                 1   \n",
       "3       13   304213                 1   \n",
       "4       13   328392                 1   \n",
       "\n",
       "                                            jobroles  \\\n",
       "0                        [1467657, 1987601, 1208382]   \n",
       "1  [1575670, 2139882, 3113130, 198208, 3853510, 7...   \n",
       "2                         [3038339, 819772, 3893763]   \n",
       "3                         [3038339, 819772, 3893763]   \n",
       "4                                           [478421]   \n",
       "\n",
       "                                               title  \\\n",
       "0  [3859656, 978712, 753522, 3003185, 3027529, 14...   \n",
       "1                                           [819772]   \n",
       "2                                           [819772]   \n",
       "3                                           [819772]   \n",
       "4                                           [819772]   \n",
       "\n",
       "                                                tags  index_corpus  \\\n",
       "0  [1412475, 520883, 2120727, 2180632, 792161, 19...        214839   \n",
       "1  [595799, 270830, 3014020, 3105078, 1500199, 37...        160607   \n",
       "2  [595799, 270830, 3014020, 3105078, 1500199, 37...        160607   \n",
       "3  [595799, 270830, 3014020, 3105078, 1500199, 37...        160607   \n",
       "4  [595799, 270830, 3014020, 3105078, 1500199, 37...        160607   \n",
       "\n",
       "   discipline_id  industry_id  career_level country  region  \n",
       "0              0            0             3      de       0  \n",
       "1              0           17             4      de       2  \n",
       "2              0            6             3      de       2  \n",
       "3              0            6             3      de       2  \n",
       "4              0            0             3      de       0  "
      ]
     },
     "execution_count": 41,
     "metadata": {},
     "output_type": "execute_result"
    }
   ],
   "source": [
    "positiveIntMore=positiveIntMore.join(userData.set_index('id')[['discipline_id','industry_id','career_level','country','region']],on='user_id')\n",
    "print positiveIntMore.shape\n",
    "positiveIntMore.head()"
   ]
  },
  {
   "cell_type": "markdown",
   "metadata": {},
   "source": [
    "#### Let's try to measure correlation, let's try a small subset for example on interaction 2"
   ]
  },
  {
   "cell_type": "code",
   "execution_count": 86,
   "metadata": {
    "collapsed": false
   },
   "outputs": [
    {
     "name": "stdout",
     "output_type": "stream",
     "text": [
      "Time invested 1136.49100018 s\n"
     ]
    }
   ],
   "source": [
    "def apyRecsysUserToBow(user):\n",
    "    extra=[]\n",
    "    if (user.discipline_id>0):\n",
    "        extra=extra+[\"disc\"+str(user.discipline_id)]\n",
    "    if (user.industry_id>0):\n",
    "        extra=extra+[\"indus\"+str(user.industry_id)]\n",
    "    if (user.career_level>0):\n",
    "        extra=extra+[\"career\"+str(user.career_level)]\n",
    "    extra=extra+[user.country]\n",
    "    if (user.region>0):\n",
    "        extra=extra+[\"reg\"+str(user.region)]\n",
    "    bow=\",\".join(map(str,extra+user['jobroles']))\n",
    "    return bow\n",
    "\n",
    "def calcSimilitude(row,dictionary,lda_model,index):\n",
    "    bow=apyRecsysUserToBow(row)\n",
    "    vecBbow=dictionary.doc2bow(bow.split())\n",
    "    vecLda=lda_model[vec_bow] # convert the query to LDA space  \n",
    "    index.num_best=None\n",
    "    sims=index[vecLda]\n",
    "    return sims[row['index_corpus']]\n",
    "\n",
    "#start timer\n",
    "t_start=time.time()\n",
    "\n",
    "intType2=positiveIntMore[positiveIntMore['interaction_type']==2]\n",
    "\n",
    "#x=positiveIntMore[0:5000].apply(lambda row: calcSimilitude(row,dictionary,lda_model,index_disk),axis=1)\n",
    "topic_intersect=[calcSimilitude(row,dictionary,lda_model,index_disk) for ind,row in intType2[0:10000].iterrows()]\n",
    "\n",
    "#end timer\n",
    "t_end=time.time()\n",
    "print \"Time invested \"+str((t_end-t_start))+\" s\"\n",
    "\n",
    "##positiveIntMore[positiveIntMore['interaction_type']==2]"
   ]
  },
  {
   "cell_type": "markdown",
   "metadata": {},
   "source": [
    "topic_intersect=pd.Series(topic_intersect)"
   ]
  },
  {
   "cell_type": "markdown",
   "metadata": {},
   "source": [
    "#### Let's see improvement in %"
   ]
  },
  {
   "cell_type": "code",
   "execution_count": 88,
   "metadata": {
    "collapsed": false
   },
   "outputs": [
    {
     "data": {
      "text/plain": [
       "0.16236"
      ]
     },
     "execution_count": 88,
     "metadata": {},
     "output_type": "execute_result"
    }
   ],
   "source": [
    "print 100.0*len(topic_intersect[topic_intersect>0.0])/(len(topic_intersect)*1.0),\"%\""
   ]
  },
  {
   "cell_type": "markdown",
   "metadata": {},
   "source": [
    "#### Do similar test on other interactions (for small subset for the computation cost)"
   ]
  },
  {
   "cell_type": "code",
   "execution_count": 89,
   "metadata": {
    "collapsed": false
   },
   "outputs": [
    {
     "name": "stdout",
     "output_type": "stream",
     "text": [
      "Time invested 45.2170000076 s\n"
     ]
    },
    {
     "data": {
      "text/plain": [
       "0.159"
      ]
     },
     "execution_count": 89,
     "metadata": {},
     "output_type": "execute_result"
    }
   ],
   "source": [
    "#start timer\n",
    "t_start=time.time()\n",
    "\n",
    "intType1=positiveIntMore[positiveIntMore['interaction_type']==1]\n",
    "\n",
    "topic_intersect=[calcSimilitude(row,dictionary,lda_model,index_disk) for ind,row in intType1[0:10000].iterrows()]\n",
    "\n",
    "#end timer\n",
    "t_end=time.time()\n",
    "print \"Time invested \"+str((t_end-t_start))+\" s\"\n",
    "\n",
    "topic_intersect=pd.Series(topic_intersect)\n",
    "print \"Test % of some interactions 1 with some LDA similarity:\" \n",
    "print 100.0*len(topic_intersect[topic_intersect>0.0])/(len(topic_intersect)*1.0),\"%\""
   ]
  },
  {
   "cell_type": "code",
   "execution_count": 99,
   "metadata": {
    "collapsed": false
   },
   "outputs": [
    {
     "name": "stdout",
     "output_type": "stream",
     "text": [
      "Time invested 452.096999884 s\n",
      "Test % of some interactions 5 with some LDA similarity:\n",
      "12.0 %\n"
     ]
    }
   ],
   "source": [
    "#start timer\n",
    "t_start=time.time()\n",
    "\n",
    "intType5=positiveIntMore[positiveIntMore['interaction_type']==5]\n",
    "\n",
    "topic_intersect=[calcSimilitude(row,dictionary,lda_model,index_disk) for ind,row in intType5[0:10000].iterrows()]\n",
    "\n",
    "#end timer\n",
    "t_end=time.time()\n",
    "print \"Time invested \"+str((t_end-t_start))+\" s\"\n",
    "\n",
    "topic_intersect=pd.Series(topic_intersect)\n",
    "print \"Test % of some interactions 5 with some LDA similarity:\" \n",
    "print 100.0*len(topic_intersect[topic_intersect>0.0])/(len(topic_intersect)*1.0),\"%\""
   ]
  },
  {
   "cell_type": "markdown",
   "metadata": {},
   "source": [
    "### Insight: No clear increased correlation, but let's try to repeat using user info with non-NAs"
   ]
  },
  {
   "cell_type": "code",
   "execution_count": 98,
   "metadata": {
    "collapsed": false
   },
   "outputs": [
    {
     "name": "stdout",
     "output_type": "stream",
     "text": [
      "Time invested 477.901000023 s\n",
      "Test % of some interactions 2 (non NAs) with some LDA similarity:\n",
      "16.06 %\n"
     ]
    }
   ],
   "source": [
    "#start timer\n",
    "t_start=time.time()\n",
    "\n",
    "intType2nonNAs=positiveIntMore[(positiveIntMore['interaction_type']==2) & (positiveIntMore['discipline_id']>0) &\\\n",
    "                               (positiveIntMore['industry_id']>0) & (positiveIntMore['career_level']>0) &\\\n",
    "                               (positiveIntMore['region']>0)\\\n",
    "                              ]\n",
    "\n",
    "topic_intersect=[calcSimilitude(row,dictionary,lda_model,index_disk) for ind,row in intType2nonNAs[0:10000].iterrows()]\n",
    "\n",
    "#end timer\n",
    "t_end=time.time()\n",
    "print \"Time invested \"+str((t_end-t_start))+\" s\"\n",
    "\n",
    "topic_intersect=pd.Series(topic_intersect)\n",
    "print \"Test % of some interactions 2 (non NAs) with some LDA similarity:\" \n",
    "print 100.0*len(topic_intersect[topic_intersect>0.0])/(len(topic_intersect)*1.0),\"%\""
   ]
  },
  {
   "cell_type": "code",
   "execution_count": 97,
   "metadata": {
    "collapsed": false
   },
   "outputs": [
    {
     "name": "stdout",
     "output_type": "stream",
     "text": [
      "Time invested 429.377000093 s\n",
      "Test % of some interactions 1 (non NAs) with some LDA similarity:\n",
      "13.98 %\n"
     ]
    }
   ],
   "source": [
    "#start timer\n",
    "t_start=time.time()\n",
    "\n",
    "intType1nonNAs=positiveIntMore[(positiveIntMore['interaction_type']==1) & (positiveIntMore['discipline_id']>0) &\\\n",
    "                               (positiveIntMore['industry_id']>0) & (positiveIntMore['career_level']>0) &\\\n",
    "                               (positiveIntMore['region']>0)\\\n",
    "                              ]\n",
    "\n",
    "topic_intersect=[calcSimilitude(row,dictionary,lda_model,index_disk) for ind,row in intType1nonNAs[0:10000].iterrows()]\n",
    "\n",
    "#end timer\n",
    "t_end=time.time()\n",
    "print \"Time invested \"+str((t_end-t_start))+\" s\"\n",
    "\n",
    "topic_intersect=pd.Series(topic_intersect)\n",
    "print \"Test % of some interactions 1 (non NAs) with some LDA similarity:\" \n",
    "print 100.0*len(topic_intersect[topic_intersect>0.0])/(len(topic_intersect)*1.0),\"%\""
   ]
  },
  {
   "cell_type": "markdown",
   "metadata": {
    "collapsed": true
   },
   "source": [
    "### More experiments\n",
    "\n",
    "#### Build another LDA model for items but only based on title and not including discipline/industry/career"
   ]
  },
  {
   "cell_type": "code",
   "execution_count": 6,
   "metadata": {
    "collapsed": false
   },
   "outputs": [
    {
     "name": "stdout",
     "output_type": "stream",
     "text": [
      "Time invested (create simple docs corpus) 43.0089998245 s\n",
      "(1306054L,)\n"
     ]
    },
    {
     "data": {
      "text/plain": [
       "0                                                   []\n",
       "1           [2994300, 665762, 901938, 127655, 3680343]\n",
       "2                           [3275701, 157228, 4179835]\n",
       "3                                            [2343474]\n",
       "4                                            [2003688]\n",
       "5                          [2139882, 3113130, 3055643]\n",
       "6                                   [1385885, 1196844]\n",
       "7    [3739444, 2945601, 3246051, 48128, 4098162, 38...\n",
       "8                   [732567, 2853244, 310589, 2304652]\n",
       "9                                                   []\n",
       "dtype: object"
      ]
     },
     "execution_count": 6,
     "metadata": {},
     "output_type": "execute_result"
    }
   ],
   "source": [
    "# only title\n",
    "def apiRecsysItemToBowSimple(item):\n",
    "    bow=\",\".join(map(str,item['title']))\n",
    "    return bow\n",
    "\n",
    "#start timer\n",
    "t_start = time.time()                               \n",
    "\n",
    "docs=itemData.apply(lambda row: apiRecsysItemToBowSimple(row),axis=1).apply(lambda row: row.split(\",\"))\n",
    "\n",
    "#end timer\n",
    "t_end=time.time()\n",
    "print \"Time invested (create simple docs corpus) \"+str((t_end-t_start))+\" s\"\n",
    "\n",
    "print docs.shape\n",
    "docs.head(10)"
   ]
  },
  {
   "cell_type": "code",
   "execution_count": 17,
   "metadata": {
    "collapsed": false
   },
   "outputs": [],
   "source": [
    "docs=docs[[True if (len(i)>0 and i[0]!='') else False for i in docs]]"
   ]
  },
  {
   "cell_type": "code",
   "execution_count": 19,
   "metadata": {
    "collapsed": false
   },
   "outputs": [
    {
     "name": "stdout",
     "output_type": "stream",
     "text": [
      "Dictionary(11329 unique tokens: [u'2790498', u'4512151', u'2942918', u'3591036', u'2653966']...)\n",
      "Time invested (create dictionary)29.8150000572 s\n",
      "generating from 0 to 49999\n",
      "Time invested (this step)368.28399992 s\n",
      "generating from 50000 to 99999\n",
      "Time invested (this step)306.773999929 s\n",
      "generating from 100000 to 149999\n",
      "Time invested (this step)309.181999922 s\n",
      "generating from 150000 to 199999\n",
      "Time invested (this step)301.976000071 s\n",
      "generating from 200000 to 249999\n",
      "Time invested (this step)333.572000027 s\n",
      "generating from 250000 to 299999\n",
      "Time invested (this step)374.828000069 s\n",
      "generating from 300000 to 349999\n",
      "Time invested (this step)317.749000072 s\n",
      "generating from 350000 to 399999\n",
      "Time invested (this step)317.909999847 s\n",
      "generating from 400000 to 449999\n",
      "Time invested (this step)311.24000001 s\n",
      "generating from 450000 to 499999\n",
      "Time invested (this step)345.973999977 s\n",
      "generating from 500000 to 549999\n",
      "Time invested (this step)343.827000141 s\n",
      "generating from 550000 to 599999\n",
      "Time invested (this step)376.465999842 s\n",
      "generating from 600000 to 649999\n",
      "Time invested (this step)371.913000107 s\n",
      "generating from 650000 to 699999\n",
      "Time invested (this step)318.181999922 s\n",
      "generating from 700000 to 749999\n",
      "Time invested (this step)379.874000072 s\n",
      "generating from 750000 to 799999\n",
      "Time invested (this step)384.863999844 s\n",
      "generating from 800000 to 849999\n",
      "Time invested (this step)389.620000124 s\n",
      "generating from 850000 to 899999\n",
      "Time invested (this step)407.23300004 s\n",
      "generating from 900000 to 949999\n",
      "Time invested (this step)386.905999899 s\n",
      "generating from 950000 to 999999\n",
      "Time invested (this step)378.693000078 s\n",
      "generating from 1000000 to 1049999\n",
      "Time invested (this step)384.804999828 s\n",
      "generating from 1050000 to 1099999\n",
      "Time invested (this step)375.451000214 s\n",
      "generating from 1100000 to 1149999\n",
      "Time invested (this step)383.746999979 s\n",
      "generating from 1150000 to 1199999\n",
      "Time invested (this step)404.00999999 s\n",
      "generating from 1200000 to 1249999\n",
      "Time invested (this step)44.888999939 s\n",
      "Time invested (whole lda training)8618.00999999 s\n"
     ]
    }
   ],
   "source": [
    "import gensim\n",
    "from gensim import corpora\n",
    "\n",
    "#start timer\n",
    "t_start = time.time()                               \n",
    "\n",
    "# Creating the term dictionary of our courpus, where every unique term is assigned an index. \n",
    "dictionary=corpora.Dictionary(docs)\n",
    "print(dictionary)\n",
    "dictionary.save(\"lda/recsys_dict_simple_title_100topic.pkl\")\n",
    "\n",
    "#end timer\n",
    "t_end=time.time()\n",
    "print \"Time invested (create dictionary)\"+str((t_end-t_start))+\" s\"\n",
    "\n",
    "# Creating the object for LDA model using gensim library\n",
    "LdaMulticore = gensim.models.ldamulticore.LdaMulticore\n",
    "\n",
    "#start timer\n",
    "t_start = time.time()   \n",
    "\n",
    "# Do a loop for batch incremental size\n",
    "batch_size=50000\n",
    "i=0\n",
    "while i<len(docs):\n",
    "    j=i+batch_size\n",
    "    print \"generating from \"+str(i)+\" to \"+str(j-1)\n",
    "    #start timer\n",
    "    t_start_inner = time.time() \n",
    "    doc_term_matrix=[dictionary.doc2bow(doc) for doc in docs[i:j]]\n",
    "    if i==0:\n",
    "        lda_model=LdaMulticore(doc_term_matrix,num_topics=100,id2word=dictionary,workers=3,passes=5)\n",
    "    else:\n",
    "        lda_model.update(doc_term_matrix)\n",
    "    lda_model.save('lda/ldamodel_simple_title_100topic.pkl')\n",
    "    i=j\n",
    "    #end timer\n",
    "    t_end=time.time()\n",
    "    print \"Time invested (this step)\"+str((t_end-t_start_inner))+\" s\"\n",
    "    \n",
    "#end timer\n",
    "t_end=time.time()\n",
    "print \"Time invested (whole lda training)\"+str((t_end-t_start))+\" s\""
   ]
  },
  {
   "cell_type": "code",
   "execution_count": null,
   "metadata": {
    "collapsed": true
   },
   "outputs": [],
   "source": []
  }
 ],
 "metadata": {
  "anaconda-cloud": {},
  "kernelspec": {
   "display_name": "Python [default]",
   "language": "python",
   "name": "python2"
  },
  "language_info": {
   "codemirror_mode": {
    "name": "ipython",
    "version": 2
   },
   "file_extension": ".py",
   "mimetype": "text/x-python",
   "name": "python",
   "nbconvert_exporter": "python",
   "pygments_lexer": "ipython2",
   "version": "2.7.12"
  }
 },
 "nbformat": 4,
 "nbformat_minor": 1
}
