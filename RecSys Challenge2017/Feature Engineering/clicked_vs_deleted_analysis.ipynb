{
 "cells": [
  {
   "cell_type": "markdown",
   "metadata": {},
   "source": [
    "# CLICKED VS DELETED INTERACTIONS"
   ]
  },
  {
   "cell_type": "markdown",
   "metadata": {},
   "source": [
    "## Simple comparison between the pairs (user, item) that have had interaction 4 (deleted) versus interaction 1 (clicked)"
   ]
  },
  {
   "cell_type": "markdown",
   "metadata": {},
   "source": [
    "This notebook tries to get insights into why users delete job notifications and why they click on job offers:"
   ]
  },
  {
   "cell_type": "code",
   "execution_count": 1,
   "metadata": {
    "collapsed": false
   },
   "outputs": [],
   "source": [
    "import pandas as pd\n",
    "import numpy as np\n",
    "import matplotlib.pyplot as plt\n",
    "import seaborn as sns\n",
    "% matplotlib inline"
   ]
  },
  {
   "cell_type": "code",
   "execution_count": 2,
   "metadata": {
    "collapsed": false
   },
   "outputs": [
    {
     "data": {
      "text/html": [
       "<div>\n",
       "<table border=\"1\" class=\"dataframe\">\n",
       "  <thead>\n",
       "    <tr style=\"text-align: right;\">\n",
       "      <th></th>\n",
       "      <th>user_id</th>\n",
       "      <th>item_id</th>\n",
       "      <th>interaction_type</th>\n",
       "      <th>created_at</th>\n",
       "    </tr>\n",
       "  </thead>\n",
       "  <tbody>\n",
       "    <tr>\n",
       "      <th>0</th>\n",
       "      <td>321946</td>\n",
       "      <td>560</td>\n",
       "      <td>4</td>\n",
       "      <td>1484925131</td>\n",
       "    </tr>\n",
       "    <tr>\n",
       "      <th>1</th>\n",
       "      <td>1300778</td>\n",
       "      <td>560</td>\n",
       "      <td>4</td>\n",
       "      <td>1484302470</td>\n",
       "    </tr>\n",
       "    <tr>\n",
       "      <th>2</th>\n",
       "      <td>1555094</td>\n",
       "      <td>560</td>\n",
       "      <td>4</td>\n",
       "      <td>1484592137</td>\n",
       "    </tr>\n",
       "    <tr>\n",
       "      <th>3</th>\n",
       "      <td>61911</td>\n",
       "      <td>890</td>\n",
       "      <td>4</td>\n",
       "      <td>1484425678</td>\n",
       "    </tr>\n",
       "    <tr>\n",
       "      <th>4</th>\n",
       "      <td>856138</td>\n",
       "      <td>890</td>\n",
       "      <td>4</td>\n",
       "      <td>1483611369</td>\n",
       "    </tr>\n",
       "  </tbody>\n",
       "</table>\n",
       "</div>"
      ],
      "text/plain": [
       "   user_id  item_id  interaction_type  created_at\n",
       "0   321946      560                 4  1484925131\n",
       "1  1300778      560                 4  1484302470\n",
       "2  1555094      560                 4  1484592137\n",
       "3    61911      890                 4  1484425678\n",
       "4   856138      890                 4  1483611369"
      ]
     },
     "execution_count": 2,
     "metadata": {},
     "output_type": "execute_result"
    }
   ],
   "source": [
    "# Import all the interactions of type \"delete\"\n",
    "folderData = 'data/'\n",
    "deleted_interactions = pd.read_csv(folderData + 'interactions_deleted.csv')\n",
    "deleted_interactions.head()"
   ]
  },
  {
   "cell_type": "code",
   "execution_count": 3,
   "metadata": {
    "collapsed": false
   },
   "outputs": [
    {
     "data": {
      "text/html": [
       "<div>\n",
       "<table border=\"1\" class=\"dataframe\">\n",
       "  <thead>\n",
       "    <tr style=\"text-align: right;\">\n",
       "      <th></th>\n",
       "      <th>user_id</th>\n",
       "      <th>item_id</th>\n",
       "      <th>interaction_type</th>\n",
       "      <th>created_at</th>\n",
       "    </tr>\n",
       "  </thead>\n",
       "  <tbody>\n",
       "    <tr>\n",
       "      <th>0</th>\n",
       "      <td>2082156</td>\n",
       "      <td>80</td>\n",
       "      <td>1</td>\n",
       "      <td>1484299172</td>\n",
       "    </tr>\n",
       "    <tr>\n",
       "      <th>1</th>\n",
       "      <td>1934123</td>\n",
       "      <td>140</td>\n",
       "      <td>1</td>\n",
       "      <td>1486388563</td>\n",
       "    </tr>\n",
       "    <tr>\n",
       "      <th>2</th>\n",
       "      <td>1320213</td>\n",
       "      <td>240</td>\n",
       "      <td>1</td>\n",
       "      <td>1479409825</td>\n",
       "    </tr>\n",
       "    <tr>\n",
       "      <th>3</th>\n",
       "      <td>297303</td>\n",
       "      <td>310</td>\n",
       "      <td>1</td>\n",
       "      <td>1484817366</td>\n",
       "    </tr>\n",
       "    <tr>\n",
       "      <th>4</th>\n",
       "      <td>1635596</td>\n",
       "      <td>310</td>\n",
       "      <td>1</td>\n",
       "      <td>1486370081</td>\n",
       "    </tr>\n",
       "  </tbody>\n",
       "</table>\n",
       "</div>"
      ],
      "text/plain": [
       "   user_id  item_id  interaction_type  created_at\n",
       "0  2082156       80                 1  1484299172\n",
       "1  1934123      140                 1  1486388563\n",
       "2  1320213      240                 1  1479409825\n",
       "3   297303      310                 1  1484817366\n",
       "4  1635596      310                 1  1486370081"
      ]
     },
     "execution_count": 3,
     "metadata": {},
     "output_type": "execute_result"
    }
   ],
   "source": [
    "# Import all the interactions of type \"replied\"\n",
    "clicked_interactions = pd.read_csv(folderData + 'interactions_clicked.csv')\n",
    "clicked_interactions.head()"
   ]
  },
  {
   "cell_type": "markdown",
   "metadata": {},
   "source": [
    "Do we have (user, item) pairs that are common between both groups?"
   ]
  },
  {
   "cell_type": "code",
   "execution_count": 4,
   "metadata": {
    "collapsed": true
   },
   "outputs": [],
   "source": [
    "intersection = pd.merge(deleted_interactions, clicked_interactions, how='inner', on=['user_id', 'item_id'])"
   ]
  },
  {
   "cell_type": "code",
   "execution_count": 5,
   "metadata": {
    "collapsed": false
   },
   "outputs": [
    {
     "data": {
      "text/html": [
       "<div>\n",
       "<table border=\"1\" class=\"dataframe\">\n",
       "  <thead>\n",
       "    <tr style=\"text-align: right;\">\n",
       "      <th></th>\n",
       "      <th>user_id</th>\n",
       "      <th>item_id</th>\n",
       "      <th>interaction_type_x</th>\n",
       "      <th>created_at_x</th>\n",
       "      <th>interaction_type_y</th>\n",
       "      <th>created_at_y</th>\n",
       "    </tr>\n",
       "  </thead>\n",
       "  <tbody>\n",
       "    <tr>\n",
       "      <th>0</th>\n",
       "      <td>702758</td>\n",
       "      <td>890</td>\n",
       "      <td>4</td>\n",
       "      <td>1483609071</td>\n",
       "      <td>1</td>\n",
       "      <td>1483605457</td>\n",
       "    </tr>\n",
       "    <tr>\n",
       "      <th>1</th>\n",
       "      <td>421317</td>\n",
       "      <td>890</td>\n",
       "      <td>4</td>\n",
       "      <td>1483449509</td>\n",
       "      <td>1</td>\n",
       "      <td>1483445814</td>\n",
       "    </tr>\n",
       "    <tr>\n",
       "      <th>2</th>\n",
       "      <td>232940</td>\n",
       "      <td>890</td>\n",
       "      <td>4</td>\n",
       "      <td>1484560432</td>\n",
       "      <td>1</td>\n",
       "      <td>1486385308</td>\n",
       "    </tr>\n",
       "    <tr>\n",
       "      <th>3</th>\n",
       "      <td>3003</td>\n",
       "      <td>930</td>\n",
       "      <td>4</td>\n",
       "      <td>1479670079</td>\n",
       "      <td>1</td>\n",
       "      <td>1479666477</td>\n",
       "    </tr>\n",
       "    <tr>\n",
       "      <th>4</th>\n",
       "      <td>1622200</td>\n",
       "      <td>1600</td>\n",
       "      <td>4</td>\n",
       "      <td>1484150849</td>\n",
       "      <td>1</td>\n",
       "      <td>1484147190</td>\n",
       "    </tr>\n",
       "  </tbody>\n",
       "</table>\n",
       "</div>"
      ],
      "text/plain": [
       "   user_id  item_id  interaction_type_x  created_at_x  interaction_type_y  \\\n",
       "0   702758      890                   4    1483609071                   1   \n",
       "1   421317      890                   4    1483449509                   1   \n",
       "2   232940      890                   4    1484560432                   1   \n",
       "3     3003      930                   4    1479670079                   1   \n",
       "4  1622200     1600                   4    1484150849                   1   \n",
       "\n",
       "   created_at_y  \n",
       "0    1483605457  \n",
       "1    1483445814  \n",
       "2    1486385308  \n",
       "3    1479666477  \n",
       "4    1484147190  "
      ]
     },
     "execution_count": 5,
     "metadata": {},
     "output_type": "execute_result"
    }
   ],
   "source": [
    "intersection.head()"
   ]
  },
  {
   "cell_type": "markdown",
   "metadata": {},
   "source": [
    "Drop the intersections from deleted_interactions and clicked_interactions"
   ]
  },
  {
   "cell_type": "code",
   "execution_count": 6,
   "metadata": {
    "collapsed": false
   },
   "outputs": [],
   "source": [
    "idx = deleted_interactions['user_id'].isin(intersection['user_id']) & deleted_interactions['item_id'].isin(intersection['item_id'])\n",
    "deleted_interactions = deleted_interactions[~idx]"
   ]
  },
  {
   "cell_type": "code",
   "execution_count": 7,
   "metadata": {
    "collapsed": true
   },
   "outputs": [],
   "source": [
    "idx = clicked_interactions['user_id'].isin(intersection['user_id']) & clicked_interactions['item_id'].isin(intersection['item_id'])\n",
    "clicked_interactions = clicked_interactions[~idx]"
   ]
  },
  {
   "cell_type": "markdown",
   "metadata": {},
   "source": [
    "From the intersections, let's check which interaction was last, in order to add it again to the corresponding variable. We assume that someone who first deletes and then clicks, is like clicking, and if someone first clicks and then deletes, is like deleting."
   ]
  },
  {
   "cell_type": "code",
   "execution_count": 8,
   "metadata": {
    "collapsed": false
   },
   "outputs": [
    {
     "data": {
      "text/plain": [
       "True     55498\n",
       "False     1451\n",
       "dtype: int64"
      ]
     },
     "execution_count": 8,
     "metadata": {},
     "output_type": "execute_result"
    }
   ],
   "source": [
    "idx = intersection[['created_at_x', 'created_at_y']].max(axis=1)==intersection.created_at_x\n",
    "idx.value_counts()"
   ]
  },
  {
   "cell_type": "markdown",
   "metadata": {},
   "source": [
    "True means delete after click, and False the opposite"
   ]
  },
  {
   "cell_type": "code",
   "execution_count": 9,
   "metadata": {
    "collapsed": false
   },
   "outputs": [],
   "source": [
    "aux = intersection.loc[idx, ['user_id', 'item_id', 'interaction_type_x','created_at_x']]\n",
    "aux.columns = ['user_id', 'item_id', 'interaction_type','created_at']\n",
    "deleted_interactions = pd.concat([deleted_interactions, aux], ignore_index=True)"
   ]
  },
  {
   "cell_type": "code",
   "execution_count": 10,
   "metadata": {
    "collapsed": false
   },
   "outputs": [],
   "source": [
    "aux = intersection.loc[~idx, ['user_id', 'item_id', 'interaction_type_y','created_at_y']]\n",
    "aux.columns = ['user_id', 'item_id', 'interaction_type','created_at']\n",
    "clicked_interactions = pd.concat([clicked_interactions, aux], ignore_index=True)"
   ]
  },
  {
   "cell_type": "markdown",
   "metadata": {},
   "source": [
    "Import all users and items data"
   ]
  },
  {
   "cell_type": "code",
   "execution_count": 11,
   "metadata": {
    "collapsed": true
   },
   "outputs": [],
   "source": [
    "# Import all users\n",
    "users = pd.read_csv(folderData + 'users.csv', sep='\\t')\n",
    "users.columns = ['user_id', 'jobroles', 'career_level', 'discipline_id', 'industry_id', 'country', 'region',\n",
    "                'experience_n_entries_class', 'experience_years_experience', 'experience_years_in_current',\n",
    "                'edu_degree', 'edu_fieldofstudies', 'wtcj', 'premium']"
   ]
  },
  {
   "cell_type": "code",
   "execution_count": 12,
   "metadata": {
    "collapsed": false
   },
   "outputs": [],
   "source": [
    "# Fill empties and transform the strings into a list\n",
    "users.jobroles = users.jobroles.fillna('0').apply(lambda str: set(str.split(',')))\n",
    "users.edu_fieldofstudies = users.edu_fieldofstudies.fillna('0').apply(lambda str: set(str.split(',')))"
   ]
  },
  {
   "cell_type": "code",
   "execution_count": 13,
   "metadata": {
    "collapsed": true
   },
   "outputs": [],
   "source": [
    "# Import all items\n",
    "items = pd.read_csv(folderData + 'items.csv', sep='\\t')\n",
    "items.columns = ['item_id', 'title', 'career_level', 'discipline_id', 'industry_id', 'country', 'is_payed', 'region',\n",
    "                'latitude', 'longitude', 'employment', 'tags', 'created_at']"
   ]
  },
  {
   "cell_type": "code",
   "execution_count": 14,
   "metadata": {
    "collapsed": false
   },
   "outputs": [],
   "source": [
    "# Fill empties and transform the strings into a list\n",
    "items.title = items.title.fillna('0').apply(lambda str: set(str.split(',')))\n",
    "items.tags = items.tags.fillna('0').apply(lambda str: set(str.split(',')))\n",
    "items['created_at_dt'] = pd.to_datetime(items.created_at,unit='s', errors='coerce')"
   ]
  },
  {
   "cell_type": "code",
   "execution_count": 15,
   "metadata": {
    "collapsed": false
   },
   "outputs": [
    {
     "data": {
      "text/html": [
       "<div>\n",
       "<table border=\"1\" class=\"dataframe\">\n",
       "  <thead>\n",
       "    <tr style=\"text-align: right;\">\n",
       "      <th></th>\n",
       "      <th>user_id</th>\n",
       "      <th>item_id</th>\n",
       "      <th>interaction_type</th>\n",
       "      <th>created_at_user</th>\n",
       "      <th>jobroles</th>\n",
       "      <th>career_level_user</th>\n",
       "      <th>discipline_id_user</th>\n",
       "      <th>industry_id_user</th>\n",
       "      <th>country_user</th>\n",
       "      <th>region_user</th>\n",
       "      <th>...</th>\n",
       "      <th>industry_id_item</th>\n",
       "      <th>country_item</th>\n",
       "      <th>is_payed</th>\n",
       "      <th>region_item</th>\n",
       "      <th>latitude</th>\n",
       "      <th>longitude</th>\n",
       "      <th>employment</th>\n",
       "      <th>tags</th>\n",
       "      <th>created_at_item</th>\n",
       "      <th>created_at_dt</th>\n",
       "    </tr>\n",
       "  </thead>\n",
       "  <tbody>\n",
       "    <tr>\n",
       "      <th>0</th>\n",
       "      <td>321946</td>\n",
       "      <td>560</td>\n",
       "      <td>4</td>\n",
       "      <td>1484925131</td>\n",
       "      <td>{4419072, 2904979, 3124810, 1050544, 362085}</td>\n",
       "      <td>0</td>\n",
       "      <td>0</td>\n",
       "      <td>0</td>\n",
       "      <td>de</td>\n",
       "      <td>0</td>\n",
       "      <td>...</td>\n",
       "      <td>16</td>\n",
       "      <td>de</td>\n",
       "      <td>1</td>\n",
       "      <td>1</td>\n",
       "      <td>49.1</td>\n",
       "      <td>9.2</td>\n",
       "      <td>1</td>\n",
       "      <td>{3698446, 202201, 2950030, 518708, 848365, 121...</td>\n",
       "      <td>1484262000</td>\n",
       "      <td>2017-01-12 23:00:00</td>\n",
       "    </tr>\n",
       "    <tr>\n",
       "      <th>1</th>\n",
       "      <td>1300778</td>\n",
       "      <td>560</td>\n",
       "      <td>4</td>\n",
       "      <td>1484302470</td>\n",
       "      <td>{3460004, 2028066, 2180632, 2154744, 4504662, ...</td>\n",
       "      <td>3</td>\n",
       "      <td>4</td>\n",
       "      <td>3</td>\n",
       "      <td>de</td>\n",
       "      <td>1</td>\n",
       "      <td>...</td>\n",
       "      <td>16</td>\n",
       "      <td>de</td>\n",
       "      <td>1</td>\n",
       "      <td>1</td>\n",
       "      <td>49.1</td>\n",
       "      <td>9.2</td>\n",
       "      <td>1</td>\n",
       "      <td>{3698446, 202201, 2950030, 518708, 848365, 121...</td>\n",
       "      <td>1484262000</td>\n",
       "      <td>2017-01-12 23:00:00</td>\n",
       "    </tr>\n",
       "    <tr>\n",
       "      <th>2</th>\n",
       "      <td>1555094</td>\n",
       "      <td>560</td>\n",
       "      <td>4</td>\n",
       "      <td>1484592137</td>\n",
       "      <td>{1745826, 2714822, 1408054, 4330980, 3614810, ...</td>\n",
       "      <td>2</td>\n",
       "      <td>0</td>\n",
       "      <td>16</td>\n",
       "      <td>de</td>\n",
       "      <td>9</td>\n",
       "      <td>...</td>\n",
       "      <td>16</td>\n",
       "      <td>de</td>\n",
       "      <td>1</td>\n",
       "      <td>1</td>\n",
       "      <td>49.1</td>\n",
       "      <td>9.2</td>\n",
       "      <td>1</td>\n",
       "      <td>{3698446, 202201, 2950030, 518708, 848365, 121...</td>\n",
       "      <td>1484262000</td>\n",
       "      <td>2017-01-12 23:00:00</td>\n",
       "    </tr>\n",
       "    <tr>\n",
       "      <th>3</th>\n",
       "      <td>321946</td>\n",
       "      <td>28540</td>\n",
       "      <td>4</td>\n",
       "      <td>1484925135</td>\n",
       "      <td>{4419072, 2904979, 3124810, 1050544, 362085}</td>\n",
       "      <td>0</td>\n",
       "      <td>0</td>\n",
       "      <td>0</td>\n",
       "      <td>de</td>\n",
       "      <td>0</td>\n",
       "      <td>...</td>\n",
       "      <td>16</td>\n",
       "      <td>de</td>\n",
       "      <td>1</td>\n",
       "      <td>9</td>\n",
       "      <td>51.5</td>\n",
       "      <td>7.5</td>\n",
       "      <td>1</td>\n",
       "      <td>{3797268, 3698446, 518708, 202201, 2950030, 36...</td>\n",
       "      <td>1484262000</td>\n",
       "      <td>2017-01-12 23:00:00</td>\n",
       "    </tr>\n",
       "    <tr>\n",
       "      <th>4</th>\n",
       "      <td>1555094</td>\n",
       "      <td>28540</td>\n",
       "      <td>4</td>\n",
       "      <td>1484592139</td>\n",
       "      <td>{1745826, 2714822, 1408054, 4330980, 3614810, ...</td>\n",
       "      <td>2</td>\n",
       "      <td>0</td>\n",
       "      <td>16</td>\n",
       "      <td>de</td>\n",
       "      <td>9</td>\n",
       "      <td>...</td>\n",
       "      <td>16</td>\n",
       "      <td>de</td>\n",
       "      <td>1</td>\n",
       "      <td>9</td>\n",
       "      <td>51.5</td>\n",
       "      <td>7.5</td>\n",
       "      <td>1</td>\n",
       "      <td>{3797268, 3698446, 518708, 202201, 2950030, 36...</td>\n",
       "      <td>1484262000</td>\n",
       "      <td>2017-01-12 23:00:00</td>\n",
       "    </tr>\n",
       "  </tbody>\n",
       "</table>\n",
       "<p>5 rows × 30 columns</p>\n",
       "</div>"
      ],
      "text/plain": [
       "   user_id  item_id  interaction_type  created_at_user  \\\n",
       "0   321946      560                 4       1484925131   \n",
       "1  1300778      560                 4       1484302470   \n",
       "2  1555094      560                 4       1484592137   \n",
       "3   321946    28540                 4       1484925135   \n",
       "4  1555094    28540                 4       1484592139   \n",
       "\n",
       "                                            jobroles  career_level_user  \\\n",
       "0       {4419072, 2904979, 3124810, 1050544, 362085}                  0   \n",
       "1  {3460004, 2028066, 2180632, 2154744, 4504662, ...                  3   \n",
       "2  {1745826, 2714822, 1408054, 4330980, 3614810, ...                  2   \n",
       "3       {4419072, 2904979, 3124810, 1050544, 362085}                  0   \n",
       "4  {1745826, 2714822, 1408054, 4330980, 3614810, ...                  2   \n",
       "\n",
       "   discipline_id_user  industry_id_user country_user  region_user  \\\n",
       "0                   0                 0           de            0   \n",
       "1                   4                 3           de            1   \n",
       "2                   0                16           de            9   \n",
       "3                   0                 0           de            0   \n",
       "4                   0                16           de            9   \n",
       "\n",
       "          ...          industry_id_item  country_item  is_payed  region_item  \\\n",
       "0         ...                        16            de         1            1   \n",
       "1         ...                        16            de         1            1   \n",
       "2         ...                        16            de         1            1   \n",
       "3         ...                        16            de         1            9   \n",
       "4         ...                        16            de         1            9   \n",
       "\n",
       "  latitude  longitude  employment  \\\n",
       "0     49.1        9.2           1   \n",
       "1     49.1        9.2           1   \n",
       "2     49.1        9.2           1   \n",
       "3     51.5        7.5           1   \n",
       "4     51.5        7.5           1   \n",
       "\n",
       "                                                tags  created_at_item  \\\n",
       "0  {3698446, 202201, 2950030, 518708, 848365, 121...       1484262000   \n",
       "1  {3698446, 202201, 2950030, 518708, 848365, 121...       1484262000   \n",
       "2  {3698446, 202201, 2950030, 518708, 848365, 121...       1484262000   \n",
       "3  {3797268, 3698446, 518708, 202201, 2950030, 36...       1484262000   \n",
       "4  {3797268, 3698446, 518708, 202201, 2950030, 36...       1484262000   \n",
       "\n",
       "        created_at_dt  \n",
       "0 2017-01-12 23:00:00  \n",
       "1 2017-01-12 23:00:00  \n",
       "2 2017-01-12 23:00:00  \n",
       "3 2017-01-12 23:00:00  \n",
       "4 2017-01-12 23:00:00  \n",
       "\n",
       "[5 rows x 30 columns]"
      ]
     },
     "execution_count": 15,
     "metadata": {},
     "output_type": "execute_result"
    }
   ],
   "source": [
    "# Merge data sets. Find all the information of users and items that have an interaction of type 4\n",
    "data_deleted = deleted_interactions.merge(users, on='user_id', how='inner')\n",
    "data_deleted = data_deleted.merge(items, on='item_id', how='inner', suffixes=('_user', '_item'))\n",
    "data_deleted.head()"
   ]
  },
  {
   "cell_type": "code",
   "execution_count": 16,
   "metadata": {
    "collapsed": false
   },
   "outputs": [
    {
     "data": {
      "text/plain": [
       "(705136, 29)"
      ]
     },
     "execution_count": 16,
     "metadata": {},
     "output_type": "execute_result"
    }
   ],
   "source": [
    "# Remove interaction type\n",
    "data_deleted.drop(['interaction_type'], axis=1, inplace=True)\n",
    "data_deleted.shape"
   ]
  },
  {
   "cell_type": "code",
   "execution_count": 17,
   "metadata": {
    "collapsed": false
   },
   "outputs": [
    {
     "data": {
      "text/html": [
       "<div>\n",
       "<table border=\"1\" class=\"dataframe\">\n",
       "  <thead>\n",
       "    <tr style=\"text-align: right;\">\n",
       "      <th></th>\n",
       "      <th>user_id</th>\n",
       "      <th>item_id</th>\n",
       "      <th>interaction_type</th>\n",
       "      <th>created_at_user</th>\n",
       "      <th>jobroles</th>\n",
       "      <th>career_level_user</th>\n",
       "      <th>discipline_id_user</th>\n",
       "      <th>industry_id_user</th>\n",
       "      <th>country_user</th>\n",
       "      <th>region_user</th>\n",
       "      <th>...</th>\n",
       "      <th>industry_id_item</th>\n",
       "      <th>country_item</th>\n",
       "      <th>is_payed</th>\n",
       "      <th>region_item</th>\n",
       "      <th>latitude</th>\n",
       "      <th>longitude</th>\n",
       "      <th>employment</th>\n",
       "      <th>tags</th>\n",
       "      <th>created_at_item</th>\n",
       "      <th>created_at_dt</th>\n",
       "    </tr>\n",
       "  </thead>\n",
       "  <tbody>\n",
       "    <tr>\n",
       "      <th>0</th>\n",
       "      <td>2082156</td>\n",
       "      <td>80</td>\n",
       "      <td>1</td>\n",
       "      <td>1484299172</td>\n",
       "      <td>{4099592, 924730, 2968849}</td>\n",
       "      <td>0</td>\n",
       "      <td>0</td>\n",
       "      <td>20</td>\n",
       "      <td>de</td>\n",
       "      <td>1</td>\n",
       "      <td>...</td>\n",
       "      <td>1</td>\n",
       "      <td>de</td>\n",
       "      <td>0</td>\n",
       "      <td>1</td>\n",
       "      <td>48.8</td>\n",
       "      <td>8.1</td>\n",
       "      <td>1</td>\n",
       "      <td>{3275701, 4050466, 1339355, 910844, 258464, 41...</td>\n",
       "      <td>1483570800</td>\n",
       "      <td>2017-01-04 23:00:00</td>\n",
       "    </tr>\n",
       "    <tr>\n",
       "      <th>1</th>\n",
       "      <td>2082156</td>\n",
       "      <td>1057450</td>\n",
       "      <td>1</td>\n",
       "      <td>1484298688</td>\n",
       "      <td>{4099592, 924730, 2968849}</td>\n",
       "      <td>0</td>\n",
       "      <td>0</td>\n",
       "      <td>20</td>\n",
       "      <td>de</td>\n",
       "      <td>1</td>\n",
       "      <td>...</td>\n",
       "      <td>20</td>\n",
       "      <td>de</td>\n",
       "      <td>1</td>\n",
       "      <td>2</td>\n",
       "      <td>49.5</td>\n",
       "      <td>11.1</td>\n",
       "      <td>1</td>\n",
       "      <td>{2580855, 2377066, 261047, 1820491, 4098162, 3...</td>\n",
       "      <td>1484175600</td>\n",
       "      <td>2017-01-11 23:00:00</td>\n",
       "    </tr>\n",
       "    <tr>\n",
       "      <th>2</th>\n",
       "      <td>1297638</td>\n",
       "      <td>1057450</td>\n",
       "      <td>1</td>\n",
       "      <td>1484738526</td>\n",
       "      <td>{4516410, 3500546, 2233665, 4015589, 4018408}</td>\n",
       "      <td>3</td>\n",
       "      <td>0</td>\n",
       "      <td>0</td>\n",
       "      <td>de</td>\n",
       "      <td>0</td>\n",
       "      <td>...</td>\n",
       "      <td>20</td>\n",
       "      <td>de</td>\n",
       "      <td>1</td>\n",
       "      <td>2</td>\n",
       "      <td>49.5</td>\n",
       "      <td>11.1</td>\n",
       "      <td>1</td>\n",
       "      <td>{2580855, 2377066, 261047, 1820491, 4098162, 3...</td>\n",
       "      <td>1484175600</td>\n",
       "      <td>2017-01-11 23:00:00</td>\n",
       "    </tr>\n",
       "    <tr>\n",
       "      <th>3</th>\n",
       "      <td>2311914</td>\n",
       "      <td>1057450</td>\n",
       "      <td>1</td>\n",
       "      <td>1484473961</td>\n",
       "      <td>{4018408}</td>\n",
       "      <td>0</td>\n",
       "      <td>0</td>\n",
       "      <td>20</td>\n",
       "      <td>de</td>\n",
       "      <td>6</td>\n",
       "      <td>...</td>\n",
       "      <td>20</td>\n",
       "      <td>de</td>\n",
       "      <td>1</td>\n",
       "      <td>2</td>\n",
       "      <td>49.5</td>\n",
       "      <td>11.1</td>\n",
       "      <td>1</td>\n",
       "      <td>{2580855, 2377066, 261047, 1820491, 4098162, 3...</td>\n",
       "      <td>1484175600</td>\n",
       "      <td>2017-01-11 23:00:00</td>\n",
       "    </tr>\n",
       "    <tr>\n",
       "      <th>4</th>\n",
       "      <td>2118237</td>\n",
       "      <td>1057450</td>\n",
       "      <td>1</td>\n",
       "      <td>1484223195</td>\n",
       "      <td>{2126376}</td>\n",
       "      <td>6</td>\n",
       "      <td>4</td>\n",
       "      <td>7</td>\n",
       "      <td>de</td>\n",
       "      <td>2</td>\n",
       "      <td>...</td>\n",
       "      <td>20</td>\n",
       "      <td>de</td>\n",
       "      <td>1</td>\n",
       "      <td>2</td>\n",
       "      <td>49.5</td>\n",
       "      <td>11.1</td>\n",
       "      <td>1</td>\n",
       "      <td>{2580855, 2377066, 261047, 1820491, 4098162, 3...</td>\n",
       "      <td>1484175600</td>\n",
       "      <td>2017-01-11 23:00:00</td>\n",
       "    </tr>\n",
       "  </tbody>\n",
       "</table>\n",
       "<p>5 rows × 30 columns</p>\n",
       "</div>"
      ],
      "text/plain": [
       "   user_id  item_id  interaction_type  created_at_user  \\\n",
       "0  2082156       80                 1       1484299172   \n",
       "1  2082156  1057450                 1       1484298688   \n",
       "2  1297638  1057450                 1       1484738526   \n",
       "3  2311914  1057450                 1       1484473961   \n",
       "4  2118237  1057450                 1       1484223195   \n",
       "\n",
       "                                        jobroles  career_level_user  \\\n",
       "0                     {4099592, 924730, 2968849}                  0   \n",
       "1                     {4099592, 924730, 2968849}                  0   \n",
       "2  {4516410, 3500546, 2233665, 4015589, 4018408}                  3   \n",
       "3                                      {4018408}                  0   \n",
       "4                                      {2126376}                  6   \n",
       "\n",
       "   discipline_id_user  industry_id_user country_user  region_user  \\\n",
       "0                   0                20           de            1   \n",
       "1                   0                20           de            1   \n",
       "2                   0                 0           de            0   \n",
       "3                   0                20           de            6   \n",
       "4                   4                 7           de            2   \n",
       "\n",
       "          ...          industry_id_item  country_item  is_payed  region_item  \\\n",
       "0         ...                         1            de         0            1   \n",
       "1         ...                        20            de         1            2   \n",
       "2         ...                        20            de         1            2   \n",
       "3         ...                        20            de         1            2   \n",
       "4         ...                        20            de         1            2   \n",
       "\n",
       "  latitude  longitude  employment  \\\n",
       "0     48.8        8.1           1   \n",
       "1     49.5       11.1           1   \n",
       "2     49.5       11.1           1   \n",
       "3     49.5       11.1           1   \n",
       "4     49.5       11.1           1   \n",
       "\n",
       "                                                tags  created_at_item  \\\n",
       "0  {3275701, 4050466, 1339355, 910844, 258464, 41...       1483570800   \n",
       "1  {2580855, 2377066, 261047, 1820491, 4098162, 3...       1484175600   \n",
       "2  {2580855, 2377066, 261047, 1820491, 4098162, 3...       1484175600   \n",
       "3  {2580855, 2377066, 261047, 1820491, 4098162, 3...       1484175600   \n",
       "4  {2580855, 2377066, 261047, 1820491, 4098162, 3...       1484175600   \n",
       "\n",
       "        created_at_dt  \n",
       "0 2017-01-04 23:00:00  \n",
       "1 2017-01-11 23:00:00  \n",
       "2 2017-01-11 23:00:00  \n",
       "3 2017-01-11 23:00:00  \n",
       "4 2017-01-11 23:00:00  \n",
       "\n",
       "[5 rows x 30 columns]"
      ]
     },
     "execution_count": 17,
     "metadata": {},
     "output_type": "execute_result"
    }
   ],
   "source": [
    "# Merge data sets. Find all the information of users and items that have an interaction of type 3\n",
    "data_clicked = clicked_interactions.merge(users, on='user_id', how='inner')\n",
    "data_clicked = data_clicked.merge(items, on='item_id', how='inner', suffixes=('_user', '_item'))\n",
    "data_clicked.head()"
   ]
  },
  {
   "cell_type": "code",
   "execution_count": 18,
   "metadata": {
    "collapsed": false
   },
   "outputs": [
    {
     "data": {
      "text/plain": [
       "(6745673, 29)"
      ]
     },
     "execution_count": 18,
     "metadata": {},
     "output_type": "execute_result"
    }
   ],
   "source": [
    "# Remove interaction type\n",
    "data_clicked.drop(['interaction_type'], axis=1, inplace=True)\n",
    "data_clicked.shape"
   ]
  },
  {
   "cell_type": "code",
   "execution_count": 19,
   "metadata": {
    "collapsed": false
   },
   "outputs": [
    {
     "name": "stdout",
     "output_type": "stream",
     "text": [
      "Index([u'user_id', u'item_id', u'created_at_user', u'jobroles',\n",
      "       u'career_level_user', u'discipline_id_user', u'industry_id_user',\n",
      "       u'country_user', u'region_user', u'experience_n_entries_class',\n",
      "       u'experience_years_experience', u'experience_years_in_current',\n",
      "       u'edu_degree', u'edu_fieldofstudies', u'wtcj', u'premium', u'title',\n",
      "       u'career_level_item', u'discipline_id_item', u'industry_id_item',\n",
      "       u'country_item', u'is_payed', u'region_item', u'latitude', u'longitude',\n",
      "       u'employment', u'tags', u'created_at_item', u'created_at_dt'],\n",
      "      dtype='object')\n"
     ]
    }
   ],
   "source": [
    "print data_clicked.columns"
   ]
  },
  {
   "cell_type": "code",
   "execution_count": 20,
   "metadata": {
    "collapsed": false
   },
   "outputs": [],
   "source": [
    "# Select all users and items who have been involved with interaction 4\n",
    "idx = users.user_id.isin(data_deleted.user_id)\n",
    "users_not_interested = users.ix[idx].reset_index(drop=True)\n",
    "idx = items.item_id.isin(data_deleted.item_id)\n",
    "items_not_interesting = items.ix[idx].reset_index(drop=True)"
   ]
  },
  {
   "cell_type": "code",
   "execution_count": 21,
   "metadata": {
    "collapsed": true
   },
   "outputs": [],
   "source": [
    "# Select all users and items who have been involved with interaction 1\n",
    "idx = users.user_id.isin(data_clicked.user_id)\n",
    "users_interested = users.ix[idx].reset_index(drop=True)\n",
    "idx = items.item_id.isin(data_clicked.item_id)\n",
    "items_interesting = items.ix[idx].reset_index(drop=True)"
   ]
  },
  {
   "cell_type": "markdown",
   "metadata": {},
   "source": [
    "# Let's study each one of the columns and compare the values between both groups to see if there are differences"
   ]
  },
  {
   "cell_type": "markdown",
   "metadata": {},
   "source": [
    "## Career level"
   ]
  },
  {
   "cell_type": "markdown",
   "metadata": {},
   "source": [
    "Which career level do users have? Does it match the career level asked at the job?"
   ]
  },
  {
   "cell_type": "code",
   "execution_count": 22,
   "metadata": {
    "collapsed": false
   },
   "outputs": [
    {
     "data": {
      "text/plain": [
       "{0: 237155, 1: 5606, 2: 31468, 3: 253272, 4: 134197, 5: 20860, 6: 22578}"
      ]
     },
     "execution_count": 22,
     "metadata": {},
     "output_type": "execute_result"
    }
   ],
   "source": [
    "data_deleted.career_level_user.value_counts().sort_index().to_dict()"
   ]
  },
  {
   "cell_type": "code",
   "execution_count": 23,
   "metadata": {
    "collapsed": false
   },
   "outputs": [
    {
     "data": {
      "text/plain": [
       "{1: 10079, 2: 33647, 3: 443580, 4: 184909, 5: 24194, 6: 8727}"
      ]
     },
     "execution_count": 23,
     "metadata": {},
     "output_type": "execute_result"
    }
   ],
   "source": [
    "data_deleted.career_level_item.value_counts().sort_index().to_dict()"
   ]
  },
  {
   "cell_type": "code",
   "execution_count": 24,
   "metadata": {
    "collapsed": false
   },
   "outputs": [
    {
     "data": {
      "text/plain": [
       "{0: 3821574, 1: 48990, 2: 203204, 3: 1559334, 4: 736605, 5: 194620, 6: 181346}"
      ]
     },
     "execution_count": 24,
     "metadata": {},
     "output_type": "execute_result"
    }
   ],
   "source": [
    "data_clicked.career_level_user.value_counts().sort_index().to_dict()"
   ]
  },
  {
   "cell_type": "code",
   "execution_count": 25,
   "metadata": {
    "collapsed": false
   },
   "outputs": [
    {
     "data": {
      "text/plain": [
       "{1: 157647, 2: 428566, 3: 4494499, 4: 1148644, 5: 210615, 6: 305702}"
      ]
     },
     "execution_count": 25,
     "metadata": {},
     "output_type": "execute_result"
    }
   ],
   "source": [
    "data_clicked.career_level_item.value_counts().sort_index().to_dict()"
   ]
  },
  {
   "cell_type": "markdown",
   "metadata": {},
   "source": [
    "Lets only look at the data for which we know the career level (ignore case 0)"
   ]
  },
  {
   "cell_type": "code",
   "execution_count": 26,
   "metadata": {
    "collapsed": false
   },
   "outputs": [
    {
     "name": "stdout",
     "output_type": "stream",
     "text": [
      "55.9924441377\n",
      "19.0520555322\n",
      "24.9555003301\n"
     ]
    }
   ],
   "source": [
    "subset1 = data_deleted[data_deleted.career_level_user!=0]\n",
    "n = float(len(subset1))\n",
    "print np.sum(subset1.career_level_item==subset1.career_level_user)/n*100.0\n",
    "print np.sum(subset1.career_level_item>subset1.career_level_user)/n*100.0\n",
    "print np.sum(subset1.career_level_item<subset1.career_level_user)/n*100.0"
   ]
  },
  {
   "cell_type": "code",
   "execution_count": 27,
   "metadata": {
    "collapsed": false
   },
   "outputs": [
    {
     "data": {
      "text/plain": [
       "{-5: 19,\n",
       " -4: 77,\n",
       " -3: 1422,\n",
       " -2: 11836,\n",
       " -1: 75806,\n",
       " 0: 262034,\n",
       " 1: 88153,\n",
       " 2: 21579,\n",
       " 3: 6928,\n",
       " 4: 108,\n",
       " 5: 19}"
      ]
     },
     "execution_count": 27,
     "metadata": {},
     "output_type": "execute_result"
    }
   ],
   "source": [
    "diff_career_level = subset1.career_level_user-subset1.career_level_item\n",
    "diff_career_level.value_counts().sort_index().to_dict()"
   ]
  },
  {
   "cell_type": "markdown",
   "metadata": {},
   "source": [
    "Approximately 55% of interactions of type 4 have the same career level"
   ]
  },
  {
   "cell_type": "code",
   "execution_count": 28,
   "metadata": {
    "collapsed": false
   },
   "outputs": [
    {
     "name": "stdout",
     "output_type": "stream",
     "text": [
      "52.59233699\n",
      "20.2010260255\n",
      "27.2066369846\n"
     ]
    }
   ],
   "source": [
    "subset2 = data_clicked[data_clicked.career_level_user!=0]\n",
    "n = float(len(subset2))\n",
    "print np.sum(subset2.career_level_item==subset2.career_level_user)/n*100.0\n",
    "print np.sum(subset2.career_level_item>subset2.career_level_user)/n*100.0\n",
    "print np.sum(subset2.career_level_item<subset2.career_level_user)/n*100.0"
   ]
  },
  {
   "cell_type": "code",
   "execution_count": 29,
   "metadata": {
    "collapsed": false
   },
   "outputs": [
    {
     "data": {
      "text/plain": [
       "{-5: 71,\n",
       " -4: 564,\n",
       " -3: 8752,\n",
       " -2: 80058,\n",
       " -1: 501253,\n",
       " 0: 1537852,\n",
       " 1: 531257,\n",
       " 2: 156824,\n",
       " 3: 96469,\n",
       " 4: 7399,\n",
       " 5: 3600}"
      ]
     },
     "execution_count": 29,
     "metadata": {},
     "output_type": "execute_result"
    }
   ],
   "source": [
    "diff_career_level = subset2.career_level_user-subset2.career_level_item\n",
    "diff_career_level.value_counts().sort_index().to_dict()"
   ]
  },
  {
   "cell_type": "markdown",
   "metadata": {},
   "source": [
    "Not much differece in both groups"
   ]
  },
  {
   "cell_type": "markdown",
   "metadata": {},
   "source": [
    "Conclusion:\n",
    "\n",
    "    1. In both deleted and clicked interactions, the career level match behaves similarly\n"
   ]
  },
  {
   "cell_type": "markdown",
   "metadata": {},
   "source": [
    "## Discipline id"
   ]
  },
  {
   "cell_type": "markdown",
   "metadata": {},
   "source": [
    "Let's ask the same questions"
   ]
  },
  {
   "cell_type": "code",
   "execution_count": 30,
   "metadata": {
    "collapsed": false
   },
   "outputs": [
    {
     "data": {
      "text/plain": [
       "0     464521\n",
       "4      55343\n",
       "5      34636\n",
       "17     32180\n",
       "3      20409\n",
       "Name: discipline_id_user, dtype: int64"
      ]
     },
     "execution_count": 30,
     "metadata": {},
     "output_type": "execute_result"
    }
   ],
   "source": [
    "data_deleted.discipline_id_user.value_counts().head()"
   ]
  },
  {
   "cell_type": "code",
   "execution_count": 31,
   "metadata": {
    "collapsed": false
   },
   "outputs": [
    {
     "data": {
      "text/plain": [
       "17    132902\n",
       "5      69807\n",
       "21     54857\n",
       "3      54781\n",
       "13     53081\n",
       "Name: discipline_id_item, dtype: int64"
      ]
     },
     "execution_count": 31,
     "metadata": {},
     "output_type": "execute_result"
    }
   ],
   "source": [
    "data_deleted.discipline_id_item.value_counts().head()"
   ]
  },
  {
   "cell_type": "code",
   "execution_count": 32,
   "metadata": {
    "collapsed": false
   },
   "outputs": [
    {
     "name": "stdout",
     "output_type": "stream",
     "text": [
      "44.3604929036\n"
     ]
    }
   ],
   "source": [
    "# Remove the unknowns which are labelled as 0 and compute percentages\n",
    "subset1 = data_deleted[data_deleted.discipline_id_user!=0]\n",
    "n = float(len(subset1))\n",
    "print np.sum(subset1.discipline_id_item==subset1.discipline_id_user)/n*100.0"
   ]
  },
  {
   "cell_type": "markdown",
   "metadata": {},
   "source": [
    "Having a discpline match doesn't seem so important when deleting a job"
   ]
  },
  {
   "cell_type": "code",
   "execution_count": 33,
   "metadata": {
    "collapsed": false
   },
   "outputs": [
    {
     "name": "stdout",
     "output_type": "stream",
     "text": [
      "44.5489349968\n"
     ]
    }
   ],
   "source": [
    "# Remove the unknowns which are labelled as 0 and compute percentages\n",
    "subset2 = data_clicked[data_clicked.discipline_id_user!=0]\n",
    "n = float(len(subset2))\n",
    "print np.sum(subset2.discipline_id_item==subset2.discipline_id_user)/n*100.0"
   ]
  },
  {
   "cell_type": "markdown",
   "metadata": {},
   "source": [
    "It does not seem important either when clicking"
   ]
  },
  {
   "cell_type": "markdown",
   "metadata": {},
   "source": [
    "Are particular disciplines more popular or less popular?"
   ]
  },
  {
   "cell_type": "markdown",
   "metadata": {},
   "source": [
    "    1. Users"
   ]
  },
  {
   "cell_type": "code",
   "execution_count": 35,
   "metadata": {
    "collapsed": false
   },
   "outputs": [
    {
     "data": {
      "image/png": "[encoded data removed]",
      "text/plain": [
       "<matplotlib.figure.Figure at 0x108b8afd0>"
      ]
     },
     "metadata": {},
     "output_type": "display_data"
    }
   ],
   "source": [
    "discipline_deleted = users_not_interested[users_not_interested.discipline_id!=0].discipline_id.value_counts()/len(users_not_interested[users_not_interested.discipline_id!=0])*100\n",
    "discipline_clicked = users_interested[users_interested.discipline_id!=0].discipline_id.value_counts()/len(users_interested[users_interested.discipline_id!=0])*100\n",
    "df = pd.DataFrame({'discipline_deleted':discipline_deleted, 'discipline_clicked':discipline_clicked})\n",
    "df.plot(kind='bar', figsize=(15, 3), color=['green', 'blue']);"
   ]
  },
  {
   "cell_type": "markdown",
   "metadata": {},
   "source": [
    "    2. items"
   ]
  },
  {
   "cell_type": "code",
   "execution_count": 36,
   "metadata": {
    "collapsed": false
   },
   "outputs": [
    {
     "data": {
      "image/png": "[encoded data removed]",
      "text/plain": [
       "<matplotlib.figure.Figure at 0x190ff59d0>"
      ]
     },
     "metadata": {},
     "output_type": "display_data"
    }
   ],
   "source": [
    "discipline_deleted = items_not_interesting[items_not_interesting.discipline_id!=0].discipline_id.value_counts()/len(items_not_interesting[items_not_interesting.discipline_id!=0])*100\n",
    "discipline_clicked = items_interesting[items_interesting.discipline_id!=0].discipline_id.value_counts()/len(items_interesting[items_interesting.discipline_id!=0])*100\n",
    "df = pd.DataFrame({'discipline_deleted':discipline_deleted, 'discipline_clicked':discipline_clicked})\n",
    "df.plot(kind='bar', figsize=(15, 3), color=['green', 'blue']);"
   ]
  },
  {
   "cell_type": "code",
   "execution_count": 37,
   "metadata": {
    "collapsed": false
   },
   "outputs": [
    {
     "data": {
      "text/plain": [
       "17    19.861717\n",
       "5     19.641552\n",
       "4     11.334295\n",
       "3     10.519215\n",
       "21     9.328449\n",
       "16     6.342633\n",
       "11     4.931702\n",
       "1      3.904889\n",
       "13     2.623246\n",
       "6      2.306582\n",
       "8      2.039574\n",
       "23     1.324739\n",
       "18     1.167344\n",
       "15     0.896588\n",
       "20     0.872229\n",
       "7      0.864734\n",
       "14     0.789784\n",
       "19     0.381308\n",
       "22     0.375686\n",
       "2      0.314789\n",
       "10     0.167700\n",
       "12     0.011242\n",
       "Name: discipline_id_item, dtype: float64"
      ]
     },
     "execution_count": 37,
     "metadata": {},
     "output_type": "execute_result"
    }
   ],
   "source": [
    "idx = subset1.discipline_id_item==subset1.discipline_id_user\n",
    "subset1[idx].discipline_id_item.value_counts()/len(subset1[idx])*100"
   ]
  },
  {
   "cell_type": "code",
   "execution_count": 38,
   "metadata": {
    "collapsed": false
   },
   "outputs": [
    {
     "data": {
      "text/plain": [
       "5     22.311703\n",
       "17    17.276915\n",
       "3     16.667040\n",
       "16     8.482430\n",
       "21     5.881064\n",
       "11     4.877721\n",
       "4      4.716335\n",
       "1      3.920123\n",
       "13     2.843844\n",
       "6      2.568577\n",
       "23     1.924313\n",
       "7      1.536924\n",
       "8      1.511172\n",
       "18     1.345148\n",
       "15     1.175285\n",
       "14     1.052286\n",
       "20     0.693687\n",
       "22     0.369316\n",
       "19     0.348203\n",
       "2      0.337966\n",
       "10     0.137394\n",
       "12     0.022552\n",
       "Name: discipline_id_item, dtype: float64"
      ]
     },
     "execution_count": 38,
     "metadata": {},
     "output_type": "execute_result"
    }
   ],
   "source": [
    "idx = subset2.discipline_id_item==subset2.discipline_id_user\n",
    "subset2[idx].discipline_id_item.value_counts()/len(subset2[idx])*100"
   ]
  },
  {
   "cell_type": "markdown",
   "metadata": {},
   "source": [
    "Conclusions\n",
    "\n",
    "1. Both groips behave similar with the discipline id\n",
    "\n",
    "    "
   ]
  },
  {
   "cell_type": "markdown",
   "metadata": {},
   "source": [
    "## industry_id"
   ]
  },
  {
   "cell_type": "code",
   "execution_count": 39,
   "metadata": {
    "collapsed": false
   },
   "outputs": [
    {
     "data": {
      "text/plain": [
       "0     208269\n",
       "14     93644\n",
       "7      87239\n",
       "16     58702\n",
       "15     54801\n",
       "Name: industry_id_user, dtype: int64"
      ]
     },
     "execution_count": 39,
     "metadata": {},
     "output_type": "execute_result"
    }
   ],
   "source": [
    "data_deleted.industry_id_user.value_counts().head(n=5)"
   ]
  },
  {
   "cell_type": "code",
   "execution_count": 40,
   "metadata": {
    "collapsed": false
   },
   "outputs": [
    {
     "data": {
      "text/plain": [
       "16    200401\n",
       "7      94083\n",
       "3      63863\n",
       "20     61178\n",
       "9      44934\n",
       "Name: industry_id_item, dtype: int64"
      ]
     },
     "execution_count": 40,
     "metadata": {},
     "output_type": "execute_result"
    }
   ],
   "source": [
    "data_deleted.industry_id_item.value_counts().head(n=5)"
   ]
  },
  {
   "cell_type": "code",
   "execution_count": 41,
   "metadata": {
    "collapsed": false
   },
   "outputs": [
    {
     "data": {
      "text/plain": [
       "0     2562021\n",
       "20    1050441\n",
       "7      602675\n",
       "16     374684\n",
       "15     318846\n",
       "Name: industry_id_user, dtype: int64"
      ]
     },
     "execution_count": 41,
     "metadata": {},
     "output_type": "execute_result"
    }
   ],
   "source": [
    "data_clicked.industry_id_user.value_counts().head(n=5)"
   ]
  },
  {
   "cell_type": "code",
   "execution_count": 42,
   "metadata": {
    "collapsed": false
   },
   "outputs": [
    {
     "data": {
      "text/plain": [
       "16    1958620\n",
       "7      825677\n",
       "20     531491\n",
       "3      491474\n",
       "15     457167\n",
       "Name: industry_id_item, dtype: int64"
      ]
     },
     "execution_count": 42,
     "metadata": {},
     "output_type": "execute_result"
    }
   ],
   "source": [
    "data_clicked.industry_id_item.value_counts().head(n=5)"
   ]
  },
  {
   "cell_type": "code",
   "execution_count": 43,
   "metadata": {
    "collapsed": false
   },
   "outputs": [
    {
     "name": "stdout",
     "output_type": "stream",
     "text": [
      "19.8445459248\n"
     ]
    }
   ],
   "source": [
    "subset1 = data_deleted[data_deleted.industry_id_user!=0]\n",
    "n = float(len(subset1))\n",
    "print np.sum(subset1.industry_id_item==subset1.industry_id_user)/n*100.0"
   ]
  },
  {
   "cell_type": "markdown",
   "metadata": {},
   "source": [
    "Very few interactions of type delete have a match of industry_id"
   ]
  },
  {
   "cell_type": "code",
   "execution_count": 44,
   "metadata": {
    "collapsed": false
   },
   "outputs": [
    {
     "name": "stdout",
     "output_type": "stream",
     "text": [
      "22.1034636724\n"
     ]
    }
   ],
   "source": [
    "subset2 = data_clicked[data_clicked.industry_id_user!=0]\n",
    "n = float(len(subset2))\n",
    "print np.sum(subset2.industry_id_item==subset2.industry_id_user)/n*100.0"
   ]
  },
  {
   "cell_type": "markdown",
   "metadata": {},
   "source": [
    "similarly for interactions of type click, just a bit higher"
   ]
  },
  {
   "cell_type": "code",
   "execution_count": 45,
   "metadata": {
    "collapsed": false
   },
   "outputs": [
    {
     "data": {
      "image/png": "[encoded data removed]",
      "text/plain": [
       "<matplotlib.figure.Figure at 0x191ef5d50>"
      ]
     },
     "metadata": {},
     "output_type": "display_data"
    }
   ],
   "source": [
    "industry_deleted = users_not_interested[users_not_interested.industry_id!=0].industry_id.value_counts()/len(users_not_interested[users_not_interested.industry_id!=0])*100\n",
    "industry_clicked = users_interested[users_interested.industry_id!=0].industry_id.value_counts()/len(users_interested[users_interested.industry_id!=0])*100\n",
    "df = pd.DataFrame({'industry_deleted':industry_deleted, 'industry_clicked':industry_clicked})\n",
    "df.plot(kind='bar', figsize=(15, 3), color=['green', 'blue']);"
   ]
  },
  {
   "cell_type": "code",
   "execution_count": 46,
   "metadata": {
    "collapsed": false
   },
   "outputs": [
    {
     "data": {
      "image/png": "[encoded data removed]",
      "text/plain": [
       "<matplotlib.figure.Figure at 0x11c91b490>"
      ]
     },
     "metadata": {},
     "output_type": "display_data"
    }
   ],
   "source": [
    "industry_deleted = items_not_interesting[items_not_interesting.industry_id!=0].industry_id.value_counts()/len(items_not_interesting[items_not_interesting.industry_id!=0])*100\n",
    "industry_clicked = items_interesting[items_interesting.industry_id!=0].industry_id.value_counts()/len(items_interesting[items_interesting.industry_id!=0])*100\n",
    "df = pd.DataFrame({'industry_deleted':industry_deleted, 'industry_clicked':industry_clicked})\n",
    "df.plot(kind='bar', figsize=(15, 3), color=['green', 'blue']);"
   ]
  },
  {
   "cell_type": "markdown",
   "metadata": {},
   "source": [
    "Conclusions: \n",
    "\n",
    "    1. Industry_id match does not seem very relevant\n",
    "    2. Users from industries 7, 14 and 15 delete more than click"
   ]
  },
  {
   "cell_type": "markdown",
   "metadata": {},
   "source": [
    "## experience_n_entries_class"
   ]
  },
  {
   "cell_type": "code",
   "execution_count": 47,
   "metadata": {
    "collapsed": false
   },
   "outputs": [
    {
     "data": {
      "text/plain": [
       "3    57.131532\n",
       "1    22.480911\n",
       "2    20.387556\n",
       "Name: experience_n_entries_class, dtype: float64"
      ]
     },
     "execution_count": 47,
     "metadata": {},
     "output_type": "execute_result"
    }
   ],
   "source": [
    "data_deleted.experience_n_entries_class.value_counts()/float(len(data_deleted))*100"
   ]
  },
  {
   "cell_type": "code",
   "execution_count": 48,
   "metadata": {
    "collapsed": false
   },
   "outputs": [
    {
     "data": {
      "text/plain": [
       "3    43.667192\n",
       "1    32.874867\n",
       "2    23.457941\n",
       "Name: experience_n_entries_class, dtype: float64"
      ]
     },
     "execution_count": 48,
     "metadata": {},
     "output_type": "execute_result"
    }
   ],
   "source": [
    "data_clicked.experience_n_entries_class.value_counts()/float(len(data_clicked))*100"
   ]
  },
  {
   "cell_type": "markdown",
   "metadata": {},
   "source": [
    "Conclusions: \n",
    "\n",
    "    From the deleted interactions, 60% of them corresponded to users with more than 5 entries in CV (level=3). However, from the replied interactions, only 44% corresponded to them. It seems like people with a lot of job experiences is not so interested in changing jobs. "
   ]
  },
  {
   "cell_type": "markdown",
   "metadata": {},
   "source": [
    "## experience_years_experience & experience_years_in_current"
   ]
  },
  {
   "cell_type": "code",
   "execution_count": 49,
   "metadata": {
    "collapsed": false
   },
   "outputs": [
    {
     "data": {
      "text/plain": [
       "7    27.686574\n",
       "4    17.930725\n",
       "5    17.367004\n",
       "6    16.398397\n",
       "0    15.019230\n",
       "3     3.380199\n",
       "2     1.742784\n",
       "1     0.475086\n",
       "Name: experience_years_experience, dtype: float64"
      ]
     },
     "execution_count": 49,
     "metadata": {},
     "output_type": "execute_result"
    }
   ],
   "source": [
    "data_deleted.experience_years_experience.value_counts()/float(len(data_deleted))*100"
   ]
  },
  {
   "cell_type": "code",
   "execution_count": 50,
   "metadata": {
    "collapsed": false
   },
   "outputs": [
    {
     "data": {
      "text/plain": [
       "0    19.445058\n",
       "4    19.153834\n",
       "7    18.785034\n",
       "5    18.541545\n",
       "6    15.602417\n",
       "3     4.948179\n",
       "2     2.792145\n",
       "1     0.731788\n",
       "Name: experience_years_experience, dtype: float64"
      ]
     },
     "execution_count": 50,
     "metadata": {},
     "output_type": "execute_result"
    }
   ],
   "source": [
    "data_clicked.experience_years_experience.value_counts()/float(len(data_clicked))*100"
   ]
  },
  {
   "cell_type": "markdown",
   "metadata": {},
   "source": [
    "Conclusion:\n",
    "1. 30% of deletions occur with users with more than 7 years of experience\n",
    "2. Less than 4% of deletions occur with users with less than 4 years of experience"
   ]
  },
  {
   "cell_type": "code",
   "execution_count": 51,
   "metadata": {
    "collapsed": false
   },
   "outputs": [
    {
     "data": {
      "text/plain": [
       "2    27.089951\n",
       "1    17.595187\n",
       "0    16.884402\n",
       "4    14.832316\n",
       "3    12.911694\n",
       "5     5.368752\n",
       "6     2.793362\n",
       "7     2.524336\n",
       "Name: experience_years_in_current, dtype: float64"
      ]
     },
     "execution_count": 51,
     "metadata": {},
     "output_type": "execute_result"
    }
   ],
   "source": [
    "data_deleted.experience_years_in_current.value_counts()/float(len(data_deleted))*100"
   ]
  },
  {
   "cell_type": "code",
   "execution_count": 52,
   "metadata": {
    "collapsed": false
   },
   "outputs": [
    {
     "data": {
      "text/plain": [
       "2    26.083684\n",
       "0    22.184918\n",
       "4    14.186501\n",
       "3    13.581239\n",
       "1    13.410686\n",
       "5     5.376409\n",
       "6     3.089610\n",
       "7     2.086953\n",
       "Name: experience_years_in_current, dtype: float64"
      ]
     },
     "execution_count": 52,
     "metadata": {},
     "output_type": "execute_result"
    }
   ],
   "source": [
    "data_clicked.experience_years_in_current.value_counts()/float(len(data_clicked))*100"
   ]
  },
  {
   "cell_type": "markdown",
   "metadata": {},
   "source": [
    "Conclusion:\n",
    "    1. 27% of deletions occur when user has 2 years of experience in current job\n",
    "    2. At the same time 26% of replies happen when user has 2 years of experience at current job\n",
    "    3. Don't know what to do here..."
   ]
  },
  {
   "cell_type": "markdown",
   "metadata": {},
   "source": [
    "## edu_degree"
   ]
  },
  {
   "cell_type": "code",
   "execution_count": 53,
   "metadata": {
    "collapsed": false
   },
   "outputs": [
    {
     "data": {
      "text/plain": [
       "0    63.989925\n",
       "2    23.904608\n",
       "1     9.057969\n",
       "3     3.047497\n",
       "Name: edu_degree, dtype: float64"
      ]
     },
     "execution_count": 53,
     "metadata": {},
     "output_type": "execute_result"
    }
   ],
   "source": [
    "data_deleted.edu_degree.value_counts()/float(len(data_deleted))*100"
   ]
  },
  {
   "cell_type": "code",
   "execution_count": 54,
   "metadata": {
    "collapsed": false
   },
   "outputs": [
    {
     "data": {
      "text/plain": [
       "0    64.092137\n",
       "2    20.998157\n",
       "1    10.187345\n",
       "3     4.722361\n",
       "Name: edu_degree, dtype: float64"
      ]
     },
     "execution_count": 54,
     "metadata": {},
     "output_type": "execute_result"
    }
   ],
   "source": [
    "data_clicked.edu_degree.value_counts()/float(len(data_clicked))*100"
   ]
  },
  {
   "cell_type": "markdown",
   "metadata": {},
   "source": [
    "Conclusion:\n",
    "    1. Majority of users in both groups have not specifed the edu_degree "
   ]
  },
  {
   "cell_type": "markdown",
   "metadata": {},
   "source": [
    "## field of studies"
   ]
  },
  {
   "cell_type": "code",
   "execution_count": 55,
   "metadata": {
    "collapsed": false
   },
   "outputs": [],
   "source": [
    "# Count how many times each field of study appears\n",
    "field_of_studies_deleted = data_deleted.edu_fieldofstudies.apply(lambda x: list(x))\n",
    "field_of_studies_replied = data_clicked.edu_fieldofstudies.apply(lambda x: list(x))"
   ]
  },
  {
   "cell_type": "code",
   "execution_count": 56,
   "metadata": {
    "collapsed": false,
    "scrolled": false
   },
   "outputs": [],
   "source": [
    "import itertools\n",
    "field_of_studies_deleted = list(itertools.chain.from_iterable(field_of_studies_deleted.values.flatten()))\n",
    "field_of_studies_replied = list(itertools.chain.from_iterable(field_of_studies_replied.values.flatten()))"
   ]
  },
  {
   "cell_type": "code",
   "execution_count": 57,
   "metadata": {
    "collapsed": false
   },
   "outputs": [
    {
     "data": {
      "text/plain": [
       "{'0': 45.48507260126306,\n",
       " '1': 0.3139549011345806,\n",
       " '2': 4.928019150085695,\n",
       " '3': 13.625952915812523,\n",
       " '4': 1.8669265508389796,\n",
       " '5': 8.750410377443846,\n",
       " '6': 0.9248033419587994,\n",
       " '7': 5.759502015050188,\n",
       " '8': 17.374411576909257,\n",
       " '9': 0.9709465695030749}"
      ]
     },
     "execution_count": 57,
     "metadata": {},
     "output_type": "execute_result"
    }
   ],
   "source": [
    "from collections import Counter\n",
    "{k: v/float(len(field_of_studies_deleted))*100 for k, v in dict(Counter(field_of_studies_deleted)).items()}"
   ]
  },
  {
   "cell_type": "code",
   "execution_count": 58,
   "metadata": {
    "collapsed": false
   },
   "outputs": [
    {
     "data": {
      "text/plain": [
       "{'0': 49.518907397173756,\n",
       " '1': 0.36990330918065084,\n",
       " '2': 4.237563542378176,\n",
       " '3': 12.465131924445924,\n",
       " '4': 1.5777525305398141,\n",
       " '5': 8.06520194548656,\n",
       " '6': 0.7744189798208971,\n",
       " '7': 4.136774432709437,\n",
       " '8': 18.02886651724268,\n",
       " '9': 0.8254794210221011}"
      ]
     },
     "execution_count": 58,
     "metadata": {},
     "output_type": "execute_result"
    }
   ],
   "source": [
    "{k: v/float(len(field_of_studies_replied))*100 for k, v in dict(Counter(field_of_studies_replied)).items()}"
   ]
  },
  {
   "cell_type": "markdown",
   "metadata": {},
   "source": [
    "Conclusions: \n",
    "    1. the distribution of field of studies is very similar between the two groups"
   ]
  },
  {
   "cell_type": "markdown",
   "metadata": {},
   "source": [
    "## WTCJ"
   ]
  },
  {
   "cell_type": "code",
   "execution_count": 59,
   "metadata": {
    "collapsed": false
   },
   "outputs": [
    {
     "data": {
      "text/plain": [
       "1    75.492245\n",
       "0    24.507755\n",
       "Name: wtcj, dtype: float64"
      ]
     },
     "execution_count": 59,
     "metadata": {},
     "output_type": "execute_result"
    }
   ],
   "source": [
    "data_deleted.wtcj.value_counts()/len(data_deleted)*100"
   ]
  },
  {
   "cell_type": "code",
   "execution_count": 60,
   "metadata": {
    "collapsed": false
   },
   "outputs": [
    {
     "data": {
      "text/plain": [
       "1    79.79441\n",
       "0    20.20559\n",
       "Name: wtcj, dtype: float64"
      ]
     },
     "execution_count": 60,
     "metadata": {},
     "output_type": "execute_result"
    }
   ],
   "source": [
    "data_clicked.wtcj.value_counts()/len(data_clicked)*100"
   ]
  },
  {
   "cell_type": "markdown",
   "metadata": {},
   "source": [
    "Conclusion:\n",
    "    1. There is not a lot of difference between both groups, however there is slghtly more willingness to change jobs among the users who have clicked, compared to the ones who deleted"
   ]
  },
  {
   "cell_type": "markdown",
   "metadata": {},
   "source": [
    "## premium"
   ]
  },
  {
   "cell_type": "code",
   "execution_count": 61,
   "metadata": {
    "collapsed": false
   },
   "outputs": [
    {
     "data": {
      "text/plain": [
       "0    73.381589\n",
       "1    26.618411\n",
       "Name: premium, dtype: float64"
      ]
     },
     "execution_count": 61,
     "metadata": {},
     "output_type": "execute_result"
    }
   ],
   "source": [
    "data_deleted.premium.value_counts()/len(data_deleted)*100"
   ]
  },
  {
   "cell_type": "code",
   "execution_count": 62,
   "metadata": {
    "collapsed": false
   },
   "outputs": [
    {
     "data": {
      "text/plain": [
       "0    80.763728\n",
       "1    19.236272\n",
       "Name: premium, dtype: float64"
      ]
     },
     "execution_count": 62,
     "metadata": {},
     "output_type": "execute_result"
    }
   ],
   "source": [
    "data_clicked.premium.value_counts()/len(data_clicked)*100"
   ]
  },
  {
   "cell_type": "markdown",
   "metadata": {},
   "source": [
    "Conclusion:\n",
    "1. Not much difference, but it seems that users who click normally are not premium"
   ]
  },
  {
   "cell_type": "markdown",
   "metadata": {},
   "source": [
    "## employment"
   ]
  },
  {
   "cell_type": "code",
   "execution_count": 63,
   "metadata": {
    "collapsed": false
   },
   "outputs": [
    {
     "data": {
      "text/plain": [
       "1    95.619285\n",
       "2     2.204823\n",
       "3     1.083479\n",
       "4     1.064617\n",
       "0     0.027796\n",
       "Name: employment, dtype: float64"
      ]
     },
     "execution_count": 63,
     "metadata": {},
     "output_type": "execute_result"
    }
   ],
   "source": [
    "data_deleted.employment.value_counts()/float(len(data_deleted))*100"
   ]
  },
  {
   "cell_type": "code",
   "execution_count": 64,
   "metadata": {
    "collapsed": false
   },
   "outputs": [
    {
     "data": {
      "text/plain": [
       "1    91.703882\n",
       "2     5.706058\n",
       "3     1.519211\n",
       "4     1.050940\n",
       "0     0.019909\n",
       "Name: employment, dtype: float64"
      ]
     },
     "execution_count": 64,
     "metadata": {},
     "output_type": "execute_result"
    }
   ],
   "source": [
    "data_clicked.employment.value_counts()/float(len(data_clicked))*100"
   ]
  },
  {
   "cell_type": "markdown",
   "metadata": {},
   "source": [
    "Conclusions: \n",
    "    1. Both groups have majority of jobs full time"
   ]
  },
  {
   "cell_type": "markdown",
   "metadata": {},
   "source": [
    "## title & tag"
   ]
  },
  {
   "cell_type": "code",
   "execution_count": 65,
   "metadata": {
    "collapsed": false
   },
   "outputs": [
    {
     "data": {
      "text/plain": [
       "0    {3431606, 4330980, 579315, 3614810, 2714822}\n",
       "1    {3431606, 4330980, 579315, 3614810, 2714822}\n",
       "2    {3431606, 4330980, 579315, 3614810, 2714822}\n",
       "3    {579315, 3431606, 4330980, 3614810, 2714822}\n",
       "4    {579315, 3431606, 4330980, 3614810, 2714822}\n",
       "Name: title, dtype: object"
      ]
     },
     "execution_count": 65,
     "metadata": {},
     "output_type": "execute_result"
    }
   ],
   "source": [
    "data_deleted.title.head()"
   ]
  },
  {
   "cell_type": "code",
   "execution_count": 66,
   "metadata": {
    "collapsed": false
   },
   "outputs": [
    {
     "data": {
      "text/plain": [
       "0    {3275701, 4050466, 1339355, 910844, 258464, 41...\n",
       "1    {2580855, 2377066, 261047, 1820491, 4098162, 3...\n",
       "2    {2580855, 2377066, 261047, 1820491, 4098162, 3...\n",
       "3    {2580855, 2377066, 261047, 1820491, 4098162, 3...\n",
       "4    {2580855, 2377066, 261047, 1820491, 4098162, 3...\n",
       "Name: tags, dtype: object"
      ]
     },
     "execution_count": 66,
     "metadata": {},
     "output_type": "execute_result"
    }
   ],
   "source": [
    "data_clicked.tags.head()"
   ]
  },
  {
   "cell_type": "code",
   "execution_count": 67,
   "metadata": {
    "collapsed": false
   },
   "outputs": [],
   "source": [
    "def intersect(x):\n",
    "    return x[0]&x[1]"
   ]
  },
  {
   "cell_type": "markdown",
   "metadata": {},
   "source": [
    "Find the intersection between titles and tags"
   ]
  },
  {
   "cell_type": "code",
   "execution_count": 68,
   "metadata": {
    "collapsed": false
   },
   "outputs": [],
   "source": [
    "data_deleted['title_tag_match'] = data_deleted[['title', 'tags']].apply(intersect, axis=1)\n",
    "data_clicked['title_tag_match'] = data_clicked[['title', 'tags']].apply(intersect, axis=1)"
   ]
  },
  {
   "cell_type": "code",
   "execution_count": 69,
   "metadata": {
    "collapsed": false
   },
   "outputs": [
    {
     "data": {
      "text/plain": [
       "3     20.790316\n",
       "1     20.053153\n",
       "2     17.702968\n",
       "4     12.016264\n",
       "5      9.706638\n",
       "6      6.698282\n",
       "7      4.402555\n",
       "9      2.786129\n",
       "8      2.742024\n",
       "10     0.974138\n",
       "11     0.922801\n",
       "12     0.684974\n",
       "14     0.264630\n",
       "13     0.126642\n",
       "15     0.072752\n",
       "17     0.030491\n",
       "16     0.017443\n",
       "18     0.005673\n",
       "19     0.001276\n",
       "22     0.000709\n",
       "20     0.000142\n",
       "Name: num_titles, dtype: float64"
      ]
     },
     "execution_count": 69,
     "metadata": {},
     "output_type": "execute_result"
    }
   ],
   "source": [
    "# Count how many titles\n",
    "data_deleted['num_titles'] = data_deleted.title.apply(len)\n",
    "data_deleted.num_titles.value_counts()/float(len(data_deleted))*100"
   ]
  },
  {
   "cell_type": "code",
   "execution_count": 70,
   "metadata": {
    "collapsed": false
   },
   "outputs": [
    {
     "data": {
      "text/plain": [
       "2     22.841679\n",
       "1     21.649878\n",
       "3     17.315025\n",
       "4     10.648900\n",
       "6      9.319619\n",
       "5      7.931025\n",
       "8      3.460811\n",
       "7      2.907419\n",
       "9      1.161530\n",
       "14     0.894099\n",
       "10     0.792345\n",
       "12     0.705178\n",
       "11     0.244824\n",
       "13     0.061640\n",
       "15     0.038128\n",
       "17     0.010733\n",
       "16     0.009236\n",
       "18     0.005989\n",
       "19     0.000786\n",
       "20     0.000593\n",
       "22     0.000504\n",
       "23     0.000044\n",
       "29     0.000015\n",
       "Name: num_titles, dtype: float64"
      ]
     },
     "execution_count": 70,
     "metadata": {},
     "output_type": "execute_result"
    }
   ],
   "source": [
    "# Count how many titles\n",
    "data_clicked['num_titles'] = data_clicked.title.apply(len)\n",
    "data_clicked.num_titles.value_counts()/float(len(data_clicked))*100"
   ]
  },
  {
   "cell_type": "markdown",
   "metadata": {
    "collapsed": false
   },
   "source": [
    "Conclusions:\n",
    "\n",
    "1. Not much to extract... at the moment"
   ]
  },
  {
   "cell_type": "markdown",
   "metadata": {},
   "source": [
    "## is_payed"
   ]
  },
  {
   "cell_type": "code",
   "execution_count": 71,
   "metadata": {
    "collapsed": false
   },
   "outputs": [
    {
     "data": {
      "text/plain": [
       "1    69.524035\n",
       "0    30.475965\n",
       "Name: is_payed, dtype: float64"
      ]
     },
     "execution_count": 71,
     "metadata": {},
     "output_type": "execute_result"
    }
   ],
   "source": [
    "data_deleted.is_payed.value_counts()/float(len(data_deleted))*100"
   ]
  },
  {
   "cell_type": "code",
   "execution_count": 72,
   "metadata": {
    "collapsed": false
   },
   "outputs": [
    {
     "data": {
      "text/plain": [
       "1    56.663094\n",
       "0    43.336906\n",
       "Name: is_payed, dtype: float64"
      ]
     },
     "execution_count": 72,
     "metadata": {},
     "output_type": "execute_result"
    }
   ],
   "source": [
    "data_clicked.is_payed.value_counts()/float(len(data_clicked))*100"
   ]
  },
  {
   "cell_type": "markdown",
   "metadata": {
    "collapsed": true
   },
   "source": [
    "Conclusions:\n",
    "    1. It seems that for deleted interactions, 70 % of the posted jobs were payed for, however, when the user clicked to the posting only 56% of them were payed for."
   ]
  },
  {
   "cell_type": "markdown",
   "metadata": {},
   "source": [
    "## Geography"
   ]
  },
  {
   "cell_type": "code",
   "execution_count": 73,
   "metadata": {
    "collapsed": false
   },
   "outputs": [
    {
     "name": "stdout",
     "output_type": "stream",
     "text": [
      "82.8938491386\n"
     ]
    }
   ],
   "source": [
    "n = float(len(data_clicked))\n",
    "print np.sum(data_clicked.country_item==data_clicked.country_user)/n*100.0"
   ]
  },
  {
   "cell_type": "code",
   "execution_count": 74,
   "metadata": {
    "collapsed": false
   },
   "outputs": [
    {
     "name": "stdout",
     "output_type": "stream",
     "text": [
      "86.1947198838\n"
     ]
    }
   ],
   "source": [
    "n = float(len(data_deleted))\n",
    "print np.sum(data_deleted.country_item==data_deleted.country_user)/n*100.0"
   ]
  },
  {
   "cell_type": "code",
   "execution_count": 75,
   "metadata": {
    "collapsed": false
   },
   "outputs": [
    {
     "name": "stdout",
     "output_type": "stream",
     "text": [
      "24.8478098479\n"
     ]
    }
   ],
   "source": [
    "n = float(len(data_clicked))\n",
    "print np.sum(data_clicked.region_item==data_clicked.region_user)/n*100.0"
   ]
  },
  {
   "cell_type": "code",
   "execution_count": 76,
   "metadata": {
    "collapsed": false
   },
   "outputs": [
    {
     "name": "stdout",
     "output_type": "stream",
     "text": [
      "22.4050395952\n"
     ]
    }
   ],
   "source": [
    "n = float(len(data_deleted))\n",
    "print np.sum(data_deleted.region_item==data_deleted.region_user)/n*100.0"
   ]
  },
  {
   "cell_type": "markdown",
   "metadata": {},
   "source": [
    "# Conclusions"
   ]
  },
  {
   "cell_type": "markdown",
   "metadata": {},
   "source": [
    "I still need to think but some of the conclusions I have extracted here I believe can be converted into features for our classification problem. I will revise this later"
   ]
  },
  {
   "cell_type": "markdown",
   "metadata": {},
   "source": [
    "# Possible extra features:"
   ]
  },
  {
   "cell_type": "markdown",
   "metadata": {},
   "source": [
    "- career level match\n",
    "- career level item < career level user\n",
    "- industry match\n",
    "- user industry is 7, 14, 23\n",
    "- region and country match"
   ]
  },
  {
   "cell_type": "code",
   "execution_count": null,
   "metadata": {
    "collapsed": true
   },
   "outputs": [],
   "source": []
  }
 ],
 "metadata": {
  "kernelspec": {
   "display_name": "Python 2",
   "language": "python",
   "name": "python2"
  },
  "language_info": {
   "codemirror_mode": {
    "name": "ipython",
    "version": 2
   },
   "file_extension": ".py",
   "mimetype": "text/x-python",
   "name": "python",
   "nbconvert_exporter": "python",
   "pygments_lexer": "ipython2",
   "version": "2.7.12"
  }
 },
 "nbformat": 4,
 "nbformat_minor": 1
}
