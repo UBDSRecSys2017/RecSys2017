{
 "cells": [
  {
   "cell_type": "markdown",
   "metadata": {},
   "source": [
    "# CLICKED VS SHOWED INTERACTIONS"
   ]
  },
  {
   "cell_type": "markdown",
   "metadata": {},
   "source": [
    "## Simple comparison between the pairs (user, item) that have had interaction 0 (showed) versus interaction 1 (clicked) during last week"
   ]
  },
  {
   "cell_type": "markdown",
   "metadata": {},
   "source": [
    "This notebook tries to get insights into why users delete job notifications and why they click on job offers:"
   ]
  },
  {
   "cell_type": "code",
   "execution_count": 1,
   "metadata": {
    "collapsed": false
   },
   "outputs": [],
   "source": [
    "import pandas as pd\n",
    "import numpy as np\n",
    "import matplotlib.pyplot as plt\n",
    "import seaborn as sns\n",
    "% matplotlib inline"
   ]
  },
  {
   "cell_type": "code",
   "execution_count": 2,
   "metadata": {
    "collapsed": false
   },
   "outputs": [
    {
     "data": {
      "text/html": [
       "<div>\n",
       "<table border=\"1\" class=\"dataframe\">\n",
       "  <thead>\n",
       "    <tr style=\"text-align: right;\">\n",
       "      <th></th>\n",
       "      <th>user_id</th>\n",
       "      <th>item_id</th>\n",
       "      <th>interaction_type</th>\n",
       "      <th>created_at</th>\n",
       "      <th>created_at_date</th>\n",
       "    </tr>\n",
       "  </thead>\n",
       "  <tbody>\n",
       "    <tr>\n",
       "      <th>1</th>\n",
       "      <td>1934123</td>\n",
       "      <td>140</td>\n",
       "      <td>1</td>\n",
       "      <td>1486388563</td>\n",
       "      <td>2017-02-06 13:42:43</td>\n",
       "    </tr>\n",
       "    <tr>\n",
       "      <th>4</th>\n",
       "      <td>1635596</td>\n",
       "      <td>310</td>\n",
       "      <td>1</td>\n",
       "      <td>1486370081</td>\n",
       "      <td>2017-02-06 08:34:41</td>\n",
       "    </tr>\n",
       "    <tr>\n",
       "      <th>40</th>\n",
       "      <td>1341483</td>\n",
       "      <td>680</td>\n",
       "      <td>1</td>\n",
       "      <td>1486104601</td>\n",
       "      <td>2017-02-03 06:50:01</td>\n",
       "    </tr>\n",
       "    <tr>\n",
       "      <th>45</th>\n",
       "      <td>2335852</td>\n",
       "      <td>680</td>\n",
       "      <td>1</td>\n",
       "      <td>1486377314</td>\n",
       "      <td>2017-02-06 10:35:14</td>\n",
       "    </tr>\n",
       "    <tr>\n",
       "      <th>48</th>\n",
       "      <td>287404</td>\n",
       "      <td>680</td>\n",
       "      <td>2</td>\n",
       "      <td>1486079907</td>\n",
       "      <td>2017-02-02 23:58:27</td>\n",
       "    </tr>\n",
       "  </tbody>\n",
       "</table>\n",
       "</div>"
      ],
      "text/plain": [
       "    user_id  item_id interaction_type  created_at     created_at_date\n",
       "1   1934123      140                1  1486388563 2017-02-06 13:42:43\n",
       "4   1635596      310                1  1486370081 2017-02-06 08:34:41\n",
       "40  1341483      680                1  1486104601 2017-02-03 06:50:01\n",
       "45  2335852      680                1  1486377314 2017-02-06 10:35:14\n",
       "48   287404      680                2  1486079907 2017-02-02 23:58:27"
      ]
     },
     "execution_count": 2,
     "metadata": {},
     "output_type": "execute_result"
    }
   ],
   "source": [
    "# Import interactions last week\n",
    "folderData = 'data/'\n",
    "interactions = pd.read_pickle(folderData + 'interactionsDataLastWeek.pkl')\n",
    "interactions.head()"
   ]
  },
  {
   "cell_type": "code",
   "execution_count": 6,
   "metadata": {
    "collapsed": false
   },
   "outputs": [
    {
     "data": {
      "text/html": [
       "<div>\n",
       "<table border=\"1\" class=\"dataframe\">\n",
       "  <thead>\n",
       "    <tr style=\"text-align: right;\">\n",
       "      <th></th>\n",
       "      <th>user_id</th>\n",
       "      <th>item_id</th>\n",
       "      <th>interaction_type</th>\n",
       "      <th>created_at</th>\n",
       "      <th>created_at_date</th>\n",
       "    </tr>\n",
       "  </thead>\n",
       "  <tbody>\n",
       "    <tr>\n",
       "      <th>0</th>\n",
       "      <td>1987803</td>\n",
       "      <td>310</td>\n",
       "      <td>0</td>\n",
       "      <td>1486021700</td>\n",
       "      <td>2017-02-02 07:48:20</td>\n",
       "    </tr>\n",
       "    <tr>\n",
       "      <th>1</th>\n",
       "      <td>1392038</td>\n",
       "      <td>310</td>\n",
       "      <td>0</td>\n",
       "      <td>1486035076</td>\n",
       "      <td>2017-02-02 11:31:16</td>\n",
       "    </tr>\n",
       "    <tr>\n",
       "      <th>2</th>\n",
       "      <td>654311</td>\n",
       "      <td>890</td>\n",
       "      <td>0</td>\n",
       "      <td>1486102408</td>\n",
       "      <td>2017-02-03 06:13:28</td>\n",
       "    </tr>\n",
       "    <tr>\n",
       "      <th>3</th>\n",
       "      <td>654311</td>\n",
       "      <td>890</td>\n",
       "      <td>0</td>\n",
       "      <td>1486102435</td>\n",
       "      <td>2017-02-03 06:13:55</td>\n",
       "    </tr>\n",
       "    <tr>\n",
       "      <th>4</th>\n",
       "      <td>496972</td>\n",
       "      <td>890</td>\n",
       "      <td>0</td>\n",
       "      <td>1486023859</td>\n",
       "      <td>2017-02-02 08:24:19</td>\n",
       "    </tr>\n",
       "  </tbody>\n",
       "</table>\n",
       "</div>"
      ],
      "text/plain": [
       "   user_id  item_id interaction_type  created_at     created_at_date\n",
       "0  1987803      310                0  1486021700 2017-02-02 07:48:20\n",
       "1  1392038      310                0  1486035076 2017-02-02 11:31:16\n",
       "2   654311      890                0  1486102408 2017-02-03 06:13:28\n",
       "3   654311      890                0  1486102435 2017-02-03 06:13:55\n",
       "4   496972      890                0  1486023859 2017-02-02 08:24:19"
      ]
     },
     "execution_count": 6,
     "metadata": {},
     "output_type": "execute_result"
    }
   ],
   "source": [
    "# Select the interactions of type showed\n",
    "showed_interactions = interactions[interactions.interaction_type==0]\n",
    "showed_interactions.reset_index(inplace=True, drop=True)\n",
    "showed_interactions.head()"
   ]
  },
  {
   "cell_type": "code",
   "execution_count": 8,
   "metadata": {
    "collapsed": false
   },
   "outputs": [
    {
     "data": {
      "text/html": [
       "<div>\n",
       "<table border=\"1\" class=\"dataframe\">\n",
       "  <thead>\n",
       "    <tr style=\"text-align: right;\">\n",
       "      <th></th>\n",
       "      <th>user_id</th>\n",
       "      <th>item_id</th>\n",
       "      <th>interaction_type</th>\n",
       "      <th>created_at</th>\n",
       "      <th>created_at_date</th>\n",
       "    </tr>\n",
       "  </thead>\n",
       "  <tbody>\n",
       "    <tr>\n",
       "      <th>0</th>\n",
       "      <td>1934123</td>\n",
       "      <td>140</td>\n",
       "      <td>1</td>\n",
       "      <td>1486388563</td>\n",
       "      <td>2017-02-06 13:42:43</td>\n",
       "    </tr>\n",
       "    <tr>\n",
       "      <th>1</th>\n",
       "      <td>1635596</td>\n",
       "      <td>310</td>\n",
       "      <td>1</td>\n",
       "      <td>1486370081</td>\n",
       "      <td>2017-02-06 08:34:41</td>\n",
       "    </tr>\n",
       "    <tr>\n",
       "      <th>2</th>\n",
       "      <td>1341483</td>\n",
       "      <td>680</td>\n",
       "      <td>1</td>\n",
       "      <td>1486104601</td>\n",
       "      <td>2017-02-03 06:50:01</td>\n",
       "    </tr>\n",
       "    <tr>\n",
       "      <th>3</th>\n",
       "      <td>2335852</td>\n",
       "      <td>680</td>\n",
       "      <td>1</td>\n",
       "      <td>1486377314</td>\n",
       "      <td>2017-02-06 10:35:14</td>\n",
       "    </tr>\n",
       "    <tr>\n",
       "      <th>4</th>\n",
       "      <td>287404</td>\n",
       "      <td>680</td>\n",
       "      <td>1</td>\n",
       "      <td>1485911258</td>\n",
       "      <td>2017-02-01 01:07:38</td>\n",
       "    </tr>\n",
       "  </tbody>\n",
       "</table>\n",
       "</div>"
      ],
      "text/plain": [
       "   user_id  item_id interaction_type  created_at     created_at_date\n",
       "0  1934123      140                1  1486388563 2017-02-06 13:42:43\n",
       "1  1635596      310                1  1486370081 2017-02-06 08:34:41\n",
       "2  1341483      680                1  1486104601 2017-02-03 06:50:01\n",
       "3  2335852      680                1  1486377314 2017-02-06 10:35:14\n",
       "4   287404      680                1  1485911258 2017-02-01 01:07:38"
      ]
     },
     "execution_count": 8,
     "metadata": {},
     "output_type": "execute_result"
    }
   ],
   "source": [
    "# Select the interactions of type clicked\n",
    "clicked_interactions = interactions[interactions.interaction_type==1]\n",
    "clicked_interactions.reset_index(inplace=True, drop=True)\n",
    "clicked_interactions.head()"
   ]
  },
  {
   "cell_type": "markdown",
   "metadata": {},
   "source": [
    "Do we have (user, item) pairs that are common between both groups?"
   ]
  },
  {
   "cell_type": "code",
   "execution_count": 9,
   "metadata": {
    "collapsed": true
   },
   "outputs": [],
   "source": [
    "intersection = pd.merge(showed_interactions, clicked_interactions, how='inner', on=['user_id', 'item_id'])"
   ]
  },
  {
   "cell_type": "code",
   "execution_count": 10,
   "metadata": {
    "collapsed": false
   },
   "outputs": [
    {
     "data": {
      "text/html": [
       "<div>\n",
       "<table border=\"1\" class=\"dataframe\">\n",
       "  <thead>\n",
       "    <tr style=\"text-align: right;\">\n",
       "      <th></th>\n",
       "      <th>user_id</th>\n",
       "      <th>item_id</th>\n",
       "      <th>interaction_type_x</th>\n",
       "      <th>created_at_x</th>\n",
       "      <th>created_at_date_x</th>\n",
       "      <th>interaction_type_y</th>\n",
       "      <th>created_at_y</th>\n",
       "      <th>created_at_date_y</th>\n",
       "    </tr>\n",
       "  </thead>\n",
       "  <tbody>\n",
       "    <tr>\n",
       "      <th>0</th>\n",
       "      <td>1560234</td>\n",
       "      <td>765141</td>\n",
       "      <td>0</td>\n",
       "      <td>1486026062</td>\n",
       "      <td>2017-02-02 09:01:02</td>\n",
       "      <td>1</td>\n",
       "      <td>1486072257</td>\n",
       "      <td>2017-02-02 21:50:57</td>\n",
       "    </tr>\n",
       "    <tr>\n",
       "      <th>1</th>\n",
       "      <td>1631970</td>\n",
       "      <td>942012</td>\n",
       "      <td>0</td>\n",
       "      <td>1486076194</td>\n",
       "      <td>2017-02-02 22:56:34</td>\n",
       "      <td>1</td>\n",
       "      <td>1486109253</td>\n",
       "      <td>2017-02-03 08:07:33</td>\n",
       "    </tr>\n",
       "    <tr>\n",
       "      <th>2</th>\n",
       "      <td>1631970</td>\n",
       "      <td>942012</td>\n",
       "      <td>0</td>\n",
       "      <td>1486076108</td>\n",
       "      <td>2017-02-02 22:55:08</td>\n",
       "      <td>1</td>\n",
       "      <td>1486109253</td>\n",
       "      <td>2017-02-03 08:07:33</td>\n",
       "    </tr>\n",
       "    <tr>\n",
       "      <th>3</th>\n",
       "      <td>1223390</td>\n",
       "      <td>153313</td>\n",
       "      <td>0</td>\n",
       "      <td>1486238232</td>\n",
       "      <td>2017-02-04 19:57:12</td>\n",
       "      <td>1</td>\n",
       "      <td>1486037910</td>\n",
       "      <td>2017-02-02 12:18:30</td>\n",
       "    </tr>\n",
       "    <tr>\n",
       "      <th>4</th>\n",
       "      <td>1223390</td>\n",
       "      <td>153313</td>\n",
       "      <td>0</td>\n",
       "      <td>1486025844</td>\n",
       "      <td>2017-02-02 08:57:24</td>\n",
       "      <td>1</td>\n",
       "      <td>1486037910</td>\n",
       "      <td>2017-02-02 12:18:30</td>\n",
       "    </tr>\n",
       "  </tbody>\n",
       "</table>\n",
       "</div>"
      ],
      "text/plain": [
       "   user_id  item_id  interaction_type_x  created_at_x   created_at_date_x  \\\n",
       "0  1560234   765141                   0    1486026062 2017-02-02 09:01:02   \n",
       "1  1631970   942012                   0    1486076194 2017-02-02 22:56:34   \n",
       "2  1631970   942012                   0    1486076108 2017-02-02 22:55:08   \n",
       "3  1223390   153313                   0    1486238232 2017-02-04 19:57:12   \n",
       "4  1223390   153313                   0    1486025844 2017-02-02 08:57:24   \n",
       "\n",
       "   interaction_type_y  created_at_y   created_at_date_y  \n",
       "0                   1    1486072257 2017-02-02 21:50:57  \n",
       "1                   1    1486109253 2017-02-03 08:07:33  \n",
       "2                   1    1486109253 2017-02-03 08:07:33  \n",
       "3                   1    1486037910 2017-02-02 12:18:30  \n",
       "4                   1    1486037910 2017-02-02 12:18:30  "
      ]
     },
     "execution_count": 10,
     "metadata": {},
     "output_type": "execute_result"
    }
   ],
   "source": [
    "intersection.head()"
   ]
  },
  {
   "cell_type": "markdown",
   "metadata": {},
   "source": [
    "Drop the intersections from showed_interactions and clicked_interactions"
   ]
  },
  {
   "cell_type": "code",
   "execution_count": 11,
   "metadata": {
    "collapsed": false
   },
   "outputs": [],
   "source": [
    "idx = showed_interactions['user_id'].isin(intersection['user_id']) & showed_interactions['item_id'].isin(intersection['item_id'])\n",
    "showed_interactions = showed_interactions[~idx]"
   ]
  },
  {
   "cell_type": "code",
   "execution_count": 12,
   "metadata": {
    "collapsed": true
   },
   "outputs": [],
   "source": [
    "idx = clicked_interactions['user_id'].isin(intersection['user_id']) & clicked_interactions['item_id'].isin(intersection['item_id'])\n",
    "clicked_interactions = clicked_interactions[~idx]"
   ]
  },
  {
   "cell_type": "markdown",
   "metadata": {},
   "source": [
    "From the intersections, let's check which interaction was last, in order to add it again to the corresponding variable. We assume that someone who first deletes and then clicks, is like clicking, and if someone first clicks and then deletes, is like deleting."
   ]
  },
  {
   "cell_type": "code",
   "execution_count": 13,
   "metadata": {
    "collapsed": false
   },
   "outputs": [
    {
     "data": {
      "text/plain": [
       "True     13\n",
       "False    13\n",
       "dtype: int64"
      ]
     },
     "execution_count": 13,
     "metadata": {},
     "output_type": "execute_result"
    }
   ],
   "source": [
    "idx = intersection[['created_at_x', 'created_at_y']].max(axis=1)==intersection.created_at_x\n",
    "idx.value_counts()"
   ]
  },
  {
   "cell_type": "markdown",
   "metadata": {},
   "source": []
  },
  {
   "cell_type": "code",
   "execution_count": 14,
   "metadata": {
    "collapsed": false
   },
   "outputs": [],
   "source": [
    "aux = intersection.loc[idx, ['user_id', 'item_id', 'interaction_type_x','created_at_x']]\n",
    "aux.columns = ['user_id', 'item_id', 'interaction_type','created_at']\n",
    "showed_interactions = pd.concat([showed_interactions, aux], ignore_index=True)"
   ]
  },
  {
   "cell_type": "code",
   "execution_count": 15,
   "metadata": {
    "collapsed": false
   },
   "outputs": [],
   "source": [
    "aux = intersection.loc[~idx, ['user_id', 'item_id', 'interaction_type_y','created_at_y']]\n",
    "aux.columns = ['user_id', 'item_id', 'interaction_type','created_at']\n",
    "clicked_interactions = pd.concat([clicked_interactions, aux], ignore_index=True)"
   ]
  },
  {
   "cell_type": "markdown",
   "metadata": {},
   "source": [
    "Import all users and items data"
   ]
  },
  {
   "cell_type": "code",
   "execution_count": 16,
   "metadata": {
    "collapsed": true
   },
   "outputs": [],
   "source": [
    "# Import all users\n",
    "users = pd.read_csv(folderData + 'users.csv', sep='\\t')\n",
    "users.columns = ['user_id', 'jobroles', 'career_level', 'discipline_id', 'industry_id', 'country', 'region',\n",
    "                'experience_n_entries_class', 'experience_years_experience', 'experience_years_in_current',\n",
    "                'edu_degree', 'edu_fieldofstudies', 'wtcj', 'premium']"
   ]
  },
  {
   "cell_type": "code",
   "execution_count": 17,
   "metadata": {
    "collapsed": false
   },
   "outputs": [],
   "source": [
    "# Fill empties and transform the strings into a list\n",
    "users.jobroles = users.jobroles.fillna('0').apply(lambda str: set(str.split(',')))\n",
    "users.edu_fieldofstudies = users.edu_fieldofstudies.fillna('0').apply(lambda str: set(str.split(',')))"
   ]
  },
  {
   "cell_type": "code",
   "execution_count": 18,
   "metadata": {
    "collapsed": true
   },
   "outputs": [],
   "source": [
    "# Import all items\n",
    "items = pd.read_csv(folderData + 'items.csv', sep='\\t')\n",
    "items.columns = ['item_id', 'title', 'career_level', 'discipline_id', 'industry_id', 'country', 'is_payed', 'region',\n",
    "                'latitude', 'longitude', 'employment', 'tags', 'created_at']"
   ]
  },
  {
   "cell_type": "code",
   "execution_count": 19,
   "metadata": {
    "collapsed": false
   },
   "outputs": [],
   "source": [
    "# Fill empties and transform the strings into a list\n",
    "items.title = items.title.fillna('0').apply(lambda str: set(str.split(',')))\n",
    "items.tags = items.tags.fillna('0').apply(lambda str: set(str.split(',')))\n",
    "items['created_at_dt'] = pd.to_datetime(items.created_at,unit='s', errors='coerce')"
   ]
  },
  {
   "cell_type": "code",
   "execution_count": 20,
   "metadata": {
    "collapsed": false
   },
   "outputs": [
    {
     "data": {
      "text/html": [
       "<div>\n",
       "<table border=\"1\" class=\"dataframe\">\n",
       "  <thead>\n",
       "    <tr style=\"text-align: right;\">\n",
       "      <th></th>\n",
       "      <th>created_at_user</th>\n",
       "      <th>created_at_date</th>\n",
       "      <th>interaction_type</th>\n",
       "      <th>item_id</th>\n",
       "      <th>user_id</th>\n",
       "      <th>jobroles</th>\n",
       "      <th>career_level_user</th>\n",
       "      <th>discipline_id_user</th>\n",
       "      <th>industry_id_user</th>\n",
       "      <th>country_user</th>\n",
       "      <th>...</th>\n",
       "      <th>industry_id_item</th>\n",
       "      <th>country_item</th>\n",
       "      <th>is_payed</th>\n",
       "      <th>region_item</th>\n",
       "      <th>latitude</th>\n",
       "      <th>longitude</th>\n",
       "      <th>employment</th>\n",
       "      <th>tags</th>\n",
       "      <th>created_at_item</th>\n",
       "      <th>created_at_dt</th>\n",
       "    </tr>\n",
       "  </thead>\n",
       "  <tbody>\n",
       "    <tr>\n",
       "      <th>0</th>\n",
       "      <td>1486021700</td>\n",
       "      <td>2017-02-02 07:48:20</td>\n",
       "      <td>0</td>\n",
       "      <td>310</td>\n",
       "      <td>1987803</td>\n",
       "      <td>{1589722, 2087584}</td>\n",
       "      <td>0</td>\n",
       "      <td>0</td>\n",
       "      <td>8</td>\n",
       "      <td>at</td>\n",
       "      <td>...</td>\n",
       "      <td>9</td>\n",
       "      <td>at</td>\n",
       "      <td>0</td>\n",
       "      <td>0</td>\n",
       "      <td>47.1</td>\n",
       "      <td>15.5</td>\n",
       "      <td>1</td>\n",
       "      <td>{3989138, 2379175, 3671787, 1175363, 49361, 35...</td>\n",
       "      <td>1483138800</td>\n",
       "      <td>2016-12-30 23:00:00</td>\n",
       "    </tr>\n",
       "    <tr>\n",
       "      <th>1</th>\n",
       "      <td>1486035076</td>\n",
       "      <td>2017-02-02 11:31:16</td>\n",
       "      <td>0</td>\n",
       "      <td>310</td>\n",
       "      <td>1392038</td>\n",
       "      <td>{427470, 2994300}</td>\n",
       "      <td>3</td>\n",
       "      <td>0</td>\n",
       "      <td>16</td>\n",
       "      <td>at</td>\n",
       "      <td>...</td>\n",
       "      <td>9</td>\n",
       "      <td>at</td>\n",
       "      <td>0</td>\n",
       "      <td>0</td>\n",
       "      <td>47.1</td>\n",
       "      <td>15.5</td>\n",
       "      <td>1</td>\n",
       "      <td>{3989138, 2379175, 3671787, 1175363, 49361, 35...</td>\n",
       "      <td>1483138800</td>\n",
       "      <td>2016-12-30 23:00:00</td>\n",
       "    </tr>\n",
       "    <tr>\n",
       "      <th>2</th>\n",
       "      <td>1486021916</td>\n",
       "      <td>2017-02-02 07:51:56</td>\n",
       "      <td>0</td>\n",
       "      <td>349770</td>\n",
       "      <td>1987803</td>\n",
       "      <td>{1589722, 2087584}</td>\n",
       "      <td>0</td>\n",
       "      <td>0</td>\n",
       "      <td>8</td>\n",
       "      <td>at</td>\n",
       "      <td>...</td>\n",
       "      <td>23</td>\n",
       "      <td>de</td>\n",
       "      <td>1</td>\n",
       "      <td>9</td>\n",
       "      <td>51.2</td>\n",
       "      <td>6.8</td>\n",
       "      <td>1</td>\n",
       "      <td>{1935579, 202201, 3606563, 2854608, 647898, 21...</td>\n",
       "      <td>1481670000</td>\n",
       "      <td>2016-12-13 23:00:00</td>\n",
       "    </tr>\n",
       "    <tr>\n",
       "      <th>3</th>\n",
       "      <td>1486053835</td>\n",
       "      <td>2017-02-02 16:43:55</td>\n",
       "      <td>0</td>\n",
       "      <td>349770</td>\n",
       "      <td>556000</td>\n",
       "      <td>{665762, 1464528, 2994300, 4302676, 3544650, 3...</td>\n",
       "      <td>6</td>\n",
       "      <td>23</td>\n",
       "      <td>15</td>\n",
       "      <td>de</td>\n",
       "      <td>...</td>\n",
       "      <td>23</td>\n",
       "      <td>de</td>\n",
       "      <td>1</td>\n",
       "      <td>9</td>\n",
       "      <td>51.2</td>\n",
       "      <td>6.8</td>\n",
       "      <td>1</td>\n",
       "      <td>{1935579, 202201, 3606563, 2854608, 647898, 21...</td>\n",
       "      <td>1481670000</td>\n",
       "      <td>2016-12-13 23:00:00</td>\n",
       "    </tr>\n",
       "    <tr>\n",
       "      <th>4</th>\n",
       "      <td>1486117303</td>\n",
       "      <td>2017-02-03 10:21:43</td>\n",
       "      <td>0</td>\n",
       "      <td>349770</td>\n",
       "      <td>405314</td>\n",
       "      <td>{582235}</td>\n",
       "      <td>4</td>\n",
       "      <td>16</td>\n",
       "      <td>16</td>\n",
       "      <td>de</td>\n",
       "      <td>...</td>\n",
       "      <td>23</td>\n",
       "      <td>de</td>\n",
       "      <td>1</td>\n",
       "      <td>9</td>\n",
       "      <td>51.2</td>\n",
       "      <td>6.8</td>\n",
       "      <td>1</td>\n",
       "      <td>{1935579, 202201, 3606563, 2854608, 647898, 21...</td>\n",
       "      <td>1481670000</td>\n",
       "      <td>2016-12-13 23:00:00</td>\n",
       "    </tr>\n",
       "  </tbody>\n",
       "</table>\n",
       "<p>5 rows × 31 columns</p>\n",
       "</div>"
      ],
      "text/plain": [
       "   created_at_user     created_at_date  interaction_type  item_id  user_id  \\\n",
       "0       1486021700 2017-02-02 07:48:20                 0      310  1987803   \n",
       "1       1486035076 2017-02-02 11:31:16                 0      310  1392038   \n",
       "2       1486021916 2017-02-02 07:51:56                 0   349770  1987803   \n",
       "3       1486053835 2017-02-02 16:43:55                 0   349770   556000   \n",
       "4       1486117303 2017-02-03 10:21:43                 0   349770   405314   \n",
       "\n",
       "                                            jobroles  career_level_user  \\\n",
       "0                                 {1589722, 2087584}                  0   \n",
       "1                                  {427470, 2994300}                  3   \n",
       "2                                 {1589722, 2087584}                  0   \n",
       "3  {665762, 1464528, 2994300, 4302676, 3544650, 3...                  6   \n",
       "4                                           {582235}                  4   \n",
       "\n",
       "   discipline_id_user  industry_id_user country_user         ...          \\\n",
       "0                   0                 8           at         ...           \n",
       "1                   0                16           at         ...           \n",
       "2                   0                 8           at         ...           \n",
       "3                  23                15           de         ...           \n",
       "4                  16                16           de         ...           \n",
       "\n",
       "   industry_id_item  country_item  is_payed  region_item  latitude longitude  \\\n",
       "0                 9            at         0            0      47.1      15.5   \n",
       "1                 9            at         0            0      47.1      15.5   \n",
       "2                23            de         1            9      51.2       6.8   \n",
       "3                23            de         1            9      51.2       6.8   \n",
       "4                23            de         1            9      51.2       6.8   \n",
       "\n",
       "   employment                                               tags  \\\n",
       "0           1  {3989138, 2379175, 3671787, 1175363, 49361, 35...   \n",
       "1           1  {3989138, 2379175, 3671787, 1175363, 49361, 35...   \n",
       "2           1  {1935579, 202201, 3606563, 2854608, 647898, 21...   \n",
       "3           1  {1935579, 202201, 3606563, 2854608, 647898, 21...   \n",
       "4           1  {1935579, 202201, 3606563, 2854608, 647898, 21...   \n",
       "\n",
       "  created_at_item       created_at_dt  \n",
       "0      1483138800 2016-12-30 23:00:00  \n",
       "1      1483138800 2016-12-30 23:00:00  \n",
       "2      1481670000 2016-12-13 23:00:00  \n",
       "3      1481670000 2016-12-13 23:00:00  \n",
       "4      1481670000 2016-12-13 23:00:00  \n",
       "\n",
       "[5 rows x 31 columns]"
      ]
     },
     "execution_count": 20,
     "metadata": {},
     "output_type": "execute_result"
    }
   ],
   "source": [
    "# Merge data sets. Find all the information of users and items that have an interaction of type 4\n",
    "data_showed = showed_interactions.merge(users, on='user_id', how='inner')\n",
    "data_showed = data_showed.merge(items, on='item_id', how='inner', suffixes=('_user', '_item'))\n",
    "data_showed.head()"
   ]
  },
  {
   "cell_type": "code",
   "execution_count": 21,
   "metadata": {
    "collapsed": false
   },
   "outputs": [
    {
     "data": {
      "text/plain": [
       "(840559, 30)"
      ]
     },
     "execution_count": 21,
     "metadata": {},
     "output_type": "execute_result"
    }
   ],
   "source": [
    "# Remove interaction type\n",
    "data_showed.drop(['interaction_type'], axis=1, inplace=True)\n",
    "data_showed.shape"
   ]
  },
  {
   "cell_type": "code",
   "execution_count": 22,
   "metadata": {
    "collapsed": false
   },
   "outputs": [
    {
     "data": {
      "text/html": [
       "<div>\n",
       "<table border=\"1\" class=\"dataframe\">\n",
       "  <thead>\n",
       "    <tr style=\"text-align: right;\">\n",
       "      <th></th>\n",
       "      <th>created_at_user</th>\n",
       "      <th>created_at_date</th>\n",
       "      <th>interaction_type</th>\n",
       "      <th>item_id</th>\n",
       "      <th>user_id</th>\n",
       "      <th>jobroles</th>\n",
       "      <th>career_level_user</th>\n",
       "      <th>discipline_id_user</th>\n",
       "      <th>industry_id_user</th>\n",
       "      <th>country_user</th>\n",
       "      <th>...</th>\n",
       "      <th>industry_id_item</th>\n",
       "      <th>country_item</th>\n",
       "      <th>is_payed</th>\n",
       "      <th>region_item</th>\n",
       "      <th>latitude</th>\n",
       "      <th>longitude</th>\n",
       "      <th>employment</th>\n",
       "      <th>tags</th>\n",
       "      <th>created_at_item</th>\n",
       "      <th>created_at_dt</th>\n",
       "    </tr>\n",
       "  </thead>\n",
       "  <tbody>\n",
       "    <tr>\n",
       "      <th>0</th>\n",
       "      <td>1486388563</td>\n",
       "      <td>2017-02-06 13:42:43</td>\n",
       "      <td>1</td>\n",
       "      <td>140</td>\n",
       "      <td>1934123</td>\n",
       "      <td>{2712747, 981567, 1663083, 821921, 1208672, 27...</td>\n",
       "      <td>3</td>\n",
       "      <td>22</td>\n",
       "      <td>10</td>\n",
       "      <td>ch</td>\n",
       "      <td>...</td>\n",
       "      <td>17</td>\n",
       "      <td>ch</td>\n",
       "      <td>0</td>\n",
       "      <td>0</td>\n",
       "      <td>46.9</td>\n",
       "      <td>7.4</td>\n",
       "      <td>1</td>\n",
       "      <td>{1627300, 540282, 3418248}</td>\n",
       "      <td>1479942000</td>\n",
       "      <td>2016-11-23 23:00:00</td>\n",
       "    </tr>\n",
       "    <tr>\n",
       "      <th>1</th>\n",
       "      <td>1486388533</td>\n",
       "      <td>2017-02-06 13:42:13</td>\n",
       "      <td>1</td>\n",
       "      <td>360820</td>\n",
       "      <td>1934123</td>\n",
       "      <td>{2712747, 981567, 1663083, 821921, 1208672, 27...</td>\n",
       "      <td>3</td>\n",
       "      <td>22</td>\n",
       "      <td>10</td>\n",
       "      <td>ch</td>\n",
       "      <td>...</td>\n",
       "      <td>7</td>\n",
       "      <td>ch</td>\n",
       "      <td>0</td>\n",
       "      <td>0</td>\n",
       "      <td>46.9</td>\n",
       "      <td>7.4</td>\n",
       "      <td>1</td>\n",
       "      <td>{1868189, 3858649, 1760579, 4313058, 3502994, ...</td>\n",
       "      <td>1484262000</td>\n",
       "      <td>2017-01-12 23:00:00</td>\n",
       "    </tr>\n",
       "    <tr>\n",
       "      <th>2</th>\n",
       "      <td>1486371745</td>\n",
       "      <td>2017-02-06 09:02:25</td>\n",
       "      <td>1</td>\n",
       "      <td>466480</td>\n",
       "      <td>1934123</td>\n",
       "      <td>{2712747, 981567, 1663083, 821921, 1208672, 27...</td>\n",
       "      <td>3</td>\n",
       "      <td>22</td>\n",
       "      <td>10</td>\n",
       "      <td>ch</td>\n",
       "      <td>...</td>\n",
       "      <td>16</td>\n",
       "      <td>ch</td>\n",
       "      <td>0</td>\n",
       "      <td>0</td>\n",
       "      <td>47.4</td>\n",
       "      <td>7.9</td>\n",
       "      <td>3</td>\n",
       "      <td>{0}</td>\n",
       "      <td>1481929200</td>\n",
       "      <td>2016-12-16 23:00:00</td>\n",
       "    </tr>\n",
       "    <tr>\n",
       "      <th>3</th>\n",
       "      <td>1486365219</td>\n",
       "      <td>2017-02-06 07:13:39</td>\n",
       "      <td>1</td>\n",
       "      <td>466480</td>\n",
       "      <td>1934123</td>\n",
       "      <td>{2712747, 981567, 1663083, 821921, 1208672, 27...</td>\n",
       "      <td>3</td>\n",
       "      <td>22</td>\n",
       "      <td>10</td>\n",
       "      <td>ch</td>\n",
       "      <td>...</td>\n",
       "      <td>16</td>\n",
       "      <td>ch</td>\n",
       "      <td>0</td>\n",
       "      <td>0</td>\n",
       "      <td>47.4</td>\n",
       "      <td>7.9</td>\n",
       "      <td>3</td>\n",
       "      <td>{0}</td>\n",
       "      <td>1481929200</td>\n",
       "      <td>2016-12-16 23:00:00</td>\n",
       "    </tr>\n",
       "    <tr>\n",
       "      <th>4</th>\n",
       "      <td>1486331551</td>\n",
       "      <td>2017-02-05 21:52:31</td>\n",
       "      <td>1</td>\n",
       "      <td>466480</td>\n",
       "      <td>1428523</td>\n",
       "      <td>{2873190, 2070276}</td>\n",
       "      <td>3</td>\n",
       "      <td>0</td>\n",
       "      <td>16</td>\n",
       "      <td>ch</td>\n",
       "      <td>...</td>\n",
       "      <td>16</td>\n",
       "      <td>ch</td>\n",
       "      <td>0</td>\n",
       "      <td>0</td>\n",
       "      <td>47.4</td>\n",
       "      <td>7.9</td>\n",
       "      <td>3</td>\n",
       "      <td>{0}</td>\n",
       "      <td>1481929200</td>\n",
       "      <td>2016-12-16 23:00:00</td>\n",
       "    </tr>\n",
       "  </tbody>\n",
       "</table>\n",
       "<p>5 rows × 31 columns</p>\n",
       "</div>"
      ],
      "text/plain": [
       "   created_at_user     created_at_date  interaction_type  item_id  user_id  \\\n",
       "0       1486388563 2017-02-06 13:42:43                 1      140  1934123   \n",
       "1       1486388533 2017-02-06 13:42:13                 1   360820  1934123   \n",
       "2       1486371745 2017-02-06 09:02:25                 1   466480  1934123   \n",
       "3       1486365219 2017-02-06 07:13:39                 1   466480  1934123   \n",
       "4       1486331551 2017-02-05 21:52:31                 1   466480  1428523   \n",
       "\n",
       "                                            jobroles  career_level_user  \\\n",
       "0  {2712747, 981567, 1663083, 821921, 1208672, 27...                  3   \n",
       "1  {2712747, 981567, 1663083, 821921, 1208672, 27...                  3   \n",
       "2  {2712747, 981567, 1663083, 821921, 1208672, 27...                  3   \n",
       "3  {2712747, 981567, 1663083, 821921, 1208672, 27...                  3   \n",
       "4                                 {2873190, 2070276}                  3   \n",
       "\n",
       "   discipline_id_user  industry_id_user country_user         ...          \\\n",
       "0                  22                10           ch         ...           \n",
       "1                  22                10           ch         ...           \n",
       "2                  22                10           ch         ...           \n",
       "3                  22                10           ch         ...           \n",
       "4                   0                16           ch         ...           \n",
       "\n",
       "   industry_id_item  country_item  is_payed  region_item  latitude longitude  \\\n",
       "0                17            ch         0            0      46.9       7.4   \n",
       "1                 7            ch         0            0      46.9       7.4   \n",
       "2                16            ch         0            0      47.4       7.9   \n",
       "3                16            ch         0            0      47.4       7.9   \n",
       "4                16            ch         0            0      47.4       7.9   \n",
       "\n",
       "   employment                                               tags  \\\n",
       "0           1                         {1627300, 540282, 3418248}   \n",
       "1           1  {1868189, 3858649, 1760579, 4313058, 3502994, ...   \n",
       "2           3                                                {0}   \n",
       "3           3                                                {0}   \n",
       "4           3                                                {0}   \n",
       "\n",
       "  created_at_item       created_at_dt  \n",
       "0      1479942000 2016-11-23 23:00:00  \n",
       "1      1484262000 2017-01-12 23:00:00  \n",
       "2      1481929200 2016-12-16 23:00:00  \n",
       "3      1481929200 2016-12-16 23:00:00  \n",
       "4      1481929200 2016-12-16 23:00:00  \n",
       "\n",
       "[5 rows x 31 columns]"
      ]
     },
     "execution_count": 22,
     "metadata": {},
     "output_type": "execute_result"
    }
   ],
   "source": [
    "# Merge data sets. Find all the information of users and items that have an interaction of type 3\n",
    "data_clicked = clicked_interactions.merge(users, on='user_id', how='inner')\n",
    "data_clicked = data_clicked.merge(items, on='item_id', how='inner', suffixes=('_user', '_item'))\n",
    "data_clicked.head()"
   ]
  },
  {
   "cell_type": "code",
   "execution_count": 23,
   "metadata": {
    "collapsed": false
   },
   "outputs": [
    {
     "data": {
      "text/plain": [
       "(503441, 30)"
      ]
     },
     "execution_count": 23,
     "metadata": {},
     "output_type": "execute_result"
    }
   ],
   "source": [
    "# Remove interaction type\n",
    "data_clicked.drop(['interaction_type'], axis=1, inplace=True)\n",
    "data_clicked.shape"
   ]
  },
  {
   "cell_type": "code",
   "execution_count": 24,
   "metadata": {
    "collapsed": false
   },
   "outputs": [
    {
     "name": "stdout",
     "output_type": "stream",
     "text": [
      "Index([u'created_at_user', u'created_at_date', u'item_id', u'user_id',\n",
      "       u'jobroles', u'career_level_user', u'discipline_id_user',\n",
      "       u'industry_id_user', u'country_user', u'region_user',\n",
      "       u'experience_n_entries_class', u'experience_years_experience',\n",
      "       u'experience_years_in_current', u'edu_degree', u'edu_fieldofstudies',\n",
      "       u'wtcj', u'premium', u'title', u'career_level_item',\n",
      "       u'discipline_id_item', u'industry_id_item', u'country_item',\n",
      "       u'is_payed', u'region_item', u'latitude', u'longitude', u'employment',\n",
      "       u'tags', u'created_at_item', u'created_at_dt'],\n",
      "      dtype='object')\n"
     ]
    }
   ],
   "source": [
    "print data_clicked.columns"
   ]
  },
  {
   "cell_type": "code",
   "execution_count": 25,
   "metadata": {
    "collapsed": false
   },
   "outputs": [],
   "source": [
    "# Select all users and items who have been involved with interaction 0\n",
    "idx = users.user_id.isin(data_showed.user_id)\n",
    "users_not_interested = users.ix[idx].reset_index(drop=True)\n",
    "idx = items.item_id.isin(data_showed.item_id)\n",
    "items_not_interesting = items.ix[idx].reset_index(drop=True)"
   ]
  },
  {
   "cell_type": "code",
   "execution_count": 26,
   "metadata": {
    "collapsed": true
   },
   "outputs": [],
   "source": [
    "# Select all users and items who have been involved with interaction 1\n",
    "idx = users.user_id.isin(data_clicked.user_id)\n",
    "users_interested = users.ix[idx].reset_index(drop=True)\n",
    "idx = items.item_id.isin(data_clicked.item_id)\n",
    "items_interesting = items.ix[idx].reset_index(drop=True)"
   ]
  },
  {
   "cell_type": "markdown",
   "metadata": {},
   "source": [
    "# Let's study each one of the columns and compare the values between both groups to see if there are differences"
   ]
  },
  {
   "cell_type": "markdown",
   "metadata": {},
   "source": [
    "## Career level"
   ]
  },
  {
   "cell_type": "markdown",
   "metadata": {},
   "source": [
    "Which career level do users have? Does it match the career level asked at the job?"
   ]
  },
  {
   "cell_type": "code",
   "execution_count": 27,
   "metadata": {
    "collapsed": false
   },
   "outputs": [
    {
     "data": {
      "text/plain": [
       "{0: 259712, 1: 7627, 2: 34384, 3: 272501, 4: 161513, 5: 43079, 6: 61743}"
      ]
     },
     "execution_count": 27,
     "metadata": {},
     "output_type": "execute_result"
    }
   ],
   "source": [
    "data_showed.career_level_user.value_counts().sort_index().to_dict()"
   ]
  },
  {
   "cell_type": "code",
   "execution_count": 28,
   "metadata": {
    "collapsed": false
   },
   "outputs": [
    {
     "data": {
      "text/plain": [
       "{1: 1949, 2: 22686, 3: 444571, 4: 292592, 5: 58365, 6: 20396}"
      ]
     },
     "execution_count": 28,
     "metadata": {},
     "output_type": "execute_result"
    }
   ],
   "source": [
    "data_showed.career_level_item.value_counts().sort_index().to_dict()"
   ]
  },
  {
   "cell_type": "code",
   "execution_count": 29,
   "metadata": {
    "collapsed": false
   },
   "outputs": [
    {
     "data": {
      "text/plain": [
       "{0: 164006, 1: 5468, 2: 22843, 3: 182760, 4: 85673, 5: 21210, 6: 21481}"
      ]
     },
     "execution_count": 29,
     "metadata": {},
     "output_type": "execute_result"
    }
   ],
   "source": [
    "data_clicked.career_level_user.value_counts().sort_index().to_dict()"
   ]
  },
  {
   "cell_type": "code",
   "execution_count": 30,
   "metadata": {
    "collapsed": false
   },
   "outputs": [
    {
     "data": {
      "text/plain": [
       "{1: 13161, 2: 21077, 3: 331991, 4: 104723, 5: 26249, 6: 6240}"
      ]
     },
     "execution_count": 30,
     "metadata": {},
     "output_type": "execute_result"
    }
   ],
   "source": [
    "data_clicked.career_level_item.value_counts().sort_index().to_dict()"
   ]
  },
  {
   "cell_type": "markdown",
   "metadata": {},
   "source": [
    "Lets only look at the data for which we know the career level (ignore case 0)"
   ]
  },
  {
   "cell_type": "code",
   "execution_count": 31,
   "metadata": {
    "collapsed": false
   },
   "outputs": [
    {
     "name": "stdout",
     "output_type": "stream",
     "text": [
      "51.0979655572\n",
      "23.820558598\n",
      "25.0814758448\n"
     ]
    }
   ],
   "source": [
    "subset1 = data_showed[data_showed.career_level_user!=0]\n",
    "n = float(len(subset1))\n",
    "print np.sum(subset1.career_level_item==subset1.career_level_user)/n*100.0\n",
    "print np.sum(subset1.career_level_item>subset1.career_level_user)/n*100.0\n",
    "print np.sum(subset1.career_level_item<subset1.career_level_user)/n*100.0"
   ]
  },
  {
   "cell_type": "code",
   "execution_count": 32,
   "metadata": {
    "collapsed": false
   },
   "outputs": [
    {
     "data": {
      "text/plain": [
       "{-5: 13,\n",
       " -4: 196,\n",
       " -3: 2523,\n",
       " -2: 21949,\n",
       " -1: 113680,\n",
       " 0: 296801,\n",
       " 1: 95539,\n",
       " 2: 34316,\n",
       " 3: 15829,\n",
       " 4: 1}"
      ]
     },
     "execution_count": 32,
     "metadata": {},
     "output_type": "execute_result"
    }
   ],
   "source": [
    "diff_career_level = subset1.career_level_user-subset1.career_level_item\n",
    "diff_career_level.value_counts().sort_index().to_dict()"
   ]
  },
  {
   "cell_type": "markdown",
   "metadata": {},
   "source": [
    "Approximately 51% of interactions of type 0 have the same career level"
   ]
  },
  {
   "cell_type": "code",
   "execution_count": 33,
   "metadata": {
    "collapsed": false
   },
   "outputs": [
    {
     "name": "stdout",
     "output_type": "stream",
     "text": [
      "53.4773962614\n",
      "20.319354221\n",
      "26.2032495176\n"
     ]
    }
   ],
   "source": [
    "subset2 = data_clicked[data_clicked.career_level_user!=0]\n",
    "n = float(len(subset2))\n",
    "print np.sum(subset2.career_level_item==subset2.career_level_user)/n*100.0\n",
    "print np.sum(subset2.career_level_item>subset2.career_level_user)/n*100.0\n",
    "print np.sum(subset2.career_level_item<subset2.career_level_user)/n*100.0"
   ]
  },
  {
   "cell_type": "code",
   "execution_count": 34,
   "metadata": {
    "collapsed": false
   },
   "outputs": [
    {
     "data": {
      "text/plain": [
       "{-5: 5,\n",
       " -4: 59,\n",
       " -3: 1065,\n",
       " -2: 9432,\n",
       " -1: 58410,\n",
       " 0: 181521,\n",
       " 1: 58918,\n",
       " 2: 17435,\n",
       " 3: 11392,\n",
       " 4: 778,\n",
       " 5: 420}"
      ]
     },
     "execution_count": 34,
     "metadata": {},
     "output_type": "execute_result"
    }
   ],
   "source": [
    "diff_career_level = subset2.career_level_user-subset2.career_level_item\n",
    "diff_career_level.value_counts().sort_index().to_dict()"
   ]
  },
  {
   "cell_type": "markdown",
   "metadata": {},
   "source": [
    "Not much differece in both groups"
   ]
  },
  {
   "cell_type": "markdown",
   "metadata": {},
   "source": [
    "Conclusion:\n",
    "\n",
    "    1. In both showed and clicked interactions, the career level match behaves similarly, however it seems that for click it is a bit more important.\n"
   ]
  },
  {
   "cell_type": "markdown",
   "metadata": {},
   "source": [
    "## Discipline id"
   ]
  },
  {
   "cell_type": "markdown",
   "metadata": {},
   "source": [
    "Let's ask the same questions"
   ]
  },
  {
   "cell_type": "code",
   "execution_count": 35,
   "metadata": {
    "collapsed": false
   },
   "outputs": [
    {
     "data": {
      "text/plain": [
       "0     559004\n",
       "4      59119\n",
       "5      45715\n",
       "17     39466\n",
       "16     23890\n",
       "Name: discipline_id_user, dtype: int64"
      ]
     },
     "execution_count": 35,
     "metadata": {},
     "output_type": "execute_result"
    }
   ],
   "source": [
    "data_showed.discipline_id_user.value_counts().head()"
   ]
  },
  {
   "cell_type": "code",
   "execution_count": 36,
   "metadata": {
    "collapsed": false
   },
   "outputs": [
    {
     "data": {
      "text/plain": [
       "5     134492\n",
       "16    106507\n",
       "17    106360\n",
       "21     88435\n",
       "4      69444\n",
       "Name: discipline_id_item, dtype: int64"
      ]
     },
     "execution_count": 36,
     "metadata": {},
     "output_type": "execute_result"
    }
   ],
   "source": [
    "data_showed.discipline_id_item.value_counts().head()"
   ]
  },
  {
   "cell_type": "code",
   "execution_count": 37,
   "metadata": {
    "collapsed": false
   },
   "outputs": [
    {
     "name": "stdout",
     "output_type": "stream",
     "text": [
      "53.225479924\n"
     ]
    }
   ],
   "source": [
    "# Remove the unknowns which are labelled as 0 and compute percentages\n",
    "subset1 = data_showed[data_showed.discipline_id_user!=0]\n",
    "n = float(len(subset1))\n",
    "print np.sum(subset1.discipline_id_item==subset1.discipline_id_user)/n*100.0"
   ]
  },
  {
   "cell_type": "code",
   "execution_count": 38,
   "metadata": {
    "collapsed": false
   },
   "outputs": [
    {
     "name": "stdout",
     "output_type": "stream",
     "text": [
      "45.3345397754\n"
     ]
    }
   ],
   "source": [
    "# Remove the unknowns which are labelled as 0 and compute percentages\n",
    "subset2 = data_clicked[data_clicked.discipline_id_user!=0]\n",
    "n = float(len(subset2))\n",
    "print np.sum(subset2.discipline_id_item==subset2.discipline_id_user)/n*100.0"
   ]
  },
  {
   "cell_type": "markdown",
   "metadata": {},
   "source": [
    "Having a discpline match when showing a job seems more important than when clicking"
   ]
  },
  {
   "cell_type": "markdown",
   "metadata": {},
   "source": [
    "Are particular disciplines more popular or less popular?"
   ]
  },
  {
   "cell_type": "markdown",
   "metadata": {},
   "source": [
    "    1. Users"
   ]
  },
  {
   "cell_type": "code",
   "execution_count": 40,
   "metadata": {
    "collapsed": false
   },
   "outputs": [
    {
     "data": {
      "image/png": "[encoded data removed]",
      "text/plain": [
       "<matplotlib.figure.Figure at 0x1867129d0>"
      ]
     },
     "metadata": {},
     "output_type": "display_data"
    }
   ],
   "source": [
    "discipline_showed = users_not_interested[users_not_interested.discipline_id!=0].discipline_id.value_counts()/len(users_not_interested[users_not_interested.discipline_id!=0])*100\n",
    "discipline_clicked = users_interested[users_interested.discipline_id!=0].discipline_id.value_counts()/len(users_interested[users_interested.discipline_id!=0])*100\n",
    "df = pd.DataFrame({'discipline_showed':discipline_showed, 'discipline_clicked':discipline_clicked})\n",
    "df.plot(kind='bar', figsize=(15, 3), color=['green', 'blue']);"
   ]
  },
  {
   "cell_type": "markdown",
   "metadata": {},
   "source": [
    "    2. items"
   ]
  },
  {
   "cell_type": "code",
   "execution_count": 41,
   "metadata": {
    "collapsed": false
   },
   "outputs": [
    {
     "data": {
      "image/png": "[encoded data removed]",
      "text/plain": [
       "<matplotlib.figure.Figure at 0x1819deb90>"
      ]
     },
     "metadata": {},
     "output_type": "display_data"
    }
   ],
   "source": [
    "discipline_showed = items_not_interesting[items_not_interesting.discipline_id!=0].discipline_id.value_counts()/len(items_not_interesting[items_not_interesting.discipline_id!=0])*100\n",
    "discipline_clicked = items_interesting[items_interesting.discipline_id!=0].discipline_id.value_counts()/len(items_interesting[items_interesting.discipline_id!=0])*100\n",
    "df = pd.DataFrame({'discipline_showed':discipline_showed, 'discipline_clicked':discipline_clicked})\n",
    "df.plot(kind='bar', figsize=(15, 3), color=['green', 'blue']);"
   ]
  },
  {
   "cell_type": "code",
   "execution_count": 42,
   "metadata": {
    "collapsed": false
   },
   "outputs": [
    {
     "data": {
      "text/plain": [
       "5     23.097712\n",
       "17    17.153458\n",
       "4     12.529111\n",
       "16    12.158763\n",
       "21     9.970706\n",
       "3      7.277508\n",
       "11     3.343143\n",
       "1      2.685191\n",
       "6      2.331525\n",
       "23     1.887775\n",
       "14     1.616186\n",
       "7      1.143074\n",
       "18     1.032971\n",
       "13     0.906852\n",
       "20     0.776730\n",
       "2      0.557858\n",
       "8      0.541843\n",
       "15     0.524493\n",
       "19     0.220207\n",
       "22     0.186842\n",
       "10     0.047378\n",
       "12     0.010677\n",
       "Name: discipline_id_item, dtype: float64"
      ]
     },
     "execution_count": 42,
     "metadata": {},
     "output_type": "execute_result"
    }
   ],
   "source": [
    "idx = subset1.discipline_id_item==subset1.discipline_id_user\n",
    "subset1[idx].discipline_id_item.value_counts()/len(subset1[idx])*100"
   ]
  },
  {
   "cell_type": "code",
   "execution_count": 43,
   "metadata": {
    "collapsed": false
   },
   "outputs": [
    {
     "data": {
      "text/plain": [
       "5     19.211210\n",
       "3     18.572796\n",
       "17    17.472317\n",
       "16     8.809296\n",
       "21     6.061517\n",
       "11     5.283664\n",
       "4      4.410116\n",
       "1      4.050581\n",
       "13     3.037594\n",
       "6      2.928230\n",
       "23     1.916610\n",
       "8      1.841422\n",
       "18     1.346548\n",
       "7      1.233083\n",
       "15     1.070403\n",
       "14     0.883117\n",
       "20     0.630212\n",
       "19     0.388243\n",
       "22     0.378674\n",
       "2      0.330827\n",
       "10     0.125769\n",
       "12     0.017772\n",
       "Name: discipline_id_item, dtype: float64"
      ]
     },
     "execution_count": 43,
     "metadata": {},
     "output_type": "execute_result"
    }
   ],
   "source": [
    "idx = subset2.discipline_id_item==subset2.discipline_id_user\n",
    "subset2[idx].discipline_id_item.value_counts()/len(subset2[idx])*100"
   ]
  },
  {
   "cell_type": "markdown",
   "metadata": {},
   "source": [
    "Conclusions\n",
    "\n",
    "1. Both groups behave similar with the discipline id. However, discipline_id = 3 seems important for clicking\n",
    "\n",
    "    "
   ]
  },
  {
   "cell_type": "markdown",
   "metadata": {},
   "source": [
    "## industry_id"
   ]
  },
  {
   "cell_type": "code",
   "execution_count": 44,
   "metadata": {
    "collapsed": false
   },
   "outputs": [
    {
     "data": {
      "text/plain": [
       "0     321172\n",
       "16    121407\n",
       "15     65529\n",
       "7      50140\n",
       "20     39667\n",
       "Name: industry_id_user, dtype: int64"
      ]
     },
     "execution_count": 44,
     "metadata": {},
     "output_type": "execute_result"
    }
   ],
   "source": [
    "data_showed.industry_id_user.value_counts().head(n=5)"
   ]
  },
  {
   "cell_type": "code",
   "execution_count": 45,
   "metadata": {
    "collapsed": false
   },
   "outputs": [
    {
     "data": {
      "text/plain": [
       "16    245434\n",
       "3      87171\n",
       "7      84149\n",
       "15     65356\n",
       "9      62103\n",
       "Name: industry_id_item, dtype: int64"
      ]
     },
     "execution_count": 45,
     "metadata": {},
     "output_type": "execute_result"
    }
   ],
   "source": [
    "data_showed.industry_id_item.value_counts().head(n=5)"
   ]
  },
  {
   "cell_type": "code",
   "execution_count": 46,
   "metadata": {
    "collapsed": false
   },
   "outputs": [
    {
     "data": {
      "text/plain": [
       "0     158669\n",
       "20     58332\n",
       "7      40726\n",
       "16     40279\n",
       "3      25917\n",
       "Name: industry_id_user, dtype: int64"
      ]
     },
     "execution_count": 46,
     "metadata": {},
     "output_type": "execute_result"
    }
   ],
   "source": [
    "data_clicked.industry_id_user.value_counts().head(n=5)"
   ]
  },
  {
   "cell_type": "code",
   "execution_count": 47,
   "metadata": {
    "collapsed": false
   },
   "outputs": [
    {
     "data": {
      "text/plain": [
       "16    110188\n",
       "7      95699\n",
       "3      47943\n",
       "9      32517\n",
       "8      26524\n",
       "Name: industry_id_item, dtype: int64"
      ]
     },
     "execution_count": 47,
     "metadata": {},
     "output_type": "execute_result"
    }
   ],
   "source": [
    "data_clicked.industry_id_item.value_counts().head(n=5)"
   ]
  },
  {
   "cell_type": "code",
   "execution_count": 48,
   "metadata": {
    "collapsed": false
   },
   "outputs": [
    {
     "name": "stdout",
     "output_type": "stream",
     "text": [
      "30.0396428867\n"
     ]
    }
   ],
   "source": [
    "subset1 = data_showed[data_showed.industry_id_user!=0]\n",
    "n = float(len(subset1))\n",
    "print np.sum(subset1.industry_id_item==subset1.industry_id_user)/n*100.0"
   ]
  },
  {
   "cell_type": "markdown",
   "metadata": {},
   "source": [
    "Very few interactions of type delete have a match of industry_id"
   ]
  },
  {
   "cell_type": "code",
   "execution_count": 49,
   "metadata": {
    "collapsed": false
   },
   "outputs": [
    {
     "name": "stdout",
     "output_type": "stream",
     "text": [
      "22.3678256935\n"
     ]
    }
   ],
   "source": [
    "subset2 = data_clicked[data_clicked.industry_id_user!=0]\n",
    "n = float(len(subset2))\n",
    "print np.sum(subset2.industry_id_item==subset2.industry_id_user)/n*100.0"
   ]
  },
  {
   "cell_type": "markdown",
   "metadata": {},
   "source": [
    "similarly for interactions of type click, even lower"
   ]
  },
  {
   "cell_type": "code",
   "execution_count": 50,
   "metadata": {
    "collapsed": false
   },
   "outputs": [
    {
     "data": {
      "image/png": "[encoded data removed]",
      "text/plain": [
       "<matplotlib.figure.Figure at 0x181e13790>"
      ]
     },
     "metadata": {},
     "output_type": "display_data"
    }
   ],
   "source": [
    "industry_showed = users_not_interested[users_not_interested.industry_id!=0].industry_id.value_counts()/len(users_not_interested[users_not_interested.industry_id!=0])*100\n",
    "industry_clicked = users_interested[users_interested.industry_id!=0].industry_id.value_counts()/len(users_interested[users_interested.industry_id!=0])*100\n",
    "df = pd.DataFrame({'industry_showed':industry_showed, 'industry_clicked':industry_clicked})\n",
    "df.plot(kind='bar', figsize=(15, 3), color=['green', 'blue']);"
   ]
  },
  {
   "cell_type": "code",
   "execution_count": 51,
   "metadata": {
    "collapsed": false
   },
   "outputs": [
    {
     "data": {
      "image/png": "[encoded data removed]",
      "text/plain": [
       "<matplotlib.figure.Figure at 0x185de9810>"
      ]
     },
     "metadata": {},
     "output_type": "display_data"
    }
   ],
   "source": [
    "industry_showed = items_not_interesting[items_not_interesting.industry_id!=0].industry_id.value_counts()/len(items_not_interesting[items_not_interesting.industry_id!=0])*100\n",
    "industry_clicked = items_interesting[items_interesting.industry_id!=0].industry_id.value_counts()/len(items_interesting[items_interesting.industry_id!=0])*100\n",
    "df = pd.DataFrame({'industry_showed':industry_showed, 'industry_clicked':industry_clicked})\n",
    "df.plot(kind='bar', figsize=(15, 3), color=['green', 'blue']);"
   ]
  },
  {
   "cell_type": "markdown",
   "metadata": {},
   "source": [
    "Conclusions: \n",
    "\n",
    "    1. Industry_id match does not seem very relevant, however it is more relevant when showing than when clicking\n",
    "    2. Users from industries 20 click more"
   ]
  },
  {
   "cell_type": "markdown",
   "metadata": {},
   "source": [
    "## experience_n_entries_class"
   ]
  },
  {
   "cell_type": "code",
   "execution_count": 52,
   "metadata": {
    "collapsed": false
   },
   "outputs": [
    {
     "data": {
      "text/plain": [
       "3    61.808035\n",
       "2    22.380701\n",
       "1    15.811264\n",
       "Name: experience_n_entries_class, dtype: float64"
      ]
     },
     "execution_count": 52,
     "metadata": {},
     "output_type": "execute_result"
    }
   ],
   "source": [
    "data_showed.experience_n_entries_class.value_counts()/float(len(data_showed))*100"
   ]
  },
  {
   "cell_type": "code",
   "execution_count": 53,
   "metadata": {
    "collapsed": false
   },
   "outputs": [
    {
     "data": {
      "text/plain": [
       "3    49.697780\n",
       "1    27.228017\n",
       "2    23.074203\n",
       "Name: experience_n_entries_class, dtype: float64"
      ]
     },
     "execution_count": 53,
     "metadata": {},
     "output_type": "execute_result"
    }
   ],
   "source": [
    "data_clicked.experience_n_entries_class.value_counts()/float(len(data_clicked))*100"
   ]
  },
  {
   "cell_type": "markdown",
   "metadata": {},
   "source": [
    "Conclusions: \n",
    "\n",
    "    From the showed interactions, 60% of them corresponded to users with more than 5 entries in CV (level=3). However, from the clicked interactions, only 50% corresponded to them. It seems like people with a lot of job experiences is not so interested in changing jobs. "
   ]
  },
  {
   "cell_type": "markdown",
   "metadata": {},
   "source": [
    "## experience_years_experience & experience_years_in_current"
   ]
  },
  {
   "cell_type": "code",
   "execution_count": 54,
   "metadata": {
    "collapsed": false
   },
   "outputs": [
    {
     "data": {
      "text/plain": [
       "5    22.588777\n",
       "4    21.826189\n",
       "7    20.124703\n",
       "6    17.142283\n",
       "0     9.019593\n",
       "3     4.821791\n",
       "2     3.360383\n",
       "1     1.116281\n",
       "Name: experience_years_experience, dtype: float64"
      ]
     },
     "execution_count": 54,
     "metadata": {},
     "output_type": "execute_result"
    }
   ],
   "source": [
    "data_showed.experience_years_experience.value_counts()/float(len(data_showed))*100"
   ]
  },
  {
   "cell_type": "code",
   "execution_count": 55,
   "metadata": {
    "collapsed": false
   },
   "outputs": [
    {
     "data": {
      "text/plain": [
       "4    20.434967\n",
       "7    19.872835\n",
       "5    19.697442\n",
       "6    16.414436\n",
       "0    15.691809\n",
       "3     4.704424\n",
       "2     2.547667\n",
       "1     0.636420\n",
       "Name: experience_years_experience, dtype: float64"
      ]
     },
     "execution_count": 55,
     "metadata": {},
     "output_type": "execute_result"
    }
   ],
   "source": [
    "data_clicked.experience_years_experience.value_counts()/float(len(data_clicked))*100"
   ]
  },
  {
   "cell_type": "markdown",
   "metadata": {},
   "source": [
    "Conclusion:\n",
    "1. Very similar behaviour in both groups"
   ]
  },
  {
   "cell_type": "code",
   "execution_count": 56,
   "metadata": {
    "collapsed": false
   },
   "outputs": [
    {
     "data": {
      "text/plain": [
       "2    30.715750\n",
       "1    22.403781\n",
       "4    14.290133\n",
       "3    12.924494\n",
       "0    10.783657\n",
       "5     4.676412\n",
       "6     2.544616\n",
       "7     1.661156\n",
       "Name: experience_years_in_current, dtype: float64"
      ]
     },
     "execution_count": 56,
     "metadata": {},
     "output_type": "execute_result"
    }
   ],
   "source": [
    "data_showed.experience_years_in_current.value_counts()/float(len(data_showed))*100"
   ]
  },
  {
   "cell_type": "code",
   "execution_count": 57,
   "metadata": {
    "collapsed": false
   },
   "outputs": [
    {
     "data": {
      "text/plain": [
       "2    28.406705\n",
       "0    17.443156\n",
       "1    16.040013\n",
       "4    14.738172\n",
       "3    14.167698\n",
       "5     4.828173\n",
       "6     2.663669\n",
       "7     1.712415\n",
       "Name: experience_years_in_current, dtype: float64"
      ]
     },
     "execution_count": 57,
     "metadata": {},
     "output_type": "execute_result"
    }
   ],
   "source": [
    "data_clicked.experience_years_in_current.value_counts()/float(len(data_clicked))*100"
   ]
  },
  {
   "cell_type": "markdown",
   "metadata": {},
   "source": [
    "Conclusion:\n",
    "    1. Very similar behaviour"
   ]
  },
  {
   "cell_type": "markdown",
   "metadata": {},
   "source": [
    "## edu_degree"
   ]
  },
  {
   "cell_type": "code",
   "execution_count": 58,
   "metadata": {
    "collapsed": false
   },
   "outputs": [
    {
     "data": {
      "text/plain": [
       "0    54.475415\n",
       "2    27.552736\n",
       "1    13.104613\n",
       "3     4.867237\n",
       "Name: edu_degree, dtype: float64"
      ]
     },
     "execution_count": 58,
     "metadata": {},
     "output_type": "execute_result"
    }
   ],
   "source": [
    "data_showed.edu_degree.value_counts()/float(len(data_showed))*100"
   ]
  },
  {
   "cell_type": "code",
   "execution_count": 59,
   "metadata": {
    "collapsed": false
   },
   "outputs": [
    {
     "data": {
      "text/plain": [
       "0    63.989623\n",
       "2    21.865323\n",
       "1    10.488021\n",
       "3     3.657032\n",
       "Name: edu_degree, dtype: float64"
      ]
     },
     "execution_count": 59,
     "metadata": {},
     "output_type": "execute_result"
    }
   ],
   "source": [
    "data_clicked.edu_degree.value_counts()/float(len(data_clicked))*100"
   ]
  },
  {
   "cell_type": "markdown",
   "metadata": {},
   "source": [
    "Conclusion:\n",
    "    1. Majority of users in both groups have not specifed the edu_degree "
   ]
  },
  {
   "cell_type": "markdown",
   "metadata": {},
   "source": [
    "## field of studies"
   ]
  },
  {
   "cell_type": "code",
   "execution_count": 67,
   "metadata": {
    "collapsed": false
   },
   "outputs": [],
   "source": [
    "# Count how many times each field of study appears\n",
    "field_of_studies_showed = data_showed.edu_fieldofstudies.apply(lambda x: list(x))\n",
    "field_of_studies_clicked = data_clicked.edu_fieldofstudies.apply(lambda x: list(x))"
   ]
  },
  {
   "cell_type": "code",
   "execution_count": 68,
   "metadata": {
    "collapsed": false,
    "scrolled": false
   },
   "outputs": [],
   "source": [
    "import itertools\n",
    "field_of_studies_showed = list(itertools.chain.from_iterable(field_of_studies_showed.values.flatten()))\n",
    "field_of_studies_clicked = list(itertools.chain.from_iterable(field_of_studies_clicked.values.flatten()))"
   ]
  },
  {
   "cell_type": "code",
   "execution_count": 69,
   "metadata": {
    "collapsed": false
   },
   "outputs": [
    {
     "data": {
      "text/plain": [
       "{'0': 38.25315701907818,\n",
       " '1': 0.21386516463028754,\n",
       " '2': 5.9112801068045195,\n",
       " '3': 11.563339412767238,\n",
       " '4': 1.6299214867257394,\n",
       " '5': 11.010427527562888,\n",
       " '6': 0.6891922321269446,\n",
       " '7': 5.696347750733961,\n",
       " '8': 24.01319475496751,\n",
       " '9': 1.0192745446027325}"
      ]
     },
     "execution_count": 69,
     "metadata": {},
     "output_type": "execute_result"
    }
   ],
   "source": [
    "from collections import Counter\n",
    "{k: v/float(len(field_of_studies_showed))*100 for k, v in dict(Counter(field_of_studies_showed)).items()}"
   ]
  },
  {
   "cell_type": "code",
   "execution_count": 70,
   "metadata": {
    "collapsed": false
   },
   "outputs": [
    {
     "data": {
      "text/plain": [
       "{'0': 46.52840166239382,\n",
       " '1': 0.36337474709848006,\n",
       " '2': 4.28654381313408,\n",
       " '3': 14.633411486294015,\n",
       " '4': 1.5636070147760224,\n",
       " '5': 8.640101964049638,\n",
       " '6': 0.7167064735485096,\n",
       " '7': 4.156897546581355,\n",
       " '8': 18.22863027806385,\n",
       " '9': 0.882325014060229}"
      ]
     },
     "execution_count": 70,
     "metadata": {},
     "output_type": "execute_result"
    }
   ],
   "source": [
    "{k: v/float(len(field_of_studies_clicked))*100 for k, v in dict(Counter(field_of_studies_replied)).items()}"
   ]
  },
  {
   "cell_type": "markdown",
   "metadata": {},
   "source": [
    "Conclusions: \n",
    "    1. the distribution of field of studies is very similar between the two groups"
   ]
  },
  {
   "cell_type": "markdown",
   "metadata": {},
   "source": [
    "## WTCJ"
   ]
  },
  {
   "cell_type": "code",
   "execution_count": 71,
   "metadata": {
    "collapsed": false
   },
   "outputs": [
    {
     "data": {
      "text/plain": [
       "1    75.154986\n",
       "0    24.845014\n",
       "Name: wtcj, dtype: float64"
      ]
     },
     "execution_count": 71,
     "metadata": {},
     "output_type": "execute_result"
    }
   ],
   "source": [
    "data_showed.wtcj.value_counts()/len(data_showed)*100"
   ]
  },
  {
   "cell_type": "code",
   "execution_count": 72,
   "metadata": {
    "collapsed": false
   },
   "outputs": [
    {
     "data": {
      "text/plain": [
       "1    81.70451\n",
       "0    18.29549\n",
       "Name: wtcj, dtype: float64"
      ]
     },
     "execution_count": 72,
     "metadata": {},
     "output_type": "execute_result"
    }
   ],
   "source": [
    "data_clicked.wtcj.value_counts()/len(data_clicked)*100"
   ]
  },
  {
   "cell_type": "markdown",
   "metadata": {},
   "source": [
    "Conclusion:\n",
    "    1. There is not a lot of difference between both groups, however there is slghtly more willingness to change jobs among the users who have clicked, compared to the ones who were only showed"
   ]
  },
  {
   "cell_type": "markdown",
   "metadata": {},
   "source": [
    "## premium"
   ]
  },
  {
   "cell_type": "code",
   "execution_count": 73,
   "metadata": {
    "collapsed": false
   },
   "outputs": [
    {
     "data": {
      "text/plain": [
       "0    64.483397\n",
       "1    35.516603\n",
       "Name: premium, dtype: float64"
      ]
     },
     "execution_count": 73,
     "metadata": {},
     "output_type": "execute_result"
    }
   ],
   "source": [
    "data_showed.premium.value_counts()/len(data_showed)*100"
   ]
  },
  {
   "cell_type": "code",
   "execution_count": 74,
   "metadata": {
    "collapsed": false
   },
   "outputs": [
    {
     "data": {
      "text/plain": [
       "0    78.553594\n",
       "1    21.446406\n",
       "Name: premium, dtype: float64"
      ]
     },
     "execution_count": 74,
     "metadata": {},
     "output_type": "execute_result"
    }
   ],
   "source": [
    "data_clicked.premium.value_counts()/len(data_clicked)*100"
   ]
  },
  {
   "cell_type": "markdown",
   "metadata": {},
   "source": [
    "Conclusion:\n",
    "1. Not much difference, but it seems that users who click normally are not premium, and more job postings are showed to premium"
   ]
  },
  {
   "cell_type": "markdown",
   "metadata": {},
   "source": [
    "## employment"
   ]
  },
  {
   "cell_type": "code",
   "execution_count": 75,
   "metadata": {
    "collapsed": false
   },
   "outputs": [
    {
     "data": {
      "text/plain": [
       "1    96.511369\n",
       "2     2.066958\n",
       "3     1.243577\n",
       "4     0.158228\n",
       "0     0.019868\n",
       "Name: employment, dtype: float64"
      ]
     },
     "execution_count": 75,
     "metadata": {},
     "output_type": "execute_result"
    }
   ],
   "source": [
    "data_showed.employment.value_counts()/float(len(data_showed))*100"
   ]
  },
  {
   "cell_type": "code",
   "execution_count": 76,
   "metadata": {
    "collapsed": false
   },
   "outputs": [
    {
     "data": {
      "text/plain": [
       "1    92.802930\n",
       "2     4.967216\n",
       "3     1.552118\n",
       "4     0.651516\n",
       "0     0.026220\n",
       "Name: employment, dtype: float64"
      ]
     },
     "execution_count": 76,
     "metadata": {},
     "output_type": "execute_result"
    }
   ],
   "source": [
    "data_clicked.employment.value_counts()/float(len(data_clicked))*100"
   ]
  },
  {
   "cell_type": "markdown",
   "metadata": {},
   "source": [
    "Conclusions: \n",
    "    1. Both groups have majority of jobs full time"
   ]
  },
  {
   "cell_type": "markdown",
   "metadata": {},
   "source": [
    "## title & tag"
   ]
  },
  {
   "cell_type": "code",
   "execution_count": 77,
   "metadata": {
    "collapsed": false
   },
   "outputs": [
    {
     "data": {
      "text/plain": [
       "0    {4099592, 310589, 3842576, 2629116}\n",
       "1    {4099592, 310589, 3842576, 2629116}\n",
       "2                              {2087584}\n",
       "3                              {2087584}\n",
       "4                              {2087584}\n",
       "Name: title, dtype: object"
      ]
     },
     "execution_count": 77,
     "metadata": {},
     "output_type": "execute_result"
    }
   ],
   "source": [
    "data_showed.title.head()"
   ]
  },
  {
   "cell_type": "code",
   "execution_count": 78,
   "metadata": {
    "collapsed": false
   },
   "outputs": [
    {
     "data": {
      "text/plain": [
       "0                           {1627300, 540282, 3418248}\n",
       "1    {1868189, 3858649, 1760579, 4313058, 3502994, ...\n",
       "2                                                  {0}\n",
       "3                                                  {0}\n",
       "4                                                  {0}\n",
       "Name: tags, dtype: object"
      ]
     },
     "execution_count": 78,
     "metadata": {},
     "output_type": "execute_result"
    }
   ],
   "source": [
    "data_clicked.tags.head()"
   ]
  },
  {
   "cell_type": "code",
   "execution_count": 79,
   "metadata": {
    "collapsed": false
   },
   "outputs": [],
   "source": [
    "def intersect(x):\n",
    "    return x[0]&x[1]"
   ]
  },
  {
   "cell_type": "markdown",
   "metadata": {},
   "source": [
    "Find the intersection between titles and tags"
   ]
  },
  {
   "cell_type": "code",
   "execution_count": 80,
   "metadata": {
    "collapsed": false
   },
   "outputs": [],
   "source": [
    "data_showed['title_tag_match'] = data_showed[['title', 'tags']].apply(intersect, axis=1)\n",
    "data_clicked['title_tag_match'] = data_clicked[['title', 'tags']].apply(intersect, axis=1)"
   ]
  },
  {
   "cell_type": "code",
   "execution_count": 81,
   "metadata": {
    "collapsed": false
   },
   "outputs": [
    {
     "data": {
      "text/plain": [
       "1     21.830353\n",
       "2     20.688137\n",
       "3     17.553319\n",
       "4     12.411859\n",
       "5      9.771592\n",
       "6      6.710296\n",
       "7      4.368046\n",
       "8      2.726995\n",
       "9      1.562294\n",
       "10     0.946394\n",
       "11     0.606858\n",
       "12     0.214500\n",
       "14     0.186899\n",
       "13     0.186424\n",
       "15     0.185353\n",
       "16     0.022604\n",
       "17     0.013681\n",
       "18     0.012611\n",
       "19     0.001071\n",
       "22     0.000714\n",
       "Name: num_titles, dtype: float64"
      ]
     },
     "execution_count": 81,
     "metadata": {},
     "output_type": "execute_result"
    }
   ],
   "source": [
    "# Count how many titles\n",
    "data_showed['num_titles'] = data_showed.title.apply(len)\n",
    "data_showed.num_titles.value_counts()/float(len(data_showed))*100"
   ]
  },
  {
   "cell_type": "code",
   "execution_count": 82,
   "metadata": {
    "collapsed": false
   },
   "outputs": [
    {
     "data": {
      "text/plain": [
       "1     37.034528\n",
       "2     19.426904\n",
       "3     16.486341\n",
       "4      9.027672\n",
       "5      6.494306\n",
       "6      4.227705\n",
       "7      3.215471\n",
       "8      2.076907\n",
       "9      0.829094\n",
       "10     0.463609\n",
       "11     0.306292\n",
       "12     0.154139\n",
       "15     0.099912\n",
       "13     0.065549\n",
       "14     0.050453\n",
       "16     0.019863\n",
       "18     0.010130\n",
       "17     0.008343\n",
       "20     0.001192\n",
       "19     0.001192\n",
       "22     0.000397\n",
       "Name: num_titles, dtype: float64"
      ]
     },
     "execution_count": 82,
     "metadata": {},
     "output_type": "execute_result"
    }
   ],
   "source": [
    "# Count how many titles\n",
    "data_clicked['num_titles'] = data_clicked.title.apply(len)\n",
    "data_clicked.num_titles.value_counts()/float(len(data_clicked))*100"
   ]
  },
  {
   "cell_type": "markdown",
   "metadata": {
    "collapsed": false
   },
   "source": [
    "Conclusions:\n",
    "\n",
    "1. More people with just one title seem to click compared to the ones who are only showed"
   ]
  },
  {
   "cell_type": "markdown",
   "metadata": {},
   "source": [
    "## is_payed"
   ]
  },
  {
   "cell_type": "code",
   "execution_count": 83,
   "metadata": {
    "collapsed": false
   },
   "outputs": [
    {
     "data": {
      "text/plain": [
       "1    71.503607\n",
       "0    28.496393\n",
       "Name: is_payed, dtype: float64"
      ]
     },
     "execution_count": 83,
     "metadata": {},
     "output_type": "execute_result"
    }
   ],
   "source": [
    "data_showed.is_payed.value_counts()/float(len(data_showed))*100"
   ]
  },
  {
   "cell_type": "code",
   "execution_count": 84,
   "metadata": {
    "collapsed": false
   },
   "outputs": [
    {
     "data": {
      "text/plain": [
       "1    54.275873\n",
       "0    45.724127\n",
       "Name: is_payed, dtype: float64"
      ]
     },
     "execution_count": 84,
     "metadata": {},
     "output_type": "execute_result"
    }
   ],
   "source": [
    "data_clicked.is_payed.value_counts()/float(len(data_clicked))*100"
   ]
  },
  {
   "cell_type": "markdown",
   "metadata": {
    "collapsed": true
   },
   "source": [
    "# Conclusions:\n",
    "    1. It seems that for showed interactions, 71 % of the posted jobs were payed for, however, when the user clicked to the posting only 54% of them were payed for."
   ]
  },
  {
   "cell_type": "markdown",
   "metadata": {},
   "source": [
    "## Geography"
   ]
  },
  {
   "cell_type": "code",
   "execution_count": 85,
   "metadata": {
    "collapsed": false
   },
   "outputs": [
    {
     "name": "stdout",
     "output_type": "stream",
     "text": [
      "83.8614653952\n"
     ]
    }
   ],
   "source": [
    "n = float(len(data_clicked))\n",
    "print np.sum(data_clicked.country_item==data_clicked.country_user)/n*100.0"
   ]
  },
  {
   "cell_type": "code",
   "execution_count": 86,
   "metadata": {
    "collapsed": false
   },
   "outputs": [
    {
     "name": "stdout",
     "output_type": "stream",
     "text": [
      "88.1859572023\n"
     ]
    }
   ],
   "source": [
    "n = float(len(data_showed))\n",
    "print np.sum(data_showed.country_item==data_showed.country_user)/n*100.0"
   ]
  },
  {
   "cell_type": "code",
   "execution_count": 87,
   "metadata": {
    "collapsed": false
   },
   "outputs": [
    {
     "name": "stdout",
     "output_type": "stream",
     "text": [
      "34.1207807866\n"
     ]
    }
   ],
   "source": [
    "n = float(len(data_clicked))\n",
    "print np.sum(data_clicked.region_item==data_clicked.region_user)/n*100.0"
   ]
  },
  {
   "cell_type": "code",
   "execution_count": 88,
   "metadata": {
    "collapsed": false
   },
   "outputs": [
    {
     "name": "stdout",
     "output_type": "stream",
     "text": [
      "28.2506046571\n"
     ]
    }
   ],
   "source": [
    "n = float(len(data_showed))\n",
    "print np.sum(data_showed.region_item==data_showed.region_user)/n*100.0"
   ]
  },
  {
   "cell_type": "markdown",
   "metadata": {},
   "source": [
    "# Conclusions"
   ]
  },
  {
   "cell_type": "markdown",
   "metadata": {},
   "source": [
    "I still need to think but some of the conclusions I have extracted here I believe can be converted into features for our classification problem. I will revise this later"
   ]
  },
  {
   "cell_type": "markdown",
   "metadata": {},
   "source": [
    "# Possible extra features:"
   ]
  },
  {
   "cell_type": "markdown",
   "metadata": {},
   "source": [
    "- career level match\n",
    "- career level item < career level user\n",
    "- industry match\n",
    "- user industry is 3\n",
    "- region and country match"
   ]
  },
  {
   "cell_type": "code",
   "execution_count": null,
   "metadata": {
    "collapsed": true
   },
   "outputs": [],
   "source": []
  }
 ],
 "metadata": {
  "kernelspec": {
   "display_name": "Python 2",
   "language": "python",
   "name": "python2"
  },
  "language_info": {
   "codemirror_mode": {
    "name": "ipython",
    "version": 2
   },
   "file_extension": ".py",
   "mimetype": "text/x-python",
   "name": "python",
   "nbconvert_exporter": "python",
   "pygments_lexer": "ipython2",
   "version": "2.7.12"
  }
 },
 "nbformat": 4,
 "nbformat_minor": 1
}
