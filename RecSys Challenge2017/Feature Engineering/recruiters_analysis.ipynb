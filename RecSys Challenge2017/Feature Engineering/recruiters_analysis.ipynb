{
 "cells": [
  {
   "cell_type": "markdown",
   "metadata": {},
   "source": [
    "# RECRUITERS"
   ]
  },
  {
   "cell_type": "markdown",
   "metadata": {},
   "source": [
    "## Simple analysis of users contacted by recruiters"
   ]
  },
  {
   "cell_type": "markdown",
   "metadata": {},
   "source": [
    "This notebook tries to get insights into which kind of users or pairs (users, jobs) recruiters prefer or interact with.\n",
    "\n",
    "We will look at characteristics of the users contacted by recruiters and then we will compare them with the characteristics of the rest of the users. Similarly we will do the same analysis for jobs that use recruiters to fill the positions."
   ]
  },
  {
   "cell_type": "code",
   "execution_count": 1,
   "metadata": {
    "collapsed": false
   },
   "outputs": [],
   "source": [
    "import pandas as pd\n",
    "import numpy as np\n",
    "import matplotlib.pyplot as plt\n",
    "import seaborn as sns\n",
    "% matplotlib inline"
   ]
  },
  {
   "cell_type": "code",
   "execution_count": 2,
   "metadata": {
    "collapsed": false
   },
   "outputs": [
    {
     "data": {
      "text/html": [
       "<div>\n",
       "<table border=\"1\" class=\"dataframe\">\n",
       "  <thead>\n",
       "    <tr style=\"text-align: right;\">\n",
       "      <th></th>\n",
       "      <th>user_id</th>\n",
       "      <th>item_id</th>\n",
       "      <th>interaction_type</th>\n",
       "    </tr>\n",
       "  </thead>\n",
       "  <tbody>\n",
       "    <tr>\n",
       "      <th>0</th>\n",
       "      <td>252360</td>\n",
       "      <td>4020</td>\n",
       "      <td>5</td>\n",
       "    </tr>\n",
       "    <tr>\n",
       "      <th>1</th>\n",
       "      <td>709236</td>\n",
       "      <td>9860</td>\n",
       "      <td>5</td>\n",
       "    </tr>\n",
       "    <tr>\n",
       "      <th>2</th>\n",
       "      <td>709236</td>\n",
       "      <td>9860</td>\n",
       "      <td>5</td>\n",
       "    </tr>\n",
       "    <tr>\n",
       "      <th>3</th>\n",
       "      <td>709236</td>\n",
       "      <td>9860</td>\n",
       "      <td>5</td>\n",
       "    </tr>\n",
       "    <tr>\n",
       "      <th>4</th>\n",
       "      <td>709236</td>\n",
       "      <td>9860</td>\n",
       "      <td>5</td>\n",
       "    </tr>\n",
       "  </tbody>\n",
       "</table>\n",
       "</div>"
      ],
      "text/plain": [
       "   user_id  item_id  interaction_type\n",
       "0   252360     4020                 5\n",
       "1   709236     9860                 5\n",
       "2   709236     9860                 5\n",
       "3   709236     9860                 5\n",
       "4   709236     9860                 5"
      ]
     },
     "execution_count": 2,
     "metadata": {},
     "output_type": "execute_result"
    }
   ],
   "source": [
    "# Import all the interactions of type recruiter which we have previously saved in a csv file\n",
    "folderData = 'data/'\n",
    "recruiter_interactions = pd.read_csv(folderData + 'interactions_recruiter.csv')\n",
    "recruiter_interactions.head()"
   ]
  },
  {
   "cell_type": "code",
   "execution_count": 3,
   "metadata": {
    "collapsed": true
   },
   "outputs": [],
   "source": [
    "# Import all users\n",
    "users = pd.read_csv(folderData + 'users.csv', sep='\\t')\n",
    "users.columns = ['user_id', 'jobroles', 'career_level', 'discipline_id', 'industry_id', 'country', 'region',\n",
    "                'experience_n_entries_class', 'experience_years_experience', 'experience_years_in_current',\n",
    "                'edu_degree', 'edu_fieldofstudies', 'wtcj', 'premium']"
   ]
  },
  {
   "cell_type": "code",
   "execution_count": 4,
   "metadata": {
    "collapsed": false
   },
   "outputs": [],
   "source": [
    "# Fill empties and transform the strings into a list\n",
    "users.jobroles = users.jobroles.fillna('0').apply(lambda str: set(str.split(',')))\n",
    "users.edu_fieldofstudies = users.edu_fieldofstudies.fillna('0').apply(lambda str: set(str.split(',')))"
   ]
  },
  {
   "cell_type": "code",
   "execution_count": 5,
   "metadata": {
    "collapsed": true
   },
   "outputs": [],
   "source": [
    "# Import all items\n",
    "items = pd.read_csv(folderData + 'items.csv', sep='\\t')\n",
    "items.columns = ['item_id', 'title', 'career_level', 'discipline_id', 'industry_id', 'country', 'is_payed', 'region',\n",
    "                'latitude', 'longitude', 'employment', 'tags', 'created_at']"
   ]
  },
  {
   "cell_type": "code",
   "execution_count": 6,
   "metadata": {
    "collapsed": false
   },
   "outputs": [],
   "source": [
    "# Fill empties and transform the strings into a list\n",
    "items.title = items.title.fillna('0').apply(lambda str: set(str.split(',')))\n",
    "items.tags = items.tags.fillna('0').apply(lambda str: set(str.split(',')))\n",
    "items['created_at_dt'] = pd.to_datetime(items.created_at,unit='s', errors='coerce')"
   ]
  },
  {
   "cell_type": "code",
   "execution_count": 7,
   "metadata": {
    "collapsed": false
   },
   "outputs": [
    {
     "data": {
      "text/html": [
       "<div>\n",
       "<table border=\"1\" class=\"dataframe\">\n",
       "  <thead>\n",
       "    <tr style=\"text-align: right;\">\n",
       "      <th></th>\n",
       "      <th>user_id</th>\n",
       "      <th>item_id</th>\n",
       "      <th>interaction_type</th>\n",
       "      <th>jobroles</th>\n",
       "      <th>career_level_user</th>\n",
       "      <th>discipline_id_user</th>\n",
       "      <th>industry_id_user</th>\n",
       "      <th>country_user</th>\n",
       "      <th>region_user</th>\n",
       "      <th>experience_n_entries_class</th>\n",
       "      <th>...</th>\n",
       "      <th>industry_id_item</th>\n",
       "      <th>country_item</th>\n",
       "      <th>is_payed</th>\n",
       "      <th>region_item</th>\n",
       "      <th>latitude</th>\n",
       "      <th>longitude</th>\n",
       "      <th>employment</th>\n",
       "      <th>tags</th>\n",
       "      <th>created_at</th>\n",
       "      <th>created_at_dt</th>\n",
       "    </tr>\n",
       "  </thead>\n",
       "  <tbody>\n",
       "    <tr>\n",
       "      <th>0</th>\n",
       "      <td>252360</td>\n",
       "      <td>4020</td>\n",
       "      <td>5</td>\n",
       "      <td>{1774824}</td>\n",
       "      <td>3</td>\n",
       "      <td>17</td>\n",
       "      <td>4</td>\n",
       "      <td>de</td>\n",
       "      <td>3</td>\n",
       "      <td>3</td>\n",
       "      <td>...</td>\n",
       "      <td>16</td>\n",
       "      <td>de</td>\n",
       "      <td>0</td>\n",
       "      <td>2</td>\n",
       "      <td>49.5</td>\n",
       "      <td>11.1</td>\n",
       "      <td>1</td>\n",
       "      <td>{2791363, 595799, 898848, 1881148, 4100957, 17...</td>\n",
       "      <td>1450998000</td>\n",
       "      <td>2015-12-24 23:00:00</td>\n",
       "    </tr>\n",
       "    <tr>\n",
       "      <th>1</th>\n",
       "      <td>252360</td>\n",
       "      <td>1924354</td>\n",
       "      <td>5</td>\n",
       "      <td>{1774824}</td>\n",
       "      <td>3</td>\n",
       "      <td>17</td>\n",
       "      <td>4</td>\n",
       "      <td>de</td>\n",
       "      <td>3</td>\n",
       "      <td>3</td>\n",
       "      <td>...</td>\n",
       "      <td>16</td>\n",
       "      <td>de</td>\n",
       "      <td>0</td>\n",
       "      <td>7</td>\n",
       "      <td>50.1</td>\n",
       "      <td>8.7</td>\n",
       "      <td>1</td>\n",
       "      <td>{2791363, 595799, 1774824, 4481635, 800184, 28...</td>\n",
       "      <td>1479510000</td>\n",
       "      <td>2016-11-18 23:00:00</td>\n",
       "    </tr>\n",
       "    <tr>\n",
       "      <th>2</th>\n",
       "      <td>709236</td>\n",
       "      <td>9860</td>\n",
       "      <td>5</td>\n",
       "      <td>{1469577}</td>\n",
       "      <td>3</td>\n",
       "      <td>0</td>\n",
       "      <td>0</td>\n",
       "      <td>de</td>\n",
       "      <td>0</td>\n",
       "      <td>3</td>\n",
       "      <td>...</td>\n",
       "      <td>16</td>\n",
       "      <td>de</td>\n",
       "      <td>0</td>\n",
       "      <td>5</td>\n",
       "      <td>53.1</td>\n",
       "      <td>8.8</td>\n",
       "      <td>1</td>\n",
       "      <td>{3989138, 908629, 3671787, 4538695, 3627481, 4...</td>\n",
       "      <td>1482447600</td>\n",
       "      <td>2016-12-22 23:00:00</td>\n",
       "    </tr>\n",
       "    <tr>\n",
       "      <th>3</th>\n",
       "      <td>709236</td>\n",
       "      <td>9860</td>\n",
       "      <td>5</td>\n",
       "      <td>{1469577}</td>\n",
       "      <td>3</td>\n",
       "      <td>0</td>\n",
       "      <td>0</td>\n",
       "      <td>de</td>\n",
       "      <td>0</td>\n",
       "      <td>3</td>\n",
       "      <td>...</td>\n",
       "      <td>16</td>\n",
       "      <td>de</td>\n",
       "      <td>0</td>\n",
       "      <td>5</td>\n",
       "      <td>53.1</td>\n",
       "      <td>8.8</td>\n",
       "      <td>1</td>\n",
       "      <td>{3989138, 908629, 3671787, 4538695, 3627481, 4...</td>\n",
       "      <td>1482447600</td>\n",
       "      <td>2016-12-22 23:00:00</td>\n",
       "    </tr>\n",
       "    <tr>\n",
       "      <th>4</th>\n",
       "      <td>709236</td>\n",
       "      <td>9860</td>\n",
       "      <td>5</td>\n",
       "      <td>{1469577}</td>\n",
       "      <td>3</td>\n",
       "      <td>0</td>\n",
       "      <td>0</td>\n",
       "      <td>de</td>\n",
       "      <td>0</td>\n",
       "      <td>3</td>\n",
       "      <td>...</td>\n",
       "      <td>16</td>\n",
       "      <td>de</td>\n",
       "      <td>0</td>\n",
       "      <td>5</td>\n",
       "      <td>53.1</td>\n",
       "      <td>8.8</td>\n",
       "      <td>1</td>\n",
       "      <td>{3989138, 908629, 3671787, 4538695, 3627481, 4...</td>\n",
       "      <td>1482447600</td>\n",
       "      <td>2016-12-22 23:00:00</td>\n",
       "    </tr>\n",
       "  </tbody>\n",
       "</table>\n",
       "<p>5 rows × 29 columns</p>\n",
       "</div>"
      ],
      "text/plain": [
       "   user_id  item_id  interaction_type   jobroles  career_level_user  \\\n",
       "0   252360     4020                 5  {1774824}                  3   \n",
       "1   252360  1924354                 5  {1774824}                  3   \n",
       "2   709236     9860                 5  {1469577}                  3   \n",
       "3   709236     9860                 5  {1469577}                  3   \n",
       "4   709236     9860                 5  {1469577}                  3   \n",
       "\n",
       "   discipline_id_user  industry_id_user country_user  region_user  \\\n",
       "0                  17                 4           de            3   \n",
       "1                  17                 4           de            3   \n",
       "2                   0                 0           de            0   \n",
       "3                   0                 0           de            0   \n",
       "4                   0                 0           de            0   \n",
       "\n",
       "   experience_n_entries_class         ...          industry_id_item  \\\n",
       "0                           3         ...                        16   \n",
       "1                           3         ...                        16   \n",
       "2                           3         ...                        16   \n",
       "3                           3         ...                        16   \n",
       "4                           3         ...                        16   \n",
       "\n",
       "   country_item  is_payed region_item  latitude  longitude employment  \\\n",
       "0            de         0           2      49.5       11.1          1   \n",
       "1            de         0           7      50.1        8.7          1   \n",
       "2            de         0           5      53.1        8.8          1   \n",
       "3            de         0           5      53.1        8.8          1   \n",
       "4            de         0           5      53.1        8.8          1   \n",
       "\n",
       "                                                tags  created_at  \\\n",
       "0  {2791363, 595799, 898848, 1881148, 4100957, 17...  1450998000   \n",
       "1  {2791363, 595799, 1774824, 4481635, 800184, 28...  1479510000   \n",
       "2  {3989138, 908629, 3671787, 4538695, 3627481, 4...  1482447600   \n",
       "3  {3989138, 908629, 3671787, 4538695, 3627481, 4...  1482447600   \n",
       "4  {3989138, 908629, 3671787, 4538695, 3627481, 4...  1482447600   \n",
       "\n",
       "        created_at_dt  \n",
       "0 2015-12-24 23:00:00  \n",
       "1 2016-11-18 23:00:00  \n",
       "2 2016-12-22 23:00:00  \n",
       "3 2016-12-22 23:00:00  \n",
       "4 2016-12-22 23:00:00  \n",
       "\n",
       "[5 rows x 29 columns]"
      ]
     },
     "execution_count": 7,
     "metadata": {},
     "output_type": "execute_result"
    }
   ],
   "source": [
    "# Merge data sets. Find all the information of users and items that have been contacted by recruiters\n",
    "data = recruiter_interactions.merge(users, on='user_id', how='inner')\n",
    "data = data.merge(items, on='item_id', how='inner', suffixes=('_user', '_item'))\n",
    "data.head()"
   ]
  },
  {
   "cell_type": "code",
   "execution_count": 8,
   "metadata": {
    "collapsed": false
   },
   "outputs": [
    {
     "data": {
      "text/plain": [
       "(100971, 28)"
      ]
     },
     "execution_count": 8,
     "metadata": {},
     "output_type": "execute_result"
    }
   ],
   "source": [
    "# Remove column interaction_type as it is always 3\n",
    "data.drop(['interaction_type'], axis=1, inplace=True)\n",
    "data.shape"
   ]
  },
  {
   "cell_type": "code",
   "execution_count": 9,
   "metadata": {
    "collapsed": false
   },
   "outputs": [
    {
     "name": "stdout",
     "output_type": "stream",
     "text": [
      "Index([u'user_id', u'item_id', u'jobroles', u'career_level_user',\n",
      "       u'discipline_id_user', u'industry_id_user', u'country_user',\n",
      "       u'region_user', u'experience_n_entries_class',\n",
      "       u'experience_years_experience', u'experience_years_in_current',\n",
      "       u'edu_degree', u'edu_fieldofstudies', u'wtcj', u'premium', u'title',\n",
      "       u'career_level_item', u'discipline_id_item', u'industry_id_item',\n",
      "       u'country_item', u'is_payed', u'region_item', u'latitude', u'longitude',\n",
      "       u'employment', u'tags', u'created_at', u'created_at_dt'],\n",
      "      dtype='object')\n"
     ]
    }
   ],
   "source": [
    "print data.columns"
   ]
  },
  {
   "cell_type": "code",
   "execution_count": 10,
   "metadata": {
    "collapsed": false
   },
   "outputs": [],
   "source": [
    "# Select all users and items who have not been involved with recruiters\n",
    "idx = users.user_id.isin(data.user_id)\n",
    "users_not_recruited = users.ix[~idx].reset_index(drop=True)\n",
    "idx = items.item_id.isin(data.item_id)\n",
    "items_not_recruited = items.ix[~idx].reset_index(drop=True)"
   ]
  },
  {
   "cell_type": "markdown",
   "metadata": {},
   "source": [
    "# Let's study each one of the columns separately"
   ]
  },
  {
   "cell_type": "markdown",
   "metadata": {},
   "source": [
    "## Career level"
   ]
  },
  {
   "cell_type": "markdown",
   "metadata": {},
   "source": [
    "Which career level do users have? Does it match the career level asked at the job?"
   ]
  },
  {
   "cell_type": "code",
   "execution_count": 11,
   "metadata": {
    "collapsed": false
   },
   "outputs": [
    {
     "data": {
      "text/plain": [
       "{0: 7161, 1: 700, 2: 3493, 3: 52602, 4: 21116, 5: 11797, 6: 4102}"
      ]
     },
     "execution_count": 11,
     "metadata": {},
     "output_type": "execute_result"
    }
   ],
   "source": [
    "data.career_level_user.value_counts().sort_index().to_dict()"
   ]
  },
  {
   "cell_type": "code",
   "execution_count": 12,
   "metadata": {
    "collapsed": false
   },
   "outputs": [
    {
     "data": {
      "text/plain": [
       "{1: 1043, 2: 1552, 3: 60931, 4: 26661, 5: 10516, 6: 268}"
      ]
     },
     "execution_count": 12,
     "metadata": {},
     "output_type": "execute_result"
    }
   ],
   "source": [
    "data.career_level_item.value_counts().sort_index().to_dict()"
   ]
  },
  {
   "cell_type": "markdown",
   "metadata": {},
   "source": [
    "Lets only look at the data for which we know the career level (ignore case 0)"
   ]
  },
  {
   "cell_type": "code",
   "execution_count": 13,
   "metadata": {
    "collapsed": false
   },
   "outputs": [
    {
     "name": "stdout",
     "output_type": "stream",
     "text": [
      "65.4269267669\n",
      "15.5271293039\n",
      "19.0459439292\n"
     ]
    }
   ],
   "source": [
    "subset = data[data.career_level_user!=0]\n",
    "n = float(len(subset))\n",
    "print np.sum(subset.career_level_item==subset.career_level_user)/n*100.0\n",
    "print np.sum(subset.career_level_item>subset.career_level_user)/n*100.0\n",
    "print np.sum(subset.career_level_item<subset.career_level_user)/n*100.0"
   ]
  },
  {
   "cell_type": "markdown",
   "metadata": {},
   "source": [
    "It looks important that a recruiter matches the career level of the user with the one of the job (65.5% of the times), or maybe gets a user over qualified (19.5%), but less times underqualified (15%)"
   ]
  },
  {
   "cell_type": "code",
   "execution_count": 14,
   "metadata": {
    "collapsed": false
   },
   "outputs": [
    {
     "data": {
      "text/plain": [
       "{-3: 92, -2: 1048, -1: 13426, 0: 61377, 1: 11986, 2: 5172, 3: 709}"
      ]
     },
     "execution_count": 14,
     "metadata": {},
     "output_type": "execute_result"
    }
   ],
   "source": [
    "diff_career_level = subset.career_level_user-subset.career_level_item\n",
    "diff_career_level.value_counts().sort_index().to_dict()"
   ]
  },
  {
   "cell_type": "markdown",
   "metadata": {},
   "source": [
    "If the level does not match, one up one down could be admissible"
   ]
  },
  {
   "cell_type": "markdown",
   "metadata": {},
   "source": [
    "How does the career level of the users contacted differ from the general users group? And what about the jobs? Do recruiters work only for a particular type of job career-level?"
   ]
  },
  {
   "cell_type": "code",
   "execution_count": 15,
   "metadata": {
    "collapsed": false
   },
   "outputs": [
    {
     "data": {
      "image/png": "[encoded data removed]",
      "text/plain": [
       "<matplotlib.figure.Figure at 0x118a27910>"
      ]
     },
     "metadata": {},
     "output_type": "display_data"
    }
   ],
   "source": [
    "career_lev_users = users_not_recruited[users_not_recruited.career_level!=0].career_level.value_counts()/float(len(users_not_recruited[users_not_recruited.career_level!=0]))*100\n",
    "career_lev_rec = subset.career_level_user.value_counts()/float(len(subset))*100\n",
    "df = pd.DataFrame({'career_lev_users':career_lev_users, 'career_lev_rec':career_lev_rec})\n",
    "df.plot(kind='bar', figsize=(15, 3), color=['blue', 'green']);"
   ]
  },
  {
   "cell_type": "code",
   "execution_count": 16,
   "metadata": {
    "collapsed": false
   },
   "outputs": [
    {
     "data": {
      "image/png": "[encoded data removed]",
      "text/plain": [
       "<matplotlib.figure.Figure at 0x1725b8790>"
      ]
     },
     "metadata": {},
     "output_type": "display_data"
    }
   ],
   "source": [
    "career_lev_item = items_not_recruited[items_not_recruited.career_level!=0].career_level.value_counts()/float(len(items_not_recruited[items_not_recruited.career_level!=0]))*100\n",
    "career_lev_rec = subset.career_level_item.value_counts()/float(len(subset))*100\n",
    "df = pd.DataFrame({'career_lev_item':career_lev_item, 'career_lev_rec':career_lev_rec})\n",
    "df.plot(kind='bar', figsize=(15, 3), color=['green', 'blue']);"
   ]
  },
  {
   "cell_type": "markdown",
   "metadata": {},
   "source": [
    "Conclusion:\n",
    "\n",
    "1. Recruiters prefer (user,item) pairs with the same career level, and maximum one up or one down\n",
    "2. Recruiters are used more (in proportion) for jobs with career level >= manager"
   ]
  },
  {
   "cell_type": "markdown",
   "metadata": {},
   "source": [
    "## Discipline id"
   ]
  },
  {
   "cell_type": "markdown",
   "metadata": {},
   "source": [
    "Let's ask the same questions"
   ]
  },
  {
   "cell_type": "code",
   "execution_count": 17,
   "metadata": {
    "collapsed": false
   },
   "outputs": [
    {
     "data": {
      "text/plain": [
       "0     43040\n",
       "21    18434\n",
       "17    11536\n",
       "2      6820\n",
       "4      6567\n",
       "5      6155\n",
       "16     2948\n",
       "7      2198\n",
       "3      1113\n",
       "18      377\n",
       "11      374\n",
       "1       283\n",
       "23      273\n",
       "13      239\n",
       "6       213\n",
       "8       106\n",
       "9        94\n",
       "22       61\n",
       "14       58\n",
       "20       40\n",
       "10       37\n",
       "19        5\n",
       "Name: discipline_id_user, dtype: int64"
      ]
     },
     "execution_count": 17,
     "metadata": {},
     "output_type": "execute_result"
    }
   ],
   "source": [
    "data.discipline_id_user.value_counts()"
   ]
  },
  {
   "cell_type": "code",
   "execution_count": 18,
   "metadata": {
    "collapsed": false
   },
   "outputs": [
    {
     "data": {
      "text/plain": [
       "21    22087\n",
       "17    15495\n",
       "5     12781\n",
       "7     11705\n",
       "16    10873\n",
       "1      8614\n",
       "2      5024\n",
       "4      3299\n",
       "3      2501\n",
       "23     2057\n",
       "12     1584\n",
       "13     1203\n",
       "11      822\n",
       "6       749\n",
       "20      447\n",
       "19      441\n",
       "10      413\n",
       "22      323\n",
       "15      194\n",
       "18      157\n",
       "8       105\n",
       "14       97\n",
       "Name: discipline_id_item, dtype: int64"
      ]
     },
     "execution_count": 18,
     "metadata": {},
     "output_type": "execute_result"
    }
   ],
   "source": [
    "data.discipline_id_item.value_counts()"
   ]
  },
  {
   "cell_type": "code",
   "execution_count": 19,
   "metadata": {
    "collapsed": false
   },
   "outputs": [
    {
     "name": "stdout",
     "output_type": "stream",
     "text": [
      "69.0545649134\n"
     ]
    }
   ],
   "source": [
    "# Remove the unknowns which are labelled as 0 and compute percentages\n",
    "subset = data[data.discipline_id_user!=0]\n",
    "n = float(len(subset))\n",
    "print np.sum(subset.discipline_id_item==subset.discipline_id_user)/n*100.0"
   ]
  },
  {
   "cell_type": "markdown",
   "metadata": {},
   "source": [
    "Having a discpline match, seems important for a recruiter, however there are many users that do not specify the discipline"
   ]
  },
  {
   "cell_type": "markdown",
   "metadata": {},
   "source": [
    "Are recruiters used more for jobs of a specific discipline?"
   ]
  },
  {
   "cell_type": "code",
   "execution_count": 20,
   "metadata": {
    "collapsed": false
   },
   "outputs": [
    {
     "data": {
      "image/png": "[encoded data removed]",
      "text/plain": [
       "<matplotlib.figure.Figure at 0x15e9ab410>"
      ]
     },
     "metadata": {},
     "output_type": "display_data"
    }
   ],
   "source": [
    "discipline_lev_user = users_not_recruited[users_not_recruited.discipline_id!=0].discipline_id.value_counts()/len(users_not_recruited[users_not_recruited.discipline_id!=0])*100\n",
    "discipline_lev_rec = subset.discipline_id_user.value_counts()/float(len(subset))*100\n",
    "df = pd.DataFrame({'discipline_lev_user':discipline_lev_user, 'discipline_lev_rec':discipline_lev_rec})\n",
    "df.plot(kind='bar', figsize=(15, 3), color=['blue', 'green']);"
   ]
  },
  {
   "cell_type": "code",
   "execution_count": 21,
   "metadata": {
    "collapsed": false
   },
   "outputs": [
    {
     "data": {
      "image/png": "[encoded data removed]",
      "text/plain": [
       "<matplotlib.figure.Figure at 0x163111dd0>"
      ]
     },
     "metadata": {},
     "output_type": "display_data"
    }
   ],
   "source": [
    "discipline_lev_item = items_not_recruited[items_not_recruited.discipline_id!=0].discipline_id.value_counts()/len(items_not_recruited[items_not_recruited.discipline_id!=0])*100\n",
    "discipline_lev_rec = subset.discipline_id_item.value_counts()/float(len(subset))*100\n",
    "df = pd.DataFrame({'discipline_lev_item':discipline_lev_item, 'discipline_lev_rec':discipline_lev_rec})\n",
    "df.plot(kind='bar', figsize=(15, 3), color=['green', 'blue']);"
   ]
  },
  {
   "cell_type": "markdown",
   "metadata": {},
   "source": [
    "Conclusions\n",
    "\n",
    "    1. Many users do not specify discipline, but recruiters seem to like a match (70%)\n",
    "    2. There are disciplines like 21 or 17 or 7 or 2 where recruiters are normally used"
   ]
  },
  {
   "cell_type": "markdown",
   "metadata": {},
   "source": [
    "## industry_id"
   ]
  },
  {
   "cell_type": "code",
   "execution_count": 22,
   "metadata": {
    "collapsed": false
   },
   "outputs": [
    {
     "data": {
      "text/plain": [
       "16    32183\n",
       "0     31356\n",
       "18     9731\n",
       "9      7936\n",
       "15     6226\n",
       "20     2959\n",
       "7      2692\n",
       "8      2030\n",
       "3      1294\n",
       "6      1216\n",
       "Name: industry_id_user, dtype: int64"
      ]
     },
     "execution_count": 22,
     "metadata": {},
     "output_type": "execute_result"
    }
   ],
   "source": [
    "data.industry_id_user.value_counts().head(n=10)"
   ]
  },
  {
   "cell_type": "code",
   "execution_count": 23,
   "metadata": {
    "collapsed": false
   },
   "outputs": [
    {
     "data": {
      "text/plain": [
       "16    48541\n",
       "9     15904\n",
       "3     14190\n",
       "15     5904\n",
       "21     3825\n",
       "13     2450\n",
       "14     2186\n",
       "8      1581\n",
       "7      1383\n",
       "5      1104\n",
       "Name: industry_id_item, dtype: int64"
      ]
     },
     "execution_count": 23,
     "metadata": {},
     "output_type": "execute_result"
    }
   ],
   "source": [
    "data.industry_id_item.value_counts().head(n=10)"
   ]
  },
  {
   "cell_type": "code",
   "execution_count": 24,
   "metadata": {
    "collapsed": false
   },
   "outputs": [
    {
     "name": "stdout",
     "output_type": "stream",
     "text": [
      "50.4273504274\n"
     ]
    }
   ],
   "source": [
    "subset = data[data.industry_id_user!=0]\n",
    "n = float(len(subset))\n",
    "print np.sum(subset.industry_id_item==subset.industry_id_user)/n*100.0"
   ]
  },
  {
   "cell_type": "markdown",
   "metadata": {},
   "source": [
    "Having a match is not as relevant as before"
   ]
  },
  {
   "cell_type": "code",
   "execution_count": 25,
   "metadata": {
    "collapsed": false
   },
   "outputs": [
    {
     "data": {
      "image/png": "[encoded data removed]",
      "text/plain": [
       "<matplotlib.figure.Figure at 0x171c1b150>"
      ]
     },
     "metadata": {},
     "output_type": "display_data"
    }
   ],
   "source": [
    "industry_lev_user = users_not_recruited[users_not_recruited.industry_id!=0].industry_id.value_counts()/len(users_not_recruited[users_not_recruited.industry_id!=0])*100\n",
    "industry_lev_rec = subset.industry_id_user.value_counts()/float(len(subset))*100\n",
    "df = pd.DataFrame({'industry_lev_user':industry_lev_user, 'industry_lev_rec':industry_lev_rec})\n",
    "df.plot(kind='bar', figsize=(15, 3), color=['blue', 'green']);"
   ]
  },
  {
   "cell_type": "code",
   "execution_count": 26,
   "metadata": {
    "collapsed": false
   },
   "outputs": [
    {
     "data": {
      "image/png": "[encoded data removed]",
      "text/plain": [
       "<matplotlib.figure.Figure at 0x1715d7650>"
      ]
     },
     "metadata": {},
     "output_type": "display_data"
    }
   ],
   "source": [
    "industry_lev_item = items_not_recruited[items_not_recruited.industry_id!=0].industry_id.value_counts()/len(items_not_recruited[items_not_recruited.industry_id!=0])*100\n",
    "industry_lev_rec = subset.industry_id_item.value_counts()/float(len(subset))*100\n",
    "df = pd.DataFrame({'industry_lev_item':industry_lev_item, 'industry_lev_rec':industry_lev_rec})\n",
    "df.plot(kind='bar', figsize=(15, 3), color=['green', 'blue']);"
   ]
  },
  {
   "cell_type": "markdown",
   "metadata": {},
   "source": [
    "Conclusions: \n",
    "\n",
    "    1. Recruiters are used more for industry 16 (jobs and users) and for users from industry 9 and 18"
   ]
  },
  {
   "cell_type": "markdown",
   "metadata": {},
   "source": [
    "## experience_n_entries_class"
   ]
  },
  {
   "cell_type": "code",
   "execution_count": 27,
   "metadata": {
    "collapsed": false
   },
   "outputs": [
    {
     "data": {
      "text/plain": [
       "3    74.526349\n",
       "2    18.545919\n",
       "1     6.927732\n",
       "Name: experience_n_entries_class, dtype: float64"
      ]
     },
     "execution_count": 27,
     "metadata": {},
     "output_type": "execute_result"
    }
   ],
   "source": [
    "data.experience_n_entries_class.value_counts()/float(len(data))*100"
   ]
  },
  {
   "cell_type": "code",
   "execution_count": 28,
   "metadata": {
    "collapsed": false
   },
   "outputs": [
    {
     "data": {
      "text/plain": [
       "3    47.258132\n",
       "1    29.583308\n",
       "2    23.158560\n",
       "Name: experience_n_entries_class, dtype: float64"
      ]
     },
     "execution_count": 28,
     "metadata": {},
     "output_type": "execute_result"
    }
   ],
   "source": [
    "users_not_recruited.experience_n_entries_class.value_counts()/float(len(users_not_recruited))*100"
   ]
  },
  {
   "cell_type": "markdown",
   "metadata": {},
   "source": [
    "Conclusions: \n",
    "\n",
    "    1. Important to have value 3 for recruiters and not value 1"
   ]
  },
  {
   "cell_type": "markdown",
   "metadata": {},
   "source": [
    "## experience_years_experience & experience_years_in_current"
   ]
  },
  {
   "cell_type": "code",
   "execution_count": 29,
   "metadata": {
    "collapsed": false
   },
   "outputs": [
    {
     "data": {
      "text/plain": [
       "4    25.455824\n",
       "5    23.052163\n",
       "7    21.275416\n",
       "6    13.812877\n",
       "3    10.183122\n",
       "0     4.218043\n",
       "2     1.576690\n",
       "1     0.425865\n",
       "Name: experience_years_experience, dtype: float64"
      ]
     },
     "execution_count": 29,
     "metadata": {},
     "output_type": "execute_result"
    }
   ],
   "source": [
    "data.experience_years_experience.value_counts()/float(len(data))*100"
   ]
  },
  {
   "cell_type": "code",
   "execution_count": 30,
   "metadata": {
    "collapsed": false
   },
   "outputs": [
    {
     "data": {
      "text/plain": [
       "7    20.992196\n",
       "5    19.980986\n",
       "4    18.294186\n",
       "6    17.652895\n",
       "0    16.688351\n",
       "3     3.834778\n",
       "2     2.038667\n",
       "1     0.517940\n",
       "Name: experience_years_experience, dtype: float64"
      ]
     },
     "execution_count": 30,
     "metadata": {},
     "output_type": "execute_result"
    }
   ],
   "source": [
    "users_not_recruited.experience_years_experience.value_counts()/float(len(users_not_recruited))*100"
   ]
  },
  {
   "cell_type": "markdown",
   "metadata": {},
   "source": [
    "Conclusion:\n",
    "1. Recruiters do not contact users with 0, 1, 2 or 3 "
   ]
  },
  {
   "cell_type": "code",
   "execution_count": 31,
   "metadata": {
    "collapsed": false
   },
   "outputs": [
    {
     "data": {
      "text/plain": [
       "2    41.901140\n",
       "1    33.389785\n",
       "4     8.037951\n",
       "3     7.149578\n",
       "0     5.402541\n",
       "5     3.655505\n",
       "6     0.414971\n",
       "7     0.048529\n",
       "Name: experience_years_in_current, dtype: float64"
      ]
     },
     "execution_count": 31,
     "metadata": {},
     "output_type": "execute_result"
    }
   ],
   "source": [
    "data.experience_years_in_current.value_counts()/float(len(data))*100"
   ]
  },
  {
   "cell_type": "code",
   "execution_count": 32,
   "metadata": {
    "collapsed": false
   },
   "outputs": [
    {
     "data": {
      "text/plain": [
       "2    25.089455\n",
       "0    18.490345\n",
       "4    16.831625\n",
       "3    14.078124\n",
       "1    13.345439\n",
       "5     6.011638\n",
       "6     3.553645\n",
       "7     2.599730\n",
       "Name: experience_years_in_current, dtype: float64"
      ]
     },
     "execution_count": 32,
     "metadata": {},
     "output_type": "execute_result"
    }
   ],
   "source": [
    "users_not_recruited.experience_years_in_current.value_counts()/float(len(users_not_recruited))*100"
   ]
  },
  {
   "cell_type": "markdown",
   "metadata": {},
   "source": [
    "Conclusion:\n",
    "    1. Recruiters seem to target more users with 1 or 2 years at the current job, and nearly never users with more than 5 years at current job"
   ]
  },
  {
   "cell_type": "markdown",
   "metadata": {},
   "source": [
    "## edu_degree"
   ]
  },
  {
   "cell_type": "code",
   "execution_count": 33,
   "metadata": {
    "collapsed": false
   },
   "outputs": [
    {
     "data": {
      "text/plain": [
       "2    42.319082\n",
       "0    39.288509\n",
       "1    16.956354\n",
       "3     1.436056\n",
       "Name: edu_degree, dtype: float64"
      ]
     },
     "execution_count": 33,
     "metadata": {},
     "output_type": "execute_result"
    }
   ],
   "source": [
    "data.edu_degree.value_counts()/float(len(data))*100"
   ]
  },
  {
   "cell_type": "code",
   "execution_count": 34,
   "metadata": {
    "collapsed": false
   },
   "outputs": [
    {
     "data": {
      "text/plain": [
       "0    64.624478\n",
       "2    21.829245\n",
       "1     9.175641\n",
       "3     4.370636\n",
       "Name: edu_degree, dtype: float64"
      ]
     },
     "execution_count": 34,
     "metadata": {},
     "output_type": "execute_result"
    }
   ],
   "source": [
    "users_not_recruited.edu_degree.value_counts()/float(len(users_not_recruited))*100"
   ]
  },
  {
   "cell_type": "markdown",
   "metadata": {},
   "source": [
    "Conclusion:\n",
    "    1. Recruiters contact more users with masters degree "
   ]
  },
  {
   "cell_type": "markdown",
   "metadata": {},
   "source": [
    "## field of studies"
   ]
  },
  {
   "cell_type": "code",
   "execution_count": 35,
   "metadata": {
    "collapsed": false
   },
   "outputs": [],
   "source": [
    "# Count how many times each field of study appears\n",
    "field_of_studies = data.edu_fieldofstudies.apply(lambda x: list(x))\n",
    "field_of_studies_users_not_rec = users_not_recruited.edu_fieldofstudies.apply(lambda x: list(x))"
   ]
  },
  {
   "cell_type": "code",
   "execution_count": 36,
   "metadata": {
    "collapsed": false,
    "scrolled": false
   },
   "outputs": [],
   "source": [
    "import itertools\n",
    "field_of_studies = list(itertools.chain.from_iterable(field_of_studies.values.flatten()))\n",
    "field_of_studies_users_not_rec = list(itertools.chain.from_iterable(field_of_studies_users_not_rec.values.flatten()))"
   ]
  },
  {
   "cell_type": "code",
   "execution_count": 37,
   "metadata": {
    "collapsed": false
   },
   "outputs": [
    {
     "data": {
      "text/plain": [
       "{'0': 24.94023168874325,\n",
       " '1': 0.3553791480131075,\n",
       " '2': 6.441131674897309,\n",
       " '3': 6.951585360225228,\n",
       " '4': 3.835325610375225,\n",
       " '5': 9.994000092306273,\n",
       " '6': 0.07661420593529329,\n",
       " '7': 9.476161905201458,\n",
       " '8': 37.444962385194074,\n",
       " '9': 0.484607929108783}"
      ]
     },
     "execution_count": 37,
     "metadata": {},
     "output_type": "execute_result"
    }
   ],
   "source": [
    "from collections import Counter\n",
    "{k: v/float(len(field_of_studies))*100 for k, v in dict(Counter(field_of_studies)).items()}"
   ]
  },
  {
   "cell_type": "code",
   "execution_count": 38,
   "metadata": {
    "collapsed": false
   },
   "outputs": [
    {
     "data": {
      "text/plain": [
       "{'0': 49.011563541372404,\n",
       " '1': 0.36099364737720185,\n",
       " '2': 4.194573103377083,\n",
       " '3': 12.566535023492403,\n",
       " '4': 1.7574332857159636,\n",
       " '5': 9.450430441654712,\n",
       " '6': 0.8250312006067659,\n",
       " '7': 4.295453519904411,\n",
       " '8': 16.703868380727144,\n",
       " '9': 0.8341178557719113}"
      ]
     },
     "execution_count": 38,
     "metadata": {},
     "output_type": "execute_result"
    }
   ],
   "source": [
    "{k: v/float(len(field_of_studies_users_not_rec))*100 for k, v in dict(Counter(field_of_studies_users_not_rec)).items()}"
   ]
  },
  {
   "cell_type": "markdown",
   "metadata": {},
   "source": [
    "Conclusions: \n",
    "    1. Recruiters like the field of study 8\n",
    "    2. field of study 0 is less popular amongst recruiters"
   ]
  },
  {
   "cell_type": "markdown",
   "metadata": {},
   "source": [
    "## WTCJ"
   ]
  },
  {
   "cell_type": "code",
   "execution_count": 39,
   "metadata": {
    "collapsed": false
   },
   "outputs": [
    {
     "data": {
      "text/plain": [
       "1    69.441721\n",
       "0    30.558279\n",
       "Name: wtcj, dtype: float64"
      ]
     },
     "execution_count": 39,
     "metadata": {},
     "output_type": "execute_result"
    }
   ],
   "source": [
    "data.wtcj.value_counts()/len(data)*100"
   ]
  },
  {
   "cell_type": "code",
   "execution_count": 40,
   "metadata": {
    "collapsed": false
   },
   "outputs": [
    {
     "data": {
      "text/plain": [
       "1    76.837428\n",
       "0    23.162572\n",
       "Name: wtcj, dtype: float64"
      ]
     },
     "execution_count": 40,
     "metadata": {},
     "output_type": "execute_result"
    }
   ],
   "source": [
    "users_not_recruited.wtcj.value_counts()/len(users_not_recruited)*100"
   ]
  },
  {
   "cell_type": "markdown",
   "metadata": {},
   "source": [
    "Conclusion:\n",
    "    1. There is not a lot of difference between both groups"
   ]
  },
  {
   "cell_type": "markdown",
   "metadata": {},
   "source": [
    "## premium"
   ]
  },
  {
   "cell_type": "code",
   "execution_count": 41,
   "metadata": {
    "collapsed": false
   },
   "outputs": [
    {
     "data": {
      "text/plain": [
       "0    60.376742\n",
       "1    39.623258\n",
       "Name: premium, dtype: float64"
      ]
     },
     "execution_count": 41,
     "metadata": {},
     "output_type": "execute_result"
    }
   ],
   "source": [
    "data.premium.value_counts()/len(data)*100"
   ]
  },
  {
   "cell_type": "code",
   "execution_count": 42,
   "metadata": {
    "collapsed": false
   },
   "outputs": [
    {
     "data": {
      "text/plain": [
       "0    80.797028\n",
       "1    19.202972\n",
       "Name: premium, dtype: float64"
      ]
     },
     "execution_count": 42,
     "metadata": {},
     "output_type": "execute_result"
    }
   ],
   "source": [
    "users_not_recruited.premium.value_counts()/len(users_not_recruited)*100"
   ]
  },
  {
   "cell_type": "markdown",
   "metadata": {},
   "source": [
    "Conclusion:\n",
    "1. The proportion of premium users contacted by recruiters is double"
   ]
  },
  {
   "cell_type": "markdown",
   "metadata": {},
   "source": [
    "## employment"
   ]
  },
  {
   "cell_type": "code",
   "execution_count": 43,
   "metadata": {
    "collapsed": false
   },
   "outputs": [
    {
     "data": {
      "text/plain": [
       "1    95.960226\n",
       "2     2.681958\n",
       "3     1.079518\n",
       "4     0.278298\n",
       "Name: employment, dtype: float64"
      ]
     },
     "execution_count": 43,
     "metadata": {},
     "output_type": "execute_result"
    }
   ],
   "source": [
    "data.employment.value_counts()/float(len(data))*100"
   ]
  },
  {
   "cell_type": "code",
   "execution_count": 44,
   "metadata": {
    "collapsed": false
   },
   "outputs": [
    {
     "data": {
      "text/plain": [
       "1    90.319338\n",
       "2     6.293381\n",
       "4     2.038272\n",
       "3     1.343489\n",
       "0     0.005520\n",
       "Name: employment, dtype: float64"
      ]
     },
     "execution_count": 44,
     "metadata": {},
     "output_type": "execute_result"
    }
   ],
   "source": [
    "items_not_recruited.employment.value_counts()/float(len(items_not_recruited))*100"
   ]
  },
  {
   "cell_type": "markdown",
   "metadata": {},
   "source": [
    "Conclusions: \n",
    "    1. Both groups have majority of jobs full time"
   ]
  },
  {
   "cell_type": "markdown",
   "metadata": {},
   "source": [
    "## title & tag"
   ]
  },
  {
   "cell_type": "code",
   "execution_count": 45,
   "metadata": {
    "collapsed": false
   },
   "outputs": [
    {
     "data": {
      "text/plain": [
       "0                                            {1774824}\n",
       "1                           {2791363, 1774824, 851763}\n",
       "2    {472623, 2568100, 3196022, 1469577, 1207732, 2...\n",
       "3    {472623, 2568100, 3196022, 1469577, 1207732, 2...\n",
       "4    {472623, 2568100, 3196022, 1469577, 1207732, 2...\n",
       "Name: title, dtype: object"
      ]
     },
     "execution_count": 45,
     "metadata": {},
     "output_type": "execute_result"
    }
   ],
   "source": [
    "data.title.head()"
   ]
  },
  {
   "cell_type": "code",
   "execution_count": 46,
   "metadata": {
    "collapsed": false
   },
   "outputs": [
    {
     "data": {
      "text/plain": [
       "0    {2791363, 595799, 898848, 1881148, 4100957, 17...\n",
       "1    {2791363, 595799, 1774824, 4481635, 800184, 28...\n",
       "2    {3989138, 908629, 3671787, 4538695, 3627481, 4...\n",
       "3    {3989138, 908629, 3671787, 4538695, 3627481, 4...\n",
       "4    {3989138, 908629, 3671787, 4538695, 3627481, 4...\n",
       "Name: tags, dtype: object"
      ]
     },
     "execution_count": 46,
     "metadata": {},
     "output_type": "execute_result"
    }
   ],
   "source": [
    "data.tags.head()"
   ]
  },
  {
   "cell_type": "code",
   "execution_count": 47,
   "metadata": {
    "collapsed": false
   },
   "outputs": [],
   "source": [
    "def intersect(x):\n",
    "    return x[0]&x[1]"
   ]
  },
  {
   "cell_type": "markdown",
   "metadata": {},
   "source": [
    "Find the intersection between titles and tags"
   ]
  },
  {
   "cell_type": "code",
   "execution_count": 48,
   "metadata": {
    "collapsed": false
   },
   "outputs": [],
   "source": [
    "data['title_tag_match'] = data[['title', 'tags']].apply(intersect, axis=1)\n",
    "items_not_recruited['title_tag_match'] = items_not_recruited[['title', 'tags']].apply(intersect, axis=1)"
   ]
  },
  {
   "cell_type": "code",
   "execution_count": 49,
   "metadata": {
    "collapsed": false
   },
   "outputs": [
    {
     "data": {
      "text/plain": [
       "array([set(['1774824']), set(['2791363', '851763', '1774824']),\n",
       "       set(['3196022', '1469577', '2622321']), ..., set([]), set([]),\n",
       "       set([])], dtype=object)"
      ]
     },
     "execution_count": 49,
     "metadata": {},
     "output_type": "execute_result"
    }
   ],
   "source": [
    "data.title_tag_match.values"
   ]
  },
  {
   "cell_type": "code",
   "execution_count": 50,
   "metadata": {
    "collapsed": false
   },
   "outputs": [
    {
     "data": {
      "text/plain": [
       "828"
      ]
     },
     "execution_count": 50,
     "metadata": {},
     "output_type": "execute_result"
    }
   ],
   "source": [
    "len(set(itertools.chain(*data.title_tag_match.values)))"
   ]
  },
  {
   "cell_type": "markdown",
   "metadata": {},
   "source": [
    "# TODO: Falta mirar title_tag_match"
   ]
  },
  {
   "cell_type": "code",
   "execution_count": 51,
   "metadata": {
    "collapsed": false
   },
   "outputs": [
    {
     "data": {
      "text/plain": [
       "3     22.931337\n",
       "2     20.639590\n",
       "1     20.085965\n",
       "4     10.612948\n",
       "5      9.193729\n",
       "6      7.614067\n",
       "8      4.601321\n",
       "7      2.031276\n",
       "10     0.836874\n",
       "9      0.727932\n",
       "12     0.385259\n",
       "11     0.278298\n",
       "14     0.027731\n",
       "13     0.021788\n",
       "15     0.008913\n",
       "17     0.002971\n",
       "Name: num_titles, dtype: float64"
      ]
     },
     "execution_count": 51,
     "metadata": {},
     "output_type": "execute_result"
    }
   ],
   "source": [
    "# Count how many titles\n",
    "data['num_titles'] = data.title.apply(len)\n",
    "data.num_titles.value_counts()/float(len(data))*100"
   ]
  },
  {
   "cell_type": "code",
   "execution_count": 52,
   "metadata": {
    "collapsed": false
   },
   "outputs": [
    {
     "data": {
      "text/plain": [
       "1     26.406530\n",
       "2     22.427050\n",
       "3     18.302127\n",
       "4     12.166227\n",
       "5      8.292935\n",
       "6      5.056617\n",
       "7      3.057523\n",
       "8      1.840157\n",
       "9      1.097148\n",
       "10     0.642648\n",
       "11     0.351685\n",
       "12     0.179868\n",
       "13     0.086867\n",
       "14     0.043625\n",
       "15     0.026911\n",
       "16     0.011117\n",
       "17     0.006287\n",
       "18     0.002530\n",
       "19     0.000767\n",
       "20     0.000690\n",
       "22     0.000383\n",
       "23     0.000153\n",
       "21     0.000077\n",
       "29     0.000077\n",
       "Name: num_titles, dtype: float64"
      ]
     },
     "execution_count": 52,
     "metadata": {},
     "output_type": "execute_result"
    }
   ],
   "source": [
    "items_not_recruited['num_titles'] = items_not_recruited.title.apply(len)\n",
    "items_not_recruited.num_titles.value_counts()/float(len(items_not_recruited))*100"
   ]
  },
  {
   "cell_type": "markdown",
   "metadata": {
    "collapsed": false
   },
   "source": [
    "Conclusions:\n",
    "\n",
    "1. Not much to extract... at the moment"
   ]
  },
  {
   "cell_type": "markdown",
   "metadata": {},
   "source": [
    "## is_payed"
   ]
  },
  {
   "cell_type": "code",
   "execution_count": 53,
   "metadata": {
    "collapsed": false
   },
   "outputs": [
    {
     "data": {
      "text/plain": [
       "1    74.692734\n",
       "0    25.307266\n",
       "Name: is_payed, dtype: float64"
      ]
     },
     "execution_count": 53,
     "metadata": {},
     "output_type": "execute_result"
    }
   ],
   "source": [
    "data.is_payed.value_counts()/float(len(data))*100"
   ]
  },
  {
   "cell_type": "code",
   "execution_count": 54,
   "metadata": {
    "collapsed": false
   },
   "outputs": [
    {
     "data": {
      "text/plain": [
       "0    87.390391\n",
       "1    12.609609\n",
       "Name: is_payed, dtype: float64"
      ]
     },
     "execution_count": 54,
     "metadata": {},
     "output_type": "execute_result"
    }
   ],
   "source": [
    "items_not_recruited.is_payed.value_counts()/float(len(items_not_recruited))*100"
   ]
  },
  {
   "cell_type": "markdown",
   "metadata": {
    "collapsed": true
   },
   "source": [
    "Conclusions:\n",
    "    1. Recruiters are used for paid posts"
   ]
  },
  {
   "cell_type": "markdown",
   "metadata": {},
   "source": [
    "## Geography"
   ]
  },
  {
   "cell_type": "code",
   "execution_count": 55,
   "metadata": {
    "collapsed": false
   },
   "outputs": [
    {
     "name": "stdout",
     "output_type": "stream",
     "text": [
      "95.3045924077\n"
     ]
    }
   ],
   "source": [
    "n = float(len(data))\n",
    "print np.sum(data.country_item==data.country_user)/n*100.0"
   ]
  },
  {
   "cell_type": "code",
   "execution_count": 56,
   "metadata": {
    "collapsed": false
   },
   "outputs": [
    {
     "name": "stdout",
     "output_type": "stream",
     "text": [
      "44.3345118896\n"
     ]
    }
   ],
   "source": [
    "n = float(len(data))\n",
    "print np.sum(data.region_item==data.region_user)/n*100.0"
   ]
  },
  {
   "cell_type": "markdown",
   "metadata": {},
   "source": [
    "# Conclusions"
   ]
  },
  {
   "cell_type": "markdown",
   "metadata": {},
   "source": [
    "I still need to think but some of the clonclusions I have extracted here I believe can be converted into features for our classification problem. I will revise this later."
   ]
  },
  {
   "cell_type": "markdown",
   "metadata": {},
   "source": [
    "# Possible features:"
   ]
  },
  {
   "cell_type": "markdown",
   "metadata": {},
   "source": [
    "- career level matches or career level +- 1\n",
    "- career level >=4\n",
    "- discipline matches\n",
    "- discipline in [1 or 17 or 7 or 2]\n",
    "- industry = 16, 9, 18\n",
    "- experience_n_entries_class = 3\n",
    "- experience_years_experience >= 4\n",
    "- experience_years_in_current<=2\n",
    "- experience_years_in_current>=5\n",
    "- edu_fieldofstudy contains 8"
   ]
  },
  {
   "cell_type": "code",
   "execution_count": null,
   "metadata": {
    "collapsed": true
   },
   "outputs": [],
   "source": []
  }
 ],
 "metadata": {
  "kernelspec": {
   "display_name": "Python 2",
   "language": "python",
   "name": "python2"
  },
  "language_info": {
   "codemirror_mode": {
    "name": "ipython",
    "version": 2
   },
   "file_extension": ".py",
   "mimetype": "text/x-python",
   "name": "python",
   "nbconvert_exporter": "python",
   "pygments_lexer": "ipython2",
   "version": "2.7.12"
  }
 },
 "nbformat": 4,
 "nbformat_minor": 1
}
