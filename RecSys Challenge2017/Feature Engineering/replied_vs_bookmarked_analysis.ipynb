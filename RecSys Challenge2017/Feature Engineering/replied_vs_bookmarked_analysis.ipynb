{
 "cells": [
  {
   "cell_type": "markdown",
   "metadata": {},
   "source": [
    "# REPLIED VS BOOKMARKED INTERACTIONS"
   ]
  },
  {
   "cell_type": "markdown",
   "metadata": {},
   "source": [
    "## Simple comparison between the pairs (user, item) that have had interaction 2 (bookmarked) versus interaction 3 (replied)"
   ]
  },
  {
   "cell_type": "markdown",
   "metadata": {},
   "source": [
    "This notebook tries to get insights into why users bookmark jobs and why they reply.\n",
    "\n",
    "Questions to answer:\n",
    "1. Do they bookmark first and then reply?\n",
    "2. Why would a user bookmark and not reply?\n",
    "3. Do they reply and then bookmark?\n",
    "4. Is there something extra that the job needs to have for the user to reply?"
   ]
  },
  {
   "cell_type": "code",
   "execution_count": 1,
   "metadata": {
    "collapsed": false
   },
   "outputs": [],
   "source": [
    "import pandas as pd\n",
    "import numpy as np\n",
    "import matplotlib.pyplot as plt\n",
    "import seaborn as sns\n",
    "% matplotlib inline"
   ]
  },
  {
   "cell_type": "code",
   "execution_count": 2,
   "metadata": {
    "collapsed": false
   },
   "outputs": [
    {
     "data": {
      "text/html": [
       "<div>\n",
       "<table border=\"1\" class=\"dataframe\">\n",
       "  <thead>\n",
       "    <tr style=\"text-align: right;\">\n",
       "      <th></th>\n",
       "      <th>user_id</th>\n",
       "      <th>item_id</th>\n",
       "      <th>interaction_type</th>\n",
       "      <th>created_at</th>\n",
       "    </tr>\n",
       "  </thead>\n",
       "  <tbody>\n",
       "    <tr>\n",
       "      <th>0</th>\n",
       "      <td>413650</td>\n",
       "      <td>600</td>\n",
       "      <td>2</td>\n",
       "      <td>1478946404</td>\n",
       "    </tr>\n",
       "    <tr>\n",
       "      <th>1</th>\n",
       "      <td>1701797</td>\n",
       "      <td>610</td>\n",
       "      <td>2</td>\n",
       "      <td>1483603622</td>\n",
       "    </tr>\n",
       "    <tr>\n",
       "      <th>2</th>\n",
       "      <td>1636343</td>\n",
       "      <td>680</td>\n",
       "      <td>2</td>\n",
       "      <td>1485852887</td>\n",
       "    </tr>\n",
       "    <tr>\n",
       "      <th>3</th>\n",
       "      <td>287404</td>\n",
       "      <td>680</td>\n",
       "      <td>2</td>\n",
       "      <td>1486079907</td>\n",
       "    </tr>\n",
       "    <tr>\n",
       "      <th>4</th>\n",
       "      <td>794533</td>\n",
       "      <td>890</td>\n",
       "      <td>2</td>\n",
       "      <td>1484200331</td>\n",
       "    </tr>\n",
       "  </tbody>\n",
       "</table>\n",
       "</div>"
      ],
      "text/plain": [
       "   user_id  item_id  interaction_type  created_at\n",
       "0   413650      600                 2  1478946404\n",
       "1  1701797      610                 2  1483603622\n",
       "2  1636343      680                 2  1485852887\n",
       "3   287404      680                 2  1486079907\n",
       "4   794533      890                 2  1484200331"
      ]
     },
     "execution_count": 2,
     "metadata": {},
     "output_type": "execute_result"
    }
   ],
   "source": [
    "# Import all the interactions of type bookmark\n",
    "folderData = 'data/'\n",
    "bookmarked_interactions = pd.read_csv(folderData + 'interactions_bookmarked.csv')\n",
    "bookmarked_interactions.head()"
   ]
  },
  {
   "cell_type": "code",
   "execution_count": 3,
   "metadata": {
    "collapsed": false
   },
   "outputs": [
    {
     "data": {
      "text/html": [
       "<div>\n",
       "<table border=\"1\" class=\"dataframe\">\n",
       "  <thead>\n",
       "    <tr style=\"text-align: right;\">\n",
       "      <th></th>\n",
       "      <th>user_id</th>\n",
       "      <th>item_id</th>\n",
       "      <th>interaction_type</th>\n",
       "      <th>created_at</th>\n",
       "    </tr>\n",
       "  </thead>\n",
       "  <tbody>\n",
       "    <tr>\n",
       "      <th>0</th>\n",
       "      <td>518323</td>\n",
       "      <td>890</td>\n",
       "      <td>3</td>\n",
       "      <td>1483473392</td>\n",
       "    </tr>\n",
       "    <tr>\n",
       "      <th>1</th>\n",
       "      <td>472504</td>\n",
       "      <td>1190</td>\n",
       "      <td>3</td>\n",
       "      <td>1485419881</td>\n",
       "    </tr>\n",
       "    <tr>\n",
       "      <th>2</th>\n",
       "      <td>1790848</td>\n",
       "      <td>1830</td>\n",
       "      <td>3</td>\n",
       "      <td>1483950415</td>\n",
       "    </tr>\n",
       "    <tr>\n",
       "      <th>3</th>\n",
       "      <td>803720</td>\n",
       "      <td>1880</td>\n",
       "      <td>3</td>\n",
       "      <td>1483377509</td>\n",
       "    </tr>\n",
       "    <tr>\n",
       "      <th>4</th>\n",
       "      <td>803720</td>\n",
       "      <td>1880</td>\n",
       "      <td>3</td>\n",
       "      <td>1485860254</td>\n",
       "    </tr>\n",
       "  </tbody>\n",
       "</table>\n",
       "</div>"
      ],
      "text/plain": [
       "   user_id  item_id  interaction_type  created_at\n",
       "0   518323      890                 3  1483473392\n",
       "1   472504     1190                 3  1485419881\n",
       "2  1790848     1830                 3  1483950415\n",
       "3   803720     1880                 3  1483377509\n",
       "4   803720     1880                 3  1485860254"
      ]
     },
     "execution_count": 3,
     "metadata": {},
     "output_type": "execute_result"
    }
   ],
   "source": [
    "# Import all the interactions of type replied\n",
    "replied_interactions = pd.read_csv(folderData + 'interactions_replied.csv')\n",
    "replied_interactions.head()"
   ]
  },
  {
   "cell_type": "code",
   "execution_count": 4,
   "metadata": {
    "collapsed": false
   },
   "outputs": [
    {
     "name": "stdout",
     "output_type": "stream",
     "text": [
      "(117843, 4)\n",
      "(281672, 4)\n"
     ]
    }
   ],
   "source": [
    "print replied_interactions.shape\n",
    "print bookmarked_interactions.shape"
   ]
  },
  {
   "cell_type": "markdown",
   "metadata": {},
   "source": [
    "Do we have (user, item) pairs that are common between both groups?"
   ]
  },
  {
   "cell_type": "code",
   "execution_count": 5,
   "metadata": {
    "collapsed": true
   },
   "outputs": [],
   "source": [
    "intersection = pd.merge(bookmarked_interactions, replied_interactions, how='inner', on=['user_id', 'item_id'])"
   ]
  },
  {
   "cell_type": "code",
   "execution_count": 6,
   "metadata": {
    "collapsed": false
   },
   "outputs": [
    {
     "data": {
      "text/html": [
       "<div>\n",
       "<table border=\"1\" class=\"dataframe\">\n",
       "  <thead>\n",
       "    <tr style=\"text-align: right;\">\n",
       "      <th></th>\n",
       "      <th>user_id</th>\n",
       "      <th>item_id</th>\n",
       "      <th>interaction_type_x</th>\n",
       "      <th>created_at_x</th>\n",
       "      <th>interaction_type_y</th>\n",
       "      <th>created_at_y</th>\n",
       "    </tr>\n",
       "  </thead>\n",
       "  <tbody>\n",
       "    <tr>\n",
       "      <th>0</th>\n",
       "      <td>2087348</td>\n",
       "      <td>2210</td>\n",
       "      <td>2</td>\n",
       "      <td>1484645031</td>\n",
       "      <td>3</td>\n",
       "      <td>1484644824</td>\n",
       "    </tr>\n",
       "    <tr>\n",
       "      <th>1</th>\n",
       "      <td>2087348</td>\n",
       "      <td>2210</td>\n",
       "      <td>2</td>\n",
       "      <td>1484645031</td>\n",
       "      <td>3</td>\n",
       "      <td>1485808417</td>\n",
       "    </tr>\n",
       "    <tr>\n",
       "      <th>2</th>\n",
       "      <td>1169391</td>\n",
       "      <td>3910</td>\n",
       "      <td>2</td>\n",
       "      <td>1486119155</td>\n",
       "      <td>3</td>\n",
       "      <td>1486119160</td>\n",
       "    </tr>\n",
       "    <tr>\n",
       "      <th>3</th>\n",
       "      <td>1940658</td>\n",
       "      <td>7900</td>\n",
       "      <td>2</td>\n",
       "      <td>1485345463</td>\n",
       "      <td>3</td>\n",
       "      <td>1485849408</td>\n",
       "    </tr>\n",
       "    <tr>\n",
       "      <th>4</th>\n",
       "      <td>796948</td>\n",
       "      <td>8310</td>\n",
       "      <td>2</td>\n",
       "      <td>1484955839</td>\n",
       "      <td>3</td>\n",
       "      <td>1484945861</td>\n",
       "    </tr>\n",
       "  </tbody>\n",
       "</table>\n",
       "</div>"
      ],
      "text/plain": [
       "   user_id  item_id  interaction_type_x  created_at_x  interaction_type_y  \\\n",
       "0  2087348     2210                   2    1484645031                   3   \n",
       "1  2087348     2210                   2    1484645031                   3   \n",
       "2  1169391     3910                   2    1486119155                   3   \n",
       "3  1940658     7900                   2    1485345463                   3   \n",
       "4   796948     8310                   2    1484955839                   3   \n",
       "\n",
       "   created_at_y  \n",
       "0    1484644824  \n",
       "1    1485808417  \n",
       "2    1486119160  \n",
       "3    1485849408  \n",
       "4    1484945861  "
      ]
     },
     "execution_count": 6,
     "metadata": {},
     "output_type": "execute_result"
    }
   ],
   "source": [
    "intersection.head()"
   ]
  },
  {
   "cell_type": "markdown",
   "metadata": {},
   "source": [
    "Did users from the intersection first bookmarked and then replied or vice-versa?"
   ]
  },
  {
   "cell_type": "code",
   "execution_count": 7,
   "metadata": {
    "collapsed": false
   },
   "outputs": [
    {
     "data": {
      "text/plain": [
       "False    13618\n",
       "True      6258\n",
       "dtype: int64"
      ]
     },
     "execution_count": 7,
     "metadata": {},
     "output_type": "execute_result"
    }
   ],
   "source": [
    "idx = intersection[['created_at_x', 'created_at_y']].max(axis=1)==intersection.created_at_x\n",
    "idx.value_counts()"
   ]
  },
  {
   "cell_type": "markdown",
   "metadata": {},
   "source": [
    "True means first reply and then bookmark"
   ]
  },
  {
   "cell_type": "markdown",
   "metadata": {},
   "source": [
    "More than double first bookmark and then reply"
   ]
  },
  {
   "cell_type": "markdown",
   "metadata": {},
   "source": [
    "Let's analyse all the four groups separately:\n",
    "1. users who only bookmarked\n",
    "2. users who only replied\n",
    "3. users who replied and then bookmarked\n",
    "4. users who first bookmarked and then replied"
   ]
  },
  {
   "cell_type": "code",
   "execution_count": 8,
   "metadata": {
    "collapsed": true
   },
   "outputs": [],
   "source": [
    "idx = bookmarked_interactions['user_id'].isin(intersection['user_id']) & bookmarked_interactions['item_id'].isin(intersection['item_id'])\n",
    "bookmarked_interactions = bookmarked_interactions[~idx]"
   ]
  },
  {
   "cell_type": "code",
   "execution_count": 9,
   "metadata": {
    "collapsed": true
   },
   "outputs": [],
   "source": [
    "idx = replied_interactions['user_id'].isin(intersection['user_id']) & replied_interactions['item_id'].isin(intersection['item_id'])\n",
    "replied_interactions = replied_interactions[~idx]"
   ]
  },
  {
   "cell_type": "code",
   "execution_count": 10,
   "metadata": {
    "collapsed": false
   },
   "outputs": [
    {
     "data": {
      "text/html": [
       "<div>\n",
       "<table border=\"1\" class=\"dataframe\">\n",
       "  <thead>\n",
       "    <tr style=\"text-align: right;\">\n",
       "      <th></th>\n",
       "      <th>user_id</th>\n",
       "      <th>item_id</th>\n",
       "    </tr>\n",
       "  </thead>\n",
       "  <tbody>\n",
       "    <tr>\n",
       "      <th>1</th>\n",
       "      <td>2087348</td>\n",
       "      <td>2210</td>\n",
       "    </tr>\n",
       "    <tr>\n",
       "      <th>2</th>\n",
       "      <td>1169391</td>\n",
       "      <td>3910</td>\n",
       "    </tr>\n",
       "    <tr>\n",
       "      <th>3</th>\n",
       "      <td>1940658</td>\n",
       "      <td>7900</td>\n",
       "    </tr>\n",
       "    <tr>\n",
       "      <th>5</th>\n",
       "      <td>796948</td>\n",
       "      <td>8310</td>\n",
       "    </tr>\n",
       "    <tr>\n",
       "      <th>7</th>\n",
       "      <td>283455</td>\n",
       "      <td>10130</td>\n",
       "    </tr>\n",
       "  </tbody>\n",
       "</table>\n",
       "</div>"
      ],
      "text/plain": [
       "   user_id  item_id\n",
       "1  2087348     2210\n",
       "2  1169391     3910\n",
       "3  1940658     7900\n",
       "5   796948     8310\n",
       "7   283455    10130"
      ]
     },
     "execution_count": 10,
     "metadata": {},
     "output_type": "execute_result"
    }
   ],
   "source": [
    "intersection1 = intersection[intersection.created_at_y>intersection.created_at_x]\n",
    "intersection1 = intersection1[['user_id', 'item_id']]\n",
    "intersection1.head()"
   ]
  },
  {
   "cell_type": "code",
   "execution_count": 11,
   "metadata": {
    "collapsed": false
   },
   "outputs": [
    {
     "data": {
      "text/html": [
       "<div>\n",
       "<table border=\"1\" class=\"dataframe\">\n",
       "  <thead>\n",
       "    <tr style=\"text-align: right;\">\n",
       "      <th></th>\n",
       "      <th>user_id</th>\n",
       "      <th>item_id</th>\n",
       "    </tr>\n",
       "  </thead>\n",
       "  <tbody>\n",
       "    <tr>\n",
       "      <th>0</th>\n",
       "      <td>2087348</td>\n",
       "      <td>2210</td>\n",
       "    </tr>\n",
       "    <tr>\n",
       "      <th>4</th>\n",
       "      <td>796948</td>\n",
       "      <td>8310</td>\n",
       "    </tr>\n",
       "    <tr>\n",
       "      <th>6</th>\n",
       "      <td>1368888</td>\n",
       "      <td>9950</td>\n",
       "    </tr>\n",
       "    <tr>\n",
       "      <th>10</th>\n",
       "      <td>662189</td>\n",
       "      <td>14700</td>\n",
       "    </tr>\n",
       "    <tr>\n",
       "      <th>12</th>\n",
       "      <td>1169503</td>\n",
       "      <td>14720</td>\n",
       "    </tr>\n",
       "  </tbody>\n",
       "</table>\n",
       "</div>"
      ],
      "text/plain": [
       "    user_id  item_id\n",
       "0   2087348     2210\n",
       "4    796948     8310\n",
       "6   1368888     9950\n",
       "10   662189    14700\n",
       "12  1169503    14720"
      ]
     },
     "execution_count": 11,
     "metadata": {},
     "output_type": "execute_result"
    }
   ],
   "source": [
    "intersection2 = intersection[intersection.created_at_y<intersection.created_at_x]\n",
    "intersection2 = intersection2[['user_id', 'item_id']]\n",
    "intersection2.head()"
   ]
  },
  {
   "cell_type": "code",
   "execution_count": 12,
   "metadata": {
    "collapsed": false
   },
   "outputs": [
    {
     "name": "stdout",
     "output_type": "stream",
     "text": [
      "(13618, 2)\n",
      "(6209, 2)\n"
     ]
    }
   ],
   "source": [
    "print intersection1.shape\n",
    "print intersection2.shape"
   ]
  },
  {
   "cell_type": "code",
   "execution_count": 13,
   "metadata": {
    "collapsed": true
   },
   "outputs": [],
   "source": [
    "# Import all users\n",
    "users = pd.read_csv(folderData + 'users.csv', sep='\\t')\n",
    "users.columns = ['user_id', 'jobroles', 'career_level', 'discipline_id', 'industry_id', 'country', 'region',\n",
    "                'experience_n_entries_class', 'experience_years_experience', 'experience_years_in_current',\n",
    "                'edu_degree', 'edu_fieldofstudies', 'wtcj', 'premium']"
   ]
  },
  {
   "cell_type": "code",
   "execution_count": 14,
   "metadata": {
    "collapsed": false
   },
   "outputs": [],
   "source": [
    "# Fill empties and transform the strings into a list\n",
    "users.jobroles = users.jobroles.fillna('0').apply(lambda str: set(str.split(',')))\n",
    "users.edu_fieldofstudies = users.edu_fieldofstudies.fillna('0').apply(lambda str: set(str.split(',')))"
   ]
  },
  {
   "cell_type": "code",
   "execution_count": 15,
   "metadata": {
    "collapsed": true
   },
   "outputs": [],
   "source": [
    "# Import all items\n",
    "items = pd.read_csv(folderData + 'items.csv', sep='\\t')\n",
    "items.columns = ['item_id', 'title', 'career_level', 'discipline_id', 'industry_id', 'country', 'is_payed', 'region',\n",
    "                'latitude', 'longitude', 'employment', 'tags', 'created_at']"
   ]
  },
  {
   "cell_type": "code",
   "execution_count": 16,
   "metadata": {
    "collapsed": false
   },
   "outputs": [],
   "source": [
    "# Fill empties and transform the strings into a list\n",
    "items.title = items.title.fillna('0').apply(lambda str: set(str.split(',')))\n",
    "items.tags = items.tags.fillna('0').apply(lambda str: set(str.split(',')))\n",
    "items['created_at_dt'] = pd.to_datetime(items.created_at,unit='s', errors='coerce')"
   ]
  },
  {
   "cell_type": "code",
   "execution_count": 17,
   "metadata": {
    "collapsed": false
   },
   "outputs": [],
   "source": [
    "# Merge data sets. Find all the information of users and items that have an interaction of type 2\n",
    "data_bookmarked = bookmarked_interactions.merge(users, on='user_id', how='inner')\n",
    "data_bookmarked = data_bookmarked.merge(items, on='item_id', how='inner', suffixes=('_user', '_item'))"
   ]
  },
  {
   "cell_type": "code",
   "execution_count": 18,
   "metadata": {
    "collapsed": false
   },
   "outputs": [
    {
     "data": {
      "text/plain": [
       "(261143, 29)"
      ]
     },
     "execution_count": 18,
     "metadata": {},
     "output_type": "execute_result"
    }
   ],
   "source": [
    "# Remove interaction type\n",
    "data_bookmarked.drop(['interaction_type'], axis=1, inplace=True)\n",
    "data_bookmarked.shape"
   ]
  },
  {
   "cell_type": "code",
   "execution_count": 19,
   "metadata": {
    "collapsed": false
   },
   "outputs": [],
   "source": [
    "# Merge data sets. Find all the information of users and items that have an interaction of type 3\n",
    "data_replied = replied_interactions.merge(users, on='user_id', how='inner')\n",
    "data_replied = data_replied.merge(items, on='item_id', how='inner', suffixes=('_user', '_item'))"
   ]
  },
  {
   "cell_type": "code",
   "execution_count": 20,
   "metadata": {
    "collapsed": false
   },
   "outputs": [
    {
     "data": {
      "text/plain": [
       "(96147, 29)"
      ]
     },
     "execution_count": 20,
     "metadata": {},
     "output_type": "execute_result"
    }
   ],
   "source": [
    "# Remove interaction type\n",
    "data_replied.drop(['interaction_type'], axis=1, inplace=True)\n",
    "data_replied.shape"
   ]
  },
  {
   "cell_type": "code",
   "execution_count": 21,
   "metadata": {
    "collapsed": true
   },
   "outputs": [],
   "source": [
    "# Merge data sets. Find all the information of users and items that belong to intersection1\n",
    "data_intersection1 = intersection1.merge(users, on='user_id', how='inner')\n",
    "data_intersection1 = data_intersection1.merge(items, on='item_id', how='inner', suffixes=('_user', '_item'))"
   ]
  },
  {
   "cell_type": "code",
   "execution_count": 22,
   "metadata": {
    "collapsed": false
   },
   "outputs": [],
   "source": [
    "# Merge data sets. Find all the information of users and items that belong to intersection2\n",
    "data_intersection2 = intersection2.merge(users, on='user_id', how='inner')\n",
    "data_intersection2 = data_intersection2.merge(items, on='item_id', how='inner', suffixes=('_user', '_item'))"
   ]
  },
  {
   "cell_type": "code",
   "execution_count": 23,
   "metadata": {
    "collapsed": false
   },
   "outputs": [
    {
     "name": "stdout",
     "output_type": "stream",
     "text": [
      "Index([u'user_id', u'item_id', u'created_at_user', u'jobroles',\n",
      "       u'career_level_user', u'discipline_id_user', u'industry_id_user',\n",
      "       u'country_user', u'region_user', u'experience_n_entries_class',\n",
      "       u'experience_years_experience', u'experience_years_in_current',\n",
      "       u'edu_degree', u'edu_fieldofstudies', u'wtcj', u'premium', u'title',\n",
      "       u'career_level_item', u'discipline_id_item', u'industry_id_item',\n",
      "       u'country_item', u'is_payed', u'region_item', u'latitude', u'longitude',\n",
      "       u'employment', u'tags', u'created_at_item', u'created_at_dt'],\n",
      "      dtype='object')\n"
     ]
    }
   ],
   "source": [
    "print data_replied.columns"
   ]
  },
  {
   "cell_type": "code",
   "execution_count": 24,
   "metadata": {
    "collapsed": true
   },
   "outputs": [],
   "source": [
    "# Select all users and items who have been involved with bookmarked but not replied\n",
    "idx = users.user_id.isin(data_bookmarked.user_id)\n",
    "users_bookmarked = users.ix[idx].reset_index(drop=True)\n",
    "idx = items.item_id.isin(data_bookmarked.item_id)\n",
    "items_bookmarked = items.ix[idx].reset_index(drop=True)"
   ]
  },
  {
   "cell_type": "code",
   "execution_count": 25,
   "metadata": {
    "collapsed": true
   },
   "outputs": [],
   "source": [
    "# Select all users and items who have been involved with replied but not bookmarked\n",
    "idx = users.user_id.isin(data_replied.user_id)\n",
    "users_replied = users.ix[idx].reset_index(drop=True)\n",
    "idx = items.item_id.isin(data_replied.item_id)\n",
    "items_replied = items.ix[idx].reset_index(drop=True)"
   ]
  },
  {
   "cell_type": "code",
   "execution_count": 26,
   "metadata": {
    "collapsed": true
   },
   "outputs": [],
   "source": [
    "# Select all users and items who which first had interaction bookmark and then reply\n",
    "idx = users.user_id.isin(data_intersection1.user_id)\n",
    "users_intersection1 = users.ix[idx].reset_index(drop=True)\n",
    "idx = items.item_id.isin(data_intersection1.item_id)\n",
    "items_intersection1 = items.ix[idx].reset_index(drop=True)"
   ]
  },
  {
   "cell_type": "code",
   "execution_count": 27,
   "metadata": {
    "collapsed": true
   },
   "outputs": [],
   "source": [
    "# Select all users and items who which first had interaction reply and then bookmark\n",
    "idx = users.user_id.isin(data_intersection2.user_id)\n",
    "users_intersection2 = users.ix[idx].reset_index(drop=True)\n",
    "idx = items.item_id.isin(data_intersection2.item_id)\n",
    "items_intersection2 = items.ix[idx].reset_index(drop=True)"
   ]
  },
  {
   "cell_type": "code",
   "execution_count": 28,
   "metadata": {
    "collapsed": false
   },
   "outputs": [
    {
     "name": "stdout",
     "output_type": "stream",
     "text": [
      "(84797, 14)\n",
      "(40960, 14)\n",
      "(6919, 14)\n",
      "(4280, 14)\n"
     ]
    }
   ],
   "source": [
    "print users_bookmarked.shape\n",
    "print users_replied.shape\n",
    "print users_intersection1.shape\n",
    "print users_intersection2.shape"
   ]
  },
  {
   "cell_type": "markdown",
   "metadata": {},
   "source": [
    "# Let's study each one of the columns separately and compare all groups"
   ]
  },
  {
   "cell_type": "markdown",
   "metadata": {},
   "source": [
    "## Career level"
   ]
  },
  {
   "cell_type": "markdown",
   "metadata": {},
   "source": [
    "Which career level do users have? Does it match the career level asked at the job?"
   ]
  },
  {
   "cell_type": "code",
   "execution_count": 31,
   "metadata": {
    "collapsed": false
   },
   "outputs": [
    {
     "name": "stdout",
     "output_type": "stream",
     "text": [
      "{0: 140958, 1: 3270, 2: 10258, 3: 64722, 4: 29789, 5: 5933, 6: 6213}\n",
      "{0: 39989, 1: 1161, 2: 3681, 3: 32504, 4: 11558, 5: 3425, 6: 3829}\n",
      "{0: 2197, 1: 292, 2: 1004, 3: 6220, 4: 2572, 5: 702, 6: 631}\n",
      "{0: 1044, 1: 127, 2: 419, 3: 2817, 4: 1168, 5: 315, 6: 319}\n"
     ]
    }
   ],
   "source": [
    "print data_bookmarked.career_level_user.value_counts().sort_index().to_dict()\n",
    "print data_replied.career_level_user.value_counts().sort_index().to_dict()\n",
    "print data_intersection1.career_level_user.value_counts().sort_index().to_dict()\n",
    "print data_intersection2.career_level_user.value_counts().sort_index().to_dict()"
   ]
  },
  {
   "cell_type": "code",
   "execution_count": 32,
   "metadata": {
    "collapsed": false
   },
   "outputs": [
    {
     "name": "stdout",
     "output_type": "stream",
     "text": [
      "{1: 3026, 2: 29243, 3: 193322, 4: 30852, 5: 3817, 6: 883}\n",
      "{1: 8018, 2: 4209, 3: 69981, 4: 11505, 5: 1922, 6: 512}\n",
      "{1: 203, 2: 869, 3: 9482, 4: 2584, 5: 405, 6: 75}\n",
      "{1: 88, 2: 372, 3: 4255, 4: 1226, 5: 226, 6: 42}\n"
     ]
    }
   ],
   "source": [
    "print data_bookmarked.career_level_item.value_counts().sort_index().to_dict()\n",
    "print data_replied.career_level_item.value_counts().sort_index().to_dict()\n",
    "print data_intersection1.career_level_item.value_counts().sort_index().to_dict()\n",
    "print data_intersection2.career_level_item.value_counts().sort_index().to_dict()"
   ]
  },
  {
   "cell_type": "markdown",
   "metadata": {},
   "source": [
    "Lets only look at the data for which we know the career level (ignore case 0)"
   ]
  },
  {
   "cell_type": "code",
   "execution_count": 33,
   "metadata": {
    "collapsed": false
   },
   "outputs": [
    {
     "name": "stdout",
     "output_type": "stream",
     "text": [
      "54.1174023381\n",
      "17.8882556059\n",
      "27.994342056\n"
     ]
    }
   ],
   "source": [
    "subset1 = data_bookmarked[data_bookmarked.career_level_user!=0]\n",
    "n = float(len(subset1))\n",
    "print np.sum(subset1.career_level_item==subset1.career_level_user)/n*100.0\n",
    "print np.sum(subset1.career_level_item>subset1.career_level_user)/n*100.0\n",
    "print np.sum(subset1.career_level_item<subset1.career_level_user)/n*100.0"
   ]
  },
  {
   "cell_type": "code",
   "execution_count": 34,
   "metadata": {
    "collapsed": false
   },
   "outputs": [
    {
     "data": {
      "text/plain": [
       "{-5: 2,\n",
       " -4: 12,\n",
       " -3: 268,\n",
       " -2: 3132,\n",
       " -1: 18085,\n",
       " 0: 65041,\n",
       " 1: 24373,\n",
       " 2: 5097,\n",
       " 3: 3710,\n",
       " 4: 345,\n",
       " 5: 120}"
      ]
     },
     "execution_count": 34,
     "metadata": {},
     "output_type": "execute_result"
    }
   ],
   "source": [
    "diff_career_level = subset1.career_level_user-subset1.career_level_item\n",
    "diff_career_level.value_counts().sort_index().to_dict()"
   ]
  },
  {
   "cell_type": "markdown",
   "metadata": {},
   "source": [
    "Approximately 55% of interaction of type 2 have the same career level"
   ]
  },
  {
   "cell_type": "code",
   "execution_count": 35,
   "metadata": {
    "collapsed": false
   },
   "outputs": [
    {
     "name": "stdout",
     "output_type": "stream",
     "text": [
      "58.1858328288\n",
      "13.9267780192\n",
      "27.887389152\n"
     ]
    }
   ],
   "source": [
    "subset2 = data_replied[data_replied.career_level_user!=0]\n",
    "n = float(len(subset2))\n",
    "print np.sum(subset2.career_level_item==subset2.career_level_user)/n*100.0\n",
    "print np.sum(subset2.career_level_item>subset2.career_level_user)/n*100.0\n",
    "print np.sum(subset2.career_level_item<subset2.career_level_user)/n*100.0"
   ]
  },
  {
   "cell_type": "code",
   "execution_count": 36,
   "metadata": {
    "collapsed": false
   },
   "outputs": [
    {
     "data": {
      "text/plain": [
       "{-4: 11,\n",
       " -3: 80,\n",
       " -2: 1138,\n",
       " -1: 6592,\n",
       " 0: 32676,\n",
       " 1: 9963,\n",
       " 2: 3147,\n",
       " 3: 2349,\n",
       " 4: 133,\n",
       " 5: 69}"
      ]
     },
     "execution_count": 36,
     "metadata": {},
     "output_type": "execute_result"
    }
   ],
   "source": [
    "diff_career_level = subset2.career_level_user-subset2.career_level_item\n",
    "diff_career_level.value_counts().sort_index().to_dict()"
   ]
  },
  {
   "cell_type": "markdown",
   "metadata": {},
   "source": [
    "More than 58% have the same career level"
   ]
  },
  {
   "cell_type": "markdown",
   "metadata": {},
   "source": [
    "Let's look at the ones who bookmarked and then replied and vice-versa"
   ]
  },
  {
   "cell_type": "code",
   "execution_count": 37,
   "metadata": {
    "collapsed": false
   },
   "outputs": [
    {
     "name": "stdout",
     "output_type": "stream",
     "text": [
      "55.1265213204\n",
      "17.8355660625\n",
      "27.0379126171\n"
     ]
    }
   ],
   "source": [
    "subset3 = data_intersection1[data_intersection1.career_level_user!=0]\n",
    "n = float(len(subset3))\n",
    "print np.sum(subset3.career_level_item==subset3.career_level_user)/n*100.0\n",
    "print np.sum(subset3.career_level_item>subset3.career_level_user)/n*100.0\n",
    "print np.sum(subset3.career_level_item<subset3.career_level_user)/n*100.0"
   ]
  },
  {
   "cell_type": "code",
   "execution_count": 38,
   "metadata": {
    "collapsed": false
   },
   "outputs": [
    {
     "name": "stdout",
     "output_type": "stream",
     "text": [
      "56.0309777348\n",
      "17.5992255566\n",
      "26.3697967086\n"
     ]
    }
   ],
   "source": [
    "subset4 = data_intersection2[data_intersection2.career_level_user!=0]\n",
    "n = float(len(subset4))\n",
    "print np.sum(subset4.career_level_item==subset4.career_level_user)/n*100.0\n",
    "print np.sum(subset4.career_level_item>subset4.career_level_user)/n*100.0\n",
    "print np.sum(subset4.career_level_item<subset4.career_level_user)/n*100.0"
   ]
  },
  {
   "cell_type": "markdown",
   "metadata": {},
   "source": [
    "They behave in a similar way"
   ]
  },
  {
   "cell_type": "markdown",
   "metadata": {},
   "source": [
    "## Discipline id"
   ]
  },
  {
   "cell_type": "markdown",
   "metadata": {},
   "source": [
    "Let's ask the same questions"
   ]
  },
  {
   "cell_type": "code",
   "execution_count": 39,
   "metadata": {
    "collapsed": false
   },
   "outputs": [
    {
     "data": {
      "text/plain": [
       "0     203191\n",
       "3      10210\n",
       "4       8007\n",
       "5       7765\n",
       "17      6343\n",
       "Name: discipline_id_user, dtype: int64"
      ]
     },
     "execution_count": 39,
     "metadata": {},
     "output_type": "execute_result"
    }
   ],
   "source": [
    "data_bookmarked.discipline_id_user.value_counts().head()"
   ]
  },
  {
   "cell_type": "code",
   "execution_count": 40,
   "metadata": {
    "collapsed": false
   },
   "outputs": [
    {
     "data": {
      "text/plain": [
       "1     49109\n",
       "13    39223\n",
       "16    37543\n",
       "5     36978\n",
       "11    16285\n",
       "Name: discipline_id_item, dtype: int64"
      ]
     },
     "execution_count": 40,
     "metadata": {},
     "output_type": "execute_result"
    }
   ],
   "source": [
    "data_bookmarked.discipline_id_item.value_counts().head()"
   ]
  },
  {
   "cell_type": "code",
   "execution_count": 41,
   "metadata": {
    "collapsed": false
   },
   "outputs": [
    {
     "name": "stdout",
     "output_type": "stream",
     "text": [
      "40.7595941469\n"
     ]
    }
   ],
   "source": [
    "# Remove the unknowns which are labelled as 0 and compute percentages\n",
    "subset1 = data_bookmarked[data_bookmarked.discipline_id_user!=0]\n",
    "n = float(len(subset1))\n",
    "print np.sum(subset1.discipline_id_item==subset1.discipline_id_user)/n*100.0"
   ]
  },
  {
   "cell_type": "markdown",
   "metadata": {},
   "source": [
    "Having a discpline match doesn't seem so important when bookmarking a job"
   ]
  },
  {
   "cell_type": "code",
   "execution_count": 42,
   "metadata": {
    "collapsed": false
   },
   "outputs": [
    {
     "name": "stdout",
     "output_type": "stream",
     "text": [
      "58.0218671152\n"
     ]
    }
   ],
   "source": [
    "# Remove the unknowns which are labelled as 0 and compute percentages\n",
    "subset2 = data_replied[data_replied.discipline_id_user!=0]\n",
    "n = float(len(subset2))\n",
    "print np.sum(subset2.discipline_id_item==subset2.discipline_id_user)/n*100.0"
   ]
  },
  {
   "cell_type": "markdown",
   "metadata": {},
   "source": [
    "Whereas it looks more important when replying to post"
   ]
  },
  {
   "cell_type": "markdown",
   "metadata": {},
   "source": [
    "Are particular disciplines more popular or less popular?"
   ]
  },
  {
   "cell_type": "markdown",
   "metadata": {},
   "source": [
    "    1. Users"
   ]
  },
  {
   "cell_type": "code",
   "execution_count": 43,
   "metadata": {
    "collapsed": false
   },
   "outputs": [
    {
     "data": {
      "image/png": "[encoded data removed]",
      "text/plain": [
       "<matplotlib.figure.Figure at 0x1625fcc90>"
      ]
     },
     "metadata": {},
     "output_type": "display_data"
    }
   ],
   "source": [
    "discipline_bookmarked = users_bookmarked[users_bookmarked.discipline_id!=0].discipline_id.value_counts()/len(users_bookmarked[users_bookmarked.discipline_id!=0])*100\n",
    "discipline_replied = users_replied[users_replied.discipline_id!=0].discipline_id.value_counts()/len(users_replied[users_replied.discipline_id!=0])*100\n",
    "df = pd.DataFrame({'discipline_bookmarked':discipline_bookmarked, 'discipline_replied':discipline_replied})\n",
    "df.plot(kind='bar', figsize=(15, 3), color=['green', 'blue']);"
   ]
  },
  {
   "cell_type": "markdown",
   "metadata": {},
   "source": [
    "    2. items"
   ]
  },
  {
   "cell_type": "code",
   "execution_count": 44,
   "metadata": {
    "collapsed": false
   },
   "outputs": [
    {
     "data": {
      "image/png": "[encoded data removed]",
      "text/plain": [
       "<matplotlib.figure.Figure at 0x170748d90>"
      ]
     },
     "metadata": {},
     "output_type": "display_data"
    }
   ],
   "source": [
    "discipline_bookmarked = items_bookmarked[items_bookmarked.discipline_id!=0].discipline_id.value_counts()/len(items_bookmarked[items_bookmarked.discipline_id!=0])*100\n",
    "discipline_replied = items_replied[items_replied.discipline_id!=0].discipline_id.value_counts()/len(items_replied[items_replied.discipline_id!=0])*100\n",
    "df = pd.DataFrame({'discipline_bookmarked':discipline_bookmarked, 'discipline_replied':discipline_replied})\n",
    "df.plot(kind='bar', figsize=(15, 3), color=['green', 'blue']);"
   ]
  },
  {
   "cell_type": "markdown",
   "metadata": {},
   "source": [
    "Conclusions\n",
    "\n",
    "    1. Many users do not specify discipline, but when it matches with the item discipline it is more likely that the user will be interested than not\n",
    "    2. There are some disciplines where the percentage of replied is higher, like 3 (for users) and 17 (for items)"
   ]
  },
  {
   "cell_type": "markdown",
   "metadata": {},
   "source": [
    "## industry_id"
   ]
  },
  {
   "cell_type": "code",
   "execution_count": 45,
   "metadata": {
    "collapsed": false
   },
   "outputs": [
    {
     "data": {
      "text/plain": [
       "0     116429\n",
       "7      37234\n",
       "12     32369\n",
       "16     12981\n",
       "20      8438\n",
       "Name: industry_id_user, dtype: int64"
      ]
     },
     "execution_count": 45,
     "metadata": {},
     "output_type": "execute_result"
    }
   ],
   "source": [
    "data_bookmarked.industry_id_user.value_counts().head(n=5)"
   ]
  },
  {
   "cell_type": "code",
   "execution_count": 46,
   "metadata": {
    "collapsed": false
   },
   "outputs": [
    {
     "data": {
      "text/plain": [
       "16    87423\n",
       "7     23548\n",
       "19    21385\n",
       "3     20637\n",
       "10    20129\n",
       "Name: industry_id_item, dtype: int64"
      ]
     },
     "execution_count": 46,
     "metadata": {},
     "output_type": "execute_result"
    }
   ],
   "source": [
    "data_bookmarked.industry_id_item.value_counts().head(n=5)"
   ]
  },
  {
   "cell_type": "code",
   "execution_count": 47,
   "metadata": {
    "collapsed": false
   },
   "outputs": [
    {
     "data": {
      "text/plain": [
       "0     24613\n",
       "18    11881\n",
       "16    10350\n",
       "7      9609\n",
       "5      7218\n",
       "Name: industry_id_user, dtype: int64"
      ]
     },
     "execution_count": 47,
     "metadata": {},
     "output_type": "execute_result"
    }
   ],
   "source": [
    "data_replied.industry_id_user.value_counts().head(n=5)"
   ]
  },
  {
   "cell_type": "code",
   "execution_count": 48,
   "metadata": {
    "collapsed": false
   },
   "outputs": [
    {
     "data": {
      "text/plain": [
       "16    29776\n",
       "7     18271\n",
       "9      7245\n",
       "3      5986\n",
       "14     5311\n",
       "Name: industry_id_item, dtype: int64"
      ]
     },
     "execution_count": 48,
     "metadata": {},
     "output_type": "execute_result"
    }
   ],
   "source": [
    "data_replied.industry_id_item.value_counts().head(n=5)"
   ]
  },
  {
   "cell_type": "code",
   "execution_count": 49,
   "metadata": {
    "collapsed": false
   },
   "outputs": [
    {
     "name": "stdout",
     "output_type": "stream",
     "text": [
      "16.6217504872\n"
     ]
    }
   ],
   "source": [
    "subset1 = data_bookmarked[data_bookmarked.industry_id_user!=0]\n",
    "n = float(len(subset1))\n",
    "print np.sum(subset1.industry_id_item==subset1.industry_id_user)/n*100.0"
   ]
  },
  {
   "cell_type": "markdown",
   "metadata": {},
   "source": [
    "Very few interactions of type bookmarked have a match of industry_id"
   ]
  },
  {
   "cell_type": "code",
   "execution_count": 50,
   "metadata": {
    "collapsed": false
   },
   "outputs": [
    {
     "name": "stdout",
     "output_type": "stream",
     "text": [
      "27.3841809489\n"
     ]
    }
   ],
   "source": [
    "subset2 = data_replied[data_replied.industry_id_user!=0]\n",
    "n = float(len(subset2))\n",
    "print np.sum(subset2.industry_id_item==subset2.industry_id_user)/n*100.0"
   ]
  },
  {
   "cell_type": "code",
   "execution_count": 51,
   "metadata": {
    "collapsed": false
   },
   "outputs": [
    {
     "data": {
      "image/png": "[encoded data removed]",
      "text/plain": [
       "<matplotlib.figure.Figure at 0x164c6db50>"
      ]
     },
     "metadata": {},
     "output_type": "display_data"
    }
   ],
   "source": [
    "industry_bookmarked = users_bookmarked[users_bookmarked.industry_id!=0].industry_id.value_counts()/len(users_bookmarked[users_bookmarked.industry_id!=0])*100\n",
    "industry_replied = users_replied[users_replied.industry_id!=0].industry_id.value_counts()/len(users_replied[users_replied.industry_id!=0])*100\n",
    "df = pd.DataFrame({'industry_bookmarked':industry_bookmarked, 'industry_replied':industry_replied})\n",
    "df.plot(kind='bar', figsize=(15, 3), color=['green', 'blue']);"
   ]
  },
  {
   "cell_type": "code",
   "execution_count": 52,
   "metadata": {
    "collapsed": false
   },
   "outputs": [
    {
     "data": {
      "image/png": "[encoded data removed]",
      "text/plain": [
       "<matplotlib.figure.Figure at 0x173c03850>"
      ]
     },
     "metadata": {},
     "output_type": "display_data"
    }
   ],
   "source": [
    "industry_bookmarked = items_bookmarked[items_bookmarked.industry_id!=0].industry_id.value_counts()/len(items_bookmarked[items_bookmarked.industry_id!=0])*100\n",
    "industry_replied = items_replied[items_replied.industry_id!=0].industry_id.value_counts()/len(items_replied[items_replied.industry_id!=0])*100\n",
    "df = pd.DataFrame({'industry_bookmarked':industry_bookmarked, 'industry_replied':industry_replied})\n",
    "df.plot(kind='bar', figsize=(15, 3), color=['green', 'blue']);"
   ]
  },
  {
   "cell_type": "markdown",
   "metadata": {},
   "source": [
    "Conclusions: \n",
    "\n",
    "    1. Industry_id match is a lot more relevant for replied interactions than for ony bookmarked"
   ]
  },
  {
   "cell_type": "markdown",
   "metadata": {},
   "source": [
    "## experience_n_entries_class"
   ]
  },
  {
   "cell_type": "code",
   "execution_count": 53,
   "metadata": {
    "collapsed": false
   },
   "outputs": [
    {
     "data": {
      "text/plain": [
       "3    46.915292\n",
       "1    28.210597\n",
       "2    24.874111\n",
       "Name: experience_n_entries_class, dtype: float64"
      ]
     },
     "execution_count": 53,
     "metadata": {},
     "output_type": "execute_result"
    }
   ],
   "source": [
    "data_bookmarked.experience_n_entries_class.value_counts()/float(len(data_bookmarked))*100"
   ]
  },
  {
   "cell_type": "code",
   "execution_count": 54,
   "metadata": {
    "collapsed": false
   },
   "outputs": [
    {
     "data": {
      "text/plain": [
       "3    42.003391\n",
       "1    37.174327\n",
       "2    20.822283\n",
       "Name: experience_n_entries_class, dtype: float64"
      ]
     },
     "execution_count": 54,
     "metadata": {},
     "output_type": "execute_result"
    }
   ],
   "source": [
    "data_replied.experience_n_entries_class.value_counts()/float(len(data_replied))*100"
   ]
  },
  {
   "cell_type": "markdown",
   "metadata": {},
   "source": [
    "Conclusions: \n",
    "\n",
    "    Not much difference"
   ]
  },
  {
   "cell_type": "markdown",
   "metadata": {},
   "source": [
    "## experience_years_experience & experience_years_in_current"
   ]
  },
  {
   "cell_type": "code",
   "execution_count": 55,
   "metadata": {
    "collapsed": false
   },
   "outputs": [
    {
     "data": {
      "text/plain": [
       "4    21.862734\n",
       "5    20.818479\n",
       "7    16.943973\n",
       "6    16.344302\n",
       "0    15.179423\n",
       "3     5.683859\n",
       "2     2.537690\n",
       "1     0.629540\n",
       "Name: experience_years_experience, dtype: float64"
      ]
     },
     "execution_count": 55,
     "metadata": {},
     "output_type": "execute_result"
    }
   ],
   "source": [
    "data_bookmarked.experience_years_experience.value_counts()/float(len(data_bookmarked))*100"
   ]
  },
  {
   "cell_type": "code",
   "execution_count": 56,
   "metadata": {
    "collapsed": false
   },
   "outputs": [
    {
     "data": {
      "text/plain": [
       "0    26.253549\n",
       "4    20.368810\n",
       "5    16.907444\n",
       "7    15.933934\n",
       "6    12.099181\n",
       "3     4.856106\n",
       "2     2.913247\n",
       "1     0.667728\n",
       "Name: experience_years_experience, dtype: float64"
      ]
     },
     "execution_count": 56,
     "metadata": {},
     "output_type": "execute_result"
    }
   ],
   "source": [
    "data_replied.experience_years_experience.value_counts()/float(len(data_replied))*100"
   ]
  },
  {
   "cell_type": "markdown",
   "metadata": {},
   "source": [
    "Conclusion:\n",
    "    1. Less than 8% of the bookmarks and replies are done by users with 1, 2, or 3 years of experience "
   ]
  },
  {
   "cell_type": "code",
   "execution_count": 57,
   "metadata": {
    "collapsed": false
   },
   "outputs": [
    {
     "data": {
      "text/plain": [
       "2    27.919569\n",
       "0    18.002397\n",
       "3    14.876141\n",
       "1    14.704587\n",
       "4    14.615747\n",
       "5     5.214002\n",
       "6     2.829867\n",
       "7     1.837690\n",
       "Name: experience_years_in_current, dtype: float64"
      ]
     },
     "execution_count": 57,
     "metadata": {},
     "output_type": "execute_result"
    }
   ],
   "source": [
    "data_bookmarked.experience_years_in_current.value_counts()/float(len(data_bookmarked))*100"
   ]
  },
  {
   "cell_type": "code",
   "execution_count": 58,
   "metadata": {
    "collapsed": false
   },
   "outputs": [
    {
     "data": {
      "text/plain": [
       "0    28.572914\n",
       "2    24.688238\n",
       "1    15.930814\n",
       "4    12.064859\n",
       "3    11.598906\n",
       "5     3.568494\n",
       "6     2.012543\n",
       "7     1.563231\n",
       "Name: experience_years_in_current, dtype: float64"
      ]
     },
     "execution_count": 58,
     "metadata": {},
     "output_type": "execute_result"
    }
   ],
   "source": [
    "data_replied.experience_years_in_current.value_counts()/float(len(data_replied))*100"
   ]
  },
  {
   "cell_type": "markdown",
   "metadata": {},
   "source": [
    "Conclusion:\n",
    "    1. 28% of bookmarks occur when user has 2 years of experience in current job\n",
    "    2. At the same time 24% of replies happen when user has 2 years of experience at current job"
   ]
  },
  {
   "cell_type": "markdown",
   "metadata": {},
   "source": [
    "## edu_degree"
   ]
  },
  {
   "cell_type": "code",
   "execution_count": 59,
   "metadata": {
    "collapsed": false
   },
   "outputs": [
    {
     "data": {
      "text/plain": [
       "0    57.612496\n",
       "2    24.342602\n",
       "1    12.508089\n",
       "3     5.536813\n",
       "Name: edu_degree, dtype: float64"
      ]
     },
     "execution_count": 59,
     "metadata": {},
     "output_type": "execute_result"
    }
   ],
   "source": [
    "data_bookmarked.edu_degree.value_counts()/float(len(data_bookmarked))*100"
   ]
  },
  {
   "cell_type": "code",
   "execution_count": 60,
   "metadata": {
    "collapsed": false
   },
   "outputs": [
    {
     "data": {
      "text/plain": [
       "2    57.428721\n",
       "1    29.508908\n",
       "3    13.062371\n",
       "Name: edu_degree, dtype: float64"
      ]
     },
     "execution_count": 60,
     "metadata": {},
     "output_type": "execute_result"
    }
   ],
   "source": [
    "data_bookmarked.edu_degree[data_bookmarked.edu_degree!=0].value_counts()/float(len(data_bookmarked[data_bookmarked.edu_degree!=0]))*100"
   ]
  },
  {
   "cell_type": "code",
   "execution_count": 61,
   "metadata": {
    "collapsed": false
   },
   "outputs": [
    {
     "data": {
      "text/plain": [
       "0    68.945469\n",
       "2    17.709341\n",
       "1    10.472506\n",
       "3     2.872685\n",
       "Name: edu_degree, dtype: float64"
      ]
     },
     "execution_count": 61,
     "metadata": {},
     "output_type": "execute_result"
    }
   ],
   "source": [
    "data_replied.edu_degree.value_counts()/float(len(data_replied))*100"
   ]
  },
  {
   "cell_type": "code",
   "execution_count": 62,
   "metadata": {
    "collapsed": false
   },
   "outputs": [
    {
     "data": {
      "text/plain": [
       "2    57.026593\n",
       "1    33.722955\n",
       "3     9.250452\n",
       "Name: edu_degree, dtype: float64"
      ]
     },
     "execution_count": 62,
     "metadata": {},
     "output_type": "execute_result"
    }
   ],
   "source": [
    "data_replied.edu_degree[data_replied.edu_degree!=0].value_counts()/float(len(data_replied[data_replied.edu_degree!=0]))*100"
   ]
  },
  {
   "cell_type": "markdown",
   "metadata": {},
   "source": [
    "Conclusion:\n",
    "    1. Majority of users have not specifed the edu_degree\n",
    "    2. Very similar edu_degree statistics between both groups"
   ]
  },
  {
   "cell_type": "markdown",
   "metadata": {},
   "source": [
    "## field of studies"
   ]
  },
  {
   "cell_type": "code",
   "execution_count": 63,
   "metadata": {
    "collapsed": false
   },
   "outputs": [],
   "source": [
    "# Count how many times each field of study appears\n",
    "field_of_studies_bookmarked = data_bookmarked.edu_fieldofstudies.apply(lambda x: list(x))\n",
    "field_of_studies_replied = data_replied.edu_fieldofstudies.apply(lambda x: list(x))"
   ]
  },
  {
   "cell_type": "code",
   "execution_count": 64,
   "metadata": {
    "collapsed": false,
    "scrolled": false
   },
   "outputs": [],
   "source": [
    "import itertools\n",
    "field_of_studies_bookmarked = list(itertools.chain.from_iterable(field_of_studies_bookmarked.values.flatten()))\n",
    "field_of_studies_replied = list(itertools.chain.from_iterable(field_of_studies_replied.values.flatten()))"
   ]
  },
  {
   "cell_type": "code",
   "execution_count": 65,
   "metadata": {
    "collapsed": false
   },
   "outputs": [
    {
     "data": {
      "text/plain": [
       "{'0': 42.79221006258523,\n",
       " '1': 0.3471906576693123,\n",
       " '2': 4.684801230726198,\n",
       " '3': 13.365266948708088,\n",
       " '4': 1.8684661375476381,\n",
       " '5': 7.958113352679977,\n",
       " '6': 0.793678542708297,\n",
       " '7': 4.757176322506206,\n",
       " '8': 22.58417537848327,\n",
       " '9': 0.8489213663857906}"
      ]
     },
     "execution_count": 65,
     "metadata": {},
     "output_type": "execute_result"
    }
   ],
   "source": [
    "from collections import Counter\n",
    "{k: v/float(len(field_of_studies_bookmarked))*100 for k, v in dict(Counter(field_of_studies_bookmarked)).items()}"
   ]
  },
  {
   "cell_type": "code",
   "execution_count": 66,
   "metadata": {
    "collapsed": false
   },
   "outputs": [
    {
     "data": {
      "text/plain": [
       "{'0': 51.20523316012038,\n",
       " '1': 0.3144927956958032,\n",
       " '2': 3.200085154972373,\n",
       " '3': 15.76721727097667,\n",
       " '4': 1.5734316486196185,\n",
       " '5': 8.726449327953087,\n",
       " '6': 0.4993177925508753,\n",
       " '7': 3.7487541246939746,\n",
       " '8': 14.305067688526336,\n",
       " '9': 0.6599510358908856}"
      ]
     },
     "execution_count": 66,
     "metadata": {},
     "output_type": "execute_result"
    }
   ],
   "source": [
    "{k: v/float(len(field_of_studies_replied))*100 for k, v in dict(Counter(field_of_studies_replied)).items()}"
   ]
  },
  {
   "cell_type": "markdown",
   "metadata": {},
   "source": [
    "Conclusions: \n",
    "    1. the distribution of field of studied is very similar between the two groups"
   ]
  },
  {
   "cell_type": "markdown",
   "metadata": {},
   "source": [
    "## WTCJ"
   ]
  },
  {
   "cell_type": "code",
   "execution_count": 67,
   "metadata": {
    "collapsed": false
   },
   "outputs": [
    {
     "data": {
      "text/plain": [
       "1    82.153073\n",
       "0    17.846927\n",
       "Name: wtcj, dtype: float64"
      ]
     },
     "execution_count": 67,
     "metadata": {},
     "output_type": "execute_result"
    }
   ],
   "source": [
    "data_bookmarked.wtcj.value_counts()/len(data_bookmarked)*100"
   ]
  },
  {
   "cell_type": "code",
   "execution_count": 68,
   "metadata": {
    "collapsed": false
   },
   "outputs": [
    {
     "data": {
      "text/plain": [
       "1    79.049788\n",
       "0    20.950212\n",
       "Name: wtcj, dtype: float64"
      ]
     },
     "execution_count": 68,
     "metadata": {},
     "output_type": "execute_result"
    }
   ],
   "source": [
    "data_replied.wtcj.value_counts()/len(data_replied)*100"
   ]
  },
  {
   "cell_type": "markdown",
   "metadata": {},
   "source": [
    "Conclusion:\n",
    "    1. There is not a lot of difference between both groups"
   ]
  },
  {
   "cell_type": "markdown",
   "metadata": {},
   "source": [
    "## premium"
   ]
  },
  {
   "cell_type": "code",
   "execution_count": 69,
   "metadata": {
    "collapsed": false
   },
   "outputs": [
    {
     "data": {
      "text/plain": [
       "0    79.535733\n",
       "1    20.464267\n",
       "Name: premium, dtype: float64"
      ]
     },
     "execution_count": 69,
     "metadata": {},
     "output_type": "execute_result"
    }
   ],
   "source": [
    "data_bookmarked.premium.value_counts()/len(data_bookmarked)*100"
   ]
  },
  {
   "cell_type": "code",
   "execution_count": 70,
   "metadata": {
    "collapsed": false
   },
   "outputs": [
    {
     "data": {
      "text/plain": [
       "0    85.900756\n",
       "1    14.099244\n",
       "Name: premium, dtype: float64"
      ]
     },
     "execution_count": 70,
     "metadata": {},
     "output_type": "execute_result"
    }
   ],
   "source": [
    "data_replied.premium.value_counts()/len(data_replied)*100"
   ]
  },
  {
   "cell_type": "markdown",
   "metadata": {},
   "source": [
    "Conclusion:\n",
    "1. Not much difference, but it seems that users who bookmark or reply normally are not premium"
   ]
  },
  {
   "cell_type": "markdown",
   "metadata": {},
   "source": [
    "## employment"
   ]
  },
  {
   "cell_type": "code",
   "execution_count": 71,
   "metadata": {
    "collapsed": false
   },
   "outputs": [
    {
     "data": {
      "text/plain": [
       "1    85.912316\n",
       "2    13.185496\n",
       "3     0.498194\n",
       "4     0.397483\n",
       "0     0.006510\n",
       "Name: employment, dtype: float64"
      ]
     },
     "execution_count": 71,
     "metadata": {},
     "output_type": "execute_result"
    }
   ],
   "source": [
    "data_bookmarked.employment.value_counts()/float(len(data_bookmarked))*100"
   ]
  },
  {
   "cell_type": "code",
   "execution_count": 72,
   "metadata": {
    "collapsed": false
   },
   "outputs": [
    {
     "data": {
      "text/plain": [
       "1    92.542669\n",
       "2     4.970514\n",
       "3     1.836771\n",
       "4     0.629245\n",
       "0     0.020801\n",
       "Name: employment, dtype: float64"
      ]
     },
     "execution_count": 72,
     "metadata": {},
     "output_type": "execute_result"
    }
   ],
   "source": [
    "data_replied.employment.value_counts()/float(len(data_replied))*100"
   ]
  },
  {
   "cell_type": "markdown",
   "metadata": {},
   "source": [
    "Conclusions: \n",
    "    1. Both groups have majority of jobs full time, however there is 3 times more interest for jobs employment=2 when bookmarking"
   ]
  },
  {
   "cell_type": "markdown",
   "metadata": {},
   "source": [
    "## title & tag"
   ]
  },
  {
   "cell_type": "code",
   "execution_count": 73,
   "metadata": {
    "collapsed": false
   },
   "outputs": [
    {
     "data": {
      "text/plain": [
       "0                            {3888938, 46526, 1405401}\n",
       "1                                     {46526, 1405401}\n",
       "2                            {3888938, 46526, 1405401}\n",
       "3                                            {1405401}\n",
       "4    {2699128, 4238250, 978712, 3218190, 2769260, 6...\n",
       "Name: title, dtype: object"
      ]
     },
     "execution_count": 73,
     "metadata": {},
     "output_type": "execute_result"
    }
   ],
   "source": [
    "data_bookmarked.title.head()"
   ]
  },
  {
   "cell_type": "code",
   "execution_count": 74,
   "metadata": {
    "collapsed": false
   },
   "outputs": [
    {
     "data": {
      "text/plain": [
       "0    {3671787, 3102059, 1786537, 4535088, 4502227, ...\n",
       "1    {310589, 65768, 1786537, 4535088, 278133, 2739...\n",
       "2    {1698419, 2994300, 1786537, 88816, 4502227, 27...\n",
       "3    {1698419, 2994300, 1786537, 88816, 4502227, 27...\n",
       "4    {4559688, 3121473, 310589, 2729530, 3561652, 3...\n",
       "Name: tags, dtype: object"
      ]
     },
     "execution_count": 74,
     "metadata": {},
     "output_type": "execute_result"
    }
   ],
   "source": [
    "data_replied.tags.head()"
   ]
  },
  {
   "cell_type": "code",
   "execution_count": 75,
   "metadata": {
    "collapsed": false
   },
   "outputs": [],
   "source": [
    "def intersect(x):\n",
    "    return x[0]&x[1]"
   ]
  },
  {
   "cell_type": "markdown",
   "metadata": {},
   "source": [
    "Find the intersection between titles and tags"
   ]
  },
  {
   "cell_type": "code",
   "execution_count": 76,
   "metadata": {
    "collapsed": false
   },
   "outputs": [],
   "source": [
    "data_bookmarked['title_tag_match'] = data_bookmarked[['title', 'tags']].apply(intersect, axis=1)\n",
    "data_replied['title_tag_match'] = data_replied[['title', 'tags']].apply(intersect, axis=1)"
   ]
  },
  {
   "cell_type": "code",
   "execution_count": 77,
   "metadata": {
    "collapsed": false
   },
   "outputs": [
    {
     "data": {
      "text/plain": [
       "1     23.430458\n",
       "3     20.331389\n",
       "4     16.707321\n",
       "2     16.524280\n",
       "7     10.042773\n",
       "5      5.980631\n",
       "6      3.268324\n",
       "9      1.386214\n",
       "8      1.312308\n",
       "10     0.461433\n",
       "11     0.261160\n",
       "12     0.132112\n",
       "13     0.071225\n",
       "14     0.033698\n",
       "15     0.030635\n",
       "17     0.009573\n",
       "16     0.009190\n",
       "18     0.005361\n",
       "20     0.000766\n",
       "19     0.000766\n",
       "22     0.000383\n",
       "Name: num_titles, dtype: float64"
      ]
     },
     "execution_count": 77,
     "metadata": {},
     "output_type": "execute_result"
    }
   ],
   "source": [
    "# Count how many titles\n",
    "data_bookmarked['num_titles'] = data_bookmarked.title.apply(len)\n",
    "data_bookmarked.num_titles.value_counts()/float(len(data_bookmarked))*100"
   ]
  },
  {
   "cell_type": "code",
   "execution_count": 78,
   "metadata": {
    "collapsed": false
   },
   "outputs": [
    {
     "data": {
      "text/plain": [
       "2     26.007052\n",
       "1     20.635069\n",
       "3     14.956265\n",
       "5     10.094959\n",
       "8      9.969110\n",
       "4      9.255619\n",
       "6      4.181098\n",
       "7      2.591865\n",
       "9      1.013032\n",
       "10     0.636525\n",
       "11     0.298501\n",
       "12     0.151851\n",
       "13     0.080086\n",
       "14     0.055124\n",
       "15     0.037443\n",
       "18     0.014561\n",
       "16     0.011441\n",
       "17     0.007281\n",
       "20     0.002080\n",
       "22     0.001040\n",
       "Name: num_titles, dtype: float64"
      ]
     },
     "execution_count": 78,
     "metadata": {},
     "output_type": "execute_result"
    }
   ],
   "source": [
    "# Count how many titles\n",
    "data_replied['num_titles'] = data_replied.title.apply(len)\n",
    "data_replied.num_titles.value_counts()/float(len(data_replied))*100"
   ]
  },
  {
   "cell_type": "markdown",
   "metadata": {
    "collapsed": false
   },
   "source": [
    "Conclusions:\n",
    "\n",
    "1. Not much to extract... at the moment"
   ]
  },
  {
   "cell_type": "markdown",
   "metadata": {},
   "source": [
    "## is_payed"
   ]
  },
  {
   "cell_type": "code",
   "execution_count": 79,
   "metadata": {
    "collapsed": false
   },
   "outputs": [
    {
     "data": {
      "text/plain": [
       "0    65.817579\n",
       "1    34.182421\n",
       "Name: is_payed, dtype: float64"
      ]
     },
     "execution_count": 79,
     "metadata": {},
     "output_type": "execute_result"
    }
   ],
   "source": [
    "data_bookmarked.is_payed.value_counts()/float(len(data_bookmarked))*100"
   ]
  },
  {
   "cell_type": "code",
   "execution_count": 80,
   "metadata": {
    "collapsed": false
   },
   "outputs": [
    {
     "data": {
      "text/plain": [
       "0    63.62653\n",
       "1    36.37347\n",
       "Name: is_payed, dtype: float64"
      ]
     },
     "execution_count": 80,
     "metadata": {},
     "output_type": "execute_result"
    }
   ],
   "source": [
    "data_replied.is_payed.value_counts()/float(len(data_replied))*100"
   ]
  },
  {
   "cell_type": "markdown",
   "metadata": {
    "collapsed": true
   },
   "source": [
    "Conclusions:\n",
    "    1. Very similar"
   ]
  },
  {
   "cell_type": "markdown",
   "metadata": {},
   "source": [
    "## Geography"
   ]
  },
  {
   "cell_type": "code",
   "execution_count": 85,
   "metadata": {
    "collapsed": false
   },
   "outputs": [
    {
     "name": "stdout",
     "output_type": "stream",
     "text": [
      "68.9361082509\n"
     ]
    }
   ],
   "source": [
    "n = float(len(data_replied))\n",
    "print np.sum(data_replied.country_item==data_replied.country_user)/n*100.0"
   ]
  },
  {
   "cell_type": "code",
   "execution_count": 86,
   "metadata": {
    "collapsed": false
   },
   "outputs": [
    {
     "name": "stdout",
     "output_type": "stream",
     "text": [
      "80.9395618493\n"
     ]
    }
   ],
   "source": [
    "n = float(len(data_bookmarked))\n",
    "print np.sum(data_bookmarked.country_item==data_bookmarked.country_user)/n*100.0"
   ]
  },
  {
   "cell_type": "code",
   "execution_count": 87,
   "metadata": {
    "collapsed": false
   },
   "outputs": [
    {
     "name": "stdout",
     "output_type": "stream",
     "text": [
      "32.9734677109\n"
     ]
    }
   ],
   "source": [
    "n = float(len(data_replied))\n",
    "print np.sum(data_replied.region_item==data_replied.region_user)/n*100.0"
   ]
  },
  {
   "cell_type": "code",
   "execution_count": 88,
   "metadata": {
    "collapsed": false
   },
   "outputs": [
    {
     "name": "stdout",
     "output_type": "stream",
     "text": [
      "32.6794131951\n"
     ]
    }
   ],
   "source": [
    "n = float(len(data_bookmarked))\n",
    "print np.sum(data_bookmarked.region_item==data_bookmarked.region_user)/n*100.0"
   ]
  },
  {
   "cell_type": "markdown",
   "metadata": {},
   "source": [
    "Conclusions\n",
    "    1. From bookmarked interactions, 80% were in the same country and from replied interactions 78% were\n",
    "    2. The behavious of regions is similar among both groups"
   ]
  },
  {
   "cell_type": "markdown",
   "metadata": {},
   "source": [
    "# Conclusions"
   ]
  },
  {
   "cell_type": "markdown",
   "metadata": {},
   "source": [
    "I still need to think but some of the conclusions I have extracted here, but I believe some of them can be converted into features for our classification problem. I will revise this later"
   ]
  },
  {
   "cell_type": "markdown",
   "metadata": {},
   "source": [
    "# Possible extra features:"
   ]
  },
  {
   "cell_type": "markdown",
   "metadata": {},
   "source": [
    "- career level match\n",
    "- career level item > career level user\n",
    "- discipline match\n",
    "- industry match\n",
    "- region match"
   ]
  },
  {
   "cell_type": "code",
   "execution_count": null,
   "metadata": {
    "collapsed": true
   },
   "outputs": [],
   "source": []
  }
 ],
 "metadata": {
  "kernelspec": {
   "display_name": "Python 2",
   "language": "python",
   "name": "python2"
  },
  "language_info": {
   "codemirror_mode": {
    "name": "ipython",
    "version": 2
   },
   "file_extension": ".py",
   "mimetype": "text/x-python",
   "name": "python",
   "nbconvert_exporter": "python",
   "pygments_lexer": "ipython2",
   "version": "2.7.12"
  }
 },
 "nbformat": 4,
 "nbformat_minor": 1
}
