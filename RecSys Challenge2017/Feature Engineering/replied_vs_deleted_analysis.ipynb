{
 "cells": [
  {
   "cell_type": "markdown",
   "metadata": {},
   "source": [
    "# REPLIED VS DELETED INTERACTIONS"
   ]
  },
  {
   "cell_type": "markdown",
   "metadata": {},
   "source": [
    "## Simple comparison between the pairs (user, item) that have had interaction 4 (deleted) versus interaction 3 (replied)"
   ]
  },
  {
   "cell_type": "markdown",
   "metadata": {},
   "source": [
    "This notebook tries to get insights into why users delete job notifications and why they reply to job offers:"
   ]
  },
  {
   "cell_type": "code",
   "execution_count": 1,
   "metadata": {
    "collapsed": false
   },
   "outputs": [],
   "source": [
    "import pandas as pd\n",
    "import numpy as np\n",
    "import matplotlib.pyplot as plt\n",
    "import seaborn as sns\n",
    "% matplotlib inline"
   ]
  },
  {
   "cell_type": "code",
   "execution_count": 2,
   "metadata": {
    "collapsed": false
   },
   "outputs": [
    {
     "data": {
      "text/html": [
       "<div>\n",
       "<table border=\"1\" class=\"dataframe\">\n",
       "  <thead>\n",
       "    <tr style=\"text-align: right;\">\n",
       "      <th></th>\n",
       "      <th>user_id</th>\n",
       "      <th>item_id</th>\n",
       "      <th>interaction_type</th>\n",
       "      <th>created_at</th>\n",
       "    </tr>\n",
       "  </thead>\n",
       "  <tbody>\n",
       "    <tr>\n",
       "      <th>0</th>\n",
       "      <td>321946</td>\n",
       "      <td>560</td>\n",
       "      <td>4</td>\n",
       "      <td>1484925131</td>\n",
       "    </tr>\n",
       "    <tr>\n",
       "      <th>1</th>\n",
       "      <td>1300778</td>\n",
       "      <td>560</td>\n",
       "      <td>4</td>\n",
       "      <td>1484302470</td>\n",
       "    </tr>\n",
       "    <tr>\n",
       "      <th>2</th>\n",
       "      <td>1555094</td>\n",
       "      <td>560</td>\n",
       "      <td>4</td>\n",
       "      <td>1484592137</td>\n",
       "    </tr>\n",
       "    <tr>\n",
       "      <th>3</th>\n",
       "      <td>61911</td>\n",
       "      <td>890</td>\n",
       "      <td>4</td>\n",
       "      <td>1484425678</td>\n",
       "    </tr>\n",
       "    <tr>\n",
       "      <th>4</th>\n",
       "      <td>856138</td>\n",
       "      <td>890</td>\n",
       "      <td>4</td>\n",
       "      <td>1483611369</td>\n",
       "    </tr>\n",
       "  </tbody>\n",
       "</table>\n",
       "</div>"
      ],
      "text/plain": [
       "   user_id  item_id  interaction_type  created_at\n",
       "0   321946      560                 4  1484925131\n",
       "1  1300778      560                 4  1484302470\n",
       "2  1555094      560                 4  1484592137\n",
       "3    61911      890                 4  1484425678\n",
       "4   856138      890                 4  1483611369"
      ]
     },
     "execution_count": 2,
     "metadata": {},
     "output_type": "execute_result"
    }
   ],
   "source": [
    "# Import all the interactions of type \"delete\"\n",
    "folderData = 'data/'\n",
    "deleted_interactions = pd.read_csv(folderData + 'interactions_deleted.csv')\n",
    "deleted_interactions.head()"
   ]
  },
  {
   "cell_type": "code",
   "execution_count": 3,
   "metadata": {
    "collapsed": false
   },
   "outputs": [
    {
     "data": {
      "text/html": [
       "<div>\n",
       "<table border=\"1\" class=\"dataframe\">\n",
       "  <thead>\n",
       "    <tr style=\"text-align: right;\">\n",
       "      <th></th>\n",
       "      <th>user_id</th>\n",
       "      <th>item_id</th>\n",
       "      <th>interaction_type</th>\n",
       "      <th>created_at</th>\n",
       "    </tr>\n",
       "  </thead>\n",
       "  <tbody>\n",
       "    <tr>\n",
       "      <th>0</th>\n",
       "      <td>518323</td>\n",
       "      <td>890</td>\n",
       "      <td>3</td>\n",
       "      <td>1483473392</td>\n",
       "    </tr>\n",
       "    <tr>\n",
       "      <th>1</th>\n",
       "      <td>472504</td>\n",
       "      <td>1190</td>\n",
       "      <td>3</td>\n",
       "      <td>1485419881</td>\n",
       "    </tr>\n",
       "    <tr>\n",
       "      <th>2</th>\n",
       "      <td>1790848</td>\n",
       "      <td>1830</td>\n",
       "      <td>3</td>\n",
       "      <td>1483950415</td>\n",
       "    </tr>\n",
       "    <tr>\n",
       "      <th>3</th>\n",
       "      <td>803720</td>\n",
       "      <td>1880</td>\n",
       "      <td>3</td>\n",
       "      <td>1483377509</td>\n",
       "    </tr>\n",
       "    <tr>\n",
       "      <th>4</th>\n",
       "      <td>803720</td>\n",
       "      <td>1880</td>\n",
       "      <td>3</td>\n",
       "      <td>1485860254</td>\n",
       "    </tr>\n",
       "  </tbody>\n",
       "</table>\n",
       "</div>"
      ],
      "text/plain": [
       "   user_id  item_id  interaction_type  created_at\n",
       "0   518323      890                 3  1483473392\n",
       "1   472504     1190                 3  1485419881\n",
       "2  1790848     1830                 3  1483950415\n",
       "3   803720     1880                 3  1483377509\n",
       "4   803720     1880                 3  1485860254"
      ]
     },
     "execution_count": 3,
     "metadata": {},
     "output_type": "execute_result"
    }
   ],
   "source": [
    "# Import all the interactions of type \"replied\"\n",
    "replied_interactions = pd.read_csv(folderData + 'interactions_replied.csv')\n",
    "replied_interactions.head()"
   ]
  },
  {
   "cell_type": "markdown",
   "metadata": {},
   "source": [
    "Do we have (user, item) pairs that are common between both groups?"
   ]
  },
  {
   "cell_type": "code",
   "execution_count": 4,
   "metadata": {
    "collapsed": true
   },
   "outputs": [],
   "source": [
    "intersection = pd.merge(deleted_interactions, replied_interactions, how='inner', on=['user_id', 'item_id'])"
   ]
  },
  {
   "cell_type": "code",
   "execution_count": 5,
   "metadata": {
    "collapsed": false
   },
   "outputs": [
    {
     "data": {
      "text/html": [
       "<div>\n",
       "<table border=\"1\" class=\"dataframe\">\n",
       "  <thead>\n",
       "    <tr style=\"text-align: right;\">\n",
       "      <th></th>\n",
       "      <th>user_id</th>\n",
       "      <th>item_id</th>\n",
       "      <th>interaction_type_x</th>\n",
       "      <th>created_at_x</th>\n",
       "      <th>interaction_type_y</th>\n",
       "      <th>created_at_y</th>\n",
       "    </tr>\n",
       "  </thead>\n",
       "  <tbody>\n",
       "    <tr>\n",
       "      <th>0</th>\n",
       "      <td>1546300</td>\n",
       "      <td>2250</td>\n",
       "      <td>4</td>\n",
       "      <td>1485947944</td>\n",
       "      <td>3</td>\n",
       "      <td>1485852205</td>\n",
       "    </tr>\n",
       "    <tr>\n",
       "      <th>1</th>\n",
       "      <td>1001738</td>\n",
       "      <td>114660</td>\n",
       "      <td>4</td>\n",
       "      <td>1483609630</td>\n",
       "      <td>3</td>\n",
       "      <td>1483605973</td>\n",
       "    </tr>\n",
       "    <tr>\n",
       "      <th>2</th>\n",
       "      <td>616377</td>\n",
       "      <td>115630</td>\n",
       "      <td>4</td>\n",
       "      <td>1483626681</td>\n",
       "      <td>3</td>\n",
       "      <td>1483611470</td>\n",
       "    </tr>\n",
       "    <tr>\n",
       "      <th>3</th>\n",
       "      <td>1907798</td>\n",
       "      <td>135370</td>\n",
       "      <td>4</td>\n",
       "      <td>1479040128</td>\n",
       "      <td>3</td>\n",
       "      <td>1479036526</td>\n",
       "    </tr>\n",
       "    <tr>\n",
       "      <th>4</th>\n",
       "      <td>627173</td>\n",
       "      <td>295530</td>\n",
       "      <td>4</td>\n",
       "      <td>1478848478</td>\n",
       "      <td>3</td>\n",
       "      <td>1479128428</td>\n",
       "    </tr>\n",
       "  </tbody>\n",
       "</table>\n",
       "</div>"
      ],
      "text/plain": [
       "   user_id  item_id  interaction_type_x  created_at_x  interaction_type_y  \\\n",
       "0  1546300     2250                   4    1485947944                   3   \n",
       "1  1001738   114660                   4    1483609630                   3   \n",
       "2   616377   115630                   4    1483626681                   3   \n",
       "3  1907798   135370                   4    1479040128                   3   \n",
       "4   627173   295530                   4    1478848478                   3   \n",
       "\n",
       "   created_at_y  \n",
       "0    1485852205  \n",
       "1    1483605973  \n",
       "2    1483611470  \n",
       "3    1479036526  \n",
       "4    1479128428  "
      ]
     },
     "execution_count": 5,
     "metadata": {},
     "output_type": "execute_result"
    }
   ],
   "source": [
    "intersection.head()"
   ]
  },
  {
   "cell_type": "markdown",
   "metadata": {},
   "source": [
    "Drop the intersections from deleted_interactions and replied_interactions"
   ]
  },
  {
   "cell_type": "code",
   "execution_count": 6,
   "metadata": {
    "collapsed": false
   },
   "outputs": [],
   "source": [
    "idx = deleted_interactions['user_id'].isin(intersection['user_id']) & deleted_interactions['item_id'].isin(intersection['item_id'])\n",
    "deleted_interactions = deleted_interactions[~idx]"
   ]
  },
  {
   "cell_type": "code",
   "execution_count": 7,
   "metadata": {
    "collapsed": true
   },
   "outputs": [],
   "source": [
    "idx = replied_interactions['user_id'].isin(intersection['user_id']) & replied_interactions['item_id'].isin(intersection['item_id'])\n",
    "replied_interactions = replied_interactions[~idx]"
   ]
  },
  {
   "cell_type": "markdown",
   "metadata": {},
   "source": [
    "From the intersections, let's check which interaction was last, in order to add it again to the corresponding variable. We assume that someone who first deletes and then replies, is like replying, and if someone first replies and then deletes, is like deleting."
   ]
  },
  {
   "cell_type": "code",
   "execution_count": 8,
   "metadata": {
    "collapsed": false
   },
   "outputs": [
    {
     "data": {
      "text/plain": [
       "True     848\n",
       "False     80\n",
       "dtype: int64"
      ]
     },
     "execution_count": 8,
     "metadata": {},
     "output_type": "execute_result"
    }
   ],
   "source": [
    "idx = intersection[['created_at_x', 'created_at_y']].max(axis=1)==intersection.created_at_x\n",
    "idx.value_counts()"
   ]
  },
  {
   "cell_type": "markdown",
   "metadata": {},
   "source": [
    "True means delete after reply, and False the opposite"
   ]
  },
  {
   "cell_type": "code",
   "execution_count": 9,
   "metadata": {
    "collapsed": false
   },
   "outputs": [],
   "source": [
    "aux = intersection.loc[idx, ['user_id', 'item_id', 'interaction_type_x','created_at_x']]\n",
    "aux.columns = ['user_id', 'item_id', 'interaction_type','created_at']\n",
    "deleted_interactions = pd.concat([deleted_interactions, aux], ignore_index=True)"
   ]
  },
  {
   "cell_type": "code",
   "execution_count": 10,
   "metadata": {
    "collapsed": false
   },
   "outputs": [],
   "source": [
    "aux = intersection.loc[~idx, ['user_id', 'item_id', 'interaction_type_y','created_at_y']]\n",
    "aux.columns = ['user_id', 'item_id', 'interaction_type','created_at']\n",
    "replied_interactions = pd.concat([replied_interactions, aux], ignore_index=True)"
   ]
  },
  {
   "cell_type": "markdown",
   "metadata": {},
   "source": [
    "Import all users and items data"
   ]
  },
  {
   "cell_type": "code",
   "execution_count": 11,
   "metadata": {
    "collapsed": true
   },
   "outputs": [],
   "source": [
    "# Import all users\n",
    "users = pd.read_csv(folderData + 'users.csv', sep='\\t')\n",
    "users.columns = ['user_id', 'jobroles', 'career_level', 'discipline_id', 'industry_id', 'country', 'region',\n",
    "                'experience_n_entries_class', 'experience_years_experience', 'experience_years_in_current',\n",
    "                'edu_degree', 'edu_fieldofstudies', 'wtcj', 'premium']"
   ]
  },
  {
   "cell_type": "code",
   "execution_count": 12,
   "metadata": {
    "collapsed": false
   },
   "outputs": [],
   "source": [
    "# Fill empties and transform the strings into a list\n",
    "users.jobroles = users.jobroles.fillna('0').apply(lambda str: set(str.split(',')))\n",
    "users.edu_fieldofstudies = users.edu_fieldofstudies.fillna('0').apply(lambda str: set(str.split(',')))"
   ]
  },
  {
   "cell_type": "code",
   "execution_count": 13,
   "metadata": {
    "collapsed": true
   },
   "outputs": [],
   "source": [
    "# Import all items\n",
    "items = pd.read_csv(folderData + 'items.csv', sep='\\t')\n",
    "items.columns = ['item_id', 'title', 'career_level', 'discipline_id', 'industry_id', 'country', 'is_payed', 'region',\n",
    "                'latitude', 'longitude', 'employment', 'tags', 'created_at']"
   ]
  },
  {
   "cell_type": "code",
   "execution_count": 14,
   "metadata": {
    "collapsed": false
   },
   "outputs": [],
   "source": [
    "# Fill empties and transform the strings into a list\n",
    "items.title = items.title.fillna('0').apply(lambda str: set(str.split(',')))\n",
    "items.tags = items.tags.fillna('0').apply(lambda str: set(str.split(',')))\n",
    "items['created_at_dt'] = pd.to_datetime(items.created_at,unit='s', errors='coerce')"
   ]
  },
  {
   "cell_type": "code",
   "execution_count": 15,
   "metadata": {
    "collapsed": false
   },
   "outputs": [
    {
     "data": {
      "text/html": [
       "<div>\n",
       "<table border=\"1\" class=\"dataframe\">\n",
       "  <thead>\n",
       "    <tr style=\"text-align: right;\">\n",
       "      <th></th>\n",
       "      <th>user_id</th>\n",
       "      <th>item_id</th>\n",
       "      <th>interaction_type</th>\n",
       "      <th>created_at_user</th>\n",
       "      <th>jobroles</th>\n",
       "      <th>career_level_user</th>\n",
       "      <th>discipline_id_user</th>\n",
       "      <th>industry_id_user</th>\n",
       "      <th>country_user</th>\n",
       "      <th>region_user</th>\n",
       "      <th>...</th>\n",
       "      <th>industry_id_item</th>\n",
       "      <th>country_item</th>\n",
       "      <th>is_payed</th>\n",
       "      <th>region_item</th>\n",
       "      <th>latitude</th>\n",
       "      <th>longitude</th>\n",
       "      <th>employment</th>\n",
       "      <th>tags</th>\n",
       "      <th>created_at_item</th>\n",
       "      <th>created_at_dt</th>\n",
       "    </tr>\n",
       "  </thead>\n",
       "  <tbody>\n",
       "    <tr>\n",
       "      <th>0</th>\n",
       "      <td>321946</td>\n",
       "      <td>560</td>\n",
       "      <td>4</td>\n",
       "      <td>1484925131</td>\n",
       "      <td>{4419072, 2904979, 3124810, 1050544, 362085}</td>\n",
       "      <td>0</td>\n",
       "      <td>0</td>\n",
       "      <td>0</td>\n",
       "      <td>de</td>\n",
       "      <td>0</td>\n",
       "      <td>...</td>\n",
       "      <td>16</td>\n",
       "      <td>de</td>\n",
       "      <td>1</td>\n",
       "      <td>1</td>\n",
       "      <td>49.1</td>\n",
       "      <td>9.2</td>\n",
       "      <td>1</td>\n",
       "      <td>{3698446, 202201, 2950030, 518708, 848365, 121...</td>\n",
       "      <td>1484262000</td>\n",
       "      <td>2017-01-12 23:00:00</td>\n",
       "    </tr>\n",
       "    <tr>\n",
       "      <th>1</th>\n",
       "      <td>1300778</td>\n",
       "      <td>560</td>\n",
       "      <td>4</td>\n",
       "      <td>1484302470</td>\n",
       "      <td>{3460004, 2028066, 2180632, 2154744, 4504662, ...</td>\n",
       "      <td>3</td>\n",
       "      <td>4</td>\n",
       "      <td>3</td>\n",
       "      <td>de</td>\n",
       "      <td>1</td>\n",
       "      <td>...</td>\n",
       "      <td>16</td>\n",
       "      <td>de</td>\n",
       "      <td>1</td>\n",
       "      <td>1</td>\n",
       "      <td>49.1</td>\n",
       "      <td>9.2</td>\n",
       "      <td>1</td>\n",
       "      <td>{3698446, 202201, 2950030, 518708, 848365, 121...</td>\n",
       "      <td>1484262000</td>\n",
       "      <td>2017-01-12 23:00:00</td>\n",
       "    </tr>\n",
       "    <tr>\n",
       "      <th>2</th>\n",
       "      <td>1555094</td>\n",
       "      <td>560</td>\n",
       "      <td>4</td>\n",
       "      <td>1484592137</td>\n",
       "      <td>{1745826, 2714822, 1408054, 4330980, 3614810, ...</td>\n",
       "      <td>2</td>\n",
       "      <td>0</td>\n",
       "      <td>16</td>\n",
       "      <td>de</td>\n",
       "      <td>9</td>\n",
       "      <td>...</td>\n",
       "      <td>16</td>\n",
       "      <td>de</td>\n",
       "      <td>1</td>\n",
       "      <td>1</td>\n",
       "      <td>49.1</td>\n",
       "      <td>9.2</td>\n",
       "      <td>1</td>\n",
       "      <td>{3698446, 202201, 2950030, 518708, 848365, 121...</td>\n",
       "      <td>1484262000</td>\n",
       "      <td>2017-01-12 23:00:00</td>\n",
       "    </tr>\n",
       "    <tr>\n",
       "      <th>3</th>\n",
       "      <td>321946</td>\n",
       "      <td>28540</td>\n",
       "      <td>4</td>\n",
       "      <td>1484925135</td>\n",
       "      <td>{4419072, 2904979, 3124810, 1050544, 362085}</td>\n",
       "      <td>0</td>\n",
       "      <td>0</td>\n",
       "      <td>0</td>\n",
       "      <td>de</td>\n",
       "      <td>0</td>\n",
       "      <td>...</td>\n",
       "      <td>16</td>\n",
       "      <td>de</td>\n",
       "      <td>1</td>\n",
       "      <td>9</td>\n",
       "      <td>51.5</td>\n",
       "      <td>7.5</td>\n",
       "      <td>1</td>\n",
       "      <td>{3797268, 3698446, 518708, 202201, 2950030, 36...</td>\n",
       "      <td>1484262000</td>\n",
       "      <td>2017-01-12 23:00:00</td>\n",
       "    </tr>\n",
       "    <tr>\n",
       "      <th>4</th>\n",
       "      <td>1555094</td>\n",
       "      <td>28540</td>\n",
       "      <td>4</td>\n",
       "      <td>1484592139</td>\n",
       "      <td>{1745826, 2714822, 1408054, 4330980, 3614810, ...</td>\n",
       "      <td>2</td>\n",
       "      <td>0</td>\n",
       "      <td>16</td>\n",
       "      <td>de</td>\n",
       "      <td>9</td>\n",
       "      <td>...</td>\n",
       "      <td>16</td>\n",
       "      <td>de</td>\n",
       "      <td>1</td>\n",
       "      <td>9</td>\n",
       "      <td>51.5</td>\n",
       "      <td>7.5</td>\n",
       "      <td>1</td>\n",
       "      <td>{3797268, 3698446, 518708, 202201, 2950030, 36...</td>\n",
       "      <td>1484262000</td>\n",
       "      <td>2017-01-12 23:00:00</td>\n",
       "    </tr>\n",
       "  </tbody>\n",
       "</table>\n",
       "<p>5 rows × 30 columns</p>\n",
       "</div>"
      ],
      "text/plain": [
       "   user_id  item_id  interaction_type  created_at_user  \\\n",
       "0   321946      560                 4       1484925131   \n",
       "1  1300778      560                 4       1484302470   \n",
       "2  1555094      560                 4       1484592137   \n",
       "3   321946    28540                 4       1484925135   \n",
       "4  1555094    28540                 4       1484592139   \n",
       "\n",
       "                                            jobroles  career_level_user  \\\n",
       "0       {4419072, 2904979, 3124810, 1050544, 362085}                  0   \n",
       "1  {3460004, 2028066, 2180632, 2154744, 4504662, ...                  3   \n",
       "2  {1745826, 2714822, 1408054, 4330980, 3614810, ...                  2   \n",
       "3       {4419072, 2904979, 3124810, 1050544, 362085}                  0   \n",
       "4  {1745826, 2714822, 1408054, 4330980, 3614810, ...                  2   \n",
       "\n",
       "   discipline_id_user  industry_id_user country_user  region_user  \\\n",
       "0                   0                 0           de            0   \n",
       "1                   4                 3           de            1   \n",
       "2                   0                16           de            9   \n",
       "3                   0                 0           de            0   \n",
       "4                   0                16           de            9   \n",
       "\n",
       "          ...          industry_id_item  country_item  is_payed  region_item  \\\n",
       "0         ...                        16            de         1            1   \n",
       "1         ...                        16            de         1            1   \n",
       "2         ...                        16            de         1            1   \n",
       "3         ...                        16            de         1            9   \n",
       "4         ...                        16            de         1            9   \n",
       "\n",
       "  latitude  longitude  employment  \\\n",
       "0     49.1        9.2           1   \n",
       "1     49.1        9.2           1   \n",
       "2     49.1        9.2           1   \n",
       "3     51.5        7.5           1   \n",
       "4     51.5        7.5           1   \n",
       "\n",
       "                                                tags  created_at_item  \\\n",
       "0  {3698446, 202201, 2950030, 518708, 848365, 121...       1484262000   \n",
       "1  {3698446, 202201, 2950030, 518708, 848365, 121...       1484262000   \n",
       "2  {3698446, 202201, 2950030, 518708, 848365, 121...       1484262000   \n",
       "3  {3797268, 3698446, 518708, 202201, 2950030, 36...       1484262000   \n",
       "4  {3797268, 3698446, 518708, 202201, 2950030, 36...       1484262000   \n",
       "\n",
       "        created_at_dt  \n",
       "0 2017-01-12 23:00:00  \n",
       "1 2017-01-12 23:00:00  \n",
       "2 2017-01-12 23:00:00  \n",
       "3 2017-01-12 23:00:00  \n",
       "4 2017-01-12 23:00:00  \n",
       "\n",
       "[5 rows x 30 columns]"
      ]
     },
     "execution_count": 15,
     "metadata": {},
     "output_type": "execute_result"
    }
   ],
   "source": [
    "# Merge data sets. Find all the information of users and items that have an interaction of type 4\n",
    "data_deleted = deleted_interactions.merge(users, on='user_id', how='inner')\n",
    "data_deleted = data_deleted.merge(items, on='item_id', how='inner', suffixes=('_user', '_item'))\n",
    "data_deleted.head()"
   ]
  },
  {
   "cell_type": "code",
   "execution_count": 16,
   "metadata": {
    "collapsed": false
   },
   "outputs": [
    {
     "data": {
      "text/plain": [
       "(904779, 29)"
      ]
     },
     "execution_count": 16,
     "metadata": {},
     "output_type": "execute_result"
    }
   ],
   "source": [
    "# Remove interaction type\n",
    "data_deleted.drop(['interaction_type'], axis=1, inplace=True)\n",
    "data_deleted.shape"
   ]
  },
  {
   "cell_type": "code",
   "execution_count": 17,
   "metadata": {
    "collapsed": false
   },
   "outputs": [
    {
     "data": {
      "text/html": [
       "<div>\n",
       "<table border=\"1\" class=\"dataframe\">\n",
       "  <thead>\n",
       "    <tr style=\"text-align: right;\">\n",
       "      <th></th>\n",
       "      <th>user_id</th>\n",
       "      <th>item_id</th>\n",
       "      <th>interaction_type</th>\n",
       "      <th>created_at_user</th>\n",
       "      <th>jobroles</th>\n",
       "      <th>career_level_user</th>\n",
       "      <th>discipline_id_user</th>\n",
       "      <th>industry_id_user</th>\n",
       "      <th>country_user</th>\n",
       "      <th>region_user</th>\n",
       "      <th>...</th>\n",
       "      <th>industry_id_item</th>\n",
       "      <th>country_item</th>\n",
       "      <th>is_payed</th>\n",
       "      <th>region_item</th>\n",
       "      <th>latitude</th>\n",
       "      <th>longitude</th>\n",
       "      <th>employment</th>\n",
       "      <th>tags</th>\n",
       "      <th>created_at_item</th>\n",
       "      <th>created_at_dt</th>\n",
       "    </tr>\n",
       "  </thead>\n",
       "  <tbody>\n",
       "    <tr>\n",
       "      <th>0</th>\n",
       "      <td>518323</td>\n",
       "      <td>890</td>\n",
       "      <td>3</td>\n",
       "      <td>1483473392</td>\n",
       "      <td>{4535088}</td>\n",
       "      <td>3</td>\n",
       "      <td>0</td>\n",
       "      <td>0</td>\n",
       "      <td>de</td>\n",
       "      <td>0</td>\n",
       "      <td>...</td>\n",
       "      <td>16</td>\n",
       "      <td>de</td>\n",
       "      <td>0</td>\n",
       "      <td>9</td>\n",
       "      <td>51.2</td>\n",
       "      <td>6.8</td>\n",
       "      <td>1</td>\n",
       "      <td>{3671787, 3102059, 1786537, 4535088, 4502227, ...</td>\n",
       "      <td>1483311600</td>\n",
       "      <td>2017-01-01 23:00:00</td>\n",
       "    </tr>\n",
       "    <tr>\n",
       "      <th>1</th>\n",
       "      <td>518323</td>\n",
       "      <td>1037640</td>\n",
       "      <td>3</td>\n",
       "      <td>1478478703</td>\n",
       "      <td>{4535088}</td>\n",
       "      <td>3</td>\n",
       "      <td>0</td>\n",
       "      <td>0</td>\n",
       "      <td>de</td>\n",
       "      <td>0</td>\n",
       "      <td>...</td>\n",
       "      <td>17</td>\n",
       "      <td>de</td>\n",
       "      <td>0</td>\n",
       "      <td>9</td>\n",
       "      <td>51.5</td>\n",
       "      <td>7.0</td>\n",
       "      <td>1</td>\n",
       "      <td>{310589, 65768, 1786537, 4535088, 278133, 2739...</td>\n",
       "      <td>1475100000</td>\n",
       "      <td>2016-09-28 22:00:00</td>\n",
       "    </tr>\n",
       "    <tr>\n",
       "      <th>2</th>\n",
       "      <td>518323</td>\n",
       "      <td>516541</td>\n",
       "      <td>3</td>\n",
       "      <td>1479252937</td>\n",
       "      <td>{4535088}</td>\n",
       "      <td>3</td>\n",
       "      <td>0</td>\n",
       "      <td>0</td>\n",
       "      <td>de</td>\n",
       "      <td>0</td>\n",
       "      <td>...</td>\n",
       "      <td>9</td>\n",
       "      <td>de</td>\n",
       "      <td>0</td>\n",
       "      <td>7</td>\n",
       "      <td>50.2</td>\n",
       "      <td>8.6</td>\n",
       "      <td>1</td>\n",
       "      <td>{1698419, 2994300, 1786537, 88816, 4502227, 27...</td>\n",
       "      <td>1478127600</td>\n",
       "      <td>2016-11-02 23:00:00</td>\n",
       "    </tr>\n",
       "    <tr>\n",
       "      <th>3</th>\n",
       "      <td>1109658</td>\n",
       "      <td>516541</td>\n",
       "      <td>3</td>\n",
       "      <td>1478807656</td>\n",
       "      <td>{0}</td>\n",
       "      <td>3</td>\n",
       "      <td>0</td>\n",
       "      <td>0</td>\n",
       "      <td>de</td>\n",
       "      <td>0</td>\n",
       "      <td>...</td>\n",
       "      <td>9</td>\n",
       "      <td>de</td>\n",
       "      <td>0</td>\n",
       "      <td>7</td>\n",
       "      <td>50.2</td>\n",
       "      <td>8.6</td>\n",
       "      <td>1</td>\n",
       "      <td>{1698419, 2994300, 1786537, 88816, 4502227, 27...</td>\n",
       "      <td>1478127600</td>\n",
       "      <td>2016-11-02 23:00:00</td>\n",
       "    </tr>\n",
       "    <tr>\n",
       "      <th>4</th>\n",
       "      <td>518323</td>\n",
       "      <td>91892</td>\n",
       "      <td>3</td>\n",
       "      <td>1483627535</td>\n",
       "      <td>{4535088}</td>\n",
       "      <td>3</td>\n",
       "      <td>0</td>\n",
       "      <td>0</td>\n",
       "      <td>de</td>\n",
       "      <td>0</td>\n",
       "      <td>...</td>\n",
       "      <td>16</td>\n",
       "      <td>at</td>\n",
       "      <td>0</td>\n",
       "      <td>0</td>\n",
       "      <td>null</td>\n",
       "      <td>null</td>\n",
       "      <td>1</td>\n",
       "      <td>{4559688, 3121473, 310589, 2729530, 3561652, 3...</td>\n",
       "      <td>1471298400</td>\n",
       "      <td>2016-08-15 22:00:00</td>\n",
       "    </tr>\n",
       "  </tbody>\n",
       "</table>\n",
       "<p>5 rows × 30 columns</p>\n",
       "</div>"
      ],
      "text/plain": [
       "   user_id  item_id  interaction_type  created_at_user   jobroles  \\\n",
       "0   518323      890                 3       1483473392  {4535088}   \n",
       "1   518323  1037640                 3       1478478703  {4535088}   \n",
       "2   518323   516541                 3       1479252937  {4535088}   \n",
       "3  1109658   516541                 3       1478807656        {0}   \n",
       "4   518323    91892                 3       1483627535  {4535088}   \n",
       "\n",
       "   career_level_user  discipline_id_user  industry_id_user country_user  \\\n",
       "0                  3                   0                 0           de   \n",
       "1                  3                   0                 0           de   \n",
       "2                  3                   0                 0           de   \n",
       "3                  3                   0                 0           de   \n",
       "4                  3                   0                 0           de   \n",
       "\n",
       "   region_user         ...          industry_id_item  country_item  is_payed  \\\n",
       "0            0         ...                        16            de         0   \n",
       "1            0         ...                        17            de         0   \n",
       "2            0         ...                         9            de         0   \n",
       "3            0         ...                         9            de         0   \n",
       "4            0         ...                        16            at         0   \n",
       "\n",
       "   region_item latitude  longitude  employment  \\\n",
       "0            9     51.2        6.8           1   \n",
       "1            9     51.5        7.0           1   \n",
       "2            7     50.2        8.6           1   \n",
       "3            7     50.2        8.6           1   \n",
       "4            0     null       null           1   \n",
       "\n",
       "                                                tags  created_at_item  \\\n",
       "0  {3671787, 3102059, 1786537, 4535088, 4502227, ...       1483311600   \n",
       "1  {310589, 65768, 1786537, 4535088, 278133, 2739...       1475100000   \n",
       "2  {1698419, 2994300, 1786537, 88816, 4502227, 27...       1478127600   \n",
       "3  {1698419, 2994300, 1786537, 88816, 4502227, 27...       1478127600   \n",
       "4  {4559688, 3121473, 310589, 2729530, 3561652, 3...       1471298400   \n",
       "\n",
       "        created_at_dt  \n",
       "0 2017-01-01 23:00:00  \n",
       "1 2016-09-28 22:00:00  \n",
       "2 2016-11-02 23:00:00  \n",
       "3 2016-11-02 23:00:00  \n",
       "4 2016-08-15 22:00:00  \n",
       "\n",
       "[5 rows x 30 columns]"
      ]
     },
     "execution_count": 17,
     "metadata": {},
     "output_type": "execute_result"
    }
   ],
   "source": [
    "# Merge data sets. Find all the information of users and items that have an interaction of type 3\n",
    "data_replied = replied_interactions.merge(users, on='user_id', how='inner')\n",
    "data_replied = data_replied.merge(items, on='item_id', how='inner', suffixes=('_user', '_item'))\n",
    "data_replied.head()"
   ]
  },
  {
   "cell_type": "code",
   "execution_count": 18,
   "metadata": {
    "collapsed": false
   },
   "outputs": [
    {
     "data": {
      "text/plain": [
       "(116933, 29)"
      ]
     },
     "execution_count": 18,
     "metadata": {},
     "output_type": "execute_result"
    }
   ],
   "source": [
    "# Remove interaction type\n",
    "data_replied.drop(['interaction_type'], axis=1, inplace=True)\n",
    "data_replied.shape"
   ]
  },
  {
   "cell_type": "code",
   "execution_count": 19,
   "metadata": {
    "collapsed": false
   },
   "outputs": [
    {
     "name": "stdout",
     "output_type": "stream",
     "text": [
      "Index([u'user_id', u'item_id', u'created_at_user', u'jobroles',\n",
      "       u'career_level_user', u'discipline_id_user', u'industry_id_user',\n",
      "       u'country_user', u'region_user', u'experience_n_entries_class',\n",
      "       u'experience_years_experience', u'experience_years_in_current',\n",
      "       u'edu_degree', u'edu_fieldofstudies', u'wtcj', u'premium', u'title',\n",
      "       u'career_level_item', u'discipline_id_item', u'industry_id_item',\n",
      "       u'country_item', u'is_payed', u'region_item', u'latitude', u'longitude',\n",
      "       u'employment', u'tags', u'created_at_item', u'created_at_dt'],\n",
      "      dtype='object')\n"
     ]
    }
   ],
   "source": [
    "print data_replied.columns"
   ]
  },
  {
   "cell_type": "code",
   "execution_count": 20,
   "metadata": {
    "collapsed": false
   },
   "outputs": [],
   "source": [
    "# Select all users and items who have been involved with interaction 4\n",
    "idx = users.user_id.isin(data_deleted.user_id)\n",
    "users_not_interested = users.ix[idx].reset_index(drop=True)\n",
    "idx = items.item_id.isin(data_deleted.item_id)\n",
    "items_not_interesting = items.ix[idx].reset_index(drop=True)"
   ]
  },
  {
   "cell_type": "code",
   "execution_count": 21,
   "metadata": {
    "collapsed": true
   },
   "outputs": [],
   "source": [
    "# Select all users and items who have been involved with interaction 3\n",
    "idx = users.user_id.isin(data_replied.user_id)\n",
    "users_interested = users.ix[idx].reset_index(drop=True)\n",
    "idx = items.item_id.isin(data_replied.item_id)\n",
    "items_interesting = items.ix[idx].reset_index(drop=True)"
   ]
  },
  {
   "cell_type": "markdown",
   "metadata": {},
   "source": [
    "# Let's study each one of the columns and compare the values between both groups to see if there are differences"
   ]
  },
  {
   "cell_type": "markdown",
   "metadata": {},
   "source": [
    "## Career level"
   ]
  },
  {
   "cell_type": "markdown",
   "metadata": {},
   "source": [
    "Which career level do users have? Does it match the career level asked at the job?"
   ]
  },
  {
   "cell_type": "code",
   "execution_count": 22,
   "metadata": {
    "collapsed": false
   },
   "outputs": [
    {
     "data": {
      "text/plain": [
       "{0: 258199, 1: 7227, 2: 40791, 3: 343382, 4: 188397, 5: 33377, 6: 33406}"
      ]
     },
     "execution_count": 22,
     "metadata": {},
     "output_type": "execute_result"
    }
   ],
   "source": [
    "data_deleted.career_level_user.value_counts().sort_index().to_dict()"
   ]
  },
  {
   "cell_type": "code",
   "execution_count": 23,
   "metadata": {
    "collapsed": false
   },
   "outputs": [
    {
     "data": {
      "text/plain": [
       "{1: 10234, 2: 36867, 3: 521304, 4: 273782, 5: 44842, 6: 17750}"
      ]
     },
     "execution_count": 23,
     "metadata": {},
     "output_type": "execute_result"
    }
   ],
   "source": [
    "data_deleted.career_level_item.value_counts().sort_index().to_dict()"
   ]
  },
  {
   "cell_type": "markdown",
   "metadata": {},
   "source": [
    "Lets only look at the data for which we know the career level (ignore case 0)"
   ]
  },
  {
   "cell_type": "code",
   "execution_count": 24,
   "metadata": {
    "collapsed": false
   },
   "outputs": [
    {
     "name": "stdout",
     "output_type": "stream",
     "text": [
      "54.4543598627\n",
      "23.1128398651\n",
      "22.4328002722\n"
     ]
    }
   ],
   "source": [
    "subset1 = data_deleted[data_deleted.career_level_user!=0]\n",
    "n = float(len(subset1))\n",
    "print np.sum(subset1.career_level_item==subset1.career_level_user)/n*100.0\n",
    "print np.sum(subset1.career_level_item>subset1.career_level_user)/n*100.0\n",
    "print np.sum(subset1.career_level_item<subset1.career_level_user)/n*100.0"
   ]
  },
  {
   "cell_type": "code",
   "execution_count": 25,
   "metadata": {
    "collapsed": false
   },
   "outputs": [
    {
     "data": {
      "text/plain": [
       "{-5: 39,\n",
       " -4: 275,\n",
       " -3: 4065,\n",
       " -2: 23389,\n",
       " -1: 121675,\n",
       " 0: 352091,\n",
       " 1: 108869,\n",
       " 2: 27929,\n",
       " 3: 8103,\n",
       " 4: 125,\n",
       " 5: 20}"
      ]
     },
     "execution_count": 25,
     "metadata": {},
     "output_type": "execute_result"
    }
   ],
   "source": [
    "diff_career_level = subset1.career_level_user-subset1.career_level_item\n",
    "diff_career_level.value_counts().sort_index().to_dict()"
   ]
  },
  {
   "cell_type": "markdown",
   "metadata": {},
   "source": [
    "Approximately 55% of interactions of type 4 have the same career level"
   ]
  },
  {
   "cell_type": "code",
   "execution_count": 26,
   "metadata": {
    "collapsed": false
   },
   "outputs": [
    {
     "name": "stdout",
     "output_type": "stream",
     "text": [
      "57.4048894569\n",
      "14.8369727789\n",
      "27.7581377641\n"
     ]
    }
   ],
   "source": [
    "subset2 = data_replied[data_replied.career_level_user!=0]\n",
    "n = float(len(subset2))\n",
    "print np.sum(subset2.career_level_item==subset2.career_level_user)/n*100.0\n",
    "print np.sum(subset2.career_level_item>subset2.career_level_user)/n*100.0\n",
    "print np.sum(subset2.career_level_item<subset2.career_level_user)/n*100.0"
   ]
  },
  {
   "cell_type": "code",
   "execution_count": 27,
   "metadata": {
    "collapsed": false
   },
   "outputs": [
    {
     "data": {
      "text/plain": [
       "{-4: 14,\n",
       " -3: 113,\n",
       " -2: 1595,\n",
       " -1: 9190,\n",
       " 0: 42219,\n",
       " 1: 13343,\n",
       " 2: 3933,\n",
       " 3: 2898,\n",
       " 4: 163,\n",
       " 5: 78}"
      ]
     },
     "execution_count": 27,
     "metadata": {},
     "output_type": "execute_result"
    }
   ],
   "source": [
    "diff_career_level = subset2.career_level_user-subset2.career_level_item\n",
    "diff_career_level.value_counts().sort_index().to_dict()"
   ]
  },
  {
   "cell_type": "markdown",
   "metadata": {},
   "source": [
    "More than 57% have the same career level, and nearly double apply for jobs with career level lower than them compared to the opposite."
   ]
  },
  {
   "cell_type": "markdown",
   "metadata": {},
   "source": [
    "Conclusion:\n",
    "\n",
    "    1. In both deleted and replied interactions, the career level match behaves similarly\n"
   ]
  },
  {
   "cell_type": "markdown",
   "metadata": {},
   "source": [
    "## Discipline id"
   ]
  },
  {
   "cell_type": "markdown",
   "metadata": {},
   "source": [
    "Let's ask the same questions"
   ]
  },
  {
   "cell_type": "code",
   "execution_count": 28,
   "metadata": {
    "collapsed": false
   },
   "outputs": [
    {
     "data": {
      "text/plain": [
       "0     575245\n",
       "4      68158\n",
       "5      49740\n",
       "17     42810\n",
       "3      26394\n",
       "Name: discipline_id_user, dtype: int64"
      ]
     },
     "execution_count": 28,
     "metadata": {},
     "output_type": "execute_result"
    }
   ],
   "source": [
    "data_deleted.discipline_id_user.value_counts().head()"
   ]
  },
  {
   "cell_type": "code",
   "execution_count": 29,
   "metadata": {
    "collapsed": false
   },
   "outputs": [
    {
     "data": {
      "text/plain": [
       "17    155855\n",
       "5     100247\n",
       "21     76587\n",
       "3      69181\n",
       "16     68801\n",
       "Name: discipline_id_item, dtype: int64"
      ]
     },
     "execution_count": 29,
     "metadata": {},
     "output_type": "execute_result"
    }
   ],
   "source": [
    "data_deleted.discipline_id_item.value_counts().head()"
   ]
  },
  {
   "cell_type": "code",
   "execution_count": 30,
   "metadata": {
    "collapsed": false
   },
   "outputs": [
    {
     "name": "stdout",
     "output_type": "stream",
     "text": [
      "44.4700698562\n"
     ]
    }
   ],
   "source": [
    "# Remove the unknowns which are labelled as 0 and compute percentages\n",
    "subset1 = data_deleted[data_deleted.discipline_id_user!=0]\n",
    "n = float(len(subset1))\n",
    "print np.sum(subset1.discipline_id_item==subset1.discipline_id_user)/n*100.0"
   ]
  },
  {
   "cell_type": "markdown",
   "metadata": {},
   "source": [
    "Having a discpline match doesn't seem so important when deleting a job"
   ]
  },
  {
   "cell_type": "code",
   "execution_count": 31,
   "metadata": {
    "collapsed": false
   },
   "outputs": [
    {
     "name": "stdout",
     "output_type": "stream",
     "text": [
      "56.0088785541\n"
     ]
    }
   ],
   "source": [
    "# Remove the unknowns which are labelled as 0 and compute percentages\n",
    "subset2 = data_replied[data_replied.discipline_id_user!=0]\n",
    "n = float(len(subset2))\n",
    "print np.sum(subset2.discipline_id_item==subset2.discipline_id_user)/n*100.0"
   ]
  },
  {
   "cell_type": "markdown",
   "metadata": {},
   "source": [
    "Whereas it looks more important when replying to a post"
   ]
  },
  {
   "cell_type": "markdown",
   "metadata": {},
   "source": [
    "Are particular disciplines more popular or less popular?"
   ]
  },
  {
   "cell_type": "markdown",
   "metadata": {},
   "source": [
    "    1. Users"
   ]
  },
  {
   "cell_type": "code",
   "execution_count": 32,
   "metadata": {
    "collapsed": false
   },
   "outputs": [
    {
     "data": {
      "image/png": "[encoded data removed]",
      "text/plain": [
       "<matplotlib.figure.Figure at 0x10933ab10>"
      ]
     },
     "metadata": {},
     "output_type": "display_data"
    }
   ],
   "source": [
    "discipline_deleted = users_not_interested[users_not_interested.discipline_id!=0].discipline_id.value_counts()/len(users_not_interested[users_not_interested.discipline_id!=0])*100\n",
    "discipline_applied = users_interested[users_interested.discipline_id!=0].discipline_id.value_counts()/len(users_interested[users_interested.discipline_id!=0])*100\n",
    "df = pd.DataFrame({'discipline_deleted':discipline_deleted, 'discipline_applied':discipline_applied})\n",
    "df.plot(kind='bar', figsize=(15, 3), color=['green', 'blue']);"
   ]
  },
  {
   "cell_type": "markdown",
   "metadata": {},
   "source": [
    "    2. items"
   ]
  },
  {
   "cell_type": "code",
   "execution_count": 33,
   "metadata": {
    "collapsed": false
   },
   "outputs": [
    {
     "data": {
      "image/png": "[encoded data removed]",
      "text/plain": [
       "<matplotlib.figure.Figure at 0x17224b390>"
      ]
     },
     "metadata": {},
     "output_type": "display_data"
    }
   ],
   "source": [
    "discipline_deleted = items_not_interesting[items_not_interesting.discipline_id!=0].discipline_id.value_counts()/len(items_not_interesting[items_not_interesting.discipline_id!=0])*100\n",
    "discipline_applied = items_interesting[items_interesting.discipline_id!=0].discipline_id.value_counts()/len(items_interesting[items_interesting.discipline_id!=0])*100\n",
    "df = pd.DataFrame({'discipline_deleted':discipline_deleted, 'discipline_applied':discipline_applied})\n",
    "df.plot(kind='bar', figsize=(15, 3), color=['green', 'blue']);"
   ]
  },
  {
   "cell_type": "code",
   "execution_count": 34,
   "metadata": {
    "collapsed": false
   },
   "outputs": [
    {
     "name": "stdout",
     "output_type": "stream",
     "text": [
      "(329534, 29)\n"
     ]
    }
   ],
   "source": [
    "print subset1.shape"
   ]
  },
  {
   "cell_type": "code",
   "execution_count": 35,
   "metadata": {
    "collapsed": false
   },
   "outputs": [
    {
     "data": {
      "text/plain": [
       "5     20.373403\n",
       "17    18.839393\n",
       "21    11.292172\n",
       "4     10.064554\n",
       "3      9.444945\n",
       "16     7.266759\n",
       "11     5.248935\n",
       "1      4.166667\n",
       "6      2.358336\n",
       "13     2.260754\n",
       "8      1.580413\n",
       "23     1.550388\n",
       "18     1.034502\n",
       "14     0.943061\n",
       "20     0.831150\n",
       "7      0.812725\n",
       "15     0.772464\n",
       "19     0.388962\n",
       "22     0.316628\n",
       "2      0.293427\n",
       "10     0.144666\n",
       "12     0.015695\n",
       "Name: discipline_id_item, dtype: float64"
      ]
     },
     "execution_count": 35,
     "metadata": {},
     "output_type": "execute_result"
    }
   ],
   "source": [
    "idx = subset1.discipline_id_item==subset1.discipline_id_user\n",
    "subset1[idx].discipline_id_item.value_counts()/len(subset1[idx])*100"
   ]
  },
  {
   "cell_type": "code",
   "execution_count": 36,
   "metadata": {
    "collapsed": false
   },
   "outputs": [
    {
     "data": {
      "text/plain": [
       "3     30.397245\n",
       "17    25.358558\n",
       "5     11.049255\n",
       "16     6.699377\n",
       "21     3.944140\n",
       "1      3.882808\n",
       "11     3.566711\n",
       "4      3.175127\n",
       "13     2.934516\n",
       "7      1.731459\n",
       "6      1.622948\n",
       "23     1.405926\n",
       "18     0.849217\n",
       "8      0.849217\n",
       "15     0.702963\n",
       "14     0.518966\n",
       "20     0.367994\n",
       "22     0.273637\n",
       "2      0.264201\n",
       "19     0.254765\n",
       "10     0.136818\n",
       "12     0.014154\n",
       "Name: discipline_id_item, dtype: float64"
      ]
     },
     "execution_count": 36,
     "metadata": {},
     "output_type": "execute_result"
    }
   ],
   "source": [
    "idx = subset2.discipline_id_item==subset2.discipline_id_user\n",
    "subset2[idx].discipline_id_item.value_counts()/len(subset2[idx])*100"
   ]
  },
  {
   "cell_type": "markdown",
   "metadata": {},
   "source": [
    "Conclusions\n",
    "\n",
    "    1. Many users do not specify discipline, but when it matches with the item discipline it is more likely that the user will be interested than not\n",
    "    \n",
    "    2. There are disciplines that when there is a match, a reply is much more likely than a delete: 5, 21, 4"
   ]
  },
  {
   "cell_type": "markdown",
   "metadata": {},
   "source": [
    "## industry_id"
   ]
  },
  {
   "cell_type": "code",
   "execution_count": 37,
   "metadata": {
    "collapsed": false
   },
   "outputs": [
    {
     "data": {
      "text/plain": [
       "0     292992\n",
       "7     105104\n",
       "14     95927\n",
       "16     80003\n",
       "15     66800\n",
       "Name: industry_id_user, dtype: int64"
      ]
     },
     "execution_count": 37,
     "metadata": {},
     "output_type": "execute_result"
    }
   ],
   "source": [
    "data_deleted.industry_id_user.value_counts().head(n=5)"
   ]
  },
  {
   "cell_type": "code",
   "execution_count": 38,
   "metadata": {
    "collapsed": false
   },
   "outputs": [
    {
     "data": {
      "text/plain": [
       "16    242230\n",
       "7     120412\n",
       "3      86291\n",
       "20     73217\n",
       "9      59437\n",
       "Name: industry_id_item, dtype: int64"
      ]
     },
     "execution_count": 38,
     "metadata": {},
     "output_type": "execute_result"
    }
   ],
   "source": [
    "data_deleted.industry_id_item.value_counts().head(n=5)"
   ]
  },
  {
   "cell_type": "code",
   "execution_count": 39,
   "metadata": {
    "collapsed": false
   },
   "outputs": [
    {
     "data": {
      "text/plain": [
       "0     33541\n",
       "16    12608\n",
       "18    12230\n",
       "7     10969\n",
       "5      7424\n",
       "Name: industry_id_user, dtype: int64"
      ]
     },
     "execution_count": 39,
     "metadata": {},
     "output_type": "execute_result"
    }
   ],
   "source": [
    "data_replied.industry_id_user.value_counts().head(n=5)"
   ]
  },
  {
   "cell_type": "code",
   "execution_count": 40,
   "metadata": {
    "collapsed": false
   },
   "outputs": [
    {
     "data": {
      "text/plain": [
       "16    36113\n",
       "7     21104\n",
       "9      8823\n",
       "3      7903\n",
       "14     5726\n",
       "Name: industry_id_item, dtype: int64"
      ]
     },
     "execution_count": 40,
     "metadata": {},
     "output_type": "execute_result"
    }
   ],
   "source": [
    "data_replied.industry_id_item.value_counts().head(n=5)"
   ]
  },
  {
   "cell_type": "code",
   "execution_count": 41,
   "metadata": {
    "collapsed": false
   },
   "outputs": [
    {
     "name": "stdout",
     "output_type": "stream",
     "text": [
      "20.1107575022\n"
     ]
    }
   ],
   "source": [
    "subset1 = data_deleted[data_deleted.industry_id_user!=0]\n",
    "n = float(len(subset1))\n",
    "print np.sum(subset1.industry_id_item==subset1.industry_id_user)/n*100.0"
   ]
  },
  {
   "cell_type": "markdown",
   "metadata": {},
   "source": [
    "Very few interactions of type delete have a match of industry_id"
   ]
  },
  {
   "cell_type": "code",
   "execution_count": 42,
   "metadata": {
    "collapsed": false
   },
   "outputs": [
    {
     "name": "stdout",
     "output_type": "stream",
     "text": [
      "27.2352264006\n"
     ]
    }
   ],
   "source": [
    "subset2 = data_replied[data_replied.industry_id_user!=0]\n",
    "n = float(len(subset2))\n",
    "print np.sum(subset2.industry_id_item==subset2.industry_id_user)/n*100.0"
   ]
  },
  {
   "cell_type": "markdown",
   "metadata": {},
   "source": [
    "similarly for interactions of type reply"
   ]
  },
  {
   "cell_type": "code",
   "execution_count": 43,
   "metadata": {
    "collapsed": false
   },
   "outputs": [
    {
     "data": {
      "image/png": "[encoded data removed]",
      "text/plain": [
       "<matplotlib.figure.Figure at 0x168e0fe90>"
      ]
     },
     "metadata": {},
     "output_type": "display_data"
    }
   ],
   "source": [
    "industry_deleted = users_not_interested[users_not_interested.industry_id!=0].industry_id.value_counts()/len(users_not_interested[users_not_interested.industry_id!=0])*100\n",
    "industry_applied = users_interested[users_interested.industry_id!=0].industry_id.value_counts()/len(users_interested[users_interested.industry_id!=0])*100\n",
    "df = pd.DataFrame({'industry_deleted':industry_deleted, 'industry_applied':industry_applied})\n",
    "df.plot(kind='bar', figsize=(15, 3), color=['green', 'blue']);"
   ]
  },
  {
   "cell_type": "code",
   "execution_count": 44,
   "metadata": {
    "collapsed": false
   },
   "outputs": [
    {
     "data": {
      "image/png": "[encoded data removed]",
      "text/plain": [
       "<matplotlib.figure.Figure at 0x175924e50>"
      ]
     },
     "metadata": {},
     "output_type": "display_data"
    }
   ],
   "source": [
    "industry_deleted = items_not_interesting[items_not_interesting.industry_id!=0].industry_id.value_counts()/len(items_not_interesting[items_not_interesting.industry_id!=0])*100\n",
    "industry_applied = items_interesting[items_interesting.industry_id!=0].industry_id.value_counts()/len(items_interesting[items_interesting.industry_id!=0])*100\n",
    "df = pd.DataFrame({'industry_deleted':industry_deleted, 'industry_applied':industry_applied})\n",
    "df.plot(kind='bar', figsize=(15, 3), color=['green', 'blue']);"
   ]
  },
  {
   "cell_type": "markdown",
   "metadata": {},
   "source": [
    "Conclusions: \n",
    "\n",
    "    1. Industry_id match does not seem very relevant\n",
    "    2. Usere from industries 18, 21 and 23 apply a lot more than delete"
   ]
  },
  {
   "cell_type": "markdown",
   "metadata": {},
   "source": [
    "## experience_n_entries_class"
   ]
  },
  {
   "cell_type": "code",
   "execution_count": 45,
   "metadata": {
    "collapsed": false
   },
   "outputs": [
    {
     "data": {
      "text/plain": [
       "3    60.167842\n",
       "2    20.357347\n",
       "1    19.474811\n",
       "Name: experience_n_entries_class, dtype: float64"
      ]
     },
     "execution_count": 45,
     "metadata": {},
     "output_type": "execute_result"
    }
   ],
   "source": [
    "data_deleted.experience_n_entries_class.value_counts()/float(len(data_deleted))*100"
   ]
  },
  {
   "cell_type": "code",
   "execution_count": 46,
   "metadata": {
    "collapsed": false
   },
   "outputs": [
    {
     "data": {
      "text/plain": [
       "3    44.823959\n",
       "1    34.030599\n",
       "2    21.145442\n",
       "Name: experience_n_entries_class, dtype: float64"
      ]
     },
     "execution_count": 46,
     "metadata": {},
     "output_type": "execute_result"
    }
   ],
   "source": [
    "data_replied.experience_n_entries_class.value_counts()/float(len(data_replied))*100"
   ]
  },
  {
   "cell_type": "markdown",
   "metadata": {},
   "source": [
    "Conclusions: \n",
    "\n",
    "    From the deleted interactions, 60% of them corresponded to users with more than 5 entries in CV (level=3). However, from the replied interactions, only 44% corresponded to them. "
   ]
  },
  {
   "cell_type": "markdown",
   "metadata": {},
   "source": [
    "## experience_years_experience & experience_years_in_current"
   ]
  },
  {
   "cell_type": "code",
   "execution_count": 47,
   "metadata": {
    "collapsed": false
   },
   "outputs": [
    {
     "data": {
      "text/plain": [
       "7    29.235206\n",
       "4    18.028049\n",
       "5    17.697471\n",
       "6    16.863897\n",
       "0    12.603741\n",
       "3     3.325232\n",
       "2     1.796240\n",
       "1     0.450165\n",
       "Name: experience_years_experience, dtype: float64"
      ]
     },
     "execution_count": 47,
     "metadata": {},
     "output_type": "execute_result"
    }
   ],
   "source": [
    "data_deleted.experience_years_experience.value_counts()/float(len(data_deleted))*100"
   ]
  },
  {
   "cell_type": "code",
   "execution_count": 48,
   "metadata": {
    "collapsed": false
   },
   "outputs": [
    {
     "data": {
      "text/plain": [
       "0    23.080739\n",
       "4    20.844415\n",
       "5    17.802502\n",
       "7    16.736080\n",
       "6    12.827003\n",
       "3     5.131999\n",
       "2     2.895675\n",
       "1     0.681587\n",
       "Name: experience_years_experience, dtype: float64"
      ]
     },
     "execution_count": 48,
     "metadata": {},
     "output_type": "execute_result"
    }
   ],
   "source": [
    "data_replied.experience_years_experience.value_counts()/float(len(data_replied))*100"
   ]
  },
  {
   "cell_type": "markdown",
   "metadata": {},
   "source": [
    "Conclusion:\n",
    "1. 30% of deletions occur with users with more than 7 years of experience\n",
    "2. Less than 8% of the replies are done by users with 1, 2, or 3 years of experience "
   ]
  },
  {
   "cell_type": "code",
   "execution_count": 49,
   "metadata": {
    "collapsed": false
   },
   "outputs": [
    {
     "data": {
      "text/plain": [
       "2    28.204899\n",
       "1    18.275734\n",
       "4    15.002448\n",
       "0    14.539020\n",
       "3    13.544523\n",
       "5     5.329147\n",
       "6     2.687176\n",
       "7     2.417054\n",
       "Name: experience_years_in_current, dtype: float64"
      ]
     },
     "execution_count": 49,
     "metadata": {},
     "output_type": "execute_result"
    }
   ],
   "source": [
    "data_deleted.experience_years_in_current.value_counts()/float(len(data_deleted))*100"
   ]
  },
  {
   "cell_type": "code",
   "execution_count": 50,
   "metadata": {
    "collapsed": false
   },
   "outputs": [
    {
     "data": {
      "text/plain": [
       "2    25.659993\n",
       "0    25.402581\n",
       "1    16.931918\n",
       "4    12.570446\n",
       "3    12.126602\n",
       "5     3.730341\n",
       "6     2.034498\n",
       "7     1.543619\n",
       "Name: experience_years_in_current, dtype: float64"
      ]
     },
     "execution_count": 50,
     "metadata": {},
     "output_type": "execute_result"
    }
   ],
   "source": [
    "data_replied.experience_years_in_current.value_counts()/float(len(data_replied))*100"
   ]
  },
  {
   "cell_type": "markdown",
   "metadata": {},
   "source": [
    "Conclusion:\n",
    "    1. 30% of deletions occur when user has 2 years of experience in current job\n",
    "    2. At the same time 25% of replies happen when user has 2 years of experience at current job\n",
    "    3. Don't know what to do here..."
   ]
  },
  {
   "cell_type": "markdown",
   "metadata": {},
   "source": [
    "## edu_degree"
   ]
  },
  {
   "cell_type": "code",
   "execution_count": 51,
   "metadata": {
    "collapsed": false
   },
   "outputs": [
    {
     "data": {
      "text/plain": [
       "0    62.893148\n",
       "2    24.735212\n",
       "1     9.277625\n",
       "3     3.094015\n",
       "Name: edu_degree, dtype: float64"
      ]
     },
     "execution_count": 51,
     "metadata": {},
     "output_type": "execute_result"
    }
   ],
   "source": [
    "data_deleted.edu_degree.value_counts()/float(len(data_deleted))*100"
   ]
  },
  {
   "cell_type": "code",
   "execution_count": 52,
   "metadata": {
    "collapsed": false
   },
   "outputs": [
    {
     "data": {
      "text/plain": [
       "0    67.164958\n",
       "2    18.879187\n",
       "1    11.088401\n",
       "3     2.867454\n",
       "Name: edu_degree, dtype: float64"
      ]
     },
     "execution_count": 52,
     "metadata": {},
     "output_type": "execute_result"
    }
   ],
   "source": [
    "data_replied.edu_degree.value_counts()/float(len(data_replied))*100"
   ]
  },
  {
   "cell_type": "markdown",
   "metadata": {},
   "source": [
    "Conclusion:\n",
    "    1. Majority of users in both groups have not specifed the edu_degree "
   ]
  },
  {
   "cell_type": "markdown",
   "metadata": {},
   "source": [
    "## field of studies"
   ]
  },
  {
   "cell_type": "code",
   "execution_count": 53,
   "metadata": {
    "collapsed": false
   },
   "outputs": [],
   "source": [
    "# Count how many times each field of study appears\n",
    "field_of_studies_deleted = data_deleted.edu_fieldofstudies.apply(lambda x: list(x))\n",
    "field_of_studies_replied = data_replied.edu_fieldofstudies.apply(lambda x: list(x))"
   ]
  },
  {
   "cell_type": "code",
   "execution_count": 54,
   "metadata": {
    "collapsed": false,
    "scrolled": false
   },
   "outputs": [],
   "source": [
    "import itertools\n",
    "field_of_studies_deleted = list(itertools.chain.from_iterable(field_of_studies_deleted.values.flatten()))\n",
    "field_of_studies_replied = list(itertools.chain.from_iterable(field_of_studies_replied.values.flatten()))"
   ]
  },
  {
   "cell_type": "code",
   "execution_count": 55,
   "metadata": {
    "collapsed": false
   },
   "outputs": [
    {
     "data": {
      "text/plain": [
       "{'0': 43.77878659338213,\n",
       " '1': 0.3001376842768166,\n",
       " '2': 5.228492723190425,\n",
       " '3': 13.98773978173081,\n",
       " '4': 1.7318335474308795,\n",
       " '5': 8.76847280760603,\n",
       " '6': 0.8939951404369595,\n",
       " '7': 5.5047637957539495,\n",
       " '8': 18.841987988475836,\n",
       " '9': 0.9637899377161658}"
      ]
     },
     "execution_count": 55,
     "metadata": {},
     "output_type": "execute_result"
    }
   ],
   "source": [
    "from collections import Counter\n",
    "{k: v/float(len(field_of_studies_deleted))*100 for k, v in dict(Counter(field_of_studies_deleted)).items()}"
   ]
  },
  {
   "cell_type": "code",
   "execution_count": 56,
   "metadata": {
    "collapsed": false
   },
   "outputs": [
    {
     "data": {
      "text/plain": [
       "{'0': 48.85507647314547,\n",
       " '1': 0.30668300201557125,\n",
       " '2': 3.564004268268585,\n",
       " '3': 15.552306050665928,\n",
       " '4': 1.6875469311939295,\n",
       " '5': 8.895387898668142,\n",
       " '6': 0.5572461763427261,\n",
       " '7': 4.090424060388096,\n",
       " '8': 15.752282338062681,\n",
       " '9': 0.7390428012488638}"
      ]
     },
     "execution_count": 56,
     "metadata": {},
     "output_type": "execute_result"
    }
   ],
   "source": [
    "{k: v/float(len(field_of_studies_replied))*100 for k, v in dict(Counter(field_of_studies_replied)).items()}"
   ]
  },
  {
   "cell_type": "markdown",
   "metadata": {},
   "source": [
    "Conclusions: \n",
    "    1. the distribution of field of studied is very similar between the two groups"
   ]
  },
  {
   "cell_type": "markdown",
   "metadata": {},
   "source": [
    "## WTCJ"
   ]
  },
  {
   "cell_type": "code",
   "execution_count": 57,
   "metadata": {
    "collapsed": false
   },
   "outputs": [
    {
     "data": {
      "text/plain": [
       "1    77.556619\n",
       "0    22.443381\n",
       "Name: wtcj, dtype: float64"
      ]
     },
     "execution_count": 57,
     "metadata": {},
     "output_type": "execute_result"
    }
   ],
   "source": [
    "data_deleted.wtcj.value_counts()/len(data_deleted)*100"
   ]
  },
  {
   "cell_type": "code",
   "execution_count": 58,
   "metadata": {
    "collapsed": false
   },
   "outputs": [
    {
     "data": {
      "text/plain": [
       "1    80.617106\n",
       "0    19.382894\n",
       "Name: wtcj, dtype: float64"
      ]
     },
     "execution_count": 58,
     "metadata": {},
     "output_type": "execute_result"
    }
   ],
   "source": [
    "data_replied.wtcj.value_counts()/len(data_replied)*100"
   ]
  },
  {
   "cell_type": "markdown",
   "metadata": {},
   "source": [
    "Conclusion:\n",
    "    1. There is not a lot of difference between both groups"
   ]
  },
  {
   "cell_type": "markdown",
   "metadata": {},
   "source": [
    "## premium"
   ]
  },
  {
   "cell_type": "code",
   "execution_count": 59,
   "metadata": {
    "collapsed": false
   },
   "outputs": [
    {
     "data": {
      "text/plain": [
       "0    71.575932\n",
       "1    28.424068\n",
       "Name: premium, dtype: float64"
      ]
     },
     "execution_count": 59,
     "metadata": {},
     "output_type": "execute_result"
    }
   ],
   "source": [
    "data_deleted.premium.value_counts()/len(data_deleted)*100"
   ]
  },
  {
   "cell_type": "code",
   "execution_count": 60,
   "metadata": {
    "collapsed": false
   },
   "outputs": [
    {
     "data": {
      "text/plain": [
       "0    84.438097\n",
       "1    15.561903\n",
       "Name: premium, dtype: float64"
      ]
     },
     "execution_count": 60,
     "metadata": {},
     "output_type": "execute_result"
    }
   ],
   "source": [
    "data_replied.premium.value_counts()/len(data_replied)*100"
   ]
  },
  {
   "cell_type": "markdown",
   "metadata": {},
   "source": [
    "Conclusion:\n",
    "1. Not much difference, but it seems that users who reply normally are not premium"
   ]
  },
  {
   "cell_type": "markdown",
   "metadata": {},
   "source": [
    "## employment"
   ]
  },
  {
   "cell_type": "code",
   "execution_count": 61,
   "metadata": {
    "collapsed": false
   },
   "outputs": [
    {
     "data": {
      "text/plain": [
       "1    95.996481\n",
       "2     2.033425\n",
       "3     1.098721\n",
       "4     0.842968\n",
       "0     0.028405\n",
       "Name: employment, dtype: float64"
      ]
     },
     "execution_count": 61,
     "metadata": {},
     "output_type": "execute_result"
    }
   ],
   "source": [
    "data_deleted.employment.value_counts()/float(len(data_deleted))*100"
   ]
  },
  {
   "cell_type": "code",
   "execution_count": 62,
   "metadata": {
    "collapsed": false
   },
   "outputs": [
    {
     "data": {
      "text/plain": [
       "1    92.840344\n",
       "2     4.789067\n",
       "3     1.743734\n",
       "4     0.608041\n",
       "0     0.018814\n",
       "Name: employment, dtype: float64"
      ]
     },
     "execution_count": 62,
     "metadata": {},
     "output_type": "execute_result"
    }
   ],
   "source": [
    "data_replied.employment.value_counts()/float(len(data_replied))*100"
   ]
  },
  {
   "cell_type": "markdown",
   "metadata": {},
   "source": [
    "Conclusions: \n",
    "    1. Both groups have majority of jobs full time"
   ]
  },
  {
   "cell_type": "markdown",
   "metadata": {},
   "source": [
    "## title & tag"
   ]
  },
  {
   "cell_type": "code",
   "execution_count": 63,
   "metadata": {
    "collapsed": false
   },
   "outputs": [
    {
     "data": {
      "text/plain": [
       "0    {3431606, 4330980, 579315, 3614810, 2714822}\n",
       "1    {3431606, 4330980, 579315, 3614810, 2714822}\n",
       "2    {3431606, 4330980, 579315, 3614810, 2714822}\n",
       "3    {579315, 3431606, 4330980, 3614810, 2714822}\n",
       "4    {579315, 3431606, 4330980, 3614810, 2714822}\n",
       "Name: title, dtype: object"
      ]
     },
     "execution_count": 63,
     "metadata": {},
     "output_type": "execute_result"
    }
   ],
   "source": [
    "data_deleted.title.head()"
   ]
  },
  {
   "cell_type": "code",
   "execution_count": 64,
   "metadata": {
    "collapsed": false
   },
   "outputs": [
    {
     "data": {
      "text/plain": [
       "0    {3671787, 3102059, 1786537, 4535088, 4502227, ...\n",
       "1    {310589, 65768, 1786537, 4535088, 278133, 2739...\n",
       "2    {1698419, 2994300, 1786537, 88816, 4502227, 27...\n",
       "3    {1698419, 2994300, 1786537, 88816, 4502227, 27...\n",
       "4    {4559688, 3121473, 310589, 2729530, 3561652, 3...\n",
       "Name: tags, dtype: object"
      ]
     },
     "execution_count": 64,
     "metadata": {},
     "output_type": "execute_result"
    }
   ],
   "source": [
    "data_replied.tags.head()"
   ]
  },
  {
   "cell_type": "code",
   "execution_count": 65,
   "metadata": {
    "collapsed": false
   },
   "outputs": [],
   "source": [
    "def intersect(x):\n",
    "    return x[0]&x[1]"
   ]
  },
  {
   "cell_type": "markdown",
   "metadata": {},
   "source": [
    "Find the intersection between titles and tags"
   ]
  },
  {
   "cell_type": "code",
   "execution_count": 66,
   "metadata": {
    "collapsed": false
   },
   "outputs": [],
   "source": [
    "data_deleted['title_tag_match'] = data_deleted[['title', 'tags']].apply(intersect, axis=1)\n",
    "data_replied['title_tag_match'] = data_replied[['title', 'tags']].apply(intersect, axis=1)"
   ]
  },
  {
   "cell_type": "code",
   "execution_count": 67,
   "metadata": {
    "collapsed": false
   },
   "outputs": [
    {
     "data": {
      "text/plain": [
       "3     20.125688\n",
       "1     19.989743\n",
       "2     18.853886\n",
       "4     12.183859\n",
       "5      9.711322\n",
       "6      6.452404\n",
       "7      4.330229\n",
       "8      2.819805\n",
       "9      2.513542\n",
       "10     1.022570\n",
       "11     0.840979\n",
       "12     0.604899\n",
       "14     0.262053\n",
       "13     0.131192\n",
       "15     0.083556\n",
       "17     0.045647\n",
       "16     0.017463\n",
       "18     0.007516\n",
       "19     0.002321\n",
       "22     0.001216\n",
       "20     0.000111\n",
       "Name: num_titles, dtype: float64"
      ]
     },
     "execution_count": 67,
     "metadata": {},
     "output_type": "execute_result"
    }
   ],
   "source": [
    "# Count how many titles\n",
    "data_deleted['num_titles'] = data_deleted.title.apply(len)\n",
    "data_deleted.num_titles.value_counts()/float(len(data_deleted))*100"
   ]
  },
  {
   "cell_type": "code",
   "execution_count": 68,
   "metadata": {
    "collapsed": false
   },
   "outputs": [
    {
     "data": {
      "text/plain": [
       "2     25.256343\n",
       "1     21.035978\n",
       "3     15.325870\n",
       "5     10.150257\n",
       "4      9.827850\n",
       "8      8.657094\n",
       "6      4.490606\n",
       "7      2.810156\n",
       "9      1.063002\n",
       "10     0.692704\n",
       "11     0.301882\n",
       "12     0.161631\n",
       "13     0.085519\n",
       "14     0.055587\n",
       "15     0.040194\n",
       "18     0.017959\n",
       "17     0.011117\n",
       "16     0.010262\n",
       "22     0.003421\n",
       "20     0.001710\n",
       "19     0.000855\n",
       "Name: num_titles, dtype: float64"
      ]
     },
     "execution_count": 68,
     "metadata": {},
     "output_type": "execute_result"
    }
   ],
   "source": [
    "# Count how many titles\n",
    "data_replied['num_titles'] = data_replied.title.apply(len)\n",
    "data_replied.num_titles.value_counts()/float(len(data_replied))*100"
   ]
  },
  {
   "cell_type": "markdown",
   "metadata": {
    "collapsed": false
   },
   "source": [
    "Conclusions:\n",
    "\n",
    "1. Not much to extract... at the moment"
   ]
  },
  {
   "cell_type": "markdown",
   "metadata": {},
   "source": [
    "## is_payed"
   ]
  },
  {
   "cell_type": "code",
   "execution_count": 69,
   "metadata": {
    "collapsed": false
   },
   "outputs": [
    {
     "data": {
      "text/plain": [
       "1    74.513003\n",
       "0    25.486997\n",
       "Name: is_payed, dtype: float64"
      ]
     },
     "execution_count": 69,
     "metadata": {},
     "output_type": "execute_result"
    }
   ],
   "source": [
    "data_deleted.is_payed.value_counts()/float(len(data_deleted))*100"
   ]
  },
  {
   "cell_type": "code",
   "execution_count": 70,
   "metadata": {
    "collapsed": false
   },
   "outputs": [
    {
     "data": {
      "text/plain": [
       "0    61.985924\n",
       "1    38.014076\n",
       "Name: is_payed, dtype: float64"
      ]
     },
     "execution_count": 70,
     "metadata": {},
     "output_type": "execute_result"
    }
   ],
   "source": [
    "data_replied.is_payed.value_counts()/float(len(data_replied))*100"
   ]
  },
  {
   "cell_type": "markdown",
   "metadata": {
    "collapsed": true
   },
   "source": [
    "Conclusions:\n",
    "    1. It seems that for deleted interactions, 75 % of the posted jobs were payed for, however, when the user replied to the posting only 38% of them were payed for."
   ]
  },
  {
   "cell_type": "markdown",
   "metadata": {},
   "source": [
    "## Geography"
   ]
  },
  {
   "cell_type": "code",
   "execution_count": 71,
   "metadata": {
    "collapsed": false
   },
   "outputs": [
    {
     "name": "stdout",
     "output_type": "stream",
     "text": [
      "72.1917679355\n"
     ]
    }
   ],
   "source": [
    "n = float(len(data_replied))\n",
    "print np.sum(data_replied.country_item==data_replied.country_user)/n*100.0"
   ]
  },
  {
   "cell_type": "code",
   "execution_count": 72,
   "metadata": {
    "collapsed": false
   },
   "outputs": [
    {
     "name": "stdout",
     "output_type": "stream",
     "text": [
      "86.6813884938\n"
     ]
    }
   ],
   "source": [
    "n = float(len(data_deleted))\n",
    "print np.sum(data_deleted.country_item==data_deleted.country_user)/n*100.0"
   ]
  },
  {
   "cell_type": "code",
   "execution_count": 73,
   "metadata": {
    "collapsed": false
   },
   "outputs": [
    {
     "name": "stdout",
     "output_type": "stream",
     "text": [
      "33.8715332712\n"
     ]
    }
   ],
   "source": [
    "n = float(len(data_replied))\n",
    "print np.sum(data_replied.region_item==data_replied.region_user)/n*100.0"
   ]
  },
  {
   "cell_type": "code",
   "execution_count": 74,
   "metadata": {
    "collapsed": false
   },
   "outputs": [
    {
     "name": "stdout",
     "output_type": "stream",
     "text": [
      "21.376159261\n"
     ]
    }
   ],
   "source": [
    "n = float(len(data_deleted))\n",
    "print np.sum(data_deleted.region_item==data_deleted.region_user)/n*100.0"
   ]
  },
  {
   "cell_type": "markdown",
   "metadata": {},
   "source": [
    "# Conclusions"
   ]
  },
  {
   "cell_type": "markdown",
   "metadata": {},
   "source": [
    "I still need to think but some of the conclusions I have extracted here I believe can be converted into features for our classification problem. I will revise this later"
   ]
  },
  {
   "cell_type": "markdown",
   "metadata": {},
   "source": [
    "# Possible extra features:"
   ]
  },
  {
   "cell_type": "markdown",
   "metadata": {},
   "source": [
    "- career level match\n",
    "- career level item < career level user\n",
    "- discipline match\n",
    "- industry match\n",
    "- user industry is 18, 21 and 23\n",
    "- region and country match"
   ]
  },
  {
   "cell_type": "markdown",
   "metadata": {
    "collapsed": true
   },
   "source": [
    "Now we will need similar comparison but for interactions of type bookmark, clicked and showed"
   ]
  }
 ],
 "metadata": {
  "kernelspec": {
   "display_name": "Python 2",
   "language": "python",
   "name": "python2"
  },
  "language_info": {
   "codemirror_mode": {
    "name": "ipython",
    "version": 2
   },
   "file_extension": ".py",
   "mimetype": "text/x-python",
   "name": "python",
   "nbconvert_exporter": "python",
   "pygments_lexer": "ipython2",
   "version": "2.7.12"
  }
 },
 "nbformat": 4,
 "nbformat_minor": 1
}
