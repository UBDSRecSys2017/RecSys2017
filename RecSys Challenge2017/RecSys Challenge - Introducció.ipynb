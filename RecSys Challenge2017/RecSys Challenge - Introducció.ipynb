{
 "cells": [
  {
   "cell_type": "markdown",
   "metadata": {},
   "source": [
    "<h1>ACM RecSys Challenge 2017 - Job Recommendation</h1>\n",
    "<h2>Introducció</h2>\n",
    "<h6>Jaume Espriu, Bet Herrera, Amadeo Irigoyen, Bartolomé Martínez</h6>\n",
    "\n",
    "<p>http://2017.recsyschallenge.com/</p>\n",
    "<p>http://www.ub.edu/datascience/postgraduate/</p>\n",
    "<p>https://ubdsrecsys2017.wordpress.com/</p>\n"
   ]
  },
  {
   "cell_type": "markdown",
   "metadata": {},
   "source": [
    "Aquest notebook serveix d'introducció pel Treball Final que s'ha realitzat pel Postgrau UB Data Science and Big Data  sobre el  RecSys Challenge 2017 ( http://2017.recsyschallenge.com/ ) pels alumnes Jaume Espriu, Amadeo Irigoyen, Bet Herrera i Bartolomé Martínez.\n",
    "\n",
    "Tot el procés de creació del recomanador, des de l'anàlisi de features i la seva visualització fins a la creació final passant per l'extracció de features i la creació d'un set de dades adient es pot consultar a la web http://ubdrecsys2017.wordpress.com\n",
    "\n"
   ]
  },
  {
   "cell_type": "code",
   "execution_count": 10,
   "metadata": {
    "collapsed": false
   },
   "outputs": [
    {
     "data": {
      "text/html": [
       "<iframe src='https://ubdsrecsys2017.wordpress.com' width=100% height=600></iframe>"
      ],
      "text/plain": [
       "<IPython.core.display.HTML object>"
      ]
     },
     "execution_count": 10,
     "metadata": {},
     "output_type": "execute_result"
    }
   ],
   "source": [
    "import IPython\n",
    "IPython.display.HTML(\"<iframe src='https://ubdsrecsys2017.wordpress.com' width=100% height=600></iframe>\")"
   ]
  },
  {
   "cell_type": "markdown",
   "metadata": {},
   "source": [
    "Els diferents notebooks i la presentació es poden consultar al repositori de github https://github.com/UBDSRecSys2017/RecSys2017, on es poden trobar els notebooks que es presenten a la web, ordenats per carpetes:\n",
    "\n",
    "<b>Presentation</b><br/>\n",
    "\n",
    "Powerpoint de presentació del projecte\n",
    "\n",
    "<b>Feature Engineering</b><br/>\n",
    "\n",
    "Carpeta amb els notebooks d'anàlisi i creació de features i característiques del dataset. \n",
    "\n",
    "<b>Visualization</b><br/>\n",
    "\n",
    "Carpeta amb els notebooks de visualització. També inclou un subdirectori amb el chord chart en acció.\n",
    "\n",
    "<b>DatasetCreation</b><br/>\n",
    "\n",
    "Fitxer en python per a la creació del dataset que utilitza el recomanador.\n",
    "\n",
    "<b>Recommender</b><br/>\n",
    "\n",
    "En aquesta carpeta podem trobar els tres fitxers que formen el recomanador.\n",
    "\n",
    "<b>data</b><br/>\n",
    "\n",
    "Carpeta de dades. Degut a la mida de les mateixes s'ha optat per no pujar-les.\n"
   ]
  }
 ],
 "metadata": {
  "anaconda-cloud": {},
  "kernelspec": {
   "display_name": "Python [conda root]",
   "language": "python",
   "name": "conda-root-py"
  },
  "language_info": {
   "codemirror_mode": {
    "name": "ipython",
    "version": 2
   },
   "file_extension": ".py",
   "mimetype": "text/x-python",
   "name": "python",
   "nbconvert_exporter": "python",
   "pygments_lexer": "ipython2",
   "version": "2.7.12"
  }
 },
 "nbformat": 4,
 "nbformat_minor": 1
}
