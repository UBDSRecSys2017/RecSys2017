{
 "cells": [
  {
   "cell_type": "code",
   "execution_count": 1,
   "metadata": {
    "collapsed": true
   },
   "outputs": [],
   "source": [
    "%matplotlib inline\n",
    "import pandas as pd\n",
    "import numpy as np\n",
    "import math\n",
    "import matplotlib.pylab as plt\n",
    "from scipy.stats import pearsonr\n",
    "from scipy.spatial.distance import euclidean\n",
    "from math import isnan\n",
    "import time\n",
    "import datetime"
   ]
  },
  {
   "cell_type": "code",
   "execution_count": 2,
   "metadata": {
    "collapsed": true
   },
   "outputs": [],
   "source": [
    "folderData = 'data\\\\'"
   ]
  },
  {
   "cell_type": "markdown",
   "metadata": {},
   "source": [
    "First, testing with one particular example:"
   ]
  },
  {
   "cell_type": "code",
   "execution_count": 3,
   "metadata": {
    "collapsed": false
   },
   "outputs": [
    {
     "data": {
      "text/plain": [
       "(6867579, 5)"
      ]
     },
     "execution_count": 3,
     "metadata": {},
     "output_type": "execute_result"
    }
   ],
   "source": [
    "inter1 = pd.read_pickle(folderData + 'interactions1Data.pkl')\n",
    "inter1.shape"
   ]
  },
  {
   "cell_type": "code",
   "execution_count": 4,
   "metadata": {
    "collapsed": false
   },
   "outputs": [
    {
     "data": {
      "text/html": [
       "<div>\n",
       "<table border=\"1\" class=\"dataframe\">\n",
       "  <thead>\n",
       "    <tr style=\"text-align: right;\">\n",
       "      <th></th>\n",
       "      <th>user_id</th>\n",
       "      <th>item_id</th>\n",
       "      <th>interaction_type</th>\n",
       "      <th>created_at</th>\n",
       "      <th>created_at_date</th>\n",
       "    </tr>\n",
       "  </thead>\n",
       "  <tbody>\n",
       "    <tr>\n",
       "      <th>0</th>\n",
       "      <td>2082156</td>\n",
       "      <td>80</td>\n",
       "      <td>1</td>\n",
       "      <td>1484299172</td>\n",
       "      <td>2017-01-13 09:19:32</td>\n",
       "    </tr>\n",
       "    <tr>\n",
       "      <th>1</th>\n",
       "      <td>1934123</td>\n",
       "      <td>140</td>\n",
       "      <td>1</td>\n",
       "      <td>1486388563</td>\n",
       "      <td>2017-02-06 13:42:43</td>\n",
       "    </tr>\n",
       "    <tr>\n",
       "      <th>2</th>\n",
       "      <td>1320213</td>\n",
       "      <td>240</td>\n",
       "      <td>1</td>\n",
       "      <td>1479409825</td>\n",
       "      <td>2016-11-17 19:10:25</td>\n",
       "    </tr>\n",
       "    <tr>\n",
       "      <th>3</th>\n",
       "      <td>297303</td>\n",
       "      <td>310</td>\n",
       "      <td>1</td>\n",
       "      <td>1484817366</td>\n",
       "      <td>2017-01-19 09:16:06</td>\n",
       "    </tr>\n",
       "    <tr>\n",
       "      <th>4</th>\n",
       "      <td>1635596</td>\n",
       "      <td>310</td>\n",
       "      <td>1</td>\n",
       "      <td>1486370081</td>\n",
       "      <td>2017-02-06 08:34:41</td>\n",
       "    </tr>\n",
       "  </tbody>\n",
       "</table>\n",
       "</div>"
      ],
      "text/plain": [
       "   user_id  item_id  interaction_type  created_at     created_at_date\n",
       "0  2082156       80                 1  1484299172 2017-01-13 09:19:32\n",
       "1  1934123      140                 1  1486388563 2017-02-06 13:42:43\n",
       "2  1320213      240                 1  1479409825 2016-11-17 19:10:25\n",
       "3   297303      310                 1  1484817366 2017-01-19 09:16:06\n",
       "4  1635596      310                 1  1486370081 2017-02-06 08:34:41"
      ]
     },
     "execution_count": 4,
     "metadata": {},
     "output_type": "execute_result"
    }
   ],
   "source": [
    "inter1.head()"
   ]
  },
  {
   "cell_type": "code",
   "execution_count": 5,
   "metadata": {
    "collapsed": false
   },
   "outputs": [
    {
     "data": {
      "text/plain": [
       "(5091857, 3)"
      ]
     },
     "execution_count": 5,
     "metadata": {},
     "output_type": "execute_result"
    }
   ],
   "source": [
    "grinter1 = inter1.groupby(['user_id','item_id']).size().reset_index()\n",
    "grinter1.columns = ['user_id','item_id','number_int']\n",
    "grinter1.shape"
   ]
  },
  {
   "cell_type": "code",
   "execution_count": 6,
   "metadata": {
    "collapsed": false
   },
   "outputs": [
    {
     "data": {
      "text/html": [
       "<div>\n",
       "<table border=\"1\" class=\"dataframe\">\n",
       "  <thead>\n",
       "    <tr style=\"text-align: right;\">\n",
       "      <th></th>\n",
       "      <th>user_id</th>\n",
       "      <th>item_id</th>\n",
       "      <th>number_int</th>\n",
       "    </tr>\n",
       "  </thead>\n",
       "  <tbody>\n",
       "    <tr>\n",
       "      <th>0</th>\n",
       "      <td>9</td>\n",
       "      <td>115748</td>\n",
       "      <td>1</td>\n",
       "    </tr>\n",
       "    <tr>\n",
       "      <th>1</th>\n",
       "      <td>9</td>\n",
       "      <td>536384</td>\n",
       "      <td>1</td>\n",
       "    </tr>\n",
       "    <tr>\n",
       "      <th>2</th>\n",
       "      <td>9</td>\n",
       "      <td>633504</td>\n",
       "      <td>1</td>\n",
       "    </tr>\n",
       "    <tr>\n",
       "      <th>3</th>\n",
       "      <td>9</td>\n",
       "      <td>720151</td>\n",
       "      <td>1</td>\n",
       "    </tr>\n",
       "    <tr>\n",
       "      <th>4</th>\n",
       "      <td>9</td>\n",
       "      <td>811877</td>\n",
       "      <td>1</td>\n",
       "    </tr>\n",
       "  </tbody>\n",
       "</table>\n",
       "</div>"
      ],
      "text/plain": [
       "   user_id  item_id  number_int\n",
       "0        9   115748           1\n",
       "1        9   536384           1\n",
       "2        9   633504           1\n",
       "3        9   720151           1\n",
       "4        9   811877           1"
      ]
     },
     "execution_count": 6,
     "metadata": {},
     "output_type": "execute_result"
    }
   ],
   "source": [
    "grinter1.head()"
   ]
  },
  {
   "cell_type": "code",
   "execution_count": 7,
   "metadata": {
    "collapsed": false
   },
   "outputs": [
    {
     "data": {
      "text/plain": [
       "116"
      ]
     },
     "execution_count": 7,
     "metadata": {},
     "output_type": "execute_result"
    }
   ],
   "source": [
    "grinter1.number_int.max()"
   ]
  },
  {
   "cell_type": "markdown",
   "metadata": {},
   "source": [
    "It seems big.. Let's see a little bit more:"
   ]
  },
  {
   "cell_type": "code",
   "execution_count": 8,
   "metadata": {
    "collapsed": false,
    "scrolled": true
   },
   "outputs": [
    {
     "data": {
      "text/html": [
       "<div>\n",
       "<table border=\"1\" class=\"dataframe\">\n",
       "  <thead>\n",
       "    <tr style=\"text-align: right;\">\n",
       "      <th></th>\n",
       "      <th>user_id</th>\n",
       "      <th>item_id</th>\n",
       "      <th>number_int</th>\n",
       "    </tr>\n",
       "  </thead>\n",
       "  <tbody>\n",
       "    <tr>\n",
       "      <th>1079067</th>\n",
       "      <td>497711</td>\n",
       "      <td>932451</td>\n",
       "      <td>52</td>\n",
       "    </tr>\n",
       "    <tr>\n",
       "      <th>1135904</th>\n",
       "      <td>524047</td>\n",
       "      <td>750429</td>\n",
       "      <td>67</td>\n",
       "    </tr>\n",
       "    <tr>\n",
       "      <th>1201330</th>\n",
       "      <td>553541</td>\n",
       "      <td>422684</td>\n",
       "      <td>60</td>\n",
       "    </tr>\n",
       "    <tr>\n",
       "      <th>1679599</th>\n",
       "      <td>774638</td>\n",
       "      <td>532405</td>\n",
       "      <td>83</td>\n",
       "    </tr>\n",
       "    <tr>\n",
       "      <th>1685120</th>\n",
       "      <td>777159</td>\n",
       "      <td>914031</td>\n",
       "      <td>58</td>\n",
       "    </tr>\n",
       "    <tr>\n",
       "      <th>1747634</th>\n",
       "      <td>806282</td>\n",
       "      <td>387909</td>\n",
       "      <td>116</td>\n",
       "    </tr>\n",
       "    <tr>\n",
       "      <th>1747637</th>\n",
       "      <td>806282</td>\n",
       "      <td>1423087</td>\n",
       "      <td>80</td>\n",
       "    </tr>\n",
       "    <tr>\n",
       "      <th>2108300</th>\n",
       "      <td>973017</td>\n",
       "      <td>1334342</td>\n",
       "      <td>53</td>\n",
       "    </tr>\n",
       "    <tr>\n",
       "      <th>2239260</th>\n",
       "      <td>1033686</td>\n",
       "      <td>760260</td>\n",
       "      <td>95</td>\n",
       "    </tr>\n",
       "    <tr>\n",
       "      <th>2991640</th>\n",
       "      <td>1381993</td>\n",
       "      <td>1570215</td>\n",
       "      <td>51</td>\n",
       "    </tr>\n",
       "    <tr>\n",
       "      <th>3259854</th>\n",
       "      <td>1505235</td>\n",
       "      <td>1165645</td>\n",
       "      <td>60</td>\n",
       "    </tr>\n",
       "    <tr>\n",
       "      <th>3362966</th>\n",
       "      <td>1552664</td>\n",
       "      <td>1250625</td>\n",
       "      <td>57</td>\n",
       "    </tr>\n",
       "    <tr>\n",
       "      <th>3397432</th>\n",
       "      <td>1568052</td>\n",
       "      <td>1298423</td>\n",
       "      <td>55</td>\n",
       "    </tr>\n",
       "    <tr>\n",
       "      <th>3517303</th>\n",
       "      <td>1623236</td>\n",
       "      <td>1833505</td>\n",
       "      <td>55</td>\n",
       "    </tr>\n",
       "    <tr>\n",
       "      <th>3755404</th>\n",
       "      <td>1732042</td>\n",
       "      <td>1645949</td>\n",
       "      <td>51</td>\n",
       "    </tr>\n",
       "    <tr>\n",
       "      <th>3837056</th>\n",
       "      <td>1769431</td>\n",
       "      <td>521521</td>\n",
       "      <td>71</td>\n",
       "    </tr>\n",
       "    <tr>\n",
       "      <th>3837060</th>\n",
       "      <td>1769431</td>\n",
       "      <td>811100</td>\n",
       "      <td>57</td>\n",
       "    </tr>\n",
       "    <tr>\n",
       "      <th>3837076</th>\n",
       "      <td>1769431</td>\n",
       "      <td>2197531</td>\n",
       "      <td>66</td>\n",
       "    </tr>\n",
       "    <tr>\n",
       "      <th>4603550</th>\n",
       "      <td>2124550</td>\n",
       "      <td>1303059</td>\n",
       "      <td>51</td>\n",
       "    </tr>\n",
       "    <tr>\n",
       "      <th>4827633</th>\n",
       "      <td>2229118</td>\n",
       "      <td>80210</td>\n",
       "      <td>72</td>\n",
       "    </tr>\n",
       "    <tr>\n",
       "      <th>4827634</th>\n",
       "      <td>2229118</td>\n",
       "      <td>870092</td>\n",
       "      <td>72</td>\n",
       "    </tr>\n",
       "  </tbody>\n",
       "</table>\n",
       "</div>"
      ],
      "text/plain": [
       "         user_id  item_id  number_int\n",
       "1079067   497711   932451          52\n",
       "1135904   524047   750429          67\n",
       "1201330   553541   422684          60\n",
       "1679599   774638   532405          83\n",
       "1685120   777159   914031          58\n",
       "1747634   806282   387909         116\n",
       "1747637   806282  1423087          80\n",
       "2108300   973017  1334342          53\n",
       "2239260  1033686   760260          95\n",
       "2991640  1381993  1570215          51\n",
       "3259854  1505235  1165645          60\n",
       "3362966  1552664  1250625          57\n",
       "3397432  1568052  1298423          55\n",
       "3517303  1623236  1833505          55\n",
       "3755404  1732042  1645949          51\n",
       "3837056  1769431   521521          71\n",
       "3837060  1769431   811100          57\n",
       "3837076  1769431  2197531          66\n",
       "4603550  2124550  1303059          51\n",
       "4827633  2229118    80210          72\n",
       "4827634  2229118   870092          72"
      ]
     },
     "execution_count": 8,
     "metadata": {},
     "output_type": "execute_result"
    }
   ],
   "source": [
    "grinter1[grinter1.number_int > 50]"
   ]
  },
  {
   "cell_type": "code",
   "execution_count": 9,
   "metadata": {
    "collapsed": false,
    "scrolled": true
   },
   "outputs": [
    {
     "data": {
      "text/html": [
       "<div>\n",
       "<table border=\"1\" class=\"dataframe\">\n",
       "  <thead>\n",
       "    <tr style=\"text-align: right;\">\n",
       "      <th></th>\n",
       "      <th>user_id</th>\n",
       "      <th>item_id</th>\n",
       "      <th>interaction_type</th>\n",
       "      <th>created_at</th>\n",
       "      <th>created_at_date</th>\n",
       "    </tr>\n",
       "  </thead>\n",
       "  <tbody>\n",
       "    <tr>\n",
       "      <th>9679877</th>\n",
       "      <td>806282</td>\n",
       "      <td>387909</td>\n",
       "      <td>1</td>\n",
       "      <td>1483635007</td>\n",
       "      <td>2017-01-05 16:50:07</td>\n",
       "    </tr>\n",
       "    <tr>\n",
       "      <th>9679900</th>\n",
       "      <td>806282</td>\n",
       "      <td>387909</td>\n",
       "      <td>1</td>\n",
       "      <td>1483642212</td>\n",
       "      <td>2017-01-05 18:50:12</td>\n",
       "    </tr>\n",
       "    <tr>\n",
       "      <th>9679943</th>\n",
       "      <td>806282</td>\n",
       "      <td>387909</td>\n",
       "      <td>1</td>\n",
       "      <td>1483645658</td>\n",
       "      <td>2017-01-05 19:47:38</td>\n",
       "    </tr>\n",
       "    <tr>\n",
       "      <th>9679947</th>\n",
       "      <td>806282</td>\n",
       "      <td>387909</td>\n",
       "      <td>1</td>\n",
       "      <td>1483646861</td>\n",
       "      <td>2017-01-05 20:07:41</td>\n",
       "    </tr>\n",
       "    <tr>\n",
       "      <th>9679908</th>\n",
       "      <td>806282</td>\n",
       "      <td>387909</td>\n",
       "      <td>1</td>\n",
       "      <td>1483648198</td>\n",
       "      <td>2017-01-05 20:29:58</td>\n",
       "    </tr>\n",
       "    <tr>\n",
       "      <th>9679942</th>\n",
       "      <td>806282</td>\n",
       "      <td>387909</td>\n",
       "      <td>1</td>\n",
       "      <td>1483648738</td>\n",
       "      <td>2017-01-05 20:38:58</td>\n",
       "    </tr>\n",
       "    <tr>\n",
       "      <th>9679891</th>\n",
       "      <td>806282</td>\n",
       "      <td>387909</td>\n",
       "      <td>1</td>\n",
       "      <td>1483650828</td>\n",
       "      <td>2017-01-05 21:13:48</td>\n",
       "    </tr>\n",
       "    <tr>\n",
       "      <th>9679876</th>\n",
       "      <td>806282</td>\n",
       "      <td>387909</td>\n",
       "      <td>1</td>\n",
       "      <td>1483720501</td>\n",
       "      <td>2017-01-06 16:35:01</td>\n",
       "    </tr>\n",
       "    <tr>\n",
       "      <th>9679915</th>\n",
       "      <td>806282</td>\n",
       "      <td>387909</td>\n",
       "      <td>1</td>\n",
       "      <td>1483720600</td>\n",
       "      <td>2017-01-06 16:36:40</td>\n",
       "    </tr>\n",
       "    <tr>\n",
       "      <th>9679940</th>\n",
       "      <td>806282</td>\n",
       "      <td>387909</td>\n",
       "      <td>1</td>\n",
       "      <td>1483720695</td>\n",
       "      <td>2017-01-06 16:38:15</td>\n",
       "    </tr>\n",
       "    <tr>\n",
       "      <th>9679879</th>\n",
       "      <td>806282</td>\n",
       "      <td>387909</td>\n",
       "      <td>1</td>\n",
       "      <td>1483723063</td>\n",
       "      <td>2017-01-06 17:17:43</td>\n",
       "    </tr>\n",
       "    <tr>\n",
       "      <th>9679933</th>\n",
       "      <td>806282</td>\n",
       "      <td>387909</td>\n",
       "      <td>1</td>\n",
       "      <td>1483727600</td>\n",
       "      <td>2017-01-06 18:33:20</td>\n",
       "    </tr>\n",
       "    <tr>\n",
       "      <th>9679875</th>\n",
       "      <td>806282</td>\n",
       "      <td>387909</td>\n",
       "      <td>1</td>\n",
       "      <td>1483796479</td>\n",
       "      <td>2017-01-07 13:41:19</td>\n",
       "    </tr>\n",
       "    <tr>\n",
       "      <th>9679887</th>\n",
       "      <td>806282</td>\n",
       "      <td>387909</td>\n",
       "      <td>1</td>\n",
       "      <td>1483797280</td>\n",
       "      <td>2017-01-07 13:54:40</td>\n",
       "    </tr>\n",
       "    <tr>\n",
       "      <th>9679872</th>\n",
       "      <td>806282</td>\n",
       "      <td>387909</td>\n",
       "      <td>1</td>\n",
       "      <td>1483797387</td>\n",
       "      <td>2017-01-07 13:56:27</td>\n",
       "    </tr>\n",
       "    <tr>\n",
       "      <th>9679882</th>\n",
       "      <td>806282</td>\n",
       "      <td>387909</td>\n",
       "      <td>1</td>\n",
       "      <td>1483797687</td>\n",
       "      <td>2017-01-07 14:01:27</td>\n",
       "    </tr>\n",
       "    <tr>\n",
       "      <th>9679963</th>\n",
       "      <td>806282</td>\n",
       "      <td>387909</td>\n",
       "      <td>1</td>\n",
       "      <td>1483801844</td>\n",
       "      <td>2017-01-07 15:10:44</td>\n",
       "    </tr>\n",
       "    <tr>\n",
       "      <th>9679926</th>\n",
       "      <td>806282</td>\n",
       "      <td>387909</td>\n",
       "      <td>1</td>\n",
       "      <td>1483803660</td>\n",
       "      <td>2017-01-07 15:41:00</td>\n",
       "    </tr>\n",
       "    <tr>\n",
       "      <th>9679971</th>\n",
       "      <td>806282</td>\n",
       "      <td>387909</td>\n",
       "      <td>1</td>\n",
       "      <td>1483813672</td>\n",
       "      <td>2017-01-07 18:27:52</td>\n",
       "    </tr>\n",
       "    <tr>\n",
       "      <th>9679880</th>\n",
       "      <td>806282</td>\n",
       "      <td>387909</td>\n",
       "      <td>1</td>\n",
       "      <td>1483815242</td>\n",
       "      <td>2017-01-07 18:54:02</td>\n",
       "    </tr>\n",
       "    <tr>\n",
       "      <th>9679931</th>\n",
       "      <td>806282</td>\n",
       "      <td>387909</td>\n",
       "      <td>1</td>\n",
       "      <td>1483816056</td>\n",
       "      <td>2017-01-07 19:07:36</td>\n",
       "    </tr>\n",
       "    <tr>\n",
       "      <th>9679878</th>\n",
       "      <td>806282</td>\n",
       "      <td>387909</td>\n",
       "      <td>1</td>\n",
       "      <td>1483816578</td>\n",
       "      <td>2017-01-07 19:16:18</td>\n",
       "    </tr>\n",
       "    <tr>\n",
       "      <th>9679964</th>\n",
       "      <td>806282</td>\n",
       "      <td>387909</td>\n",
       "      <td>1</td>\n",
       "      <td>1483816918</td>\n",
       "      <td>2017-01-07 19:21:58</td>\n",
       "    </tr>\n",
       "    <tr>\n",
       "      <th>9679977</th>\n",
       "      <td>806282</td>\n",
       "      <td>387909</td>\n",
       "      <td>1</td>\n",
       "      <td>1483822252</td>\n",
       "      <td>2017-01-07 20:50:52</td>\n",
       "    </tr>\n",
       "    <tr>\n",
       "      <th>9679929</th>\n",
       "      <td>806282</td>\n",
       "      <td>387909</td>\n",
       "      <td>1</td>\n",
       "      <td>1483823224</td>\n",
       "      <td>2017-01-07 21:07:04</td>\n",
       "    </tr>\n",
       "    <tr>\n",
       "      <th>9679884</th>\n",
       "      <td>806282</td>\n",
       "      <td>387909</td>\n",
       "      <td>1</td>\n",
       "      <td>1483870702</td>\n",
       "      <td>2017-01-08 10:18:22</td>\n",
       "    </tr>\n",
       "    <tr>\n",
       "      <th>9679966</th>\n",
       "      <td>806282</td>\n",
       "      <td>387909</td>\n",
       "      <td>1</td>\n",
       "      <td>1483871023</td>\n",
       "      <td>2017-01-08 10:23:43</td>\n",
       "    </tr>\n",
       "    <tr>\n",
       "      <th>9679985</th>\n",
       "      <td>806282</td>\n",
       "      <td>387909</td>\n",
       "      <td>1</td>\n",
       "      <td>1483874297</td>\n",
       "      <td>2017-01-08 11:18:17</td>\n",
       "    </tr>\n",
       "    <tr>\n",
       "      <th>9679903</th>\n",
       "      <td>806282</td>\n",
       "      <td>387909</td>\n",
       "      <td>1</td>\n",
       "      <td>1483874508</td>\n",
       "      <td>2017-01-08 11:21:48</td>\n",
       "    </tr>\n",
       "    <tr>\n",
       "      <th>9679897</th>\n",
       "      <td>806282</td>\n",
       "      <td>387909</td>\n",
       "      <td>1</td>\n",
       "      <td>1483877303</td>\n",
       "      <td>2017-01-08 12:08:23</td>\n",
       "    </tr>\n",
       "    <tr>\n",
       "      <th>...</th>\n",
       "      <td>...</td>\n",
       "      <td>...</td>\n",
       "      <td>...</td>\n",
       "      <td>...</td>\n",
       "      <td>...</td>\n",
       "    </tr>\n",
       "    <tr>\n",
       "      <th>9679965</th>\n",
       "      <td>806282</td>\n",
       "      <td>387909</td>\n",
       "      <td>1</td>\n",
       "      <td>1485538062</td>\n",
       "      <td>2017-01-27 17:27:42</td>\n",
       "    </tr>\n",
       "    <tr>\n",
       "      <th>9679935</th>\n",
       "      <td>806282</td>\n",
       "      <td>387909</td>\n",
       "      <td>1</td>\n",
       "      <td>1485539961</td>\n",
       "      <td>2017-01-27 17:59:21</td>\n",
       "    </tr>\n",
       "    <tr>\n",
       "      <th>9679949</th>\n",
       "      <td>806282</td>\n",
       "      <td>387909</td>\n",
       "      <td>1</td>\n",
       "      <td>1485540010</td>\n",
       "      <td>2017-01-27 18:00:10</td>\n",
       "    </tr>\n",
       "    <tr>\n",
       "      <th>9679904</th>\n",
       "      <td>806282</td>\n",
       "      <td>387909</td>\n",
       "      <td>1</td>\n",
       "      <td>1485540406</td>\n",
       "      <td>2017-01-27 18:06:46</td>\n",
       "    </tr>\n",
       "    <tr>\n",
       "      <th>9679948</th>\n",
       "      <td>806282</td>\n",
       "      <td>387909</td>\n",
       "      <td>1</td>\n",
       "      <td>1485542035</td>\n",
       "      <td>2017-01-27 18:33:55</td>\n",
       "    </tr>\n",
       "    <tr>\n",
       "      <th>9679921</th>\n",
       "      <td>806282</td>\n",
       "      <td>387909</td>\n",
       "      <td>1</td>\n",
       "      <td>1485544472</td>\n",
       "      <td>2017-01-27 19:14:32</td>\n",
       "    </tr>\n",
       "    <tr>\n",
       "      <th>9679867</th>\n",
       "      <td>806282</td>\n",
       "      <td>387909</td>\n",
       "      <td>1</td>\n",
       "      <td>1485545788</td>\n",
       "      <td>2017-01-27 19:36:28</td>\n",
       "    </tr>\n",
       "    <tr>\n",
       "      <th>9679932</th>\n",
       "      <td>806282</td>\n",
       "      <td>387909</td>\n",
       "      <td>1</td>\n",
       "      <td>1485547462</td>\n",
       "      <td>2017-01-27 20:04:22</td>\n",
       "    </tr>\n",
       "    <tr>\n",
       "      <th>9679956</th>\n",
       "      <td>806282</td>\n",
       "      <td>387909</td>\n",
       "      <td>1</td>\n",
       "      <td>1485552453</td>\n",
       "      <td>2017-01-27 21:27:33</td>\n",
       "    </tr>\n",
       "    <tr>\n",
       "      <th>9679922</th>\n",
       "      <td>806282</td>\n",
       "      <td>387909</td>\n",
       "      <td>1</td>\n",
       "      <td>1485609785</td>\n",
       "      <td>2017-01-28 13:23:05</td>\n",
       "    </tr>\n",
       "    <tr>\n",
       "      <th>9679944</th>\n",
       "      <td>806282</td>\n",
       "      <td>387909</td>\n",
       "      <td>1</td>\n",
       "      <td>1485618717</td>\n",
       "      <td>2017-01-28 15:51:57</td>\n",
       "    </tr>\n",
       "    <tr>\n",
       "      <th>9679902</th>\n",
       "      <td>806282</td>\n",
       "      <td>387909</td>\n",
       "      <td>1</td>\n",
       "      <td>1485627452</td>\n",
       "      <td>2017-01-28 18:17:32</td>\n",
       "    </tr>\n",
       "    <tr>\n",
       "      <th>9679925</th>\n",
       "      <td>806282</td>\n",
       "      <td>387909</td>\n",
       "      <td>1</td>\n",
       "      <td>1485629403</td>\n",
       "      <td>2017-01-28 18:50:03</td>\n",
       "    </tr>\n",
       "    <tr>\n",
       "      <th>9679941</th>\n",
       "      <td>806282</td>\n",
       "      <td>387909</td>\n",
       "      <td>1</td>\n",
       "      <td>1485630845</td>\n",
       "      <td>2017-01-28 19:14:05</td>\n",
       "    </tr>\n",
       "    <tr>\n",
       "      <th>9679961</th>\n",
       "      <td>806282</td>\n",
       "      <td>387909</td>\n",
       "      <td>1</td>\n",
       "      <td>1485697900</td>\n",
       "      <td>2017-01-29 13:51:40</td>\n",
       "    </tr>\n",
       "    <tr>\n",
       "      <th>9679901</th>\n",
       "      <td>806282</td>\n",
       "      <td>387909</td>\n",
       "      <td>1</td>\n",
       "      <td>1485714571</td>\n",
       "      <td>2017-01-29 18:29:31</td>\n",
       "    </tr>\n",
       "    <tr>\n",
       "      <th>9679986</th>\n",
       "      <td>806282</td>\n",
       "      <td>387909</td>\n",
       "      <td>1</td>\n",
       "      <td>1485714651</td>\n",
       "      <td>2017-01-29 18:30:51</td>\n",
       "    </tr>\n",
       "    <tr>\n",
       "      <th>9679939</th>\n",
       "      <td>806282</td>\n",
       "      <td>387909</td>\n",
       "      <td>1</td>\n",
       "      <td>1485714835</td>\n",
       "      <td>2017-01-29 18:33:55</td>\n",
       "    </tr>\n",
       "    <tr>\n",
       "      <th>9679983</th>\n",
       "      <td>806282</td>\n",
       "      <td>387909</td>\n",
       "      <td>1</td>\n",
       "      <td>1485716316</td>\n",
       "      <td>2017-01-29 18:58:36</td>\n",
       "    </tr>\n",
       "    <tr>\n",
       "      <th>9679899</th>\n",
       "      <td>806282</td>\n",
       "      <td>387909</td>\n",
       "      <td>1</td>\n",
       "      <td>1485720141</td>\n",
       "      <td>2017-01-29 20:02:21</td>\n",
       "    </tr>\n",
       "    <tr>\n",
       "      <th>9679890</th>\n",
       "      <td>806282</td>\n",
       "      <td>387909</td>\n",
       "      <td>1</td>\n",
       "      <td>1485883146</td>\n",
       "      <td>2017-01-31 17:19:06</td>\n",
       "    </tr>\n",
       "    <tr>\n",
       "      <th>9679886</th>\n",
       "      <td>806282</td>\n",
       "      <td>387909</td>\n",
       "      <td>1</td>\n",
       "      <td>1485884315</td>\n",
       "      <td>2017-01-31 17:38:35</td>\n",
       "    </tr>\n",
       "    <tr>\n",
       "      <th>9679883</th>\n",
       "      <td>806282</td>\n",
       "      <td>387909</td>\n",
       "      <td>1</td>\n",
       "      <td>1485884581</td>\n",
       "      <td>2017-01-31 17:43:01</td>\n",
       "    </tr>\n",
       "    <tr>\n",
       "      <th>9679938</th>\n",
       "      <td>806282</td>\n",
       "      <td>387909</td>\n",
       "      <td>1</td>\n",
       "      <td>1485885699</td>\n",
       "      <td>2017-01-31 18:01:39</td>\n",
       "    </tr>\n",
       "    <tr>\n",
       "      <th>9679868</th>\n",
       "      <td>806282</td>\n",
       "      <td>387909</td>\n",
       "      <td>1</td>\n",
       "      <td>1485886317</td>\n",
       "      <td>2017-01-31 18:11:57</td>\n",
       "    </tr>\n",
       "    <tr>\n",
       "      <th>9679981</th>\n",
       "      <td>806282</td>\n",
       "      <td>387909</td>\n",
       "      <td>1</td>\n",
       "      <td>1485889221</td>\n",
       "      <td>2017-01-31 19:00:21</td>\n",
       "    </tr>\n",
       "    <tr>\n",
       "      <th>9679924</th>\n",
       "      <td>806282</td>\n",
       "      <td>387909</td>\n",
       "      <td>1</td>\n",
       "      <td>1485891464</td>\n",
       "      <td>2017-01-31 19:37:44</td>\n",
       "    </tr>\n",
       "    <tr>\n",
       "      <th>9679984</th>\n",
       "      <td>806282</td>\n",
       "      <td>387909</td>\n",
       "      <td>1</td>\n",
       "      <td>1485956070</td>\n",
       "      <td>2017-02-01 13:34:30</td>\n",
       "    </tr>\n",
       "    <tr>\n",
       "      <th>9679934</th>\n",
       "      <td>806282</td>\n",
       "      <td>387909</td>\n",
       "      <td>1</td>\n",
       "      <td>1485956209</td>\n",
       "      <td>2017-02-01 13:36:49</td>\n",
       "    </tr>\n",
       "    <tr>\n",
       "      <th>9679881</th>\n",
       "      <td>806282</td>\n",
       "      <td>387909</td>\n",
       "      <td>1</td>\n",
       "      <td>1486135367</td>\n",
       "      <td>2017-02-03 15:22:47</td>\n",
       "    </tr>\n",
       "  </tbody>\n",
       "</table>\n",
       "<p>116 rows × 5 columns</p>\n",
       "</div>"
      ],
      "text/plain": [
       "         user_id  item_id  interaction_type  created_at     created_at_date\n",
       "9679877   806282   387909                 1  1483635007 2017-01-05 16:50:07\n",
       "9679900   806282   387909                 1  1483642212 2017-01-05 18:50:12\n",
       "9679943   806282   387909                 1  1483645658 2017-01-05 19:47:38\n",
       "9679947   806282   387909                 1  1483646861 2017-01-05 20:07:41\n",
       "9679908   806282   387909                 1  1483648198 2017-01-05 20:29:58\n",
       "9679942   806282   387909                 1  1483648738 2017-01-05 20:38:58\n",
       "9679891   806282   387909                 1  1483650828 2017-01-05 21:13:48\n",
       "9679876   806282   387909                 1  1483720501 2017-01-06 16:35:01\n",
       "9679915   806282   387909                 1  1483720600 2017-01-06 16:36:40\n",
       "9679940   806282   387909                 1  1483720695 2017-01-06 16:38:15\n",
       "9679879   806282   387909                 1  1483723063 2017-01-06 17:17:43\n",
       "9679933   806282   387909                 1  1483727600 2017-01-06 18:33:20\n",
       "9679875   806282   387909                 1  1483796479 2017-01-07 13:41:19\n",
       "9679887   806282   387909                 1  1483797280 2017-01-07 13:54:40\n",
       "9679872   806282   387909                 1  1483797387 2017-01-07 13:56:27\n",
       "9679882   806282   387909                 1  1483797687 2017-01-07 14:01:27\n",
       "9679963   806282   387909                 1  1483801844 2017-01-07 15:10:44\n",
       "9679926   806282   387909                 1  1483803660 2017-01-07 15:41:00\n",
       "9679971   806282   387909                 1  1483813672 2017-01-07 18:27:52\n",
       "9679880   806282   387909                 1  1483815242 2017-01-07 18:54:02\n",
       "9679931   806282   387909                 1  1483816056 2017-01-07 19:07:36\n",
       "9679878   806282   387909                 1  1483816578 2017-01-07 19:16:18\n",
       "9679964   806282   387909                 1  1483816918 2017-01-07 19:21:58\n",
       "9679977   806282   387909                 1  1483822252 2017-01-07 20:50:52\n",
       "9679929   806282   387909                 1  1483823224 2017-01-07 21:07:04\n",
       "9679884   806282   387909                 1  1483870702 2017-01-08 10:18:22\n",
       "9679966   806282   387909                 1  1483871023 2017-01-08 10:23:43\n",
       "9679985   806282   387909                 1  1483874297 2017-01-08 11:18:17\n",
       "9679903   806282   387909                 1  1483874508 2017-01-08 11:21:48\n",
       "9679897   806282   387909                 1  1483877303 2017-01-08 12:08:23\n",
       "...          ...      ...               ...         ...                 ...\n",
       "9679965   806282   387909                 1  1485538062 2017-01-27 17:27:42\n",
       "9679935   806282   387909                 1  1485539961 2017-01-27 17:59:21\n",
       "9679949   806282   387909                 1  1485540010 2017-01-27 18:00:10\n",
       "9679904   806282   387909                 1  1485540406 2017-01-27 18:06:46\n",
       "9679948   806282   387909                 1  1485542035 2017-01-27 18:33:55\n",
       "9679921   806282   387909                 1  1485544472 2017-01-27 19:14:32\n",
       "9679867   806282   387909                 1  1485545788 2017-01-27 19:36:28\n",
       "9679932   806282   387909                 1  1485547462 2017-01-27 20:04:22\n",
       "9679956   806282   387909                 1  1485552453 2017-01-27 21:27:33\n",
       "9679922   806282   387909                 1  1485609785 2017-01-28 13:23:05\n",
       "9679944   806282   387909                 1  1485618717 2017-01-28 15:51:57\n",
       "9679902   806282   387909                 1  1485627452 2017-01-28 18:17:32\n",
       "9679925   806282   387909                 1  1485629403 2017-01-28 18:50:03\n",
       "9679941   806282   387909                 1  1485630845 2017-01-28 19:14:05\n",
       "9679961   806282   387909                 1  1485697900 2017-01-29 13:51:40\n",
       "9679901   806282   387909                 1  1485714571 2017-01-29 18:29:31\n",
       "9679986   806282   387909                 1  1485714651 2017-01-29 18:30:51\n",
       "9679939   806282   387909                 1  1485714835 2017-01-29 18:33:55\n",
       "9679983   806282   387909                 1  1485716316 2017-01-29 18:58:36\n",
       "9679899   806282   387909                 1  1485720141 2017-01-29 20:02:21\n",
       "9679890   806282   387909                 1  1485883146 2017-01-31 17:19:06\n",
       "9679886   806282   387909                 1  1485884315 2017-01-31 17:38:35\n",
       "9679883   806282   387909                 1  1485884581 2017-01-31 17:43:01\n",
       "9679938   806282   387909                 1  1485885699 2017-01-31 18:01:39\n",
       "9679868   806282   387909                 1  1485886317 2017-01-31 18:11:57\n",
       "9679981   806282   387909                 1  1485889221 2017-01-31 19:00:21\n",
       "9679924   806282   387909                 1  1485891464 2017-01-31 19:37:44\n",
       "9679984   806282   387909                 1  1485956070 2017-02-01 13:34:30\n",
       "9679934   806282   387909                 1  1485956209 2017-02-01 13:36:49\n",
       "9679881   806282   387909                 1  1486135367 2017-02-03 15:22:47\n",
       "\n",
       "[116 rows x 5 columns]"
      ]
     },
     "execution_count": 9,
     "metadata": {},
     "output_type": "execute_result"
    }
   ],
   "source": [
    "inter1[(inter1.user_id == 806282) & (inter1.item_id == 387909)].sort_values(by = 'created_at_date')"
   ]
  },
  {
   "cell_type": "markdown",
   "metadata": {
    "collapsed": true
   },
   "source": [
    "Nevertheless, it seems credible: a given user can have clicked an item several times on the day..."
   ]
  },
  {
   "cell_type": "markdown",
   "metadata": {
    "collapsed": true
   },
   "source": [
    "## Better watching everyday"
   ]
  },
  {
   "cell_type": "code",
   "execution_count": 3,
   "metadata": {
    "collapsed": false,
    "scrolled": false
   },
   "outputs": [
    {
     "name": "stdout",
     "output_type": "stream",
     "text": [
      "1...\n",
      "2...\n",
      "3...\n",
      "4...\n",
      "5...\n",
      "6...\n",
      "7...\n",
      "8...\n",
      "9...\n",
      "10...\n",
      "11...\n",
      "12...\n",
      "13...\n",
      "14...\n",
      "15...\n",
      "16...\n",
      "17...\n",
      "18...\n",
      "19...\n",
      "20...\n",
      "21...\n",
      "22...\n",
      "23...\n",
      "24...\n",
      "25...\n",
      "26...\n",
      "27...\n",
      "28...\n",
      "29...\n",
      "30...\n",
      "31...\n",
      "32...\n",
      "33...\n",
      "Invested time: 1951.82399988 s - \n"
     ]
    }
   ],
   "source": [
    "t0 = time.time()\n",
    "inter_day = pd.DataFrame()\n",
    "i = 0\n",
    "for chunk in pd.read_csv(folderData + 'interactions.csv', sep='\\t', iterator=True, chunksize=10000000):\n",
    "    chunk.columns = [['user_id','item_id','interaction_type','created_at']]\n",
    "    chunk['created_at_date'] = pd.to_datetime(arg=chunk.created_at,errors='coerce',unit='s')\n",
    "    aux = (chunk['created_at_date']>='2016-11-06 00:00:00') & (chunk['created_at_date']<='2016-11-06 23:59:59')\n",
    "    i += 1\n",
    "    if i == 1:\n",
    "        inter_day = chunk.loc[aux]\n",
    "    else:\n",
    "        inter_day = inter_day.append(chunk.loc[aux])\n",
    "    print(str(i)+\"...\")\n",
    "    \n",
    "t1 = time.time()\n",
    "\n",
    "print \"Invested time: \" + str((t1-t0)) + \" s - \""
   ]
  },
  {
   "cell_type": "code",
   "execution_count": 6,
   "metadata": {
    "collapsed": true
   },
   "outputs": [],
   "source": [
    "inter_day.to_pickle(folderData + 'interactions_day\\\\interactions-2016-11-06.pkl')"
   ]
  },
  {
   "cell_type": "markdown",
   "metadata": {
    "collapsed": true
   },
   "source": [
    "And we do it for every day. Two days loading files!"
   ]
  },
  {
   "cell_type": "markdown",
   "metadata": {
    "collapsed": true
   },
   "source": [
    "Let's see the first day again."
   ]
  },
  {
   "cell_type": "code",
   "execution_count": 10,
   "metadata": {
    "collapsed": true
   },
   "outputs": [],
   "source": [
    "folderint = folderData + '\\\\interactions_day\\\\'"
   ]
  },
  {
   "cell_type": "code",
   "execution_count": 11,
   "metadata": {
    "collapsed": true
   },
   "outputs": [],
   "source": [
    "inter_day0 = pd.read_pickle(folderint + 'interactions-2016-11-06.pkl')"
   ]
  },
  {
   "cell_type": "code",
   "execution_count": 12,
   "metadata": {
    "collapsed": false
   },
   "outputs": [
    {
     "data": {
      "text/plain": [
       "(26596, 3)"
      ]
     },
     "execution_count": 12,
     "metadata": {},
     "output_type": "execute_result"
    }
   ],
   "source": [
    "grinter_day0 = inter_day0.groupby(['user_id','item_id']).size().reset_index()\n",
    "grinter_day0.columns = ['user_id','item_id','number_int']\n",
    "grinter_day0.shape"
   ]
  },
  {
   "cell_type": "code",
   "execution_count": 13,
   "metadata": {
    "collapsed": false
   },
   "outputs": [
    {
     "data": {
      "text/html": [
       "<div>\n",
       "<table border=\"1\" class=\"dataframe\">\n",
       "  <thead>\n",
       "    <tr style=\"text-align: right;\">\n",
       "      <th></th>\n",
       "      <th>user_id</th>\n",
       "      <th>item_id</th>\n",
       "      <th>number_int</th>\n",
       "    </tr>\n",
       "  </thead>\n",
       "  <tbody>\n",
       "    <tr>\n",
       "      <th>0</th>\n",
       "      <td>179</td>\n",
       "      <td>1730422</td>\n",
       "      <td>1</td>\n",
       "    </tr>\n",
       "    <tr>\n",
       "      <th>1</th>\n",
       "      <td>525</td>\n",
       "      <td>1730422</td>\n",
       "      <td>1</td>\n",
       "    </tr>\n",
       "    <tr>\n",
       "      <th>2</th>\n",
       "      <td>530</td>\n",
       "      <td>1730422</td>\n",
       "      <td>1</td>\n",
       "    </tr>\n",
       "    <tr>\n",
       "      <th>3</th>\n",
       "      <td>691</td>\n",
       "      <td>1730422</td>\n",
       "      <td>1</td>\n",
       "    </tr>\n",
       "    <tr>\n",
       "      <th>4</th>\n",
       "      <td>893</td>\n",
       "      <td>1730422</td>\n",
       "      <td>1</td>\n",
       "    </tr>\n",
       "  </tbody>\n",
       "</table>\n",
       "</div>"
      ],
      "text/plain": [
       "   user_id  item_id  number_int\n",
       "0      179  1730422           1\n",
       "1      525  1730422           1\n",
       "2      530  1730422           1\n",
       "3      691  1730422           1\n",
       "4      893  1730422           1"
      ]
     },
     "execution_count": 13,
     "metadata": {},
     "output_type": "execute_result"
    }
   ],
   "source": [
    "grinter_day0.head()"
   ]
  },
  {
   "cell_type": "code",
   "execution_count": 14,
   "metadata": {
    "collapsed": false
   },
   "outputs": [
    {
     "data": {
      "text/plain": [
       "8"
      ]
     },
     "execution_count": 14,
     "metadata": {},
     "output_type": "execute_result"
    }
   ],
   "source": [
    "grinter_day0.number_int.max()"
   ]
  },
  {
   "cell_type": "markdown",
   "metadata": {
    "collapsed": true
   },
   "source": [
    "Ok, relax about the first day!"
   ]
  },
  {
   "cell_type": "markdown",
   "metadata": {
    "collapsed": true
   },
   "source": [
    "## Now we can check the possible outliers"
   ]
  },
  {
   "cell_type": "code",
   "execution_count": 21,
   "metadata": {
    "collapsed": true
   },
   "outputs": [],
   "source": [
    "def open_day(date):\n",
    "    return pd.read_pickle(folderint + 'interactions-' + date + '.pkl')\n",
    "\n",
    "def reduce_day(date):\n",
    "    aux = open_day(date)\n",
    "    aux = aux.groupby(['user_id','item_id','interaction_type','created_at','created_at_date']).size().reset_index()\n",
    "    aux.columns = ['user_id','item_id','interaction_type','created_at','created_at_date','number']\n",
    "    aux = aux.drop(['number'],axis=1)\n",
    "    return aux\n",
    "\n",
    "def check_all(date):\n",
    "    aux = open_day(date)\n",
    "    aux = aux.groupby(['user_id','item_id']).size().reset_index()\n",
    "    aux.columns = ['user_id','item_id','number_int']\n",
    "    return aux#.number_int.max()\n",
    "\n",
    "def check_out(date):\n",
    "    aux = check_all(date)\n",
    "    return aux.number_int.max()\n",
    "\n",
    "def check_int(date):\n",
    "    aux = open_day(date)\n",
    "    aux = aux.groupby(['user_id','item_id','interaction_type']).size().reset_index()\n",
    "    aux.columns = ['user_id','item_id','interaction_type','number_repeat']\n",
    "    return aux#.number_repeat.max()"
   ]
  },
  {
   "cell_type": "markdown",
   "metadata": {},
   "source": [
    "Ok let's go!"
   ]
  },
  {
   "cell_type": "code",
   "execution_count": 16,
   "metadata": {
    "collapsed": false
   },
   "outputs": [
    {
     "data": {
      "text/plain": [
       "(26750, 26750)"
      ]
     },
     "execution_count": 16,
     "metadata": {},
     "output_type": "execute_result"
    }
   ],
   "source": [
    "len(open_day('2016-11-06')), len(reduce_day('2016-11-06'))"
   ]
  },
  {
   "cell_type": "code",
   "execution_count": 17,
   "metadata": {
    "collapsed": false
   },
   "outputs": [
    {
     "data": {
      "text/plain": [
       "7"
      ]
     },
     "execution_count": 17,
     "metadata": {},
     "output_type": "execute_result"
    }
   ],
   "source": [
    "check_int('2016-11-06').number_repeat.max()"
   ]
  },
  {
   "cell_type": "code",
   "execution_count": 18,
   "metadata": {
    "collapsed": false
   },
   "outputs": [
    {
     "data": {
      "text/html": [
       "<div>\n",
       "<table border=\"1\" class=\"dataframe\">\n",
       "  <thead>\n",
       "    <tr style=\"text-align: right;\">\n",
       "      <th></th>\n",
       "      <th>user_id</th>\n",
       "      <th>item_id</th>\n",
       "      <th>interaction_type</th>\n",
       "      <th>number_repeat</th>\n",
       "    </tr>\n",
       "  </thead>\n",
       "  <tbody>\n",
       "    <tr>\n",
       "      <th>17815</th>\n",
       "      <td>1545665</td>\n",
       "      <td>30425</td>\n",
       "      <td>1</td>\n",
       "      <td>7</td>\n",
       "    </tr>\n",
       "  </tbody>\n",
       "</table>\n",
       "</div>"
      ],
      "text/plain": [
       "       user_id  item_id  interaction_type  number_repeat\n",
       "17815  1545665    30425                 1              7"
      ]
     },
     "execution_count": 18,
     "metadata": {},
     "output_type": "execute_result"
    }
   ],
   "source": [
    "check_int('2016-11-06')[check_int('2016-11-06').number_repeat >= 7]"
   ]
  },
  {
   "cell_type": "code",
   "execution_count": 19,
   "metadata": {
    "collapsed": false,
    "scrolled": true
   },
   "outputs": [
    {
     "data": {
      "text/html": [
       "<div>\n",
       "<table border=\"1\" class=\"dataframe\">\n",
       "  <thead>\n",
       "    <tr style=\"text-align: right;\">\n",
       "      <th></th>\n",
       "      <th>user_id</th>\n",
       "      <th>item_id</th>\n",
       "      <th>interaction_type</th>\n",
       "      <th>created_at</th>\n",
       "      <th>created_at_date</th>\n",
       "    </tr>\n",
       "  </thead>\n",
       "  <tbody>\n",
       "    <tr>\n",
       "      <th>4237372</th>\n",
       "      <td>1545665</td>\n",
       "      <td>30425</td>\n",
       "      <td>1</td>\n",
       "      <td>1478475625</td>\n",
       "      <td>2016-11-06 23:40:25</td>\n",
       "    </tr>\n",
       "    <tr>\n",
       "      <th>4237375</th>\n",
       "      <td>1545665</td>\n",
       "      <td>30425</td>\n",
       "      <td>1</td>\n",
       "      <td>1478475861</td>\n",
       "      <td>2016-11-06 23:44:21</td>\n",
       "    </tr>\n",
       "    <tr>\n",
       "      <th>4237376</th>\n",
       "      <td>1545665</td>\n",
       "      <td>30425</td>\n",
       "      <td>1</td>\n",
       "      <td>1478475738</td>\n",
       "      <td>2016-11-06 23:42:18</td>\n",
       "    </tr>\n",
       "    <tr>\n",
       "      <th>4237378</th>\n",
       "      <td>1545665</td>\n",
       "      <td>30425</td>\n",
       "      <td>1</td>\n",
       "      <td>1478475849</td>\n",
       "      <td>2016-11-06 23:44:09</td>\n",
       "    </tr>\n",
       "    <tr>\n",
       "      <th>4237379</th>\n",
       "      <td>1545665</td>\n",
       "      <td>30425</td>\n",
       "      <td>1</td>\n",
       "      <td>1478475587</td>\n",
       "      <td>2016-11-06 23:39:47</td>\n",
       "    </tr>\n",
       "    <tr>\n",
       "      <th>4237380</th>\n",
       "      <td>1545665</td>\n",
       "      <td>30425</td>\n",
       "      <td>1</td>\n",
       "      <td>1478475544</td>\n",
       "      <td>2016-11-06 23:39:04</td>\n",
       "    </tr>\n",
       "    <tr>\n",
       "      <th>4237381</th>\n",
       "      <td>1545665</td>\n",
       "      <td>30425</td>\n",
       "      <td>2</td>\n",
       "      <td>1478475714</td>\n",
       "      <td>2016-11-06 23:41:54</td>\n",
       "    </tr>\n",
       "    <tr>\n",
       "      <th>4237382</th>\n",
       "      <td>1545665</td>\n",
       "      <td>30425</td>\n",
       "      <td>1</td>\n",
       "      <td>1478475975</td>\n",
       "      <td>2016-11-06 23:46:15</td>\n",
       "    </tr>\n",
       "  </tbody>\n",
       "</table>\n",
       "</div>"
      ],
      "text/plain": [
       "         user_id  item_id  interaction_type  created_at     created_at_date\n",
       "4237372  1545665    30425                 1  1478475625 2016-11-06 23:40:25\n",
       "4237375  1545665    30425                 1  1478475861 2016-11-06 23:44:21\n",
       "4237376  1545665    30425                 1  1478475738 2016-11-06 23:42:18\n",
       "4237378  1545665    30425                 1  1478475849 2016-11-06 23:44:09\n",
       "4237379  1545665    30425                 1  1478475587 2016-11-06 23:39:47\n",
       "4237380  1545665    30425                 1  1478475544 2016-11-06 23:39:04\n",
       "4237381  1545665    30425                 2  1478475714 2016-11-06 23:41:54\n",
       "4237382  1545665    30425                 1  1478475975 2016-11-06 23:46:15"
      ]
     },
     "execution_count": 19,
     "metadata": {},
     "output_type": "execute_result"
    }
   ],
   "source": [
    "open_day('2016-11-06')[(open_day('2016-11-06').user_id == 1545665) & (open_day('2016-11-06').item_id == 30425)]"
   ]
  },
  {
   "cell_type": "markdown",
   "metadata": {},
   "source": [
    "And let's compute the max number of the grouped interactions per day (yes, all the days!)."
   ]
  },
  {
   "cell_type": "code",
   "execution_count": 24,
   "metadata": {
    "collapsed": false
   },
   "outputs": [
    {
     "data": {
      "text/plain": [
       "18"
      ]
     },
     "execution_count": 24,
     "metadata": {},
     "output_type": "execute_result"
    }
   ],
   "source": [
    "check_out('2016-11-07')"
   ]
  },
  {
   "cell_type": "code",
   "execution_count": 25,
   "metadata": {
    "collapsed": false
   },
   "outputs": [
    {
     "data": {
      "text/plain": [
       "15"
      ]
     },
     "execution_count": 25,
     "metadata": {},
     "output_type": "execute_result"
    }
   ],
   "source": [
    "check_out('2016-11-08')"
   ]
  },
  {
   "cell_type": "code",
   "execution_count": 28,
   "metadata": {
    "collapsed": false
   },
   "outputs": [
    {
     "data": {
      "text/plain": [
       "44"
      ]
     },
     "execution_count": 28,
     "metadata": {},
     "output_type": "execute_result"
    }
   ],
   "source": [
    "check_out('2016-11-09')"
   ]
  },
  {
   "cell_type": "code",
   "execution_count": 29,
   "metadata": {
    "collapsed": false
   },
   "outputs": [
    {
     "data": {
      "text/plain": [
       "16"
      ]
     },
     "execution_count": 29,
     "metadata": {},
     "output_type": "execute_result"
    }
   ],
   "source": [
    "check_out('2016-11-10')"
   ]
  },
  {
   "cell_type": "code",
   "execution_count": 30,
   "metadata": {
    "collapsed": false
   },
   "outputs": [
    {
     "data": {
      "text/plain": [
       "20"
      ]
     },
     "execution_count": 30,
     "metadata": {},
     "output_type": "execute_result"
    }
   ],
   "source": [
    "check_out('2016-11-11')"
   ]
  },
  {
   "cell_type": "code",
   "execution_count": 31,
   "metadata": {
    "collapsed": false
   },
   "outputs": [
    {
     "data": {
      "text/plain": [
       "21"
      ]
     },
     "execution_count": 31,
     "metadata": {},
     "output_type": "execute_result"
    }
   ],
   "source": [
    "check_out('2016-11-12')"
   ]
  },
  {
   "cell_type": "code",
   "execution_count": 32,
   "metadata": {
    "collapsed": false
   },
   "outputs": [
    {
     "data": {
      "text/plain": [
       "25"
      ]
     },
     "execution_count": 32,
     "metadata": {},
     "output_type": "execute_result"
    }
   ],
   "source": [
    "check_out('2016-11-13')"
   ]
  },
  {
   "cell_type": "code",
   "execution_count": 33,
   "metadata": {
    "collapsed": false
   },
   "outputs": [
    {
     "data": {
      "text/plain": [
       "19"
      ]
     },
     "execution_count": 33,
     "metadata": {},
     "output_type": "execute_result"
    }
   ],
   "source": [
    "check_out('2016-11-14')"
   ]
  },
  {
   "cell_type": "code",
   "execution_count": 34,
   "metadata": {
    "collapsed": false
   },
   "outputs": [
    {
     "data": {
      "text/plain": [
       "15"
      ]
     },
     "execution_count": 34,
     "metadata": {},
     "output_type": "execute_result"
    }
   ],
   "source": [
    "check_out('2016-11-15')"
   ]
  },
  {
   "cell_type": "code",
   "execution_count": 35,
   "metadata": {
    "collapsed": false
   },
   "outputs": [
    {
     "data": {
      "text/plain": [
       "18"
      ]
     },
     "execution_count": 35,
     "metadata": {},
     "output_type": "execute_result"
    }
   ],
   "source": [
    "check_out('2016-11-16')"
   ]
  },
  {
   "cell_type": "code",
   "execution_count": 36,
   "metadata": {
    "collapsed": false
   },
   "outputs": [
    {
     "data": {
      "text/plain": [
       "22"
      ]
     },
     "execution_count": 36,
     "metadata": {},
     "output_type": "execute_result"
    }
   ],
   "source": [
    "check_out('2016-11-17')"
   ]
  },
  {
   "cell_type": "code",
   "execution_count": 37,
   "metadata": {
    "collapsed": false
   },
   "outputs": [
    {
     "data": {
      "text/plain": [
       "31"
      ]
     },
     "execution_count": 37,
     "metadata": {},
     "output_type": "execute_result"
    }
   ],
   "source": [
    "check_out('2016-11-18')"
   ]
  },
  {
   "cell_type": "code",
   "execution_count": 38,
   "metadata": {
    "collapsed": false
   },
   "outputs": [
    {
     "data": {
      "text/plain": [
       "12"
      ]
     },
     "execution_count": 38,
     "metadata": {},
     "output_type": "execute_result"
    }
   ],
   "source": [
    "check_out('2016-11-19')"
   ]
  },
  {
   "cell_type": "code",
   "execution_count": 39,
   "metadata": {
    "collapsed": false
   },
   "outputs": [
    {
     "data": {
      "text/plain": [
       "18"
      ]
     },
     "execution_count": 39,
     "metadata": {},
     "output_type": "execute_result"
    }
   ],
   "source": [
    "check_out('2016-11-20')"
   ]
  },
  {
   "cell_type": "markdown",
   "metadata": {},
   "source": [
    "Not necessary checking the empty files: first, because they are empty; next, because I already did it by myself... The unique value is nan."
   ]
  },
  {
   "cell_type": "code",
   "execution_count": 40,
   "metadata": {
    "collapsed": false
   },
   "outputs": [
    {
     "data": {
      "text/plain": [
       "243"
      ]
     },
     "execution_count": 40,
     "metadata": {},
     "output_type": "execute_result"
    }
   ],
   "source": [
    "check_out('2016-12-12')"
   ]
  },
  {
   "cell_type": "code",
   "execution_count": 41,
   "metadata": {
    "collapsed": false
   },
   "outputs": [
    {
     "data": {
      "text/plain": [
       "351"
      ]
     },
     "execution_count": 41,
     "metadata": {},
     "output_type": "execute_result"
    }
   ],
   "source": [
    "check_out('2016-12-13')"
   ]
  },
  {
   "cell_type": "code",
   "execution_count": 43,
   "metadata": {
    "collapsed": false
   },
   "outputs": [
    {
     "data": {
      "text/plain": [
       "307"
      ]
     },
     "execution_count": 43,
     "metadata": {},
     "output_type": "execute_result"
    }
   ],
   "source": [
    "check_out('2016-12-14')"
   ]
  },
  {
   "cell_type": "code",
   "execution_count": 44,
   "metadata": {
    "collapsed": false
   },
   "outputs": [
    {
     "data": {
      "text/plain": [
       "15"
      ]
     },
     "execution_count": 44,
     "metadata": {},
     "output_type": "execute_result"
    }
   ],
   "source": [
    "check_out('2016-12-15')"
   ]
  },
  {
   "cell_type": "code",
   "execution_count": 45,
   "metadata": {
    "collapsed": false
   },
   "outputs": [
    {
     "data": {
      "text/plain": [
       "97"
      ]
     },
     "execution_count": 45,
     "metadata": {},
     "output_type": "execute_result"
    }
   ],
   "source": [
    "check_out('2016-12-16')"
   ]
  },
  {
   "cell_type": "code",
   "execution_count": 46,
   "metadata": {
    "collapsed": false
   },
   "outputs": [
    {
     "data": {
      "text/plain": [
       "nan"
      ]
     },
     "execution_count": 46,
     "metadata": {},
     "output_type": "execute_result"
    }
   ],
   "source": [
    "check_out('2016-12-17')"
   ]
  },
  {
   "cell_type": "code",
   "execution_count": 47,
   "metadata": {
    "collapsed": false
   },
   "outputs": [
    {
     "data": {
      "text/plain": [
       "2"
      ]
     },
     "execution_count": 47,
     "metadata": {},
     "output_type": "execute_result"
    }
   ],
   "source": [
    "check_out('2016-12-18')"
   ]
  },
  {
   "cell_type": "markdown",
   "metadata": {},
   "source": [
    "This one doesn't seem empty although its memory is 1k:"
   ]
  },
  {
   "cell_type": "code",
   "execution_count": 48,
   "metadata": {
    "collapsed": false,
    "scrolled": true
   },
   "outputs": [
    {
     "data": {
      "text/html": [
       "<div>\n",
       "<table border=\"1\" class=\"dataframe\">\n",
       "  <thead>\n",
       "    <tr style=\"text-align: right;\">\n",
       "      <th></th>\n",
       "      <th>user_id</th>\n",
       "      <th>item_id</th>\n",
       "      <th>interaction_type</th>\n",
       "      <th>created_at</th>\n",
       "      <th>created_at_date</th>\n",
       "    </tr>\n",
       "  </thead>\n",
       "  <tbody>\n",
       "    <tr>\n",
       "      <th>9762587</th>\n",
       "      <td>2105774</td>\n",
       "      <td>663419</td>\n",
       "      <td>5</td>\n",
       "      <td>1482088401</td>\n",
       "      <td>2016-12-18 19:13:21</td>\n",
       "    </tr>\n",
       "    <tr>\n",
       "      <th>9762590</th>\n",
       "      <td>2105774</td>\n",
       "      <td>663419</td>\n",
       "      <td>5</td>\n",
       "      <td>1482088401</td>\n",
       "      <td>2016-12-18 19:13:21</td>\n",
       "    </tr>\n",
       "  </tbody>\n",
       "</table>\n",
       "</div>"
      ],
      "text/plain": [
       "         user_id  item_id  interaction_type  created_at     created_at_date\n",
       "9762587  2105774   663419                 5  1482088401 2016-12-18 19:13:21\n",
       "9762590  2105774   663419                 5  1482088401 2016-12-18 19:13:21"
      ]
     },
     "execution_count": 48,
     "metadata": {},
     "output_type": "execute_result"
    }
   ],
   "source": [
    "pd.read_pickle(folderint + 'interactions-2016-12-18.pkl')"
   ]
  },
  {
   "cell_type": "markdown",
   "metadata": {},
   "source": [
    "There are repeated (same) interactions. This gonna give a first way to clean the interactions data."
   ]
  },
  {
   "cell_type": "code",
   "execution_count": 49,
   "metadata": {
    "collapsed": false
   },
   "outputs": [
    {
     "data": {
      "text/plain": [
       "133"
      ]
     },
     "execution_count": 49,
     "metadata": {},
     "output_type": "execute_result"
    }
   ],
   "source": [
    "check_out('2016-12-19')"
   ]
  },
  {
   "cell_type": "code",
   "execution_count": 50,
   "metadata": {
    "collapsed": false
   },
   "outputs": [
    {
     "data": {
      "text/plain": [
       "307"
      ]
     },
     "execution_count": 50,
     "metadata": {},
     "output_type": "execute_result"
    }
   ],
   "source": [
    "check_out('2016-12-20')"
   ]
  },
  {
   "cell_type": "code",
   "execution_count": 51,
   "metadata": {
    "collapsed": false
   },
   "outputs": [
    {
     "data": {
      "text/plain": [
       "273"
      ]
     },
     "execution_count": 51,
     "metadata": {},
     "output_type": "execute_result"
    }
   ],
   "source": [
    "check_out('2016-12-21')"
   ]
  },
  {
   "cell_type": "code",
   "execution_count": 52,
   "metadata": {
    "collapsed": false
   },
   "outputs": [
    {
     "data": {
      "text/plain": [
       "84"
      ]
     },
     "execution_count": 52,
     "metadata": {},
     "output_type": "execute_result"
    }
   ],
   "source": [
    "check_out('2016-12-22')"
   ]
  },
  {
   "cell_type": "code",
   "execution_count": 53,
   "metadata": {
    "collapsed": false
   },
   "outputs": [
    {
     "data": {
      "text/plain": [
       "442"
      ]
     },
     "execution_count": 53,
     "metadata": {},
     "output_type": "execute_result"
    }
   ],
   "source": [
    "check_out('2016-12-23')"
   ]
  },
  {
   "cell_type": "code",
   "execution_count": 54,
   "metadata": {
    "collapsed": false
   },
   "outputs": [
    {
     "data": {
      "text/plain": [
       "nan"
      ]
     },
     "execution_count": 54,
     "metadata": {},
     "output_type": "execute_result"
    }
   ],
   "source": [
    "check_out('2016-12-24')"
   ]
  },
  {
   "cell_type": "code",
   "execution_count": 55,
   "metadata": {
    "collapsed": false
   },
   "outputs": [
    {
     "data": {
      "text/plain": [
       "7"
      ]
     },
     "execution_count": 55,
     "metadata": {},
     "output_type": "execute_result"
    }
   ],
   "source": [
    "check_out('2016-12-25')"
   ]
  },
  {
   "cell_type": "code",
   "execution_count": 56,
   "metadata": {
    "collapsed": false
   },
   "outputs": [
    {
     "data": {
      "text/plain": [
       "334"
      ]
     },
     "execution_count": 56,
     "metadata": {},
     "output_type": "execute_result"
    }
   ],
   "source": [
    "check_out('2016-12-26')"
   ]
  },
  {
   "cell_type": "code",
   "execution_count": 57,
   "metadata": {
    "collapsed": false
   },
   "outputs": [
    {
     "data": {
      "text/plain": [
       "135"
      ]
     },
     "execution_count": 57,
     "metadata": {},
     "output_type": "execute_result"
    }
   ],
   "source": [
    "check_out('2016-12-27')"
   ]
  },
  {
   "cell_type": "code",
   "execution_count": 58,
   "metadata": {
    "collapsed": false
   },
   "outputs": [
    {
     "data": {
      "text/plain": [
       "106"
      ]
     },
     "execution_count": 58,
     "metadata": {},
     "output_type": "execute_result"
    }
   ],
   "source": [
    "check_out('2016-12-28')"
   ]
  },
  {
   "cell_type": "code",
   "execution_count": 59,
   "metadata": {
    "collapsed": false
   },
   "outputs": [
    {
     "data": {
      "text/plain": [
       "207"
      ]
     },
     "execution_count": 59,
     "metadata": {},
     "output_type": "execute_result"
    }
   ],
   "source": [
    "check_out('2016-12-29')"
   ]
  },
  {
   "cell_type": "code",
   "execution_count": 60,
   "metadata": {
    "collapsed": false
   },
   "outputs": [
    {
     "data": {
      "text/plain": [
       "233"
      ]
     },
     "execution_count": 60,
     "metadata": {},
     "output_type": "execute_result"
    }
   ],
   "source": [
    "check_out('2016-12-30')"
   ]
  },
  {
   "cell_type": "code",
   "execution_count": 61,
   "metadata": {
    "collapsed": false
   },
   "outputs": [
    {
     "data": {
      "text/plain": [
       "156"
      ]
     },
     "execution_count": 61,
     "metadata": {},
     "output_type": "execute_result"
    }
   ],
   "source": [
    "check_out('2016-12-31')"
   ]
  },
  {
   "cell_type": "code",
   "execution_count": 62,
   "metadata": {
    "collapsed": false
   },
   "outputs": [
    {
     "data": {
      "text/plain": [
       "64"
      ]
     },
     "execution_count": 62,
     "metadata": {},
     "output_type": "execute_result"
    }
   ],
   "source": [
    "check_out('2017-01-01')"
   ]
  },
  {
   "cell_type": "code",
   "execution_count": 63,
   "metadata": {
    "collapsed": false
   },
   "outputs": [
    {
     "data": {
      "text/plain": [
       "3164"
      ]
     },
     "execution_count": 63,
     "metadata": {},
     "output_type": "execute_result"
    }
   ],
   "source": [
    "check_out('2017-01-02')"
   ]
  },
  {
   "cell_type": "markdown",
   "metadata": {},
   "source": [
    "Big! And it's just the beginning..."
   ]
  },
  {
   "cell_type": "code",
   "execution_count": 64,
   "metadata": {
    "collapsed": false
   },
   "outputs": [
    {
     "data": {
      "text/plain": [
       "2708"
      ]
     },
     "execution_count": 64,
     "metadata": {},
     "output_type": "execute_result"
    }
   ],
   "source": [
    "check_out('2017-01-03')"
   ]
  },
  {
   "cell_type": "code",
   "execution_count": 65,
   "metadata": {
    "collapsed": false
   },
   "outputs": [
    {
     "data": {
      "text/plain": [
       "2504"
      ]
     },
     "execution_count": 65,
     "metadata": {},
     "output_type": "execute_result"
    }
   ],
   "source": [
    "check_out('2017-01-04')"
   ]
  },
  {
   "cell_type": "code",
   "execution_count": 66,
   "metadata": {
    "collapsed": false
   },
   "outputs": [
    {
     "data": {
      "text/plain": [
       "1745"
      ]
     },
     "execution_count": 66,
     "metadata": {},
     "output_type": "execute_result"
    }
   ],
   "source": [
    "check_out('2017-01-05')"
   ]
  },
  {
   "cell_type": "code",
   "execution_count": 67,
   "metadata": {
    "collapsed": false
   },
   "outputs": [
    {
     "data": {
      "text/plain": [
       "3151"
      ]
     },
     "execution_count": 67,
     "metadata": {},
     "output_type": "execute_result"
    }
   ],
   "source": [
    "check_out('2017-01-06')"
   ]
  },
  {
   "cell_type": "code",
   "execution_count": 68,
   "metadata": {
    "collapsed": false
   },
   "outputs": [
    {
     "data": {
      "text/plain": [
       "529"
      ]
     },
     "execution_count": 68,
     "metadata": {},
     "output_type": "execute_result"
    }
   ],
   "source": [
    "check_out('2017-01-07')"
   ]
  },
  {
   "cell_type": "code",
   "execution_count": 69,
   "metadata": {
    "collapsed": false
   },
   "outputs": [
    {
     "data": {
      "text/plain": [
       "684"
      ]
     },
     "execution_count": 69,
     "metadata": {},
     "output_type": "execute_result"
    }
   ],
   "source": [
    "check_out('2017-01-08')"
   ]
  },
  {
   "cell_type": "code",
   "execution_count": 70,
   "metadata": {
    "collapsed": false
   },
   "outputs": [
    {
     "data": {
      "text/plain": [
       "2943"
      ]
     },
     "execution_count": 70,
     "metadata": {},
     "output_type": "execute_result"
    }
   ],
   "source": [
    "check_out('2017-01-09')"
   ]
  },
  {
   "cell_type": "code",
   "execution_count": 71,
   "metadata": {
    "collapsed": false
   },
   "outputs": [
    {
     "data": {
      "text/plain": [
       "1631"
      ]
     },
     "execution_count": 71,
     "metadata": {},
     "output_type": "execute_result"
    }
   ],
   "source": [
    "check_out('2017-01-10')"
   ]
  },
  {
   "cell_type": "code",
   "execution_count": 72,
   "metadata": {
    "collapsed": false
   },
   "outputs": [
    {
     "data": {
      "text/plain": [
       "2367"
      ]
     },
     "execution_count": 72,
     "metadata": {},
     "output_type": "execute_result"
    }
   ],
   "source": [
    "check_out('2017-01-11')"
   ]
  },
  {
   "cell_type": "code",
   "execution_count": 73,
   "metadata": {
    "collapsed": false
   },
   "outputs": [
    {
     "data": {
      "text/plain": [
       "3283"
      ]
     },
     "execution_count": 73,
     "metadata": {},
     "output_type": "execute_result"
    }
   ],
   "source": [
    "check_out('2017-01-12')"
   ]
  },
  {
   "cell_type": "code",
   "execution_count": 74,
   "metadata": {
    "collapsed": false
   },
   "outputs": [
    {
     "data": {
      "text/plain": [
       "3173"
      ]
     },
     "execution_count": 74,
     "metadata": {},
     "output_type": "execute_result"
    }
   ],
   "source": [
    "check_out('2017-01-13')"
   ]
  },
  {
   "cell_type": "code",
   "execution_count": 75,
   "metadata": {
    "collapsed": false
   },
   "outputs": [
    {
     "data": {
      "text/plain": [
       "606"
      ]
     },
     "execution_count": 75,
     "metadata": {},
     "output_type": "execute_result"
    }
   ],
   "source": [
    "check_out('2017-01-14')"
   ]
  },
  {
   "cell_type": "code",
   "execution_count": 76,
   "metadata": {
    "collapsed": false
   },
   "outputs": [
    {
     "data": {
      "text/plain": [
       "500"
      ]
     },
     "execution_count": 76,
     "metadata": {},
     "output_type": "execute_result"
    }
   ],
   "source": [
    "check_out('2017-01-15')"
   ]
  },
  {
   "cell_type": "code",
   "execution_count": 77,
   "metadata": {
    "collapsed": false
   },
   "outputs": [
    {
     "data": {
      "text/plain": [
       "2772"
      ]
     },
     "execution_count": 77,
     "metadata": {},
     "output_type": "execute_result"
    }
   ],
   "source": [
    "check_out('2017-01-16')"
   ]
  },
  {
   "cell_type": "code",
   "execution_count": 78,
   "metadata": {
    "collapsed": false
   },
   "outputs": [
    {
     "data": {
      "text/plain": [
       "5209"
      ]
     },
     "execution_count": 78,
     "metadata": {},
     "output_type": "execute_result"
    }
   ],
   "source": [
    "check_out('2017-01-17')"
   ]
  },
  {
   "cell_type": "markdown",
   "metadata": {},
   "source": [
    "Uf! This one is (I think) the biggest one! Let's watch it deeper..."
   ]
  },
  {
   "cell_type": "code",
   "execution_count": 79,
   "metadata": {
    "collapsed": true
   },
   "outputs": [],
   "source": [
    "machin = open_day('2017-01-17')"
   ]
  },
  {
   "cell_type": "code",
   "execution_count": 80,
   "metadata": {
    "collapsed": false
   },
   "outputs": [
    {
     "data": {
      "text/plain": [
       "(17358843, 5)"
      ]
     },
     "execution_count": 80,
     "metadata": {},
     "output_type": "execute_result"
    }
   ],
   "source": [
    "machin.shape"
   ]
  },
  {
   "cell_type": "code",
   "execution_count": 81,
   "metadata": {
    "collapsed": false
   },
   "outputs": [
    {
     "data": {
      "text/html": [
       "<div>\n",
       "<table border=\"1\" class=\"dataframe\">\n",
       "  <thead>\n",
       "    <tr style=\"text-align: right;\">\n",
       "      <th></th>\n",
       "      <th>user_id</th>\n",
       "      <th>item_id</th>\n",
       "      <th>number_int</th>\n",
       "    </tr>\n",
       "  </thead>\n",
       "  <tbody>\n",
       "    <tr>\n",
       "      <th>0</th>\n",
       "      <td>7</td>\n",
       "      <td>100419</td>\n",
       "      <td>5</td>\n",
       "    </tr>\n",
       "    <tr>\n",
       "      <th>1</th>\n",
       "      <td>7</td>\n",
       "      <td>309822</td>\n",
       "      <td>10</td>\n",
       "    </tr>\n",
       "    <tr>\n",
       "      <th>2</th>\n",
       "      <td>7</td>\n",
       "      <td>364664</td>\n",
       "      <td>8</td>\n",
       "    </tr>\n",
       "    <tr>\n",
       "      <th>3</th>\n",
       "      <td>7</td>\n",
       "      <td>636644</td>\n",
       "      <td>5</td>\n",
       "    </tr>\n",
       "    <tr>\n",
       "      <th>4</th>\n",
       "      <td>7</td>\n",
       "      <td>655513</td>\n",
       "      <td>10</td>\n",
       "    </tr>\n",
       "  </tbody>\n",
       "</table>\n",
       "</div>"
      ],
      "text/plain": [
       "   user_id  item_id  number_int\n",
       "0        7   100419           5\n",
       "1        7   309822          10\n",
       "2        7   364664           8\n",
       "3        7   636644           5\n",
       "4        7   655513          10"
      ]
     },
     "execution_count": 81,
     "metadata": {},
     "output_type": "execute_result"
    }
   ],
   "source": [
    "check_all('2017-01-17').head()"
   ]
  },
  {
   "cell_type": "code",
   "execution_count": 82,
   "metadata": {
    "collapsed": false
   },
   "outputs": [
    {
     "data": {
      "text/plain": [
       "4999"
      ]
     },
     "execution_count": 82,
     "metadata": {},
     "output_type": "execute_result"
    }
   ],
   "source": [
    "check_int('2017-01-17').number_repeat.max()"
   ]
  },
  {
   "cell_type": "markdown",
   "metadata": {},
   "source": [
    "Let's see which is:"
   ]
  },
  {
   "cell_type": "code",
   "execution_count": 83,
   "metadata": {
    "collapsed": false
   },
   "outputs": [
    {
     "data": {
      "text/html": [
       "<div>\n",
       "<table border=\"1\" class=\"dataframe\">\n",
       "  <thead>\n",
       "    <tr style=\"text-align: right;\">\n",
       "      <th></th>\n",
       "      <th>user_id</th>\n",
       "      <th>item_id</th>\n",
       "      <th>interaction_type</th>\n",
       "      <th>number_repeat</th>\n",
       "    </tr>\n",
       "  </thead>\n",
       "  <tbody>\n",
       "    <tr>\n",
       "      <th>2634588</th>\n",
       "      <td>1881755</td>\n",
       "      <td>1928479</td>\n",
       "      <td>5</td>\n",
       "      <td>4999</td>\n",
       "    </tr>\n",
       "  </tbody>\n",
       "</table>\n",
       "</div>"
      ],
      "text/plain": [
       "         user_id  item_id  interaction_type  number_repeat\n",
       "2634588  1881755  1928479                 5           4999"
      ]
     },
     "execution_count": 83,
     "metadata": {},
     "output_type": "execute_result"
    }
   ],
   "source": [
    "check_int('2017-01-17')[check_int('2017-01-17').number_repeat == 4999]"
   ]
  },
  {
   "cell_type": "code",
   "execution_count": 84,
   "metadata": {
    "collapsed": false
   },
   "outputs": [
    {
     "data": {
      "text/plain": [
       "4999"
      ]
     },
     "execution_count": 84,
     "metadata": {},
     "output_type": "execute_result"
    }
   ],
   "source": [
    "len(machin[(machin.user_id == 1881755) & (machin.item_id == 1928479) & (machin.interaction_type == 5)])"
   ]
  },
  {
   "cell_type": "markdown",
   "metadata": {
    "collapsed": false
   },
   "source": [
    "There are 4999 times the same interaction: same user, same item, same interaction type and same date!"
   ]
  },
  {
   "cell_type": "code",
   "execution_count": 90,
   "metadata": {
    "collapsed": false
   },
   "outputs": [
    {
     "data": {
      "text/html": [
       "<div>\n",
       "<table border=\"1\" class=\"dataframe\">\n",
       "  <thead>\n",
       "    <tr style=\"text-align: right;\">\n",
       "      <th></th>\n",
       "      <th>user_id</th>\n",
       "      <th>item_id</th>\n",
       "      <th>interaction_type</th>\n",
       "      <th>created_at</th>\n",
       "      <th>created_at_date</th>\n",
       "    </tr>\n",
       "  </thead>\n",
       "  <tbody>\n",
       "    <tr>\n",
       "      <th>208077</th>\n",
       "      <td>1881755</td>\n",
       "      <td>1928479</td>\n",
       "      <td>5</td>\n",
       "      <td>1484650417</td>\n",
       "      <td>2017-01-17 10:53:37</td>\n",
       "    </tr>\n",
       "    <tr>\n",
       "      <th>208078</th>\n",
       "      <td>1881755</td>\n",
       "      <td>1928479</td>\n",
       "      <td>5</td>\n",
       "      <td>1484650417</td>\n",
       "      <td>2017-01-17 10:53:37</td>\n",
       "    </tr>\n",
       "    <tr>\n",
       "      <th>208079</th>\n",
       "      <td>1881755</td>\n",
       "      <td>1928479</td>\n",
       "      <td>5</td>\n",
       "      <td>1484650417</td>\n",
       "      <td>2017-01-17 10:53:37</td>\n",
       "    </tr>\n",
       "    <tr>\n",
       "      <th>208082</th>\n",
       "      <td>1881755</td>\n",
       "      <td>1928479</td>\n",
       "      <td>5</td>\n",
       "      <td>1484650417</td>\n",
       "      <td>2017-01-17 10:53:37</td>\n",
       "    </tr>\n",
       "    <tr>\n",
       "      <th>208083</th>\n",
       "      <td>1881755</td>\n",
       "      <td>1928479</td>\n",
       "      <td>5</td>\n",
       "      <td>1484650417</td>\n",
       "      <td>2017-01-17 10:53:37</td>\n",
       "    </tr>\n",
       "    <tr>\n",
       "      <th>208084</th>\n",
       "      <td>1881755</td>\n",
       "      <td>1928479</td>\n",
       "      <td>5</td>\n",
       "      <td>1484650417</td>\n",
       "      <td>2017-01-17 10:53:37</td>\n",
       "    </tr>\n",
       "    <tr>\n",
       "      <th>208085</th>\n",
       "      <td>1881755</td>\n",
       "      <td>1928479</td>\n",
       "      <td>5</td>\n",
       "      <td>1484650417</td>\n",
       "      <td>2017-01-17 10:53:37</td>\n",
       "    </tr>\n",
       "    <tr>\n",
       "      <th>208086</th>\n",
       "      <td>1881755</td>\n",
       "      <td>1928479</td>\n",
       "      <td>5</td>\n",
       "      <td>1484650417</td>\n",
       "      <td>2017-01-17 10:53:37</td>\n",
       "    </tr>\n",
       "    <tr>\n",
       "      <th>208087</th>\n",
       "      <td>1881755</td>\n",
       "      <td>1928479</td>\n",
       "      <td>5</td>\n",
       "      <td>1484650417</td>\n",
       "      <td>2017-01-17 10:53:37</td>\n",
       "    </tr>\n",
       "    <tr>\n",
       "      <th>208088</th>\n",
       "      <td>1881755</td>\n",
       "      <td>1928479</td>\n",
       "      <td>5</td>\n",
       "      <td>1484650417</td>\n",
       "      <td>2017-01-17 10:53:37</td>\n",
       "    </tr>\n",
       "    <tr>\n",
       "      <th>208089</th>\n",
       "      <td>1881755</td>\n",
       "      <td>1928479</td>\n",
       "      <td>5</td>\n",
       "      <td>1484650417</td>\n",
       "      <td>2017-01-17 10:53:37</td>\n",
       "    </tr>\n",
       "    <tr>\n",
       "      <th>208090</th>\n",
       "      <td>1881755</td>\n",
       "      <td>1928479</td>\n",
       "      <td>5</td>\n",
       "      <td>1484650417</td>\n",
       "      <td>2017-01-17 10:53:37</td>\n",
       "    </tr>\n",
       "    <tr>\n",
       "      <th>208091</th>\n",
       "      <td>1881755</td>\n",
       "      <td>1928479</td>\n",
       "      <td>5</td>\n",
       "      <td>1484650417</td>\n",
       "      <td>2017-01-17 10:53:37</td>\n",
       "    </tr>\n",
       "    <tr>\n",
       "      <th>208092</th>\n",
       "      <td>1881755</td>\n",
       "      <td>1928479</td>\n",
       "      <td>5</td>\n",
       "      <td>1484650417</td>\n",
       "      <td>2017-01-17 10:53:37</td>\n",
       "    </tr>\n",
       "    <tr>\n",
       "      <th>208093</th>\n",
       "      <td>1881755</td>\n",
       "      <td>1928479</td>\n",
       "      <td>5</td>\n",
       "      <td>1484650417</td>\n",
       "      <td>2017-01-17 10:53:37</td>\n",
       "    </tr>\n",
       "    <tr>\n",
       "      <th>208094</th>\n",
       "      <td>1881755</td>\n",
       "      <td>1928479</td>\n",
       "      <td>5</td>\n",
       "      <td>1484650417</td>\n",
       "      <td>2017-01-17 10:53:37</td>\n",
       "    </tr>\n",
       "    <tr>\n",
       "      <th>208095</th>\n",
       "      <td>1881755</td>\n",
       "      <td>1928479</td>\n",
       "      <td>5</td>\n",
       "      <td>1484650417</td>\n",
       "      <td>2017-01-17 10:53:37</td>\n",
       "    </tr>\n",
       "    <tr>\n",
       "      <th>208096</th>\n",
       "      <td>1881755</td>\n",
       "      <td>1928479</td>\n",
       "      <td>5</td>\n",
       "      <td>1484650417</td>\n",
       "      <td>2017-01-17 10:53:37</td>\n",
       "    </tr>\n",
       "    <tr>\n",
       "      <th>208097</th>\n",
       "      <td>1881755</td>\n",
       "      <td>1928479</td>\n",
       "      <td>5</td>\n",
       "      <td>1484650417</td>\n",
       "      <td>2017-01-17 10:53:37</td>\n",
       "    </tr>\n",
       "    <tr>\n",
       "      <th>208098</th>\n",
       "      <td>1881755</td>\n",
       "      <td>1928479</td>\n",
       "      <td>5</td>\n",
       "      <td>1484650417</td>\n",
       "      <td>2017-01-17 10:53:37</td>\n",
       "    </tr>\n",
       "    <tr>\n",
       "      <th>208099</th>\n",
       "      <td>1881755</td>\n",
       "      <td>1928479</td>\n",
       "      <td>5</td>\n",
       "      <td>1484650417</td>\n",
       "      <td>2017-01-17 10:53:37</td>\n",
       "    </tr>\n",
       "    <tr>\n",
       "      <th>208100</th>\n",
       "      <td>1881755</td>\n",
       "      <td>1928479</td>\n",
       "      <td>5</td>\n",
       "      <td>1484650417</td>\n",
       "      <td>2017-01-17 10:53:37</td>\n",
       "    </tr>\n",
       "    <tr>\n",
       "      <th>208101</th>\n",
       "      <td>1881755</td>\n",
       "      <td>1928479</td>\n",
       "      <td>5</td>\n",
       "      <td>1484650417</td>\n",
       "      <td>2017-01-17 10:53:37</td>\n",
       "    </tr>\n",
       "    <tr>\n",
       "      <th>208102</th>\n",
       "      <td>1881755</td>\n",
       "      <td>1928479</td>\n",
       "      <td>5</td>\n",
       "      <td>1484650417</td>\n",
       "      <td>2017-01-17 10:53:37</td>\n",
       "    </tr>\n",
       "    <tr>\n",
       "      <th>208103</th>\n",
       "      <td>1881755</td>\n",
       "      <td>1928479</td>\n",
       "      <td>5</td>\n",
       "      <td>1484650417</td>\n",
       "      <td>2017-01-17 10:53:37</td>\n",
       "    </tr>\n",
       "    <tr>\n",
       "      <th>208104</th>\n",
       "      <td>1881755</td>\n",
       "      <td>1928479</td>\n",
       "      <td>5</td>\n",
       "      <td>1484650417</td>\n",
       "      <td>2017-01-17 10:53:37</td>\n",
       "    </tr>\n",
       "    <tr>\n",
       "      <th>208105</th>\n",
       "      <td>1881755</td>\n",
       "      <td>1928479</td>\n",
       "      <td>5</td>\n",
       "      <td>1484650417</td>\n",
       "      <td>2017-01-17 10:53:37</td>\n",
       "    </tr>\n",
       "    <tr>\n",
       "      <th>208106</th>\n",
       "      <td>1881755</td>\n",
       "      <td>1928479</td>\n",
       "      <td>5</td>\n",
       "      <td>1484650417</td>\n",
       "      <td>2017-01-17 10:53:37</td>\n",
       "    </tr>\n",
       "    <tr>\n",
       "      <th>208107</th>\n",
       "      <td>1881755</td>\n",
       "      <td>1928479</td>\n",
       "      <td>5</td>\n",
       "      <td>1484650417</td>\n",
       "      <td>2017-01-17 10:53:37</td>\n",
       "    </tr>\n",
       "    <tr>\n",
       "      <th>208108</th>\n",
       "      <td>1881755</td>\n",
       "      <td>1928479</td>\n",
       "      <td>5</td>\n",
       "      <td>1484650417</td>\n",
       "      <td>2017-01-17 10:53:37</td>\n",
       "    </tr>\n",
       "    <tr>\n",
       "      <th>...</th>\n",
       "      <td>...</td>\n",
       "      <td>...</td>\n",
       "      <td>...</td>\n",
       "      <td>...</td>\n",
       "      <td>...</td>\n",
       "    </tr>\n",
       "    <tr>\n",
       "      <th>213229</th>\n",
       "      <td>1881755</td>\n",
       "      <td>1928479</td>\n",
       "      <td>5</td>\n",
       "      <td>1484650417</td>\n",
       "      <td>2017-01-17 10:53:37</td>\n",
       "    </tr>\n",
       "    <tr>\n",
       "      <th>213230</th>\n",
       "      <td>1881755</td>\n",
       "      <td>1928479</td>\n",
       "      <td>5</td>\n",
       "      <td>1484650417</td>\n",
       "      <td>2017-01-17 10:53:37</td>\n",
       "    </tr>\n",
       "    <tr>\n",
       "      <th>213231</th>\n",
       "      <td>1881755</td>\n",
       "      <td>1928479</td>\n",
       "      <td>5</td>\n",
       "      <td>1484650417</td>\n",
       "      <td>2017-01-17 10:53:37</td>\n",
       "    </tr>\n",
       "    <tr>\n",
       "      <th>213232</th>\n",
       "      <td>1881755</td>\n",
       "      <td>1928479</td>\n",
       "      <td>5</td>\n",
       "      <td>1484650417</td>\n",
       "      <td>2017-01-17 10:53:37</td>\n",
       "    </tr>\n",
       "    <tr>\n",
       "      <th>213233</th>\n",
       "      <td>1881755</td>\n",
       "      <td>1928479</td>\n",
       "      <td>5</td>\n",
       "      <td>1484650417</td>\n",
       "      <td>2017-01-17 10:53:37</td>\n",
       "    </tr>\n",
       "    <tr>\n",
       "      <th>213234</th>\n",
       "      <td>1881755</td>\n",
       "      <td>1928479</td>\n",
       "      <td>5</td>\n",
       "      <td>1484650417</td>\n",
       "      <td>2017-01-17 10:53:37</td>\n",
       "    </tr>\n",
       "    <tr>\n",
       "      <th>213235</th>\n",
       "      <td>1881755</td>\n",
       "      <td>1928479</td>\n",
       "      <td>5</td>\n",
       "      <td>1484650417</td>\n",
       "      <td>2017-01-17 10:53:37</td>\n",
       "    </tr>\n",
       "    <tr>\n",
       "      <th>213236</th>\n",
       "      <td>1881755</td>\n",
       "      <td>1928479</td>\n",
       "      <td>5</td>\n",
       "      <td>1484650417</td>\n",
       "      <td>2017-01-17 10:53:37</td>\n",
       "    </tr>\n",
       "    <tr>\n",
       "      <th>213237</th>\n",
       "      <td>1881755</td>\n",
       "      <td>1928479</td>\n",
       "      <td>5</td>\n",
       "      <td>1484650417</td>\n",
       "      <td>2017-01-17 10:53:37</td>\n",
       "    </tr>\n",
       "    <tr>\n",
       "      <th>213238</th>\n",
       "      <td>1881755</td>\n",
       "      <td>1928479</td>\n",
       "      <td>5</td>\n",
       "      <td>1484650417</td>\n",
       "      <td>2017-01-17 10:53:37</td>\n",
       "    </tr>\n",
       "    <tr>\n",
       "      <th>213239</th>\n",
       "      <td>1881755</td>\n",
       "      <td>1928479</td>\n",
       "      <td>5</td>\n",
       "      <td>1484650417</td>\n",
       "      <td>2017-01-17 10:53:37</td>\n",
       "    </tr>\n",
       "    <tr>\n",
       "      <th>213240</th>\n",
       "      <td>1881755</td>\n",
       "      <td>1928479</td>\n",
       "      <td>5</td>\n",
       "      <td>1484650417</td>\n",
       "      <td>2017-01-17 10:53:37</td>\n",
       "    </tr>\n",
       "    <tr>\n",
       "      <th>213241</th>\n",
       "      <td>1881755</td>\n",
       "      <td>1928479</td>\n",
       "      <td>5</td>\n",
       "      <td>1484650417</td>\n",
       "      <td>2017-01-17 10:53:37</td>\n",
       "    </tr>\n",
       "    <tr>\n",
       "      <th>213242</th>\n",
       "      <td>1881755</td>\n",
       "      <td>1928479</td>\n",
       "      <td>5</td>\n",
       "      <td>1484650417</td>\n",
       "      <td>2017-01-17 10:53:37</td>\n",
       "    </tr>\n",
       "    <tr>\n",
       "      <th>213243</th>\n",
       "      <td>1881755</td>\n",
       "      <td>1928479</td>\n",
       "      <td>5</td>\n",
       "      <td>1484650417</td>\n",
       "      <td>2017-01-17 10:53:37</td>\n",
       "    </tr>\n",
       "    <tr>\n",
       "      <th>213244</th>\n",
       "      <td>1881755</td>\n",
       "      <td>1928479</td>\n",
       "      <td>5</td>\n",
       "      <td>1484650417</td>\n",
       "      <td>2017-01-17 10:53:37</td>\n",
       "    </tr>\n",
       "    <tr>\n",
       "      <th>213245</th>\n",
       "      <td>1881755</td>\n",
       "      <td>1928479</td>\n",
       "      <td>5</td>\n",
       "      <td>1484650417</td>\n",
       "      <td>2017-01-17 10:53:37</td>\n",
       "    </tr>\n",
       "    <tr>\n",
       "      <th>213247</th>\n",
       "      <td>1881755</td>\n",
       "      <td>1928479</td>\n",
       "      <td>5</td>\n",
       "      <td>1484650417</td>\n",
       "      <td>2017-01-17 10:53:37</td>\n",
       "    </tr>\n",
       "    <tr>\n",
       "      <th>213248</th>\n",
       "      <td>1881755</td>\n",
       "      <td>1928479</td>\n",
       "      <td>5</td>\n",
       "      <td>1484650417</td>\n",
       "      <td>2017-01-17 10:53:37</td>\n",
       "    </tr>\n",
       "    <tr>\n",
       "      <th>213249</th>\n",
       "      <td>1881755</td>\n",
       "      <td>1928479</td>\n",
       "      <td>5</td>\n",
       "      <td>1484650417</td>\n",
       "      <td>2017-01-17 10:53:37</td>\n",
       "    </tr>\n",
       "    <tr>\n",
       "      <th>213250</th>\n",
       "      <td>1881755</td>\n",
       "      <td>1928479</td>\n",
       "      <td>5</td>\n",
       "      <td>1484650417</td>\n",
       "      <td>2017-01-17 10:53:37</td>\n",
       "    </tr>\n",
       "    <tr>\n",
       "      <th>213251</th>\n",
       "      <td>1881755</td>\n",
       "      <td>1928479</td>\n",
       "      <td>5</td>\n",
       "      <td>1484650417</td>\n",
       "      <td>2017-01-17 10:53:37</td>\n",
       "    </tr>\n",
       "    <tr>\n",
       "      <th>213253</th>\n",
       "      <td>1881755</td>\n",
       "      <td>1928479</td>\n",
       "      <td>5</td>\n",
       "      <td>1484650417</td>\n",
       "      <td>2017-01-17 10:53:37</td>\n",
       "    </tr>\n",
       "    <tr>\n",
       "      <th>213254</th>\n",
       "      <td>1881755</td>\n",
       "      <td>1928479</td>\n",
       "      <td>5</td>\n",
       "      <td>1484650417</td>\n",
       "      <td>2017-01-17 10:53:37</td>\n",
       "    </tr>\n",
       "    <tr>\n",
       "      <th>213255</th>\n",
       "      <td>1881755</td>\n",
       "      <td>1928479</td>\n",
       "      <td>5</td>\n",
       "      <td>1484650417</td>\n",
       "      <td>2017-01-17 10:53:37</td>\n",
       "    </tr>\n",
       "    <tr>\n",
       "      <th>213256</th>\n",
       "      <td>1881755</td>\n",
       "      <td>1928479</td>\n",
       "      <td>5</td>\n",
       "      <td>1484650417</td>\n",
       "      <td>2017-01-17 10:53:37</td>\n",
       "    </tr>\n",
       "    <tr>\n",
       "      <th>213257</th>\n",
       "      <td>1881755</td>\n",
       "      <td>1928479</td>\n",
       "      <td>5</td>\n",
       "      <td>1484650417</td>\n",
       "      <td>2017-01-17 10:53:37</td>\n",
       "    </tr>\n",
       "    <tr>\n",
       "      <th>213258</th>\n",
       "      <td>1881755</td>\n",
       "      <td>1928479</td>\n",
       "      <td>5</td>\n",
       "      <td>1484650417</td>\n",
       "      <td>2017-01-17 10:53:37</td>\n",
       "    </tr>\n",
       "    <tr>\n",
       "      <th>213259</th>\n",
       "      <td>1881755</td>\n",
       "      <td>1928479</td>\n",
       "      <td>5</td>\n",
       "      <td>1484650417</td>\n",
       "      <td>2017-01-17 10:53:37</td>\n",
       "    </tr>\n",
       "    <tr>\n",
       "      <th>213260</th>\n",
       "      <td>1881755</td>\n",
       "      <td>1928479</td>\n",
       "      <td>5</td>\n",
       "      <td>1484650417</td>\n",
       "      <td>2017-01-17 10:53:37</td>\n",
       "    </tr>\n",
       "  </tbody>\n",
       "</table>\n",
       "<p>4999 rows × 5 columns</p>\n",
       "</div>"
      ],
      "text/plain": [
       "        user_id  item_id  interaction_type  created_at     created_at_date\n",
       "208077  1881755  1928479                 5  1484650417 2017-01-17 10:53:37\n",
       "208078  1881755  1928479                 5  1484650417 2017-01-17 10:53:37\n",
       "208079  1881755  1928479                 5  1484650417 2017-01-17 10:53:37\n",
       "208082  1881755  1928479                 5  1484650417 2017-01-17 10:53:37\n",
       "208083  1881755  1928479                 5  1484650417 2017-01-17 10:53:37\n",
       "208084  1881755  1928479                 5  1484650417 2017-01-17 10:53:37\n",
       "208085  1881755  1928479                 5  1484650417 2017-01-17 10:53:37\n",
       "208086  1881755  1928479                 5  1484650417 2017-01-17 10:53:37\n",
       "208087  1881755  1928479                 5  1484650417 2017-01-17 10:53:37\n",
       "208088  1881755  1928479                 5  1484650417 2017-01-17 10:53:37\n",
       "208089  1881755  1928479                 5  1484650417 2017-01-17 10:53:37\n",
       "208090  1881755  1928479                 5  1484650417 2017-01-17 10:53:37\n",
       "208091  1881755  1928479                 5  1484650417 2017-01-17 10:53:37\n",
       "208092  1881755  1928479                 5  1484650417 2017-01-17 10:53:37\n",
       "208093  1881755  1928479                 5  1484650417 2017-01-17 10:53:37\n",
       "208094  1881755  1928479                 5  1484650417 2017-01-17 10:53:37\n",
       "208095  1881755  1928479                 5  1484650417 2017-01-17 10:53:37\n",
       "208096  1881755  1928479                 5  1484650417 2017-01-17 10:53:37\n",
       "208097  1881755  1928479                 5  1484650417 2017-01-17 10:53:37\n",
       "208098  1881755  1928479                 5  1484650417 2017-01-17 10:53:37\n",
       "208099  1881755  1928479                 5  1484650417 2017-01-17 10:53:37\n",
       "208100  1881755  1928479                 5  1484650417 2017-01-17 10:53:37\n",
       "208101  1881755  1928479                 5  1484650417 2017-01-17 10:53:37\n",
       "208102  1881755  1928479                 5  1484650417 2017-01-17 10:53:37\n",
       "208103  1881755  1928479                 5  1484650417 2017-01-17 10:53:37\n",
       "208104  1881755  1928479                 5  1484650417 2017-01-17 10:53:37\n",
       "208105  1881755  1928479                 5  1484650417 2017-01-17 10:53:37\n",
       "208106  1881755  1928479                 5  1484650417 2017-01-17 10:53:37\n",
       "208107  1881755  1928479                 5  1484650417 2017-01-17 10:53:37\n",
       "208108  1881755  1928479                 5  1484650417 2017-01-17 10:53:37\n",
       "...         ...      ...               ...         ...                 ...\n",
       "213229  1881755  1928479                 5  1484650417 2017-01-17 10:53:37\n",
       "213230  1881755  1928479                 5  1484650417 2017-01-17 10:53:37\n",
       "213231  1881755  1928479                 5  1484650417 2017-01-17 10:53:37\n",
       "213232  1881755  1928479                 5  1484650417 2017-01-17 10:53:37\n",
       "213233  1881755  1928479                 5  1484650417 2017-01-17 10:53:37\n",
       "213234  1881755  1928479                 5  1484650417 2017-01-17 10:53:37\n",
       "213235  1881755  1928479                 5  1484650417 2017-01-17 10:53:37\n",
       "213236  1881755  1928479                 5  1484650417 2017-01-17 10:53:37\n",
       "213237  1881755  1928479                 5  1484650417 2017-01-17 10:53:37\n",
       "213238  1881755  1928479                 5  1484650417 2017-01-17 10:53:37\n",
       "213239  1881755  1928479                 5  1484650417 2017-01-17 10:53:37\n",
       "213240  1881755  1928479                 5  1484650417 2017-01-17 10:53:37\n",
       "213241  1881755  1928479                 5  1484650417 2017-01-17 10:53:37\n",
       "213242  1881755  1928479                 5  1484650417 2017-01-17 10:53:37\n",
       "213243  1881755  1928479                 5  1484650417 2017-01-17 10:53:37\n",
       "213244  1881755  1928479                 5  1484650417 2017-01-17 10:53:37\n",
       "213245  1881755  1928479                 5  1484650417 2017-01-17 10:53:37\n",
       "213247  1881755  1928479                 5  1484650417 2017-01-17 10:53:37\n",
       "213248  1881755  1928479                 5  1484650417 2017-01-17 10:53:37\n",
       "213249  1881755  1928479                 5  1484650417 2017-01-17 10:53:37\n",
       "213250  1881755  1928479                 5  1484650417 2017-01-17 10:53:37\n",
       "213251  1881755  1928479                 5  1484650417 2017-01-17 10:53:37\n",
       "213253  1881755  1928479                 5  1484650417 2017-01-17 10:53:37\n",
       "213254  1881755  1928479                 5  1484650417 2017-01-17 10:53:37\n",
       "213255  1881755  1928479                 5  1484650417 2017-01-17 10:53:37\n",
       "213256  1881755  1928479                 5  1484650417 2017-01-17 10:53:37\n",
       "213257  1881755  1928479                 5  1484650417 2017-01-17 10:53:37\n",
       "213258  1881755  1928479                 5  1484650417 2017-01-17 10:53:37\n",
       "213259  1881755  1928479                 5  1484650417 2017-01-17 10:53:37\n",
       "213260  1881755  1928479                 5  1484650417 2017-01-17 10:53:37\n",
       "\n",
       "[4999 rows x 5 columns]"
      ]
     },
     "execution_count": 90,
     "metadata": {},
     "output_type": "execute_result"
    }
   ],
   "source": [
    "machin[(machin.user_id == 1881755) & (machin.item_id == 1928479) & (machin.interaction_type == 5)]"
   ]
  },
  {
   "cell_type": "markdown",
   "metadata": {},
   "source": [
    "Let's apply the reduction function and let's compare their respective lengths:"
   ]
  },
  {
   "cell_type": "code",
   "execution_count": 91,
   "metadata": {
    "collapsed": false
   },
   "outputs": [],
   "source": [
    "truc = reduce_day('2017-01-17')"
   ]
  },
  {
   "cell_type": "code",
   "execution_count": 92,
   "metadata": {
    "collapsed": false
   },
   "outputs": [
    {
     "name": "stdout",
     "output_type": "stream",
     "text": [
      "Respective lengths before and after reduction: 17358843, 11932817\n",
      "Difference: 5426026\n"
     ]
    }
   ],
   "source": [
    "print \"Respective lengths before and after reduction: \" + str(len(machin)) + \", \" + str(len(truc))\n",
    "print \"Difference: \" + str(len(machin) - len(truc))"
   ]
  },
  {
   "cell_type": "markdown",
   "metadata": {},
   "source": [
    "Now let's finish the remaining ones."
   ]
  },
  {
   "cell_type": "code",
   "execution_count": 93,
   "metadata": {
    "collapsed": false
   },
   "outputs": [
    {
     "data": {
      "text/plain": [
       "1305"
      ]
     },
     "execution_count": 93,
     "metadata": {},
     "output_type": "execute_result"
    }
   ],
   "source": [
    "check_out('2017-01-18')"
   ]
  },
  {
   "cell_type": "code",
   "execution_count": 94,
   "metadata": {
    "collapsed": false
   },
   "outputs": [
    {
     "data": {
      "text/plain": [
       "2602"
      ]
     },
     "execution_count": 94,
     "metadata": {},
     "output_type": "execute_result"
    }
   ],
   "source": [
    "check_out('2017-01-19')"
   ]
  },
  {
   "cell_type": "code",
   "execution_count": 95,
   "metadata": {
    "collapsed": false
   },
   "outputs": [
    {
     "data": {
      "text/plain": [
       "2769"
      ]
     },
     "execution_count": 95,
     "metadata": {},
     "output_type": "execute_result"
    }
   ],
   "source": [
    "check_out('2017-01-20')"
   ]
  },
  {
   "cell_type": "code",
   "execution_count": 96,
   "metadata": {
    "collapsed": false
   },
   "outputs": [
    {
     "data": {
      "text/plain": [
       "539"
      ]
     },
     "execution_count": 96,
     "metadata": {},
     "output_type": "execute_result"
    }
   ],
   "source": [
    "check_out('2017-01-21')"
   ]
  },
  {
   "cell_type": "code",
   "execution_count": 97,
   "metadata": {
    "collapsed": false
   },
   "outputs": [
    {
     "data": {
      "text/plain": [
       "114"
      ]
     },
     "execution_count": 97,
     "metadata": {},
     "output_type": "execute_result"
    }
   ],
   "source": [
    "check_out('2017-01-22')"
   ]
  },
  {
   "cell_type": "code",
   "execution_count": 98,
   "metadata": {
    "collapsed": false
   },
   "outputs": [
    {
     "data": {
      "text/plain": [
       "735"
      ]
     },
     "execution_count": 98,
     "metadata": {},
     "output_type": "execute_result"
    }
   ],
   "source": [
    "check_out('2017-01-23')"
   ]
  },
  {
   "cell_type": "code",
   "execution_count": 99,
   "metadata": {
    "collapsed": false
   },
   "outputs": [
    {
     "data": {
      "text/plain": [
       "1313"
      ]
     },
     "execution_count": 99,
     "metadata": {},
     "output_type": "execute_result"
    }
   ],
   "source": [
    "check_out('2017-01-24')"
   ]
  },
  {
   "cell_type": "code",
   "execution_count": 100,
   "metadata": {
    "collapsed": false
   },
   "outputs": [
    {
     "data": {
      "text/plain": [
       "1366"
      ]
     },
     "execution_count": 100,
     "metadata": {},
     "output_type": "execute_result"
    }
   ],
   "source": [
    "check_out('2017-01-25')"
   ]
  },
  {
   "cell_type": "code",
   "execution_count": 101,
   "metadata": {
    "collapsed": false
   },
   "outputs": [
    {
     "data": {
      "text/plain": [
       "2706"
      ]
     },
     "execution_count": 101,
     "metadata": {},
     "output_type": "execute_result"
    }
   ],
   "source": [
    "check_out('2017-01-26')"
   ]
  },
  {
   "cell_type": "code",
   "execution_count": 102,
   "metadata": {
    "collapsed": false
   },
   "outputs": [
    {
     "data": {
      "text/plain": [
       "1958"
      ]
     },
     "execution_count": 102,
     "metadata": {},
     "output_type": "execute_result"
    }
   ],
   "source": [
    "check_out('2017-01-27')"
   ]
  },
  {
   "cell_type": "code",
   "execution_count": 103,
   "metadata": {
    "collapsed": false
   },
   "outputs": [
    {
     "data": {
      "text/plain": [
       "1096"
      ]
     },
     "execution_count": 103,
     "metadata": {},
     "output_type": "execute_result"
    }
   ],
   "source": [
    "check_out('2017-01-28')"
   ]
  },
  {
   "cell_type": "code",
   "execution_count": 104,
   "metadata": {
    "collapsed": false
   },
   "outputs": [
    {
     "data": {
      "text/plain": [
       "1732"
      ]
     },
     "execution_count": 104,
     "metadata": {},
     "output_type": "execute_result"
    }
   ],
   "source": [
    "check_out('2017-01-29')"
   ]
  },
  {
   "cell_type": "code",
   "execution_count": 105,
   "metadata": {
    "collapsed": false
   },
   "outputs": [
    {
     "data": {
      "text/plain": [
       "61"
      ]
     },
     "execution_count": 105,
     "metadata": {},
     "output_type": "execute_result"
    }
   ],
   "source": [
    "check_out('2017-01-30')"
   ]
  },
  {
   "cell_type": "code",
   "execution_count": 106,
   "metadata": {
    "collapsed": false
   },
   "outputs": [
    {
     "data": {
      "text/plain": [
       "467"
      ]
     },
     "execution_count": 106,
     "metadata": {},
     "output_type": "execute_result"
    }
   ],
   "source": [
    "check_out('2017-01-31')"
   ]
  },
  {
   "cell_type": "code",
   "execution_count": 107,
   "metadata": {
    "collapsed": false
   },
   "outputs": [
    {
     "data": {
      "text/plain": [
       "37"
      ]
     },
     "execution_count": 107,
     "metadata": {},
     "output_type": "execute_result"
    }
   ],
   "source": [
    "check_out('2017-02-01')"
   ]
  },
  {
   "cell_type": "code",
   "execution_count": 108,
   "metadata": {
    "collapsed": false
   },
   "outputs": [
    {
     "data": {
      "text/plain": [
       "104"
      ]
     },
     "execution_count": 108,
     "metadata": {},
     "output_type": "execute_result"
    }
   ],
   "source": [
    "check_out('2017-02-02')"
   ]
  },
  {
   "cell_type": "code",
   "execution_count": 109,
   "metadata": {
    "collapsed": false
   },
   "outputs": [
    {
     "data": {
      "text/plain": [
       "95"
      ]
     },
     "execution_count": 109,
     "metadata": {},
     "output_type": "execute_result"
    }
   ],
   "source": [
    "check_out('2017-02-03')"
   ]
  },
  {
   "cell_type": "code",
   "execution_count": 110,
   "metadata": {
    "collapsed": false
   },
   "outputs": [
    {
     "data": {
      "text/plain": [
       "44"
      ]
     },
     "execution_count": 110,
     "metadata": {},
     "output_type": "execute_result"
    }
   ],
   "source": [
    "check_out('2017-02-04')"
   ]
  },
  {
   "cell_type": "code",
   "execution_count": 111,
   "metadata": {
    "collapsed": false
   },
   "outputs": [
    {
     "data": {
      "text/plain": [
       "48"
      ]
     },
     "execution_count": 111,
     "metadata": {},
     "output_type": "execute_result"
    }
   ],
   "source": [
    "check_out('2017-02-05')"
   ]
  },
  {
   "cell_type": "code",
   "execution_count": 112,
   "metadata": {
    "collapsed": false
   },
   "outputs": [
    {
     "data": {
      "text/plain": [
       "34"
      ]
     },
     "execution_count": 112,
     "metadata": {},
     "output_type": "execute_result"
    }
   ],
   "source": [
    "check_out('2017-02-06')"
   ]
  },
  {
   "cell_type": "code",
   "execution_count": 113,
   "metadata": {
    "collapsed": false
   },
   "outputs": [
    {
     "data": {
      "text/plain": [
       "2"
      ]
     },
     "execution_count": 113,
     "metadata": {},
     "output_type": "execute_result"
    }
   ],
   "source": [
    "check_out('2017-02-07')"
   ]
  },
  {
   "cell_type": "markdown",
   "metadata": {
    "collapsed": true
   },
   "source": [
    "With the above example of abusive repetitions, we decide to reduce all the daily interactions files with the following way:"
   ]
  },
  {
   "cell_type": "code",
   "execution_count": 114,
   "metadata": {
    "collapsed": false
   },
   "outputs": [],
   "source": [
    "# reduce_day('YYYY-MM-DD').to_pickle(folderData + 'reduced_interactions_day\\\\reduced_interactions-YYYY-MM-DD.pkl')"
   ]
  },
  {
   "cell_type": "markdown",
   "metadata": {},
   "source": [
    "We could also reduce the whole file interactions by the following way, but the laptop gets blocked. Too much..."
   ]
  },
  {
   "cell_type": "markdown",
   "metadata": {
    "collapsed": false
   },
   "source": [
    "t0 = time.time()\n",
    "interactions_reduced = pd.DataFrame()\n",
    "i = 0\n",
    "for chunk in pd.read_csv(folderData + 'interactions.csv', sep='\\t', iterator=True, chunksize=10000000):\n",
    "    chunk.columns = [['user_id','item_id','interaction_type','created_at']]\n",
    "    chunk['created_at_date'] = pd.to_datetime(arg=chunk.created_at,errors='coerce',unit='s')\n",
    "    chunk = chunk.groupby(['user_id','item_id','interaction_type','created_at','created_at_date']).size().reset_index()\n",
    "    chunk.columns = ['user_id','item_id','interaction_type','created_at','created_at_date','number']\n",
    "    chunk = chunk.drop(['number'],axis=1)\n",
    "    i += 1\n",
    "    if i == 1:\n",
    "        interactions_reduced = chunk\n",
    "        print(str(i)+\"...\")\n",
    "    else:\n",
    "        interactions_reduced = interactions_reduced.append(chunk)\n",
    "        print(str(i)+\"...\")\n",
    "    \n",
    "t1 = time.time()\n",
    "\n",
    "print \"Invested time: \" + str((t1-t0)) + \" s - \""
   ]
  },
  {
   "cell_type": "markdown",
   "metadata": {
    "collapsed": true
   },
   "source": [
    "Then let's reduce the partial files:"
   ]
  },
  {
   "cell_type": "code",
   "execution_count": 115,
   "metadata": {
    "collapsed": true
   },
   "outputs": [],
   "source": [
    "folderPartial = folderData + \"reduced_partial_interactions\\\\\""
   ]
  },
  {
   "cell_type": "code",
   "execution_count": 116,
   "metadata": {
    "collapsed": false
   },
   "outputs": [
    {
     "data": {
      "text/plain": [
       "'C:\\\\Users\\\\axiri\\\\Desktop\\\\postgrau\\\\projecte\\\\'"
      ]
     },
     "execution_count": 116,
     "metadata": {},
     "output_type": "execute_result"
    }
   ],
   "source": [
    "folderData"
   ]
  },
  {
   "cell_type": "code",
   "execution_count": 126,
   "metadata": {
    "collapsed": true
   },
   "outputs": [],
   "source": [
    "def reduce_data(dataset):\n",
    "    dataset['created_at_date'] = pd.to_datetime(arg=dataset.created_at,errors='coerce',unit='s')\n",
    "    aux = dataset.groupby(['user_id','item_id','interaction_type','created_at','created_at_date']).size().reset_index()\n",
    "    aux.columns = ['user_id','item_id','interaction_type','created_at','created_at_date','number']\n",
    "    aux = aux.drop(['number'],axis=1)\n",
    "    return aux"
   ]
  },
  {
   "cell_type": "code",
   "execution_count": 117,
   "metadata": {
    "collapsed": true
   },
   "outputs": [],
   "source": [
    "interactions_bookmarked = pd.read_csv(folderData + \"interactions_bookmarked.csv\")"
   ]
  },
  {
   "cell_type": "code",
   "execution_count": 130,
   "metadata": {
    "collapsed": false
   },
   "outputs": [],
   "source": [
    "red_inter_book = reduce_data(interactions_bookmarked)"
   ]
  },
  {
   "cell_type": "code",
   "execution_count": 131,
   "metadata": {
    "collapsed": false
   },
   "outputs": [
    {
     "data": {
      "text/plain": [
       "(281672, 281672)"
      ]
     },
     "execution_count": 131,
     "metadata": {},
     "output_type": "execute_result"
    }
   ],
   "source": [
    "len(interactions_bookmarked), len(red_inter_book)"
   ]
  },
  {
   "cell_type": "markdown",
   "metadata": {
    "collapsed": true
   },
   "source": [
    "Same lengths."
   ]
  },
  {
   "cell_type": "code",
   "execution_count": 133,
   "metadata": {
    "collapsed": false
   },
   "outputs": [],
   "source": [
    "interactions_deleted = pd.read_csv(folderData + 'interactions_deleted.csv')"
   ]
  },
  {
   "cell_type": "code",
   "execution_count": 135,
   "metadata": {
    "collapsed": false
   },
   "outputs": [],
   "source": [
    "red_inter_del = reduce_data(interactions_deleted)"
   ]
  },
  {
   "cell_type": "code",
   "execution_count": 137,
   "metadata": {
    "collapsed": false
   },
   "outputs": [
    {
     "data": {
      "text/plain": [
       "(906836, 906836)"
      ]
     },
     "execution_count": 137,
     "metadata": {},
     "output_type": "execute_result"
    }
   ],
   "source": [
    "len(interactions_deleted), len(red_inter_del)"
   ]
  },
  {
   "cell_type": "markdown",
   "metadata": {
    "collapsed": true
   },
   "source": [
    "Same lengths."
   ]
  },
  {
   "cell_type": "code",
   "execution_count": 138,
   "metadata": {
    "collapsed": true
   },
   "outputs": [],
   "source": [
    "interactions_replied = pd.read_csv(folderData + 'interactions_replied.csv')"
   ]
  },
  {
   "cell_type": "code",
   "execution_count": 140,
   "metadata": {
    "collapsed": false
   },
   "outputs": [],
   "source": [
    "red_inter_rep = reduce_data(interactions_replied)"
   ]
  },
  {
   "cell_type": "code",
   "execution_count": 142,
   "metadata": {
    "collapsed": false
   },
   "outputs": [
    {
     "data": {
      "text/plain": [
       "(117843, 117843)"
      ]
     },
     "execution_count": 142,
     "metadata": {},
     "output_type": "execute_result"
    }
   ],
   "source": [
    "len(interactions_replied), len(red_inter_rep)"
   ]
  },
  {
   "cell_type": "markdown",
   "metadata": {},
   "source": [
    "Same lengths."
   ]
  },
  {
   "cell_type": "code",
   "execution_count": 143,
   "metadata": {
    "collapsed": true
   },
   "outputs": [],
   "source": [
    "interactions_recruiter = pd.read_csv(folderData + 'interactions_recruiter.csv')"
   ]
  },
  {
   "cell_type": "code",
   "execution_count": 145,
   "metadata": {
    "collapsed": false
   },
   "outputs": [
    {
     "ename": "AttributeError",
     "evalue": "'DataFrame' object has no attribute 'created_at'",
     "output_type": "error",
     "traceback": [
      "\u001b[0;31m---------------------------------------------------------------------------\u001b[0m",
      "\u001b[0;31mAttributeError\u001b[0m                            Traceback (most recent call last)",
      "\u001b[0;32m<ipython-input-145-2e372060100d>\u001b[0m in \u001b[0;36m<module>\u001b[0;34m()\u001b[0m\n\u001b[0;32m----> 1\u001b[0;31m \u001b[0mred_inter_recr\u001b[0m \u001b[1;33m=\u001b[0m \u001b[0mreduce_data\u001b[0m\u001b[1;33m(\u001b[0m\u001b[0minteractions_recruiter\u001b[0m\u001b[1;33m)\u001b[0m\u001b[1;33m\u001b[0m\u001b[0m\n\u001b[0m",
      "\u001b[0;32m<ipython-input-126-b47f8062d76b>\u001b[0m in \u001b[0;36mreduce_data\u001b[0;34m(dataset)\u001b[0m\n\u001b[1;32m      1\u001b[0m \u001b[1;32mdef\u001b[0m \u001b[0mreduce_data\u001b[0m\u001b[1;33m(\u001b[0m\u001b[0mdataset\u001b[0m\u001b[1;33m)\u001b[0m\u001b[1;33m:\u001b[0m\u001b[1;33m\u001b[0m\u001b[0m\n\u001b[0;32m----> 2\u001b[0;31m     \u001b[0mdataset\u001b[0m\u001b[1;33m[\u001b[0m\u001b[1;34m'created_at_date'\u001b[0m\u001b[1;33m]\u001b[0m \u001b[1;33m=\u001b[0m \u001b[0mpd\u001b[0m\u001b[1;33m.\u001b[0m\u001b[0mto_datetime\u001b[0m\u001b[1;33m(\u001b[0m\u001b[0marg\u001b[0m\u001b[1;33m=\u001b[0m\u001b[0mdataset\u001b[0m\u001b[1;33m.\u001b[0m\u001b[0mcreated_at\u001b[0m\u001b[1;33m,\u001b[0m\u001b[0merrors\u001b[0m\u001b[1;33m=\u001b[0m\u001b[1;34m'coerce'\u001b[0m\u001b[1;33m,\u001b[0m\u001b[0munit\u001b[0m\u001b[1;33m=\u001b[0m\u001b[1;34m's'\u001b[0m\u001b[1;33m)\u001b[0m\u001b[1;33m\u001b[0m\u001b[0m\n\u001b[0m\u001b[1;32m      3\u001b[0m     \u001b[0maux\u001b[0m \u001b[1;33m=\u001b[0m \u001b[0mdataset\u001b[0m\u001b[1;33m.\u001b[0m\u001b[0mgroupby\u001b[0m\u001b[1;33m(\u001b[0m\u001b[1;33m[\u001b[0m\u001b[1;34m'user_id'\u001b[0m\u001b[1;33m,\u001b[0m\u001b[1;34m'item_id'\u001b[0m\u001b[1;33m,\u001b[0m\u001b[1;34m'interaction_type'\u001b[0m\u001b[1;33m,\u001b[0m\u001b[1;34m'created_at'\u001b[0m\u001b[1;33m,\u001b[0m\u001b[1;34m'created_at_date'\u001b[0m\u001b[1;33m]\u001b[0m\u001b[1;33m)\u001b[0m\u001b[1;33m.\u001b[0m\u001b[0msize\u001b[0m\u001b[1;33m(\u001b[0m\u001b[1;33m)\u001b[0m\u001b[1;33m.\u001b[0m\u001b[0mreset_index\u001b[0m\u001b[1;33m(\u001b[0m\u001b[1;33m)\u001b[0m\u001b[1;33m\u001b[0m\u001b[0m\n\u001b[1;32m      4\u001b[0m     \u001b[0maux\u001b[0m\u001b[1;33m.\u001b[0m\u001b[0mcolumns\u001b[0m \u001b[1;33m=\u001b[0m \u001b[1;33m[\u001b[0m\u001b[1;34m'user_id'\u001b[0m\u001b[1;33m,\u001b[0m\u001b[1;34m'item_id'\u001b[0m\u001b[1;33m,\u001b[0m\u001b[1;34m'interaction_type'\u001b[0m\u001b[1;33m,\u001b[0m\u001b[1;34m'created_at'\u001b[0m\u001b[1;33m,\u001b[0m\u001b[1;34m'created_at_date'\u001b[0m\u001b[1;33m,\u001b[0m\u001b[1;34m'number'\u001b[0m\u001b[1;33m]\u001b[0m\u001b[1;33m\u001b[0m\u001b[0m\n\u001b[1;32m      5\u001b[0m     \u001b[0maux\u001b[0m \u001b[1;33m=\u001b[0m \u001b[0maux\u001b[0m\u001b[1;33m.\u001b[0m\u001b[0mdrop\u001b[0m\u001b[1;33m(\u001b[0m\u001b[1;33m[\u001b[0m\u001b[1;34m'number'\u001b[0m\u001b[1;33m]\u001b[0m\u001b[1;33m,\u001b[0m\u001b[0maxis\u001b[0m\u001b[1;33m=\u001b[0m\u001b[1;36m1\u001b[0m\u001b[1;33m)\u001b[0m\u001b[1;33m\u001b[0m\u001b[0m\n",
      "\u001b[0;32mC:\\Users\\axiri\\Anaconda2\\lib\\site-packages\\pandas\\core\\generic.pyc\u001b[0m in \u001b[0;36m__getattr__\u001b[0;34m(self, name)\u001b[0m\n\u001b[1;32m   2670\u001b[0m             \u001b[1;32mif\u001b[0m \u001b[0mname\u001b[0m \u001b[1;32min\u001b[0m \u001b[0mself\u001b[0m\u001b[1;33m.\u001b[0m\u001b[0m_info_axis\u001b[0m\u001b[1;33m:\u001b[0m\u001b[1;33m\u001b[0m\u001b[0m\n\u001b[1;32m   2671\u001b[0m                 \u001b[1;32mreturn\u001b[0m \u001b[0mself\u001b[0m\u001b[1;33m[\u001b[0m\u001b[0mname\u001b[0m\u001b[1;33m]\u001b[0m\u001b[1;33m\u001b[0m\u001b[0m\n\u001b[0;32m-> 2672\u001b[0;31m             \u001b[1;32mreturn\u001b[0m \u001b[0mobject\u001b[0m\u001b[1;33m.\u001b[0m\u001b[0m__getattribute__\u001b[0m\u001b[1;33m(\u001b[0m\u001b[0mself\u001b[0m\u001b[1;33m,\u001b[0m \u001b[0mname\u001b[0m\u001b[1;33m)\u001b[0m\u001b[1;33m\u001b[0m\u001b[0m\n\u001b[0m\u001b[1;32m   2673\u001b[0m \u001b[1;33m\u001b[0m\u001b[0m\n\u001b[1;32m   2674\u001b[0m     \u001b[1;32mdef\u001b[0m \u001b[0m__setattr__\u001b[0m\u001b[1;33m(\u001b[0m\u001b[0mself\u001b[0m\u001b[1;33m,\u001b[0m \u001b[0mname\u001b[0m\u001b[1;33m,\u001b[0m \u001b[0mvalue\u001b[0m\u001b[1;33m)\u001b[0m\u001b[1;33m:\u001b[0m\u001b[1;33m\u001b[0m\u001b[0m\n",
      "\u001b[0;31mAttributeError\u001b[0m: 'DataFrame' object has no attribute 'created_at'"
     ]
    }
   ],
   "source": [
    "red_inter_recr = reduce_data(interactions_recruiter)"
   ]
  },
  {
   "cell_type": "markdown",
   "metadata": {},
   "source": [
    "Ok, let's extract it again!"
   ]
  },
  {
   "cell_type": "code",
   "execution_count": 148,
   "metadata": {
    "collapsed": false
   },
   "outputs": [
    {
     "name": "stdout",
     "output_type": "stream",
     "text": [
      "1...\n",
      "2...\n",
      "3...\n",
      "4...\n",
      "5...\n",
      "6...\n",
      "7...\n",
      "8...\n",
      "9...\n",
      "10...\n",
      "11...\n",
      "12...\n",
      "13...\n",
      "14...\n",
      "15...\n",
      "16...\n",
      "17...\n",
      "18...\n",
      "19...\n",
      "20...\n",
      "21...\n",
      "22...\n",
      "23...\n",
      "24...\n",
      "25...\n",
      "26...\n",
      "27...\n",
      "28...\n",
      "29...\n",
      "30...\n",
      "31...\n",
      "32...\n",
      "33...\n",
      "Invested time: 1673.51099992 s - \n"
     ]
    }
   ],
   "source": [
    "t0 = time.time()\n",
    "interactions_recruiter = pd.DataFrame()\n",
    "i = 0\n",
    "for chunk in pd.read_csv(folderData + 'interactions.csv', sep='\\t', iterator=True, chunksize=10000000):\n",
    "    chunk.columns = [['user_id','item_id','interaction_type','created_at']]\n",
    "    chunk['created_at_date'] = pd.to_datetime(arg=chunk.created_at,errors='coerce',unit='s')\n",
    "    aux = chunk.interaction_type == 5\n",
    "    i += 1\n",
    "    if i == 1:\n",
    "        interactions_recruiter = chunk.loc[aux]\n",
    "        print(str(i)+\"...\")\n",
    "    else:\n",
    "        interactions_recruiter = interactions_recruiter.append(chunk.loc[aux])\n",
    "        print(str(i)+\"...\")\n",
    "    \n",
    "t1 = time.time()\n",
    "\n",
    "print \"Invested time: \" + str((t1-t0)) + \" s - \""
   ]
  },
  {
   "cell_type": "code",
   "execution_count": 150,
   "metadata": {
    "collapsed": false
   },
   "outputs": [
    {
     "data": {
      "text/plain": [
       "(100971, 5)"
      ]
     },
     "execution_count": 150,
     "metadata": {},
     "output_type": "execute_result"
    }
   ],
   "source": [
    "interactions_recruiter.shape"
   ]
  },
  {
   "cell_type": "code",
   "execution_count": 151,
   "metadata": {
    "collapsed": true
   },
   "outputs": [],
   "source": [
    "red_inter_recr = reduce_data(interactions_recruiter)"
   ]
  },
  {
   "cell_type": "code",
   "execution_count": 153,
   "metadata": {
    "collapsed": false
   },
   "outputs": [
    {
     "data": {
      "text/html": [
       "<div>\n",
       "<table border=\"1\" class=\"dataframe\">\n",
       "  <thead>\n",
       "    <tr style=\"text-align: right;\">\n",
       "      <th></th>\n",
       "      <th>user_id</th>\n",
       "      <th>item_id</th>\n",
       "      <th>interaction_type</th>\n",
       "      <th>created_at</th>\n",
       "      <th>created_at_date</th>\n",
       "    </tr>\n",
       "  </thead>\n",
       "  <tbody>\n",
       "    <tr>\n",
       "      <th>0</th>\n",
       "      <td>2928</td>\n",
       "      <td>219645</td>\n",
       "      <td>5</td>\n",
       "      <td>1482404881</td>\n",
       "      <td>2016-12-22 11:08:01</td>\n",
       "    </tr>\n",
       "    <tr>\n",
       "      <th>1</th>\n",
       "      <td>2928</td>\n",
       "      <td>621052</td>\n",
       "      <td>5</td>\n",
       "      <td>1482404881</td>\n",
       "      <td>2016-12-22 11:08:01</td>\n",
       "    </tr>\n",
       "    <tr>\n",
       "      <th>2</th>\n",
       "      <td>7925</td>\n",
       "      <td>1945852</td>\n",
       "      <td>5</td>\n",
       "      <td>1484823078</td>\n",
       "      <td>2017-01-19 10:51:18</td>\n",
       "    </tr>\n",
       "    <tr>\n",
       "      <th>3</th>\n",
       "      <td>9332</td>\n",
       "      <td>1072249</td>\n",
       "      <td>5</td>\n",
       "      <td>1485518678</td>\n",
       "      <td>2017-01-27 12:04:38</td>\n",
       "    </tr>\n",
       "    <tr>\n",
       "      <th>4</th>\n",
       "      <td>14865</td>\n",
       "      <td>689566</td>\n",
       "      <td>5</td>\n",
       "      <td>1485444051</td>\n",
       "      <td>2017-01-26 15:20:51</td>\n",
       "    </tr>\n",
       "  </tbody>\n",
       "</table>\n",
       "</div>"
      ],
      "text/plain": [
       "   user_id  item_id  interaction_type  created_at     created_at_date\n",
       "0     2928   219645                 5  1482404881 2016-12-22 11:08:01\n",
       "1     2928   621052                 5  1482404881 2016-12-22 11:08:01\n",
       "2     7925  1945852                 5  1484823078 2017-01-19 10:51:18\n",
       "3     9332  1072249                 5  1485518678 2017-01-27 12:04:38\n",
       "4    14865   689566                 5  1485444051 2017-01-26 15:20:51"
      ]
     },
     "execution_count": 153,
     "metadata": {},
     "output_type": "execute_result"
    }
   ],
   "source": [
    "red_inter_recr.head()"
   ]
  },
  {
   "cell_type": "code",
   "execution_count": 154,
   "metadata": {
    "collapsed": false
   },
   "outputs": [
    {
     "data": {
      "text/plain": [
       "(100971, 2554)"
      ]
     },
     "execution_count": 154,
     "metadata": {},
     "output_type": "execute_result"
    }
   ],
   "source": [
    "len(interactions_recruiter), len(red_inter_recr)"
   ]
  },
  {
   "cell_type": "code",
   "execution_count": 155,
   "metadata": {
    "collapsed": true
   },
   "outputs": [],
   "source": [
    "other_inter_recr = pd.read_csv(folderData + 'interactions_recruiter.csv')"
   ]
  },
  {
   "cell_type": "code",
   "execution_count": 156,
   "metadata": {
    "collapsed": false
   },
   "outputs": [
    {
     "data": {
      "text/plain": [
       "100971"
      ]
     },
     "execution_count": 156,
     "metadata": {},
     "output_type": "execute_result"
    }
   ],
   "source": [
    "len(other_inter_recr)"
   ]
  },
  {
   "cell_type": "code",
   "execution_count": 157,
   "metadata": {
    "collapsed": true
   },
   "outputs": [],
   "source": [
    "red_inter_recr.to_pickle(folderPartial + 'red_inter_recr.pkl')"
   ]
  },
  {
   "cell_type": "markdown",
   "metadata": {},
   "source": [
    "Let's see about 1-interaction:"
   ]
  },
  {
   "cell_type": "code",
   "execution_count": 159,
   "metadata": {
    "collapsed": true
   },
   "outputs": [],
   "source": [
    "interactions1Data = pd.read_pickle(folderData + 'interactions1Data.pkl')"
   ]
  },
  {
   "cell_type": "code",
   "execution_count": 160,
   "metadata": {
    "collapsed": false
   },
   "outputs": [
    {
     "data": {
      "text/plain": [
       "array([1], dtype=int64)"
      ]
     },
     "execution_count": 160,
     "metadata": {},
     "output_type": "execute_result"
    }
   ],
   "source": [
    "interactions1Data.interaction_type.unique()"
   ]
  },
  {
   "cell_type": "code",
   "execution_count": 161,
   "metadata": {
    "collapsed": true
   },
   "outputs": [],
   "source": [
    "red_inter1 = reduce_data(interactions1Data)"
   ]
  },
  {
   "cell_type": "code",
   "execution_count": 164,
   "metadata": {
    "collapsed": false
   },
   "outputs": [
    {
     "data": {
      "text/plain": [
       "(6867579, 6867579)"
      ]
     },
     "execution_count": 164,
     "metadata": {},
     "output_type": "execute_result"
    }
   ],
   "source": [
    "len(interactions1Data), len(red_inter1)"
   ]
  },
  {
   "cell_type": "markdown",
   "metadata": {},
   "source": [
    "Don't need to reduce..."
   ]
  },
  {
   "cell_type": "code",
   "execution_count": null,
   "metadata": {
    "collapsed": true
   },
   "outputs": [],
   "source": []
  }
 ],
 "metadata": {
  "anaconda-cloud": {},
  "kernelspec": {
   "display_name": "Python [conda root]",
   "language": "python",
   "name": "conda-root-py"
  },
  "language_info": {
   "codemirror_mode": {
    "name": "ipython",
    "version": 2
   },
   "file_extension": ".py",
   "mimetype": "text/x-python",
   "name": "python",
   "nbconvert_exporter": "python",
   "pygments_lexer": "ipython2",
   "version": "2.7.12"
  }
 },
 "nbformat": 4,
 "nbformat_minor": 1
}
